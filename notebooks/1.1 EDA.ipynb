{
 "cells": [
  {
   "cell_type": "markdown",
   "id": "CROwmy7AVSpp",
   "metadata": {
    "id": "CROwmy7AVSpp"
   },
   "source": [
    "# Описание задачи"
   ]
  },
  {
   "cell_type": "markdown",
   "id": "23e95eda",
   "metadata": {},
   "source": [
    "https://www.kaggle.com/competitions/otto-recommender-system"
   ]
  },
  {
   "cell_type": "markdown",
   "id": "iU8l3TAAVxxn",
   "metadata": {
    "id": "iU8l3TAAVxxn"
   },
   "source": [
    "**Цель задачи с Kaggle**  \n",
    "\"Целью этого соревнования является предсказание кликов, добавлений в корзину и заказов в электронной коммерции. Вы создадите многоцелевую рекомендательную систему на основе предыдущих событий в пользовательской сессии.\n",
    "\n",
    "Ваша работа поможет улучшить опыт покупок для всех участников. Клиенты получат более персонализированные рекомендации, в то время как интернет-ритейлеры могут увеличить свои продажи.\""
   ]
  },
  {
   "attachments": {
    "kaggle_1.png": {
     "image/png": "[encoded data removed]"
    }
   },
   "cell_type": "markdown",
   "id": "S6fg4AmdWFBY",
   "metadata": {
    "id": "S6fg4AmdWFBY"
   },
   "source": [
    "\"Решение оценивается на основе Recall@20 для каждого типа действия, и три значения Recall усредняются с весами:\n",
    "![kaggle_1.png](attachment:kaggle_1.png)\n",
    "𝑁 - это общее количество сессий в тестовом наборе данных, а предсказанные \"aids\" - это прогнозы для каждого типа сессии (например, каждая строка в файле - решении), усеченные после первых 20 прогнозов.\n",
    "\n",
    "Для каждой сессии в тестовых данных ваша задача - предсказать значения \"aid\" для каждого типа, которые происходят после последней отметки времени (ts) в тестовой сессии. Другими словами, тестовые данные содержат сессии, усеченные по времени, и вы должны предсказать, что произойдет после момента усечения.\""
   ]
  },
  {
   "cell_type": "markdown",
   "id": "2d754cd9",
   "metadata": {},
   "source": [
    "**Структура данных**   \n",
    "\"Тренировочные данные содержат полную информацию о сессиях в электронной коммерции. Для каждой сессии в тестовых данных ваша задача - предсказать значения \"aid\" (идентификаторы товаров) для каждого типа сессии, которые происходят после последней отметки времени (ts) в тестовой сессии.\"\n",
    "- train.jsonl - тренировочные данные, содержащие полные данные о сессии\n",
    "- test.jsonl - тестовые данные, содержащие усеченные данные о сессии  \n",
    "Внутри каждого\n",
    "1. session - уникальный идентификатор сессии\n",
    "2. events - упорядоченная по времени последовательность событий в сессии\n",
    "3. aid - идентификатор товара (код продукта), связанный с событием\n",
    "4. ts - Unix-отметка времени события\n",
    "5. type - тип события, т.е., был ли продукт кликнут, добавлен в корзину пользователя или заказан во время сессии\n",
    "\n"
   ]
  },
  {
   "cell_type": "markdown",
   "id": "Aio-pOQTK_lf",
   "metadata": {
    "id": "Aio-pOQTK_lf"
   },
   "source": [
    "# IMPORT"
   ]
  },
  {
   "cell_type": "code",
   "execution_count": null,
   "id": "33fb90a0",
   "metadata": {
    "id": "33fb90a0"
   },
   "outputs": [],
   "source": [
    "# main_path = '/content/drive/Othercomputers/Mac/Jup.Notebook'\n",
    "\n",
    "main_path = '/Users/stanislavkrupnov/Jup.Notebook'"
   ]
  },
  {
   "cell_type": "code",
   "execution_count": null,
   "id": "853e4006",
   "metadata": {
    "id": "853e4006"
   },
   "outputs": [],
   "source": [
    "import pandas as pd\n",
    "import numpy as np\n",
    "import pickle\n",
    "import matplotlib.pyplot as plt\n",
    "import seaborn as sns\n",
    "from collections import Counter"
   ]
  },
  {
   "cell_type": "code",
   "execution_count": null,
   "id": "0e941bea",
   "metadata": {
    "id": "0e941bea"
   },
   "outputs": [],
   "source": [
    "from tqdm import tqdm"
   ]
  },
  {
   "cell_type": "markdown",
   "id": "UCbYSlqxLFyx",
   "metadata": {
    "heading_collapsed": true,
    "id": "UCbYSlqxLFyx"
   },
   "source": [
    "# ФУНКЦИИ"
   ]
  },
  {
   "cell_type": "code",
   "execution_count": null,
   "id": "eD9E7m3hLLq8",
   "metadata": {
    "hidden": true,
    "id": "eD9E7m3hLLq8"
   },
   "outputs": [],
   "source": [
    "def jsonl_to_df(fn):\n",
    "    sessions = []\n",
    "    aids = []\n",
    "    tss = []\n",
    "    types = []\n",
    "\n",
    "    chunks = pd.read_json(fn, lines=True, chunksize=100_000)\n",
    "\n",
    "    for chunk in chunks:\n",
    "        for row_idx, session_data in chunk.iterrows():\n",
    "            num_events = len(session_data.events)\n",
    "            sessions += ([session_data.session] * num_events)\n",
    "            for event in session_data.events:\n",
    "                aids.append(event['aid'])\n",
    "                tss.append(event['ts'])\n",
    "                types.append(type2id[event['type']])\n",
    "\n",
    "    return pd.DataFrame(data={\n",
    "        'session': sessions,\n",
    "        'aid': aids,\n",
    "        'ts': tss,\n",
    "        'type': types\n",
    "    })\n",
    "\n",
    "\n",
    "def plot_text(ax: plt.Axes):\n",
    "    \"\"\"\n",
    "    Вывод текста на графике barplot\n",
    "    \"\"\"\n",
    "    for p in ax.patches:\n",
    "        percentage = '{:.1f}%'.format(p.get_height())\n",
    "        ax.annotate(\n",
    "            percentage,  # текст\n",
    "            # координата xy\n",
    "            (p.get_x() + p.get_width() / 2., p.get_height()),\n",
    "            # центрирование\n",
    "            ha='center',\n",
    "            va='center',\n",
    "            xytext=(0, 10),\n",
    "            # точка смещения относительно координаты\n",
    "            textcoords='offset points',\n",
    "            fontsize=11)"
   ]
  },
  {
   "cell_type": "markdown",
   "id": "ctSLLwz5Kz2K",
   "metadata": {
    "heading_collapsed": true,
    "id": "ctSLLwz5Kz2K"
   },
   "source": [
    "# JSON -> PARQUET"
   ]
  },
  {
   "cell_type": "code",
   "execution_count": null,
   "id": "c1c0c1f3",
   "metadata": {
    "hidden": true,
    "id": "c1c0c1f3",
    "outputId": "c6b61e26-8de3-46c9-d16a-06ee2f99b7c8"
   },
   "outputs": [
    {
     "data": {
      "text/plain": [
       "(['clicks', 'carts', 'orders'], {'clicks': 0, 'carts': 1, 'orders': 2})"
      ]
     },
     "execution_count": 2,
     "metadata": {},
     "output_type": "execute_result"
    }
   ],
   "source": [
    "# Для дальнейших преобразований создам два словаря\n",
    "# Наличие таких типов я узнал на раннем осмотре данных\n",
    "type2id = {'clicks': 0, 'carts': 1, 'orders': 2}\n",
    "id2type = {0: 'clicks', 1: 'carts', 2: 'orders'}\n",
    "\n",
    "with open(f'{main_path}/id2type.pickle', 'wb') as file:\n",
    "    pickle.dump(id2type, file)\n",
    "with open(f'{main_path}/type2id.pickle', 'wb') as file:\n",
    "    pickle.dump(type2id, file)"
   ]
  },
  {
   "cell_type": "code",
   "execution_count": null,
   "id": "00d6c365",
   "metadata": {
    "hidden": true,
    "id": "00d6c365"
   },
   "outputs": [],
   "source": [
    "test_json = jsonl_to_df(f'{main_path}/main_dataframes/test.jsonl')"
   ]
  },
  {
   "cell_type": "code",
   "execution_count": null,
   "id": "df634283",
   "metadata": {
    "hidden": true,
    "id": "df634283"
   },
   "outputs": [],
   "source": [
    "test_json['ts_ml'] = pd.to_datetime(test_json['ts'], unit='ms')"
   ]
  },
  {
   "cell_type": "code",
   "execution_count": null,
   "id": "60202b1f",
   "metadata": {
    "hidden": true,
    "id": "60202b1f",
    "outputId": "acd69f9d-b1d1-4a9c-ceab-43ac5f6824d0",
    "scrolled": false
   },
   "outputs": [
    {
     "data": {
      "text/html": [
       "<div>\n",
       "<style scoped>\n",
       "    .dataframe tbody tr th:only-of-type {\n",
       "        vertical-align: middle;\n",
       "    }\n",
       "\n",
       "    .dataframe tbody tr th {\n",
       "        vertical-align: top;\n",
       "    }\n",
       "\n",
       "    .dataframe thead th {\n",
       "        text-align: right;\n",
       "    }\n",
       "</style>\n",
       "<table border=\"1\" class=\"dataframe\">\n",
       "  <thead>\n",
       "    <tr style=\"text-align: right;\">\n",
       "      <th></th>\n",
       "      <th>session</th>\n",
       "      <th>aid</th>\n",
       "      <th>ts</th>\n",
       "      <th>type</th>\n",
       "      <th>ts_ml</th>\n",
       "    </tr>\n",
       "  </thead>\n",
       "  <tbody>\n",
       "    <tr>\n",
       "      <th>0</th>\n",
       "      <td>12899779</td>\n",
       "      <td>59625</td>\n",
       "      <td>1661724000278</td>\n",
       "      <td>0</td>\n",
       "      <td>2022-08-28 22:00:00.278</td>\n",
       "    </tr>\n",
       "    <tr>\n",
       "      <th>1</th>\n",
       "      <td>12899780</td>\n",
       "      <td>1142000</td>\n",
       "      <td>1661724000378</td>\n",
       "      <td>0</td>\n",
       "      <td>2022-08-28 22:00:00.378</td>\n",
       "    </tr>\n",
       "    <tr>\n",
       "      <th>2</th>\n",
       "      <td>12899780</td>\n",
       "      <td>582732</td>\n",
       "      <td>1661724058352</td>\n",
       "      <td>0</td>\n",
       "      <td>2022-08-28 22:00:58.352</td>\n",
       "    </tr>\n",
       "  </tbody>\n",
       "</table>\n",
       "</div>"
      ],
      "text/plain": [
       "    session      aid             ts  type                   ts_ml\n",
       "0  12899779    59625  1661724000278     0 2022-08-28 22:00:00.278\n",
       "1  12899780  1142000  1661724000378     0 2022-08-28 22:00:00.378\n",
       "2  12899780   582732  1661724058352     0 2022-08-28 22:00:58.352"
      ]
     },
     "execution_count": 147,
     "metadata": {},
     "output_type": "execute_result"
    }
   ],
   "source": [
    "test_json.head(3)"
   ]
  },
  {
   "cell_type": "markdown",
   "id": "0a830171",
   "metadata": {
    "hidden": true,
    "id": "0a830171"
   },
   "source": [
    "**Откину милисекунды, чтобы уменьшить обьем данных, поделив ts на 1000**"
   ]
  },
  {
   "cell_type": "code",
   "execution_count": null,
   "id": "6cb6524f",
   "metadata": {
    "hidden": true,
    "id": "6cb6524f",
    "outputId": "625f5177-7818-433d-ed16-02784333d2d2"
   },
   "outputs": [
    {
     "name": "stdout",
     "output_type": "stream",
     "text": [
      "CPU times: user 1min 26s, sys: 708 ms, total: 1min 27s\n",
      "Wall time: 1min 27s\n"
     ]
    }
   ],
   "source": [
    "%%time\n",
    "\n",
    "test_json.ts = (test_json.ts / 1000).astype(np.int32)\n",
    "test_json.type = test_json.type.astype(np.uint8)\n",
    "test_json.to_parquet(f'{main_path}/main_dataframes/test_main.parquet',\n",
    "                     index=False)"
   ]
  },
  {
   "cell_type": "code",
   "execution_count": null,
   "id": "8c0988f6",
   "metadata": {
    "hidden": true,
    "id": "8c0988f6",
    "outputId": "ba0e821e-4fb5-476f-fb36-41a903bdfbf1"
   },
   "outputs": [
    {
     "name": "stdout",
     "output_type": "stream",
     "text": [
      "CPU times: user 30min 21s, sys: 24.3 s, total: 30min 45s\n",
      "Wall time: 30min 43s\n"
     ]
    }
   ],
   "source": [
    "%%time\n",
    "\n",
    "train_df = jsonl_to_df('/content/drive/MyDrive/train.jsonl')\n",
    "train_df.ts = (train_df.ts / 1000).astype(np.int32)\n",
    "train_df.type = train_df.type.astype(np.uint8)\n",
    "train_df.to_parquet(f'{main_path}/main_dataframes/train_main.parquet',\n",
    "                    index=False)\n",
    "\n",
    "del train_df"
   ]
  },
  {
   "cell_type": "markdown",
   "id": "f6be1808",
   "metadata": {
    "id": "f6be1808"
   },
   "source": [
    "# EDA"
   ]
  },
  {
   "cell_type": "code",
   "execution_count": null,
   "id": "1a661a0a",
   "metadata": {
    "id": "1a661a0a"
   },
   "outputs": [],
   "source": [
    "# подгузка словарей для конвертации числ.столбца type в название типов\n",
    "with open(f'{main_path}/id2type.pickle', 'rb') as file:\n",
    "    id2type = pickle.load(file)\n",
    "with open(f'{main_path}/type2id.pickle', 'rb') as file:\n",
    "    type2id = pickle.load(file)"
   ]
  },
  {
   "cell_type": "markdown",
   "id": "2c1e0a46",
   "metadata": {},
   "source": [
    "Загружаю данные организаторами датасеты"
   ]
  },
  {
   "cell_type": "code",
   "execution_count": null,
   "id": "0b428c09",
   "metadata": {
    "id": "0b428c09"
   },
   "outputs": [],
   "source": [
    "train = pd.read_parquet(f'{main_path}/main_dataframes/train_main.parquet')"
   ]
  },
  {
   "cell_type": "code",
   "execution_count": null,
   "id": "aed47c05",
   "metadata": {
    "id": "aed47c05"
   },
   "outputs": [],
   "source": [
    "test = pd.read_parquet(f'{main_path}/main_dataframes/test_main.parquet')"
   ]
  },
  {
   "cell_type": "code",
   "execution_count": null,
   "id": "f2b16e66",
   "metadata": {
    "id": "f2b16e66",
    "outputId": "11c828e4-268d-471a-c11a-54963a8b47d4",
    "scrolled": false
   },
   "outputs": [
    {
     "data": {
      "text/html": [
       "<div>\n",
       "<style scoped>\n",
       "    .dataframe tbody tr th:only-of-type {\n",
       "        vertical-align: middle;\n",
       "    }\n",
       "\n",
       "    .dataframe tbody tr th {\n",
       "        vertical-align: top;\n",
       "    }\n",
       "\n",
       "    .dataframe thead th {\n",
       "        text-align: right;\n",
       "    }\n",
       "</style>\n",
       "<table border=\"1\" class=\"dataframe\">\n",
       "  <thead>\n",
       "    <tr style=\"text-align: right;\">\n",
       "      <th></th>\n",
       "      <th>session</th>\n",
       "      <th>aid</th>\n",
       "      <th>ts</th>\n",
       "      <th>type</th>\n",
       "    </tr>\n",
       "  </thead>\n",
       "  <tbody>\n",
       "    <tr>\n",
       "      <th>0</th>\n",
       "      <td>0</td>\n",
       "      <td>1517085</td>\n",
       "      <td>1659304800</td>\n",
       "      <td>0</td>\n",
       "    </tr>\n",
       "    <tr>\n",
       "      <th>1</th>\n",
       "      <td>0</td>\n",
       "      <td>1563459</td>\n",
       "      <td>1659304904</td>\n",
       "      <td>0</td>\n",
       "    </tr>\n",
       "    <tr>\n",
       "      <th>2</th>\n",
       "      <td>0</td>\n",
       "      <td>1309446</td>\n",
       "      <td>1659367439</td>\n",
       "      <td>0</td>\n",
       "    </tr>\n",
       "    <tr>\n",
       "      <th>3</th>\n",
       "      <td>0</td>\n",
       "      <td>16246</td>\n",
       "      <td>1659367719</td>\n",
       "      <td>0</td>\n",
       "    </tr>\n",
       "    <tr>\n",
       "      <th>4</th>\n",
       "      <td>0</td>\n",
       "      <td>1781822</td>\n",
       "      <td>1659367871</td>\n",
       "      <td>0</td>\n",
       "    </tr>\n",
       "  </tbody>\n",
       "</table>\n",
       "</div>"
      ],
      "text/plain": [
       "   session      aid          ts  type\n",
       "0        0  1517085  1659304800     0\n",
       "1        0  1563459  1659304904     0\n",
       "2        0  1309446  1659367439     0\n",
       "3        0    16246  1659367719     0\n",
       "4        0  1781822  1659367871     0"
      ]
     },
     "execution_count": 13,
     "metadata": {},
     "output_type": "execute_result"
    }
   ],
   "source": [
    "train.head()"
   ]
  },
  {
   "cell_type": "code",
   "execution_count": null,
   "id": "d4843fc2",
   "metadata": {
    "id": "d4843fc2",
    "outputId": "da2e3f31-fae2-42dd-8d03-cd98de15a563",
    "scrolled": true
   },
   "outputs": [
    {
     "name": "stdout",
     "output_type": "stream",
     "text": [
      "<class 'pandas.core.frame.DataFrame'>\n",
      "RangeIndex: 216716096 entries, 0 to 216716095\n",
      "Data columns (total 4 columns):\n",
      " #   Column   Dtype\n",
      "---  ------   -----\n",
      " 0   session  int32\n",
      " 1   aid      int32\n",
      " 2   ts       int32\n",
      " 3   type     uint8\n",
      "dtypes: int32(3), uint8(1)\n",
      "memory usage: 2.6 GB\n"
     ]
    }
   ],
   "source": [
    "train.info()"
   ]
  },
  {
   "cell_type": "code",
   "execution_count": null,
   "id": "d956cc82",
   "metadata": {
    "id": "d956cc82",
    "outputId": "ea4a2466-8126-48a1-82b8-da5096c91e07",
    "scrolled": true
   },
   "outputs": [
    {
     "data": {
      "text/plain": [
       "session    0\n",
       "aid        0\n",
       "ts         0\n",
       "type       0\n",
       "dtype: int64"
      ]
     },
     "execution_count": 111,
     "metadata": {},
     "output_type": "execute_result"
    }
   ],
   "source": [
    "train.isna().sum()"
   ]
  },
  {
   "cell_type": "code",
   "execution_count": null,
   "id": "631d2c57",
   "metadata": {
    "id": "631d2c57",
    "outputId": "dbb208a3-f6dc-40d1-f608-42cd5b241d3c",
    "scrolled": false
   },
   "outputs": [
    {
     "data": {
      "text/plain": [
       "session    0\n",
       "aid        0\n",
       "ts         0\n",
       "type       0\n",
       "dtype: int64"
      ]
     },
     "execution_count": 113,
     "metadata": {},
     "output_type": "execute_result"
    }
   ],
   "source": [
    "test.isna().sum()"
   ]
  },
  {
   "cell_type": "markdown",
   "id": "4dc5ce01",
   "metadata": {
    "id": "4dc5ce01"
   },
   "source": [
    "- Пропущенных значений нет"
   ]
  },
  {
   "cell_type": "code",
   "execution_count": null,
   "id": "b43e18b6",
   "metadata": {
    "id": "b43e18b6",
    "outputId": "9fd1270d-5fa6-4202-b5b6-ab6ae84a6dc0",
    "scrolled": true
   },
   "outputs": [
    {
     "data": {
      "text/plain": [
       "array([0, 1, 2], dtype=uint8)"
      ]
     },
     "execution_count": 15,
     "metadata": {},
     "output_type": "execute_result"
    }
   ],
   "source": [
    "train.type.unique()"
   ]
  },
  {
   "cell_type": "markdown",
   "id": "1680b706",
   "metadata": {
    "id": "1680b706"
   },
   "source": [
    "Заменю идентификаторы типов данных на их полные названия"
   ]
  },
  {
   "cell_type": "code",
   "execution_count": null,
   "id": "a9999585",
   "metadata": {
    "id": "a9999585"
   },
   "outputs": [],
   "source": [
    "train['type'] = train['type'].map(id2type)\n",
    "test['type'] = test['type'].map(id2type)"
   ]
  },
  {
   "cell_type": "markdown",
   "id": "4d667c08",
   "metadata": {
    "id": "4d667c08"
   },
   "source": [
    "**Кол-во действий каждого типа**"
   ]
  },
  {
   "cell_type": "code",
   "execution_count": null,
   "id": "f2597ea7",
   "metadata": {
    "id": "f2597ea7",
    "outputId": "0eeacedd-7acd-4931-a60b-6caa9a151005"
   },
   "outputs": [
    {
     "name": "stdout",
     "output_type": "stream",
     "text": [
      "train\n",
      "      type      %\n",
      "0   carts   7.80\n",
      "1  clicks  89.85\n",
      "2  orders   2.35\n",
      "test\n",
      "      type      %\n",
      "0   carts   8.23\n",
      "1  clicks  90.83\n",
      "2  orders   0.95\n"
     ]
    }
   ],
   "source": [
    "for data, name in zip([train, test], ['train', 'test']):\n",
    "    type_aid_count = data.groupby('type')['aid'].count()\n",
    "    total_aid_count = type_aid_count.sum()\n",
    "    percentage_distribution = round((type_aid_count / total_aid_count) * 100,\n",
    "                                    2)\n",
    "    percentage_distribution = percentage_distribution.reset_index()\n",
    "    percentage_distribution.columns = ['type', '%']\n",
    "\n",
    "    print(f'{name}\\n', percentage_distribution)"
   ]
  },
  {
   "cell_type": "markdown",
   "id": "250943ca",
   "metadata": {
    "id": "250943ca"
   },
   "source": [
    "Распределение типов логично, учитывая специфику - действия пользователей в онлайн-магазине"
   ]
  },
  {
   "cell_type": "markdown",
   "id": "10a00538",
   "metadata": {
    "id": "10a00538"
   },
   "source": [
    "**Кол-во сессий в датасетах**"
   ]
  },
  {
   "cell_type": "code",
   "execution_count": null,
   "id": "a467caed",
   "metadata": {
    "id": "a467caed",
    "outputId": "54e2f740-b9a5-4e69-f710-b59ab98cdd66",
    "scrolled": true
   },
   "outputs": [
    {
     "data": {
      "text/plain": [
       "((216716096, 4), (6928123, 4))"
      ]
     },
     "execution_count": 12,
     "metadata": {},
     "output_type": "execute_result"
    }
   ],
   "source": [
    "train.shape, test.shape"
   ]
  },
  {
   "cell_type": "markdown",
   "id": "ae7e3120",
   "metadata": {
    "id": "ae7e3120"
   },
   "source": [
    "- В тренировочном датасете 216716096 взаимодействий(строчек), в тестовом 6928123"
   ]
  },
  {
   "cell_type": "code",
   "execution_count": null,
   "id": "6a01ab21",
   "metadata": {
    "id": "6a01ab21",
    "outputId": "07f2dc6b-bce7-4de7-b9a2-fcf53c69a45e"
   },
   "outputs": [
    {
     "data": {
      "text/plain": [
       "0.12959935205091497"
      ]
     },
     "execution_count": 108,
     "metadata": {},
     "output_type": "execute_result"
    }
   ],
   "source": [
    "test.session.unique().shape[0] / train.session.unique().shape[0]"
   ]
  },
  {
   "cell_type": "markdown",
   "id": "550b39a2",
   "metadata": {
    "id": "550b39a2"
   },
   "source": [
    "- Соотношение кол-ва сессий в тестовом/трен. наборах = 0.12"
   ]
  },
  {
   "cell_type": "markdown",
   "id": "48cd3508",
   "metadata": {
    "id": "48cd3508"
   },
   "source": [
    "**Посмотрим распределение кол-ва действий внутри сессий**"
   ]
  },
  {
   "cell_type": "code",
   "execution_count": null,
   "id": "4a713ac4",
   "metadata": {
    "id": "4a713ac4",
    "outputId": "5f6590da-d009-4168-d570-a474904782f0",
    "scrolled": false
   },
   "outputs": [
    {
     "data": {
      "text/plain": [
       "500"
      ]
     },
     "execution_count": 22,
     "metadata": {},
     "output_type": "execute_result"
    }
   ],
   "source": [
    "train.groupby('session')['aid'].count().max()"
   ]
  },
  {
   "cell_type": "code",
   "execution_count": null,
   "id": "034330d0",
   "metadata": {
    "id": "034330d0",
    "outputId": "705ea48b-48e7-4ca4-cfab-bcbe7e46b657"
   },
   "outputs": [
    {
     "data": {
      "text/plain": [
       "458"
      ]
     },
     "execution_count": 30,
     "metadata": {},
     "output_type": "execute_result"
    }
   ],
   "source": [
    "test.groupby('session')['aid'].count().max()"
   ]
  },
  {
   "cell_type": "code",
   "execution_count": null,
   "id": "5f45dad6",
   "metadata": {
    "id": "5f45dad6"
   },
   "outputs": [],
   "source": [
    "kde_tr = train.groupby('session')['aid'].count()\n",
    "kde_test = test.groupby('session')['aid'].count()"
   ]
  },
  {
   "cell_type": "code",
   "execution_count": null,
   "id": "7b15d010",
   "metadata": {
    "id": "7b15d010",
    "outputId": "0020656c-aeef-411f-c96f-ea4936de6bd9",
    "scrolled": false
   },
   "outputs": [
    {
     "data": {
      "image/png": "[encoded data removed]",
      "text/plain": [
       "<Figure size 1500x500 with 2 Axes>"
      ]
     },
     "metadata": {},
     "output_type": "display_data"
    }
   ],
   "source": [
    "fig, axes = plt.subplots(nrows=1, ncols=2, figsize=(15, 5))\n",
    "\n",
    "sns.kdeplot(data={\n",
    "    \"train\": kde_tr,\n",
    "    \"tes\": kde_test\n",
    "},\n",
    "            common_norm=False,\n",
    "            palette='rocket',\n",
    "            ax=axes[0])\n",
    "\n",
    "axes[0].set(xlim=(0, 50))\n",
    "axes[0].set_title('Распределение кол-ва действий по сессиям (узкий интервал)')\n",
    "\n",
    "sns.kdeplot(data={\n",
    "    \"train\": kde_tr,\n",
    "    \"tes\": kde_test\n",
    "},\n",
    "            common_norm=False,\n",
    "            palette='rocket',\n",
    "            ax=axes[1])\n",
    "\n",
    "axes[1].set(xlim=(0, 500))\n",
    "axes[1].set_title(\n",
    "    'Распределение кол-ва действий по сессиям (широкий интервал)')\n",
    "\n",
    "plt.show()"
   ]
  },
  {
   "cell_type": "code",
   "execution_count": null,
   "id": "95e88913",
   "metadata": {
    "id": "95e88913",
    "outputId": "9052eb93-9764-4d30-e476-d9252ff80b9a",
    "scrolled": false
   },
   "outputs": [
    {
     "data": {
      "text/plain": [
       "count    1.671803e+06\n",
       "mean     4.144103e+00\n",
       "std      8.215717e+00\n",
       "min      1.000000e+00\n",
       "25%      1.000000e+00\n",
       "50%      2.000000e+00\n",
       "75%      4.000000e+00\n",
       "max      4.580000e+02\n",
       "Name: aid, dtype: float64"
      ]
     },
     "execution_count": 28,
     "metadata": {},
     "output_type": "execute_result"
    }
   ],
   "source": [
    "test.groupby('session')['aid'].count().describe()"
   ]
  },
  {
   "cell_type": "code",
   "execution_count": null,
   "id": "53ffebb1",
   "metadata": {
    "id": "53ffebb1",
    "outputId": "15455007-a9f1-40ef-fbef-65f83ad5a6f7",
    "scrolled": true
   },
   "outputs": [
    {
     "data": {
      "text/plain": [
       "count    1.289978e+07\n",
       "mean     1.679999e+01\n",
       "std      3.357738e+01\n",
       "min      2.000000e+00\n",
       "25%      3.000000e+00\n",
       "50%      6.000000e+00\n",
       "75%      1.500000e+01\n",
       "max      5.000000e+02\n",
       "Name: aid, dtype: float64"
      ]
     },
     "execution_count": 29,
     "metadata": {},
     "output_type": "execute_result"
    }
   ],
   "source": [
    "train.groupby('session')['aid'].count().describe()"
   ]
  },
  {
   "cell_type": "code",
   "execution_count": null,
   "id": "80c888a9",
   "metadata": {
    "id": "80c888a9",
    "outputId": "d17ec5fb-ab81-48fc-d263-be25a2d299ff",
    "scrolled": true
   },
   "outputs": [
    {
     "data": {
      "text/plain": [
       "(16.799985178040647, 4.144102504900398)"
      ]
     },
     "execution_count": 31,
     "metadata": {},
     "output_type": "execute_result"
    }
   ],
   "source": [
    "train.groupby('session')['aid'].count().mean(), test.groupby(\n",
    "    'session')['aid'].count().mean()"
   ]
  },
  {
   "cell_type": "markdown",
   "id": "f5ac2ef1",
   "metadata": {
    "id": "f5ac2ef1"
   },
   "source": [
    "- Средняя длина сессии (в событиях) в train(16) данных больше в 4 раза по сравнению с test(4) \\\n",
    "Почему так? Для обучения важна статистическая эквивалентность трен. и тест. данных. \\\n",
    "Возможно причина во временных интервалах сессий⬇️"
   ]
  },
  {
   "cell_type": "markdown",
   "id": "f755226f",
   "metadata": {
    "id": "f755226f"
   },
   "source": [
    "**Проверим датасеты по временным интервалам**"
   ]
  },
  {
   "cell_type": "code",
   "execution_count": null,
   "id": "f1e2322d",
   "metadata": {
    "id": "f1e2322d",
    "outputId": "035ae961-5c31-438b-a762-400443a46a76",
    "scrolled": true
   },
   "outputs": [
    {
     "data": {
      "text/plain": [
       "(Timestamp('2022-07-31 22:00:00'), Timestamp('2022-08-28 21:59:59'))"
      ]
     },
     "execution_count": 12,
     "metadata": {},
     "output_type": "execute_result"
    }
   ],
   "source": [
    "pd.to_datetime(train['ts'], unit='s').min(), \\\n",
    "pd.to_datetime(train['ts'], unit='s').max()"
   ]
  },
  {
   "cell_type": "code",
   "execution_count": null,
   "id": "a37ce577",
   "metadata": {
    "id": "a37ce577",
    "outputId": "39000457-27f9-486d-9c43-ebff8f4120b1"
   },
   "outputs": [
    {
     "data": {
      "text/plain": [
       "(Timestamp('2022-08-28 22:00:00'), Timestamp('2022-09-04 21:59:51'))"
      ]
     },
     "execution_count": 13,
     "metadata": {},
     "output_type": "execute_result"
    }
   ],
   "source": [
    "pd.to_datetime(test['ts'], unit='s').min(), \\\n",
    "pd.to_datetime(test['ts'], unit='s').max()"
   ]
  },
  {
   "cell_type": "markdown",
   "id": "95ac2efc",
   "metadata": {
    "id": "95ac2efc"
   },
   "source": [
    "- Итак, в тренировочном датасете у нас 4 недели данных, а тестовом - 1, \\\n",
    "причем тестовые данные по времени идут строго после тренировочных \\\n",
    "- Трен. данные - август 2022, тестовые - первая неделя сентября 2022."
   ]
  },
  {
   "cell_type": "code",
   "execution_count": null,
   "id": "429201a3",
   "metadata": {
    "id": "429201a3",
    "outputId": "9e91185d-6e66-472b-a886-a06cbb7569a8",
    "scrolled": true
   },
   "outputs": [
    {
     "data": {
      "text/plain": [
       "0"
      ]
     },
     "execution_count": 15,
     "metadata": {},
     "output_type": "execute_result"
    }
   ],
   "source": [
    "len(set(test.aid.tolist()) - set(train.aid.tolist()))"
   ]
  },
  {
   "cell_type": "markdown",
   "id": "a506c7ad",
   "metadata": {
    "id": "a506c7ad"
   },
   "source": [
    "- Кроме того, что данные train,test полностью из разных временных интервалов, \\\n",
    "выходит, что в тестовом датасете нет новых товаров"
   ]
  },
  {
   "cell_type": "code",
   "execution_count": null,
   "id": "08ef970f",
   "metadata": {
    "id": "08ef970f",
    "outputId": "beebe8da-1686-4a1e-a423-41a4009f8928",
    "scrolled": true
   },
   "outputs": [
    {
     "data": {
      "text/plain": [
       "(12899778, 12899779)"
      ]
     },
     "execution_count": 19,
     "metadata": {},
     "output_type": "execute_result"
    }
   ],
   "source": [
    "train.session.max(), test.session.min()"
   ]
  },
  {
   "cell_type": "markdown",
   "id": "421c00bc",
   "metadata": {
    "id": "421c00bc"
   },
   "source": [
    "- Также в тестовом наборе (идущем по времени позднее тренировочного) - рассматриваются \\\n",
    "полностью другие пользователи (т.к session - это по сути id пользователя  в рамках моей работы)"
   ]
  },
  {
   "cell_type": "markdown",
   "id": "565013a3",
   "metadata": {
    "id": "565013a3"
   },
   "source": [
    "**Выводы:**\n",
    "- Train датасет включает в себя 4 недели наблюдений\n",
    "- Test датасет включает в себя 1 неделю наблюдений\\\n",
    "Так как в данных в сессию юзера входят все события за ВСЮ историю наблюдений \\\n",
    "(4 и 1 неделя для train и test), то отсюда и вытекает разница между средним кол-вом \\\n",
    "событий в сессии юзера между train и test данными - чем меньше период наблюдений, \\\n",
    "тем и меньше средняя длина сессии в действиях \\\n"
   ]
  },
  {
   "cell_type": "markdown",
   "id": "01f340f1",
   "metadata": {
    "id": "01f340f1"
   },
   "source": [
    "**В целом, тренировочный и тестовый датасеты схожи, в них нет координальных отличий**"
   ]
  },
  {
   "cell_type": "markdown",
   "id": "GzjgJAZ0U_dg",
   "metadata": {
    "id": "GzjgJAZ0U_dg"
   },
   "source": [
    "# Как будет строиться решение"
   ]
  },
  {
   "cell_type": "markdown",
   "id": "af487b70",
   "metadata": {
    "id": "cooV0jYjVFlA"
   },
   "source": [
    "**Я буду строить 2-ух этапную рекомендательную систему:**\n",
    "1. Первый этап - создание первичных кандидатов (aids-рекомендаций) для каждой сессии и типа действия\n",
    "2. Второй этап - использование моделей ML для ранжирования первичных кандидатов с целью  \n",
    "отбора топ-20 для каждой сессии"
   ]
  },
  {
   "cell_type": "markdown",
   "id": "ebf87bfe",
   "metadata": {},
   "source": [
    "Изначально буду пробовать создавать по 50 кандидатов для каждой сессии на первом этапе"
   ]
  },
  {
   "cell_type": "markdown",
   "id": "f9fccaa5",
   "metadata": {},
   "source": [
    "**На втором этапе для каждого типа действий (click,cart,order) я создам свой тренировочный и тестовый датасет  \n",
    "с такой структурой:**\n",
    "- session - идентификаторы сессий\n",
    "- labels - aids товаров-рекомендаций (для каждой сессии по 50 строк-aid)\n",
    "- features - столбцы-признаки \n",
    "- targets - столбец с обучающими таргетами (в случае трен.датасета)  \n",
    "**В результате я получу три (для каждого типа) модели ранжирования, и каждая научится  \n",
    "предсказывать ранги каждой строки(кандидата) внутри группы(сессии), чтобы я мог затем  \n",
    "оставить топ-20**"
   ]
  },
  {
   "cell_type": "markdown",
   "id": "ed19bb83",
   "metadata": {},
   "source": [
    "Я оценю свое решение локально - взяв holdout часть от оригинальных тренировочных данных,  \n",
    "а затем получу предсказания на оригинальных тестовых данных - и оценку на leaderboard соревнования"
   ]
  }
 ],
 "metadata": {
  "colab": {
   "provenance": [],
   "toc_visible": true
  },
  "kernelspec": {
   "display_name": "Python 3 (ipykernel)",
   "language": "python",
   "name": "python3"
  },
  "language_info": {
   "codemirror_mode": {
    "name": "ipython",
    "version": 3
   },
   "file_extension": ".py",
   "mimetype": "text/x-python",
   "name": "python",
   "nbconvert_exporter": "python",
   "pygments_lexer": "ipython3",
   "version": "3.11.4"
  },
  "toc": {
   "base_numbering": 1,
   "nav_menu": {},
   "number_sections": true,
   "sideBar": true,
   "skip_h1_title": false,
   "title_cell": "Table of Contents",
   "title_sidebar": "Contents",
   "toc_cell": false,
   "toc_position": {
    "height": "calc(100% - 180px)",
    "left": "10px",
    "top": "150px",
    "width": "178.216904px"
   },
   "toc_section_display": true,
   "toc_window_display": true
  }
 },
 "nbformat": 4,
 "nbformat_minor": 5
}
