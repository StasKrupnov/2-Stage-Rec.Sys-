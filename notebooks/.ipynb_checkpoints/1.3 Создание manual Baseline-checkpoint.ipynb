{
 "cells": [
  {
   "cell_type": "markdown",
   "id": "542ce50f",
   "metadata": {
    "id": "542ce50f"
   },
   "source": [
    "# Что происходит в ноутбуке"
   ]
  },
  {
   "cell_type": "markdown",
   "id": "VShO2666rS_s",
   "metadata": {
    "id": "VShO2666rS_s"
   },
   "source": [
    "- Это первый этап рек.системы - я строю первичных кандидатов\n",
    "- Но в этом ноутбуке я хочу оценить, насколько эффективна может быть моя реком.  \n",
    "система **без ML**, т.е без второго этапа - ранжирования\n",
    "-  я сразу делаю по 20 рекомендаций(кандидатов) на сессию,  и выдаю их за финальные рекомендации  \n",
    "Оценку метрики я провожу на **targets**, предназначенных изначально для обучения  \n",
    "на втором этапе, но в моем случае подходящие как тестовые метки.   \n",
    "\n"
   ]
  },
  {
   "cell_type": "markdown",
   "id": "YYjUqR42qxee",
   "metadata": {
    "id": "YYjUqR42qxee"
   },
   "source": [
    "**Как я создаю первичных кандидатов?**  \n",
    "Среднее число  aid в сессии  равно 16(трейн), 4(тест), а уникальных еще меньше. Так как мне нужно создать 50 уникальных кандидатов для каждой сессии на первом этапе, то:\n",
    "1. Беру последние (с конца по времени) 50 уникальных aid из сессии. В большинстве сессий их будет сильно меньше 50-ти. Из этих “недавних взаимодействий” я строю первую часть для каждых 50-ти рекомендаций. Провзаимодействовал недавно - значит, возможно, сделает это еще раз.\n",
    "2. Далее я добавляю до 50-ти уникальных кандидатов за счет матрицы со-посещений.\n",
    "(Для каждого aid в матрице есть топ со-посещенных aid с ним. Обьединяю все такие топы из каждого aid в сессии, и получаю общий топ. Из него и добавляю уникальных aids-кандидатов до 50-ти)\n",
    "3. Если остается в итоге менее 50-ти кандидатов, то уже добавляю из топа самых популярных aids. Топ большой, больше 50-ти, поэтому до нужных 50-ти кандидатов я точно добавляю."
   ]
  },
  {
   "cell_type": "markdown",
   "id": "7S0aXnKMlRKm",
   "metadata": {
    "id": "7S0aXnKMlRKm"
   },
   "source": [
    "**Что такое матрица совместных посещений covisitation matrix?**  \n",
    "Это матрица, содержащая для каждого товара топ-n товаров, со-посещенных с ним  \n",
    "внутри одного временного интервала.   \n",
    "Строится она таким образом, что считает кол-во раз, сколько каждая пара товаров  \n",
    "появляется внутри опр.врем.интервала в данных.  \n",
    "Затем же мы и смотрим, с какими товарами данный товар со-посещался больше всего"
   ]
  },
  {
   "cell_type": "markdown",
   "id": "Neim8lkYuPfy",
   "metadata": {
    "id": "Neim8lkYuPfy"
   },
   "source": [
    "**На втором этапе я буду использовать ML для улучшения метрики, полученной в конце этого ноутбука**"
   ]
  },
  {
   "cell_type": "code",
   "execution_count": null,
   "id": "88841e96",
   "metadata": {
    "id": "88841e96"
   },
   "outputs": [],
   "source": [
    "#main_path = '/content/drive/Othercomputers/Mac/Jup.Notebook'\n",
    "\n",
    "main_path = '/Users/stanislavkrupnov/Jup.Notebook'"
   ]
  },
  {
   "cell_type": "markdown",
   "id": "fda2ef49",
   "metadata": {
    "id": "fda2ef49"
   },
   "source": [
    "# Import"
   ]
  },
  {
   "cell_type": "code",
   "execution_count": null,
   "id": "83b980a5",
   "metadata": {
    "id": "83b980a5"
   },
   "outputs": [],
   "source": [
    "import os\n",
    "import sys\n",
    "from tqdm import tqdm\n",
    "import glob\n",
    "import pickle\n",
    "import pandas as pd\n",
    "import gc\n",
    "import numpy as np\n",
    "from itertools import product\n",
    "from collections import Counter, defaultdict\n",
    "import pyarrow.parquet as pq\n",
    "import shutil\n",
    "import gdown\n",
    "from google.colab import drive\n",
    "\n",
    "drive.mount('/content/drive')"
   ]
  },
  {
   "cell_type": "markdown",
   "id": "KJOryrzjFC_R",
   "metadata": {
    "id": "KJOryrzjFC_R"
   },
   "source": [
    "# Функции"
   ]
  },
  {
   "cell_type": "code",
   "execution_count": null,
   "id": "c0PbiB8KFE9X",
   "metadata": {
    "id": "c0PbiB8KFE9X"
   },
   "outputs": [],
   "source": [
    "def metric_eval(predictions, valid, id2type):\n",
    "\n",
    "    valid.type = valid.type.map(lambda idx: id2type[idx])\n",
    "    ground_truth = valid.groupby(['session', 'type'])['aid'].apply(list)\n",
    "    ground_truth = ground_truth.reset_index().rename(columns={'aid': 'labels'})\n",
    "    ground_truth.loc[ground_truth.type == 'clicks',\n",
    "                     'labels'] = ground_truth.loc[ground_truth.type ==\n",
    "                                                  'clicks', 'labels'].str[:1]\n",
    "\n",
    "    submission_with_gt = predictions.merge(\n",
    "        ground_truth[['session', 'type', 'labels']],\n",
    "        how='left',\n",
    "        on=['session', 'type'])\n",
    "\n",
    "    submission_with_gt = submission_with_gt[~submission_with_gt.labels_y.isna(\n",
    "    )]\n",
    "\n",
    "    submission_with_gt['hits'] = submission_with_gt.apply(\n",
    "        lambda df: len(set(df.labels_x).intersection(set(df.labels_y))),\n",
    "        axis=1)\n",
    "\n",
    "    submission_with_gt['gt_count'] = submission_with_gt.labels_y.str.len(\n",
    "    ).clip(0, 20)\n",
    "\n",
    "    recall_per_type = submission_with_gt.groupby([\n",
    "        'type'\n",
    "    ])['hits'].sum() / submission_with_gt.groupby(['type'])['gt_count'].sum()\n",
    "    local_validation_score = (recall_per_type * pd.Series({\n",
    "        'clicks': 0.10,\n",
    "        'carts': 0.30,\n",
    "        'orders': 0.60\n",
    "    })).sum()\n",
    "\n",
    "    return local_validation_score"
   ]
  },
  {
   "cell_type": "code",
   "execution_count": null,
   "id": "3a1f64d7",
   "metadata": {
    "id": "3a1f64d7"
   },
   "outputs": [],
   "source": [
    "def check_len(row):\n",
    "\n",
    "    if len(row) != 20:\n",
    "\n",
    "        return 1\n",
    "    else:\n",
    "        return 0\n",
    "\n",
    "\n",
    "def check_dupl(row):\n",
    "\n",
    "    if len(set(row)) != len(row):\n",
    "\n",
    "        return 1\n",
    "    else:\n",
    "        return 0"
   ]
  },
  {
   "cell_type": "code",
   "execution_count": null,
   "id": "7f8a2234",
   "metadata": {},
   "outputs": [],
   "source": [
    "# Функция для чтения данных из кеша\n",
    "def read_file(f):\n",
    "    # Возвращаем DataFrame, соответствующий ключу f в словаре data_cache\n",
    "    return cudf.DataFrame( data_cache[f] )"
   ]
  },
  {
   "cell_type": "markdown",
   "id": "xNT7IDdYLtSH",
   "metadata": {
    "id": "xNT7IDdYLtSH"
   },
   "source": [
    "# Co-vis матрицы создание"
   ]
  },
  {
   "cell_type": "code",
   "execution_count": null,
   "id": "aYhNuK81LxtR",
   "metadata": {
    "id": "aYhNuK81LxtR"
   },
   "outputs": [],
   "source": [
    "!pip install pyarrow==10.0.0"
   ]
  },
  {
   "cell_type": "code",
   "execution_count": null,
   "id": "0HGPkJr_L55E",
   "metadata": {
    "id": "0HGPkJr_L55E"
   },
   "outputs": [],
   "source": [
    "!pip install cudf-cu11 dask-cudf-cu11 --extra-index-url=https://pypi.nvidia.com\n",
    "!pip install cuml-cu11 --extra-index-url=https://pypi.nvidia.com\n",
    "!pip install cugraph-cu11 --extra-index-url=https://pypi.nvidia.com\n",
    "import cudf\n",
    "import gc\n",
    "import cupy as cp"
   ]
  },
  {
   "cell_type": "markdown",
   "id": "2f51b7db",
   "metadata": {
    "id": "2f51b7db"
   },
   "source": [
    "1. **train_covis_data**  - в этой папке я обьединил батчи **tr_2_first_w**  \n",
    "и **tr_candidates_sessions** для создания **training covis-matrix**  \n",
    "2. **test_covis_data** - в этой папке я обьединил батчи **tr_3_first_w**    \n",
    "и **test_candidates_sessions** для создания **test covis-matrix**"
   ]
  },
  {
   "cell_type": "code",
   "execution_count": null,
   "id": "u1WuUzTeFNCa",
   "metadata": {
    "id": "u1WuUzTeFNCa"
   },
   "outputs": [],
   "source": [
    "input_folder_name = 'train_covis_data'\n",
    "matrix_name = 'train_covis_matrix'\n",
    "\n",
    "input_folder_name = 'test_covis_data'\n",
    "matrix_name = 'test_covis_matrix'"
   ]
  },
  {
   "cell_type": "code",
   "execution_count": null,
   "id": "EFmQq4U4MxLE",
   "metadata": {
    "id": "EFmQq4U4MxLE"
   },
   "outputs": [],
   "source": [
    "shutil.copytree(f'{main_path}/c/{input_folder_name}/',\n",
    "                f'/content/{input_folder_name}/')"
   ]
  },
  {
   "cell_type": "code",
   "execution_count": null,
   "id": "TElamb7n1ujn",
   "metadata": {
    "id": "TElamb7n1ujn"
   },
   "outputs": [],
   "source": [
    "data_cache = {}  # Кеш данных CPU\n",
    "type_labels = {'clicks': 0, 'carts': 1, 'orders': 2}  # Словарь меток типов"
   ]
  },
  {
   "cell_type": "code",
   "execution_count": null,
   "id": "SYGyA2vW1xEn",
   "metadata": {
    "id": "SYGyA2vW1xEn"
   },
   "outputs": [],
   "source": [
    "# Считывание и кеширование данных\n",
    "files = glob.glob(f'{input_folder_name}/*')  # Получаем список файлов\n",
    "for f in files:\n",
    "    data_cache[f] = pd.read_parquet(f)  #"
   ]
  },
  {
   "cell_type": "code",
   "execution_count": null,
   "id": "WpFZeS1-15dE",
   "metadata": {
    "id": "WpFZeS1-15dE"
   },
   "outputs": [],
   "source": [
    "# Установка параметров для обработки данных по частям (chunks)\n",
    "if matrix_name == 'train_covis_matrix':\n",
    "    READ_CT = 5  # Количество файлов для обработки за один раз\n",
    "else:\n",
    "    READ_CT = 2\n",
    "\n",
    "# Если V100\n",
    "READ_CT = 2\n",
    "CHUNK = int(np.ceil(len(files) / 6))  # Размер каждого chunk"
   ]
  },
  {
   "cell_type": "code",
   "execution_count": null,
   "id": "ud-gj-YHhchh",
   "metadata": {
    "colab": {
     "base_uri": "https://localhost:8080/"
    },
    "executionInfo": {
     "elapsed": 425,
     "status": "ok",
     "timestamp": 1689848665927,
     "user": {
      "displayName": "Stas Krupnov",
      "userId": "12188064098878037970"
     },
     "user_tz": -180
    },
    "id": "ud-gj-YHhchh",
    "outputId": "bda9f0c1-1d84-4bf3-de0f-89b123b094f7"
   },
   "outputs": [
    {
     "data": {
      "text/plain": [
       "<weakproxy at 0x7cae23b8e2a0 to Device at 0x7cae23b7be80>"
      ]
     },
     "execution_count": 13,
     "metadata": {},
     "output_type": "execute_result"
    }
   ],
   "source": [
    "from numba import cuda\n",
    "cuda.select_device(0)\n",
    "cuda.close()\n",
    "cuda.select_device(0)"
   ]
  },
  {
   "cell_type": "code",
   "execution_count": null,
   "id": "b5a0eb37",
   "metadata": {},
   "outputs": [],
   "source": [
    "# Задаем путь для сохранения результатов\n",
    "folder_path = f'{matrix_name}'\n",
    "os.makedirs(folder_path, exist_ok=True)\n",
    "\n",
    "# Веса для типов событий\n",
    "type_weight = {0: 1, 1: 6, 2: 3}\n",
    "\n",
    "# Используем минимальное количество частей на диске без ошибки памяти\n",
    "if matrix_name == 'train_covis_matrix':\n",
    "    DISK_PIECES = 20\n",
    "else:\n",
    "    DISK_PIECES = 80\n",
    "\n",
    "SIZE = 1.86e6 / DISK_PIECES  # Размер каждой части\n",
    "\n",
    "# Вычисление частями для управления памятью\n",
    "for PART in range(DISK_PIECES):\n",
    "    print()\n",
    "    print('### Диск', PART + 1)\n",
    "\n",
    "    # Слияние быстрее всего обрабатывает куски внутри кусков\n",
    "    # => Внешние куски\n",
    "    for j in range(6):\n",
    "        a = j * CHUNK\n",
    "        b = min((j + 1) * CHUNK, len(files))\n",
    "        print(f'Обработка файлов {a} по {b-1} в группах по {READ_CT}...')\n",
    "\n",
    "        # => Внутренние куски\n",
    "        for k in range(a, b, READ_CT):\n",
    "            # Чтение файла\n",
    "            df = [read_file(files[k])]\n",
    "            for i in range(1, READ_CT):\n",
    "                if k + i < b: df.append(read_file(files[k + i]))\n",
    "            df = cudf.concat(df, ignore_index=True, axis=0)\n",
    "            df = df.sort_values(['session', 'ts'], ascending=[True, False])\n",
    "\n",
    "            # Использование хвоста сессии\n",
    "            df = df.reset_index(drop=True)\n",
    "            df['n'] = df.groupby('session').cumcount()\n",
    "            df = df.loc[df.n < 70].drop('n', axis=1)\n",
    "\n",
    "            # Создание пар\n",
    "            df = df.merge(df, on='session')\n",
    "            df = df.loc[((df.ts_x - df.ts_y).abs() < 24 * 60 * 60)\n",
    "                        & (df.aid_x != df.aid_y)]\n",
    "\n",
    "            # Управление памятью: вычисление частями\n",
    "            df = df.loc[(df.aid_x >= PART * SIZE)\n",
    "                        & (df.aid_x < (PART + 1) * SIZE)]\n",
    "\n",
    "            # Назначение весов\n",
    "            df = df[['session', 'aid_x', 'aid_y',\n",
    "                     'type_y']].drop_duplicates(['session', 'aid_x', 'aid_y'])\n",
    "            df['wgt'] = df.type_y.map(type_weight)\n",
    "            df = df[['aid_x', 'aid_y', 'wgt']]\n",
    "            df.wgt = df.wgt.astype('float32')\n",
    "            df = df.groupby(['aid_x', 'aid_y']).wgt.sum()\n",
    "\n",
    "            # Комбинирование внутренних кусков\n",
    "            if k == a:\n",
    "                tmp2 = df\n",
    "            else:\n",
    "                tmp2 = tmp2.add(df, fill_value=0)\n",
    "            print(k, ', ', end='')\n",
    "        print()\n",
    "        # Комбинирование внешних кусков\n",
    "        if a == 0:\n",
    "            tmp = tmp2\n",
    "        else:\n",
    "            tmp = tmp.add(tmp2, fill_value=0)\n",
    "        del tmp2, df\n",
    "        gc.collect()\n",
    "\n",
    "    # Преобразование матрицы в словарь\n",
    "    tmp = tmp.reset_index()\n",
    "    tmp = tmp.sort_values(['aid_x', 'wgt'], ascending=[True, False])\n",
    "\n",
    "    # Сохранение топ-50\n",
    "    tmp = tmp.reset_index(drop=True)\n",
    "    tmp['n'] = tmp.groupby('aid_x').aid_y.cumcount()\n",
    "    tmp = tmp.loc[tmp.n < 50].drop('n', axis=1)\n",
    "\n",
    "    # Сохранение части на диск (преобразование в pandas снижает использование памяти)\n",
    "    tmp.to_pandas().to_parquet(f'{matrix_name}/{matrix_name}_{PART}.parquet')"
   ]
  },
  {
   "cell_type": "code",
   "execution_count": null,
   "id": "lvoLBo1ur2jG",
   "metadata": {
    "id": "lvoLBo1ur2jG"
   },
   "outputs": [],
   "source": [
    "file_list = glob.glob(f'{matrix_name}/*')\n",
    "[shutil.copy(file, f'{main_path}/c/{matrix_name}/') for file in file_list]"
   ]
  },
  {
   "cell_type": "markdown",
   "id": "4ad2f15a",
   "metadata": {
    "id": "4ad2f15a"
   },
   "source": [
    "# Создание manual_approach_predictions"
   ]
  },
  {
   "cell_type": "code",
   "execution_count": null,
   "id": "bebb4d07",
   "metadata": {},
   "outputs": [],
   "source": [
    "path_covis = f'{main_path}/c/{matrix_name}/{matrix_name}_0.parquet'"
   ]
  },
  {
   "cell_type": "code",
   "execution_count": null,
   "id": "142377a8",
   "metadata": {
    "id": "142377a8"
   },
   "outputs": [],
   "source": [
    "matrix_name = 'train_covis_matrix'"
   ]
  },
  {
   "cell_type": "code",
   "execution_count": null,
   "id": "31c58f09",
   "metadata": {
    "id": "31c58f09"
   },
   "outputs": [],
   "source": [
    "# Загружаю основу будущих предсказаний - историю сессий\n",
    "tr_candidates_sessions = pd.read_parquet(\n",
    "    f'{main_path}/s/tr_candidates_sessions.parquet')"
   ]
  },
  {
   "cell_type": "code",
   "execution_count": null,
   "id": "26a8d209",
   "metadata": {
    "id": "26a8d209"
   },
   "outputs": [],
   "source": [
    "def pqt_to_dict(df):\n",
    "\n",
    "    return df.groupby('aid_x').aid_y.apply(list).to_dict()"
   ]
  },
  {
   "cell_type": "code",
   "execution_count": null,
   "id": "a4ed42c2",
   "metadata": {
    "id": "a4ed42c2",
    "outputId": "a852de9c-72f5-4adc-e3cc-01baba185c3b",
    "scrolled": false
   },
   "outputs": [
    {
     "name": "stderr",
     "output_type": "stream",
     "text": [
      "100%|███████████████████████████████████████████| 19/19 [00:14<00:00,  1.28it/s]\n"
     ]
    }
   ],
   "source": [
    "# Обьединяю части ко-виз матрицы в одно\n",
    "covis_matrix = pqt_to_dict(pd.read_parquet(path_covis))\n",
    "\n",
    "for k in tqdm(range(1, 20)):\n",
    "\n",
    "    covis_matrix.update(\n",
    "        pqt_to_dict(\n",
    "            pd.read_parquet(\n",
    "                f'{main_path}/c/{matrix_name}/{matrix_name}_{k}.parquet')))"
   ]
  },
  {
   "cell_type": "code",
   "execution_count": null,
   "id": "68698499",
   "metadata": {
    "id": "68698499"
   },
   "outputs": [],
   "source": [
    "# Инициализация словаря\n",
    "labels = {}\n",
    "\n",
    "top_pop_aids = set(\n",
    "    tr_candidates_sessions['aid'].value_counts().index[:20].tolist())"
   ]
  },
  {
   "cell_type": "code",
   "execution_count": null,
   "id": "763f1b8f",
   "metadata": {
    "id": "763f1b8f",
    "outputId": "bf4980b9-c7d1-46cb-ac2e-bb5039997591",
    "scrolled": false
   },
   "outputs": [
    {
     "name": "stdout",
     "output_type": "stream",
     "text": [
      "CPU times: user 26.8 s, sys: 777 ms, total: 27.6 s\n",
      "Wall time: 27.7 s\n"
     ]
    }
   ],
   "source": [
    "%%time\n",
    "# Преобразование датафрейма в словарь\n",
    "tr_cnd_dict = tr_candidates_sessions.groupby('session')['aid'].apply(\n",
    "    list).to_dict()"
   ]
  },
  {
   "cell_type": "code",
   "execution_count": null,
   "id": "e9e3f587",
   "metadata": {
    "id": "e9e3f587",
    "outputId": "e3025a9b-dfcf-4369-e753-9369171bc2a7",
    "scrolled": true
   },
   "outputs": [
    {
     "name": "stderr",
     "output_type": "stream",
     "text": [
      "sessions: 100%|████████████████████| 4642744/4642744 [01:55<00:00, 40117.13it/s]"
     ]
    },
    {
     "name": "stdout",
     "output_type": "stream",
     "text": [
      "0 0 0\n"
     ]
    },
    {
     "name": "stderr",
     "output_type": "stream",
     "text": [
      "\n"
     ]
    }
   ],
   "source": [
    "# Цикл по всем сессиям\n",
    "for session, aids in tqdm(tr_cnd_dict.items(), desc = 'sessions'):\n",
    "    # Инициализация словаря для подсчета aids\n",
    "    aid_counter = Counter()\n",
    "\n",
    "    # Цикл по всем aids в сессии\n",
    "    for aid in aids:\n",
    "        # Если aid есть в covis_matrix, увеличиваем его счетчик\n",
    "        if aid in covis_matrix:\n",
    "            aid_counter.update(covis_matrix[aid])\n",
    "\n",
    "    if len(set(aids)) >= 20:# Оставлю только последние 20 уникальные aids\n",
    "        labels[session] = list(dict.fromkeys(aids))[-20:]\n",
    "\n",
    "        if len(set(labels[session])) < len(labels[session]):\n",
    "\n",
    "\n",
    "    else:\n",
    "        # Получаем топ встречающихся aids\n",
    "        top_aids = [aid for aid, count in aid_counter.most_common(20 - len(set(aids)))]\n",
    "\n",
    "        # Добавляем исходные aids и топ встречающихся aids в labels\n",
    "        labels[session] = list(set(list(set(aids)) + list(set(top_aids))))\n",
    "\n",
    "        if len(set(labels[session])) < len(labels[session]):\n",
    "   \n",
    "        # Если все еще меньше 20 рекомендаций, то добавляю из популярного топа         \n",
    "        if len(set(aids)) < 20:\n",
    "\n",
    "            pops = list(top_pop_aids.difference(set(labels[session])))\n",
    "            labels[session] += pops[:20 - len(labels[session])]"
   ]
  },
  {
   "cell_type": "code",
   "execution_count": null,
   "id": "c3e5a970",
   "metadata": {
    "id": "c3e5a970",
    "outputId": "60e4a281-ba93-4036-9491-0a6da676d93d"
   },
   "outputs": [
    {
     "name": "stderr",
     "output_type": "stream",
     "text": [
      "100%|████████████████████████████| 4642744/4642744 [00:00<00:00, 8177303.84it/s]\n"
     ]
    }
   ],
   "source": [
    "# Создаю итоговый датасет предсказаний\n",
    "sessions = []\n",
    "aid_lists = []\n",
    "\n",
    "for session, aids in tqdm(labels.items()):\n",
    "    sessions.append(session)\n",
    "    aid_lists.append(aids)\n",
    "\n",
    "manual_approach_predictions_ = pd.DataFrame({\n",
    "    'session': sessions,\n",
    "    'labels': aid_lists\n",
    "})\n",
    "\n",
    "session_types = ['clicks', 'carts', 'orders']\n",
    "\n",
    "manual_approach_predictions = pd.DataFrame(list(\n",
    "    product(manual_approach_predictions_['session'].unique(), session_types)),\n",
    "                                           columns=['session', 'type'])\n",
    "\n",
    "manual_approach_predictions = manual_approach_predictions.merge(\n",
    "    manual_approach_predictions_, how='left', on='session')"
   ]
  },
  {
   "cell_type": "code",
   "execution_count": null,
   "id": "0d1007dd",
   "metadata": {
    "id": "0d1007dd",
    "outputId": "1ebc0e84-aabc-44e0-91c9-b914cc363fe9",
    "scrolled": true
   },
   "outputs": [
    {
     "name": "stdout",
     "output_type": "stream",
     "text": [
      "CPU times: user 11.1 s, sys: 913 ms, total: 12 s\n",
      "Wall time: 12.1 s\n"
     ]
    }
   ],
   "source": [
    "%%time\n",
    "# Проверка на дубликатов и кол-во предсказаний\n",
    "manual_approach_predictions['!=20'] = manual_approach_predictions.labels.apply(\n",
    "    lambda x: check_len(x))\n",
    "manual_approach_predictions['dd'] = manual_approach_predictions.labels.apply(\n",
    "    lambda x: check_dupl(x))"
   ]
  },
  {
   "cell_type": "code",
   "execution_count": null,
   "id": "53f63e7f",
   "metadata": {
    "id": "53f63e7f",
    "outputId": "1de37430-199c-473e-fff2-240615d7781d",
    "scrolled": true
   },
   "outputs": [
    {
     "data": {
      "text/plain": [
       "(0, 0)"
      ]
     },
     "execution_count": 17,
     "metadata": {},
     "output_type": "execute_result"
    }
   ],
   "source": [
    "manual_approach_predictions.dd.sum(), manual_approach_predictions['!=20'].sum()"
   ]
  },
  {
   "cell_type": "code",
   "execution_count": null,
   "id": "396c4aac",
   "metadata": {
    "id": "396c4aac",
    "outputId": "dae487e8-1c29-407b-d7d5-26a523644191",
    "scrolled": false
   },
   "outputs": [
    {
     "data": {
      "text/html": [
       "<div>\n",
       "<style scoped>\n",
       "    .dataframe tbody tr th:only-of-type {\n",
       "        vertical-align: middle;\n",
       "    }\n",
       "\n",
       "    .dataframe tbody tr th {\n",
       "        vertical-align: top;\n",
       "    }\n",
       "\n",
       "    .dataframe thead th {\n",
       "        text-align: right;\n",
       "    }\n",
       "</style>\n",
       "<table border=\"1\" class=\"dataframe\">\n",
       "  <thead>\n",
       "    <tr style=\"text-align: right;\">\n",
       "      <th></th>\n",
       "      <th>session</th>\n",
       "      <th>type</th>\n",
       "      <th>labels</th>\n",
       "      <th>!=20</th>\n",
       "      <th>dd</th>\n",
       "    </tr>\n",
       "  </thead>\n",
       "  <tbody>\n",
       "    <tr>\n",
       "      <th>0</th>\n",
       "      <td>0</td>\n",
       "      <td>clicks</td>\n",
       "      <td>[719622, 723931, 823637, 946219, 964169, 10904...</td>\n",
       "      <td>0</td>\n",
       "      <td>0</td>\n",
       "    </tr>\n",
       "    <tr>\n",
       "      <th>1</th>\n",
       "      <td>0</td>\n",
       "      <td>carts</td>\n",
       "      <td>[719622, 723931, 823637, 946219, 964169, 10904...</td>\n",
       "      <td>0</td>\n",
       "      <td>0</td>\n",
       "    </tr>\n",
       "    <tr>\n",
       "      <th>2</th>\n",
       "      <td>0</td>\n",
       "      <td>orders</td>\n",
       "      <td>[719622, 723931, 823637, 946219, 964169, 10904...</td>\n",
       "      <td>0</td>\n",
       "      <td>0</td>\n",
       "    </tr>\n",
       "    <tr>\n",
       "      <th>3</th>\n",
       "      <td>2</td>\n",
       "      <td>clicks</td>\n",
       "      <td>[545290, 1736086, 1768986, 1356322, 379812, 64...</td>\n",
       "      <td>0</td>\n",
       "      <td>0</td>\n",
       "    </tr>\n",
       "    <tr>\n",
       "      <th>4</th>\n",
       "      <td>2</td>\n",
       "      <td>carts</td>\n",
       "      <td>[545290, 1736086, 1768986, 1356322, 379812, 64...</td>\n",
       "      <td>0</td>\n",
       "      <td>0</td>\n",
       "    </tr>\n",
       "    <tr>\n",
       "      <th>...</th>\n",
       "      <td>...</td>\n",
       "      <td>...</td>\n",
       "      <td>...</td>\n",
       "      <td>...</td>\n",
       "      <td>...</td>\n",
       "    </tr>\n",
       "    <tr>\n",
       "      <th>13928227</th>\n",
       "      <td>11098494</td>\n",
       "      <td>carts</td>\n",
       "      <td>[119168, 500609, 493700, 155279, 1562015, 2452...</td>\n",
       "      <td>0</td>\n",
       "      <td>0</td>\n",
       "    </tr>\n",
       "    <tr>\n",
       "      <th>13928228</th>\n",
       "      <td>11098494</td>\n",
       "      <td>orders</td>\n",
       "      <td>[119168, 500609, 493700, 155279, 1562015, 2452...</td>\n",
       "      <td>0</td>\n",
       "      <td>0</td>\n",
       "    </tr>\n",
       "    <tr>\n",
       "      <th>13928229</th>\n",
       "      <td>11098509</td>\n",
       "      <td>clicks</td>\n",
       "      <td>[1498240, 822278, 1044487, 1543051, 372499, 11...</td>\n",
       "      <td>0</td>\n",
       "      <td>0</td>\n",
       "    </tr>\n",
       "    <tr>\n",
       "      <th>13928230</th>\n",
       "      <td>11098509</td>\n",
       "      <td>carts</td>\n",
       "      <td>[1498240, 822278, 1044487, 1543051, 372499, 11...</td>\n",
       "      <td>0</td>\n",
       "      <td>0</td>\n",
       "    </tr>\n",
       "    <tr>\n",
       "      <th>13928231</th>\n",
       "      <td>11098509</td>\n",
       "      <td>orders</td>\n",
       "      <td>[1498240, 822278, 1044487, 1543051, 372499, 11...</td>\n",
       "      <td>0</td>\n",
       "      <td>0</td>\n",
       "    </tr>\n",
       "  </tbody>\n",
       "</table>\n",
       "<p>13928232 rows × 5 columns</p>\n",
       "</div>"
      ],
      "text/plain": [
       "           session    type                                             labels  \\\n",
       "0                0  clicks  [719622, 723931, 823637, 946219, 964169, 10904...   \n",
       "1                0   carts  [719622, 723931, 823637, 946219, 964169, 10904...   \n",
       "2                0  orders  [719622, 723931, 823637, 946219, 964169, 10904...   \n",
       "3                2  clicks  [545290, 1736086, 1768986, 1356322, 379812, 64...   \n",
       "4                2   carts  [545290, 1736086, 1768986, 1356322, 379812, 64...   \n",
       "...            ...     ...                                                ...   \n",
       "13928227  11098494   carts  [119168, 500609, 493700, 155279, 1562015, 2452...   \n",
       "13928228  11098494  orders  [119168, 500609, 493700, 155279, 1562015, 2452...   \n",
       "13928229  11098509  clicks  [1498240, 822278, 1044487, 1543051, 372499, 11...   \n",
       "13928230  11098509   carts  [1498240, 822278, 1044487, 1543051, 372499, 11...   \n",
       "13928231  11098509  orders  [1498240, 822278, 1044487, 1543051, 372499, 11...   \n",
       "\n",
       "          !=20  dd  \n",
       "0            0   0  \n",
       "1            0   0  \n",
       "2            0   0  \n",
       "3            0   0  \n",
       "4            0   0  \n",
       "...        ...  ..  \n",
       "13928227     0   0  \n",
       "13928228     0   0  \n",
       "13928229     0   0  \n",
       "13928230     0   0  \n",
       "13928231     0   0  \n",
       "\n",
       "[13928232 rows x 5 columns]"
      ]
     },
     "execution_count": 18,
     "metadata": {},
     "output_type": "execute_result"
    }
   ],
   "source": [
    "manual_approach_predictions"
   ]
  },
  {
   "cell_type": "code",
   "execution_count": null,
   "id": "085791f2",
   "metadata": {
    "id": "085791f2"
   },
   "outputs": [],
   "source": [
    "manual_approach_predictions.drop(columns = ['dd', '!=20'], inplace = True)"
   ]
  },
  {
   "cell_type": "code",
   "execution_count": null,
   "id": "35f30137",
   "metadata": {
    "id": "35f30137"
   },
   "outputs": [],
   "source": [
    "manual_approach_predictions.to_parquet(\n",
    "    f'{main_path}/b/manual_approach_predictions.parquet')"
   ]
  },
  {
   "cell_type": "markdown",
   "id": "65b162bb",
   "metadata": {
    "id": "65b162bb"
   },
   "source": [
    "# Оценка метрики на manual_approach_predictions"
   ]
  },
  {
   "cell_type": "markdown",
   "id": "d3793552",
   "metadata": {
    "id": "d3793552"
   },
   "source": [
    "В качестве меток для оценки метрики я могу использовать targets, предназначенные  \n",
    "для тренировки будущей ранжирующей модели"
   ]
  },
  {
   "cell_type": "code",
   "execution_count": null,
   "id": "000399c9",
   "metadata": {
    "id": "000399c9"
   },
   "outputs": [],
   "source": [
    "manual_approach_predictions = pd.read_parquet(\n",
    "    f'{main_path}/b/manual_approach_predictions.parquet')"
   ]
  },
  {
   "cell_type": "code",
   "execution_count": null,
   "id": "6f583447",
   "metadata": {
    "id": "6f583447"
   },
   "outputs": [],
   "source": [
    "targets = pd.read_parquet(f'{main_path}/s/targets.parquet')"
   ]
  },
  {
   "cell_type": "code",
   "execution_count": null,
   "id": "036e03bb",
   "metadata": {
    "id": "036e03bb"
   },
   "outputs": [],
   "source": [
    "with open(f'{main_path}/pkl/id2type.pkl', 'rb') as file:\n",
    "    id2type = pickle.load(file)"
   ]
  },
  {
   "cell_type": "code",
   "execution_count": null,
   "id": "8ce62320",
   "metadata": {
    "id": "8ce62320",
    "outputId": "043ae023-23ca-4a8f-bd1e-ced25c2cd6b5",
    "scrolled": true
   },
   "outputs": [
    {
     "name": "stdout",
     "output_type": "stream",
     "text": [
      "Baseline score : 0.467064847095012\n"
     ]
    }
   ],
   "source": [
    "print('Baseline score :',\n",
    "      metric_eval(manual_approach_predictions, targets, id2type))"
   ]
  }
 ],
 "metadata": {
  "colab": {
   "collapsed_sections": [
    "542ce50f",
    "KJOryrzjFC_R"
   ],
   "provenance": [],
   "toc_visible": true
  },
  "kernelspec": {
   "display_name": "Python 3 (ipykernel)",
   "language": "python",
   "name": "python3"
  },
  "language_info": {
   "codemirror_mode": {
    "name": "ipython",
    "version": 3
   },
   "file_extension": ".py",
   "mimetype": "text/x-python",
   "name": "python",
   "nbconvert_exporter": "python",
   "pygments_lexer": "ipython3",
   "version": "3.11.4"
  },
  "toc": {
   "base_numbering": 1,
   "nav_menu": {},
   "number_sections": true,
   "sideBar": true,
   "skip_h1_title": false,
   "title_cell": "Table of Contents",
   "title_sidebar": "Contents",
   "toc_cell": false,
   "toc_position": {
    "height": "calc(100% - 180px)",
    "left": "10px",
    "top": "150px",
    "width": "358.860291px"
   },
   "toc_section_display": true,
   "toc_window_display": true
  }
 },
 "nbformat": 4,
 "nbformat_minor": 5
}
