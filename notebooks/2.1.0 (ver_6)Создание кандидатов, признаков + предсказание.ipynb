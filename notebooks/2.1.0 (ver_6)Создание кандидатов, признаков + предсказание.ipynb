{
 "cells": [
  {
   "cell_type": "code",
   "execution_count": null,
   "id": "279a53cb",
   "metadata": {
    "id": "279a53cb"
   },
   "outputs": [],
   "source": [
    "main_path = '/Users/stanislavkrupnov/Jup.Notebook'\n",
    "\n",
    "# main_path = '/content/drive/Othercomputers/Mac/Jup.Notebook'\n",
    "# import gdown\n",
    "# from google.colab import drive\n",
    "# drive.mount('/content/drive')"
   ]
  },
  {
   "cell_type": "markdown",
   "id": "50b77aff",
   "metadata": {
    "id": "50b77aff"
   },
   "source": [
    "# Информация"
   ]
  },
  {
   "cell_type": "markdown",
   "id": "jDFjxUa56vEf",
   "metadata": {
    "id": "jDFjxUa56vEf"
   },
   "source": [
    "**В этом ноутбуке я создаю кандидатов для ре-ранжирования на второй ступени рекоменд.системы. Каждая версия (Ver_1,...Ver_6) - это попытка создания, отличная от предыдущей в основном присутствием новых признаков**.   \n",
    "Цель каждой версии - создать тренировочный и тестовый датасет кандидатов, обучить модель на первом, предсказать на втором, и замерить метрику на отложенной части тестовых данных"
   ]
  },
  {
   "cell_type": "markdown",
   "id": "91wecv6HhSQd",
   "metadata": {
    "id": "91wecv6HhSQd"
   },
   "source": [
    "**В этом ноутбуке будет показано лучшее решение ver_6 + характеристики остальных решений. Остальные решения полностью отражены в двух других ноутбуках.**"
   ]
  },
  {
   "cell_type": "markdown",
   "id": "8f2da363",
   "metadata": {
    "id": "8f2da363"
   },
   "source": [
    "- Рекоменд.модель первой ступени набирает 0.46706 метрики  \n",
    "- Чтобы догнать ее результат и улучшить с помощью ре-ранжирования кандидатов на второй ступени - потребовалось добавлять больше признаков\n",
    "- Метрика ре-ранкера обогнала первую ступень на версии 5 - 0.48735\n",
    "- Далее я добавил еще признаки, и остановился на версии 6 - 0.5202\n"
   ]
  },
  {
   "cell_type": "markdown",
   "id": "WVCXab6N3E23",
   "metadata": {
    "id": "WVCXab6N3E23"
   },
   "source": [
    "**Важно**:\n",
    "- В этом ноутбуке я использую бейзлайн - модель XGBoost Ranker, просто для того,  \n",
    " чтобы отслеживать как новые признаки влияют на метрику в целом. Потом, при выборе  \n",
    "  лучшего бейзлайна, победил CatBoost Ranker, и тюнинг я буду проводить с ним.\n",
    "-  признаки разрабатывались и добавлялись с течением времени, +- в каждой версии. Тот код создания признаков, идущий далее, преобрел окончательный вид только в последней версии 6. Поэтому прилагаю список версий с описанием всех различий между ними⬇️\n"
   ]
  },
  {
   "cell_type": "markdown",
   "id": "709c02cf",
   "metadata": {
    "id": "709c02cf"
   },
   "source": [
    "# Списки версий"
   ]
  },
  {
   "cell_type": "markdown",
   "id": "NyzSPYBx6Xth",
   "metadata": {
    "id": "NyzSPYBx6Xth"
   },
   "source": [
    "**Ver_1**  \n",
    "- 50 кандидатов на сессию\n",
    "- фичи : \\\n",
    "Aid \\\n",
    "'item_quantity_in_df' Кол-во aid в датасете.   \n",
    "'sessions_w_item' Сколько session с этим aid. \\\n",
    "'mean_item_type' Средний тип этого aid. \\\n",
    "Session \\\n",
    "'session_quantity_in_df' Кол-во этой session в датасете \\\n",
    "'items_in_session' Сколько aid в этой session \\\n",
    "'mean_session_type' Какой средний тип aid в этой session \\\n",
    "- 1/3 train data\n"
   ]
  },
  {
   "cell_type": "markdown",
   "id": "Dk7EwUD7_KtH",
   "metadata": {
    "id": "Dk7EwUD7_KtH"
   },
   "source": [
    "**Ver_1.1**  \n",
    "- Все как в  Ver_1, кроме undersampling\n",
    "- 0.1 ratio - clicks, 0,01 ratio - carts, orders\n"
   ]
  },
  {
   "cell_type": "markdown",
   "id": "gXiHI_ce_toq",
   "metadata": {
    "id": "gXiHI_ce_toq"
   },
   "source": [
    "**Ver_1.2**  \n",
    "- Все как в  Ver_1, кроме undersampling\n",
    "- 0.3 ratio - clicks, 0.05 ratio - carts, orders"
   ]
  },
  {
   "cell_type": "markdown",
   "id": "YNHTpUJAAASd",
   "metadata": {
    "id": "YNHTpUJAAASd"
   },
   "source": [
    "**Ver_1.3**  \n",
    "- Все как в  Ver_1, кроме undersampling\n",
    "- 0.4 ratio - clicks, 0.2 ratio - carts, 0.2 ratio - orders"
   ]
  },
  {
   "cell_type": "markdown",
   "id": "UbHwtd7lAMqI",
   "metadata": {
    "id": "UbHwtd7lAMqI"
   },
   "source": [
    "**Ver_4**  \n",
    "- 150 кандидатов на сессию\n",
    "- фичи : \\\n",
    "Aid \\\n",
    "'item_quantity_in_df' Кол-во aid в датасете.   \n",
    "'sessions_w_item' Сколько session с этим aid. \\\n",
    "'mean_item_type' Средний тип этого aid. \\\n",
    "'rank_pop' Популярность aid внутри типа \\\n",
    "Session \\\n",
    "'session_quantity_in_df' Кол-во этой session в датасете \\\n",
    "'items_in_session' Сколько aid в этой session \\\n",
    "'mean_session_type' Какой средний тип aid в этой session \\\n",
    "Session x Aid    \n",
    "'rank' Ранг aid в сессии по ковиз-матрице  \n",
    "- 1/3 train data\n",
    "- Undersample : 0.012 ratio - clicks, 0.05 ratio - carts, 0.02 ratio -  orders\n"
   ]
  },
  {
   "cell_type": "markdown",
   "id": "RfUqlvvuBQEQ",
   "metadata": {
    "id": "RfUqlvvuBQEQ"
   },
   "source": [
    "**Ver_4.1**  \n",
    "- 50 кандидатов на сессию\n",
    "- фичи : как в ver_4  \n",
    "- 1/3 train data\n",
    "- Undersample : 0.43 ratio - clicks, 0.0624 ratio - carts, 0.0624 ratio - orders"
   ]
  },
  {
   "cell_type": "markdown",
   "id": "TX7swMgvB43v",
   "metadata": {
    "id": "TX7swMgvB43v"
   },
   "source": [
    "**Ver_5**  \n",
    "- 50 кандидатов на сессию\n",
    "- фичи : \\\n",
    "Aid \\\n",
    "'item_quantity_in_df' Кол-во aid в датасете.   \n",
    "'sessions_w_item' Сколько session с этим aid. \\\n",
    "'mean_item_type' Средний тип этого aid. \\\n",
    "'rank_pop' Популярность aid внутри типа \\\n",
    "Session \\\n",
    "'session_quantity_in_df' Кол-во этой session в датасете \\\n",
    "'items_in_session' Сколько aid в этой session \\\n",
    "'mean_session_type' Какой средний тип aid в этой session \\\n",
    "'session_len' Длина сессии (в минутах)  \n",
    "'last_aid_type' Последнее действие каждого типа в session  \n",
    "Session x Aid    \n",
    "'rank' Ранг aid в сессии по ковиз-матрице   \n",
    "'cos_sim' Косинусная схожесть session-aid WORD2WEC   \n",
    "- 1/3 train data\n",
    "- Undersample : 0.43 ratio - clicks, 0.0624 ratio - carts, 0.0624 ratio - orders\n"
   ]
  },
  {
   "cell_type": "markdown",
   "id": "jMwyA7JfHnhn",
   "metadata": {
    "id": "jMwyA7JfHnhn"
   },
   "source": [
    "**Ver_6**  \n",
    "- 50 кандидатов на сессию\n",
    "- фичи : \\\n",
    "Aid \\\n",
    "'item_quantity_in_df' Кол-во aid в датасете.   \n",
    "'sessions_w_item' Сколько session с этим aid. \\\n",
    "'mean_item_type' Средний тип этого aid. \\\n",
    "'rank_pop' Популярность aid внутри типа \\\n",
    "'cl_to_crt_med_time' Медианное время в секундах, спустя которое пользователи переходят от \"click\" к \"cart\" для данного aid.  \n",
    "'cl_to_ord_med_time' Медианное время в секундах, спустя которое пользователи переходят от \"click\" к \"order\" для данного aid.  \n",
    "'first_aid_percent' Процент сессий, в которых данный aid был первым действием.  \n",
    "'last_aid_percent' Процент сессий, в которых данный aid был последним действием.  \n",
    "'most_active_time' время суток, в которые наиболее активно взаимодействуют с этим aid.  \n",
    "Session \\\n",
    "'session_quantity_in_df' Кол-во этой session в датасете \\\n",
    "'items_in_session' Сколько aid в этой session \\\n",
    "'mean_session_type' Какой средний тип aid в этой session \\\n",
    "'session_len' Длина сессии (в минутах)  \n",
    "'last_aid_type' Последнее действие каждого типа в session  \n",
    "'mn_time_b/w_aids' Среднее время между действиями в данной сессии.  \n",
    "'freq_per_type' Частота кликов/ картов/ ордеров(кол-во/длина сессии в мин) в session.\n",
    "'type_counts_ses' Кол-во действий кажд.типа в session.   \n",
    "'type_ratio_ses' aid clicks/orders/carts ratio в сессии.   \n",
    "'ses_aid_duplic_rate' Были ли в данной сессии повторяющиеся aid, и если да, то сколько раз.   \n",
    "Session x Aid    \n",
    "'rank' Ранг aid в сессии по ковиз-матрице  \n",
    "'cos_sim' Косинусная схожесть session-aid WORD2WEC   \n",
    "- 1/3 train data\n",
    "- Undersample :  0.43 ratio - clicks, 0.0624 ratio - carts, 0.0624 ratio -  orders"
   ]
  },
  {
   "cell_type": "markdown",
   "id": "8d4b8f57",
   "metadata": {
    "id": "8d4b8f57"
   },
   "source": [
    "# Функции"
   ]
  },
  {
   "cell_type": "code",
   "execution_count": null,
   "id": "2574fe33",
   "metadata": {
    "id": "2574fe33"
   },
   "outputs": [],
   "source": [
    "def metric_eval(predictions: pd.DataFrame, valid: pd.DataFrame,\n",
    "                id2type: dict) -> tuple:\n",
    "    \"\"\"\n",
    "    Вычисляет метрики для оценки качества модели.\n",
    "\n",
    "    Parameters:\n",
    "    - predictions (pd.DataFrame): DataFrame с предсказаниями модели.\n",
    "    - valid (pd.DataFrame): DataFrame с данными для валидации.\n",
    "    - id2type (dict): Словарь для преобразования индексов типов в соответствующие строки.\n",
    "\n",
    "    Returns:\n",
    "    - tuple: Кортеж, содержащий локальную метрику и реколл для каждого типа.\n",
    "    \"\"\"\n",
    "    # Преобразование индексов типов в соответствующие строки\n",
    "    valid.type = valid.type.map(lambda idx: id2type[idx])\n",
    "\n",
    "    # Создание списка с метками для каждой сессии и типа\n",
    "    ground_truth = valid.groupby(['session', 'type'])['aid'].apply(list)\n",
    "    ground_truth = ground_truth.reset_index().rename(columns={'aid': 'labels'})\n",
    "\n",
    "    # Обрезка меток для типа 'clicks' до одной метки\n",
    "    ground_truth.loc[ground_truth.type == 'clicks',\n",
    "                     'labels'] = ground_truth.loc[ground_truth.type ==\n",
    "                                                  'clicks', 'labels'].str[:1]\n",
    "\n",
    "    # Объединение предсказаний с истинными метками\n",
    "    submission_with_gt = predictions.merge(\n",
    "        ground_truth[['session', 'type', 'labels']],\n",
    "        how='left',\n",
    "        on=['session', 'type'])\n",
    "\n",
    "    # Отбрасывание сессий без истинных меток\n",
    "    submission_with_gt = submission_with_gt[~submission_with_gt.labels_y.isna(\n",
    "    )]\n",
    "\n",
    "    # Вычисление количества совпадений между предсказанными и истинными метками\n",
    "    submission_with_gt['hits'] = submission_with_gt.apply(\n",
    "        lambda df: len(set(df.labels_x).intersection(set(df.labels_y))),\n",
    "        axis=1)\n",
    "\n",
    "    # Вычисление количества истинных меток для каждого типа\n",
    "    submission_with_gt['gt_count'] = submission_with_gt.labels_y.str.len(\n",
    "    ).clip(0, 20)\n",
    "\n",
    "    # Вычисление реколла для каждого типа\n",
    "    recall_per_type = submission_with_gt.groupby([\n",
    "        'type'\n",
    "    ])['hits'].sum() / submission_with_gt.groupby(['type'])['gt_count'].sum()\n",
    "\n",
    "    # Вычисление локальной метрики на основе реколла для каждого типа\n",
    "    local_validation_score = (recall_per_type * pd.Series({\n",
    "        'clicks': 0.10,\n",
    "        'carts': 0.30,\n",
    "        'orders': 0.60\n",
    "    })).sum()\n",
    "\n",
    "    return local_validation_score, recall_per_type"
   ]
  },
  {
   "cell_type": "code",
   "execution_count": null,
   "id": "1edaacd2",
   "metadata": {
    "id": "1edaacd2"
   },
   "outputs": [],
   "source": [
    "def read_covis_to_dict(cov_ver: str, cov_type: str, n: int) -> dict:\n",
    "    '''\n",
    "    Читает ковиз-матрицу из нескольких файлов и возвращает словарь.\n",
    "\n",
    "    Parameters:\n",
    "    - cov_ver (str): Версия ковиз-матрицы.\n",
    "    - cov_type (str): Тип ковиз-матрицы (b_tr или lv).\n",
    "    - n (int): Количество файлов с матрицей.\n",
    "\n",
    "    Returns:\n",
    "    - dict: Словарь, представляющий ковиз-матрицу.\n",
    "    '''\n",
    "    for k in tqdm(range(0, n)):\n",
    "        path = f'{main_path}/c/{cov_type}_{cov_ver}/{cov_type}_covis_matrix_{k}.parquet'\n",
    "\n",
    "        if k == 0:\n",
    "            covis_matrix = pd.read_parquet(path)\n",
    "            covis_matrix = covis_matrix.groupby('aid_x').aid_y.apply(\n",
    "                list).to_dict()\n",
    "        else:\n",
    "            df = pd.read_parquet(path)\n",
    "            df = df.groupby('aid_x').aid_y.apply(list).to_dict()\n",
    "            covis_matrix.update(df)\n",
    "\n",
    "    return covis_matrix"
   ]
  },
  {
   "cell_type": "code",
   "execution_count": null,
   "id": "6ef47d55",
   "metadata": {
    "id": "6ef47d55"
   },
   "outputs": [],
   "source": [
    "def read_parquet_in_chunks(file_path: str, batch_num: int):\n",
    "    '''\n",
    "    Читает Parquet-файл порциями и возвращает DataFrame.\n",
    "\n",
    "    Parameters:\n",
    "    - file_path (str): Путь к Parquet-файлу.\n",
    "    - batch_num (int): Количество порций для чтения.\n",
    "\n",
    "    Yields:\n",
    "    - pd.DataFrame: DataFrame, представляющий порцию данных из Parquet-файла.\n",
    "    '''\n",
    "    table = pq.read_table(file_path)\n",
    "    num_rows = len(table)\n",
    "    batch_size = num_rows // batch_num\n",
    "\n",
    "    for i in range(0, num_rows, batch_size):\n",
    "        yield table[i:i + batch_size].to_pandas()"
   ]
  },
  {
   "cell_type": "code",
   "execution_count": null,
   "id": "c9a6f960",
   "metadata": {
    "id": "c9a6f960"
   },
   "outputs": [],
   "source": [
    "def create_labels(n: int,\n",
    "                  inp_dict: dict,\n",
    "                  covis: dict,\n",
    "                  top_pop_aids: set,\n",
    "                  cov_f: bool,\n",
    "                  b: int = -1) -> dict:\n",
    "    '''\n",
    "    Создает метки для сессий на основе матрицы ко-посещений.\n",
    "\n",
    "    Parameters:\n",
    "    - n (int): Количество кандидатов на сессию.\n",
    "    - inp_dict (dict): Словарь с записями сессий.\n",
    "    - covis (dict): Матрица ко-посещений.\n",
    "    - top_pop_aids (set): Топ популярных товаров.\n",
    "    - cov_f (bool): Создавать ли признак-ранг из ковиз-матрицы.\n",
    "    - b (int): Номер файла для сохранения, если cov_f=True.\n",
    "\n",
    "    Returns:\n",
    "    - dict: Словарь с кандидатами.\n",
    "    '''\n",
    "    labels = {}\n",
    "    featuress = {}\n",
    "\n",
    "    for session, aids in tqdm(inp_dict.items()):\n",
    "        # Инициализация словаря для подсчета aids\n",
    "        aid_counter = Counter()\n",
    "\n",
    "        # Цикл по всем aids в сессии\n",
    "        for aid in aids:\n",
    "            # Если aid есть в covis_matrix, увеличиваем его счетчик\n",
    "            if aid in covis:\n",
    "                aid_counter.update(covis[aid])\n",
    "\n",
    "        if len(set(aids)) >= n:  # Оставлю только последние n уникальные aids\n",
    "            labels[session] = list(dict.fromkeys(aids))[-n:]\n",
    "        else:\n",
    "            # Получаем топ встречающихся aids\n",
    "            top_aids = [\n",
    "                aid\n",
    "                for aid, count in aid_counter.most_common(n - len(set(aids)))\n",
    "            ]\n",
    "\n",
    "            # Добавляем исходные aids и топ встречающихся aids в labels\n",
    "            labels[session] = list(set(list(set(aids)) + list(set(top_aids))))\n",
    "\n",
    "            if len(set(aids)) < n:\n",
    "                pops = list(top_pop_aids.difference(set(labels[session])))\n",
    "                labels[session] += pops[:n - len(labels[session])]\n",
    "\n",
    "        if cov_f == False:\n",
    "            continue\n",
    "        else:\n",
    "            # Создание словаря с признаком - рангом (по ко-виз матрице) каждого кандидата внутри сессии\n",
    "            for aid in labels[session]:\n",
    "                if aid in list(aid_counter.keys()):\n",
    "                    if session not in featuress:\n",
    "                        featuress[session] = {}\n",
    "                    featuress[session][aid] = aid_counter[aid]\n",
    "\n",
    "    if cov_f == True:\n",
    "        if b == -1:  # Если мы в функции create_labels\n",
    "            path_ = f'{main_path}/tr/{ver_folder}/featuress.pickle'\n",
    "        else:  # Если мы в функции create_labels_in_batches\n",
    "            path_ = f'{main_path}/tr/{ver_folder}/featuress_{b}.pickle'\n",
    "\n",
    "        with open(path_, 'wb') as file:\n",
    "            pickle.dump(featuress, file)\n",
    "\n",
    "        print(\n",
    "            f'Словарь с признаком-рангом по ковиз-матрице сохранен в : {path_}'\n",
    "        )\n",
    "\n",
    "    return labels"
   ]
  },
  {
   "cell_type": "code",
   "execution_count": null,
   "id": "2b016ac9",
   "metadata": {
    "id": "2b016ac9"
   },
   "outputs": [],
   "source": [
    "def create_labels_in_batches(k: int, n: int, inp_dict: dict, covis: dict,\n",
    "                             top_pop_aids: set, cov_f: bool) -> dict:\n",
    "    '''\n",
    "    Создает метки для сессий на основе матрицы ко-посещений по батчам.\n",
    "\n",
    "    Parameters:\n",
    "    - k (int): Количество батчей.\n",
    "    - n (int): Количество кандидатов на сессию.\n",
    "    - inp_dict (dict): Словарь с записями сессий.\n",
    "    - covis (dict): Матрица ко-посещений.\n",
    "    - top_pop_aids (set): Топ популярных товаров.\n",
    "    - cov_f (bool): Создавать ли признак из ковиз-матрицы.\n",
    "\n",
    "    Returns:\n",
    "    - dict: Словарь с кандидатами.\n",
    "    '''\n",
    "    labels = {}\n",
    "    partt = len(inp_dict) // k\n",
    "\n",
    "    for batch in tqdm(range(k), desc='part'):\n",
    "\n",
    "        start = partt * batch\n",
    "        end = partt * (batch + 1)\n",
    "        slicee_ = list(inp_dict.items())[start:end]\n",
    "        slicee = dict(slicee_)\n",
    "\n",
    "        labels_ = create_labels(n=n,\n",
    "                                inp_dict=slicee,\n",
    "                                covis=covis,\n",
    "                                top_pop_aids=top_pop_aids,\n",
    "                                cov_f=cov_f,\n",
    "                                b=batch)\n",
    "        labels.update(labels_)\n",
    "\n",
    "    return labels"
   ]
  },
  {
   "cell_type": "code",
   "execution_count": null,
   "id": "c9a484e0",
   "metadata": {
    "id": "c9a484e0"
   },
   "outputs": [],
   "source": [
    "def create_pop_features(for_features_df: pd.DataFrame) -> pd.DataFrame:\n",
    "    '''\n",
    "    Создает признак ранжирования aid по встречаемости в группах по типам.\n",
    "\n",
    "    Parameters:\n",
    "    - for_features_df (pd.DataFrame): Датасет с данными для признака.\n",
    "\n",
    "    Returns:\n",
    "    - pd.DataFrame: Датасет с признаком.\n",
    "    '''\n",
    "    # Создадим пустой DataFrame, в который будем записывать результаты\n",
    "    result_df = pd.DataFrame()\n",
    "\n",
    "    # Сгруппируем исходный DataFrame по столбцу 'type'\n",
    "    grouped = for_features_df.groupby('type')\n",
    "\n",
    "    id_2_type = {0: 'clicks', 1: 'carts', 2: 'orders'}\n",
    "\n",
    "    # Пройдемся по каждой группе и выполним ранжирование aid по встречаемости\n",
    "    for name, group in tqdm(grouped):\n",
    "        # Считаем количество вхождений каждого aid в текущей группе и создадим временный DataFrame\n",
    "        aid_counts = group['aid'].value_counts().reset_index()\n",
    "        aid_counts.columns = ['aid', 'count']\n",
    "\n",
    "        # Добавим столбец с рангом, используя функцию rank()\n",
    "        aid_counts['rank'] = aid_counts['count'].rank(ascending=False,\n",
    "                                                      method='dense')\n",
    "        aid_counts.drop(columns=['count'], inplace=True)\n",
    "\n",
    "        # Присоединим результат к исходной группе и добавим в общий результатный DataFrame\n",
    "        merged_group = pd.merge(group, aid_counts, on='aid', how='left')\n",
    "\n",
    "        # Создадим имена для столбцов рангов на основе типа 'type'\n",
    "        rank_column_name = 'rank_' + id_2_type[name]\n",
    "        merged_group.rename(columns={'rank': rank_column_name}, inplace=True)\n",
    "\n",
    "        result_df = pd.concat([result_df, merged_group], ignore_index=True)\n",
    "\n",
    "        result_df.fillna(-1, inplace=True)\n",
    "        result_df.rank_clicks = result_df.rank_clicks.astype(np.int32)\n",
    "        result_df.rank_carts = result_df.rank_carts.astype(np.int32)\n",
    "        result_df.rank_orders = result_df.rank_orders.astype(np.int32)\n",
    "        result_df.reset_index(inplace=True, drop=True)\n",
    "\n",
    "    return result_df"
   ]
  },
  {
   "cell_type": "code",
   "execution_count": null,
   "id": "e772eecc",
   "metadata": {
    "id": "e772eecc"
   },
   "outputs": [],
   "source": [
    "def add_targets(dataframe_: pd.DataFrame, targets: pd.DataFrame,\n",
    "                targ_type: int) -> pd.DataFrame:\n",
    "    '''\n",
    "    Добавляет таргеты к датафрейму.\n",
    "\n",
    "    Parameters:\n",
    "    - dataframe_ (pd.DataFrame): Датафрейм, которому нужны таргеты.\n",
    "    - targets (pd.DataFrame): Датафрейм с таргетами всех типов.\n",
    "    - targ_type (int): Текущий тип таргета.\n",
    "\n",
    "    Returns:\n",
    "    - pd.DataFrame: Датафрейм с нужными таргетами.\n",
    "    '''\n",
    "    targets_ = targets.loc[targets['type'] == targ_type,\n",
    "                           ['session', 'aid', 'type']].rename(columns={\n",
    "                               'type': 'target'\n",
    "                           }).copy()\n",
    "    targets_['target'] = 1\n",
    "    targets_ = targets_.drop_duplicates()\n",
    "    merge_cols = [\"session\", \"aid\"]\n",
    "    dataframe = dataframe_.merge(targets_, on=merge_cols, how=\"left\")\n",
    "    dataframe = dataframe.fillna(0)\n",
    "    dataframe.target = dataframe.target.astype(np.uint8)\n",
    "\n",
    "    return dataframe"
   ]
  },
  {
   "cell_type": "code",
   "execution_count": null,
   "id": "50ff94f9",
   "metadata": {
    "id": "50ff94f9"
   },
   "outputs": [],
   "source": [
    "def w_pbar(pbar: tqdm, func: callable):\n",
    "    '''\n",
    "    Оборачивает функцию, обновляя tqdm прогресс бар.\n",
    "\n",
    "    Parameters:\n",
    "    - pbar (tqdm): Прогресс бар.\n",
    "    - func (callable): Функция.\n",
    "\n",
    "    Returns:\n",
    "    - callable: Обернутая функция.\n",
    "    '''\n",
    "    def foo(*args, **kwargs):\n",
    "        pbar.update(1)\n",
    "        return func(*args, **kwargs)\n",
    "\n",
    "    return foo"
   ]
  },
  {
   "cell_type": "markdown",
   "id": "e86f9999",
   "metadata": {
    "heading_collapsed": true,
    "id": "e86f9999"
   },
   "source": [
    "# import"
   ]
  },
  {
   "cell_type": "code",
   "execution_count": null,
   "id": "c2d83574",
   "metadata": {
    "hidden": true,
    "id": "c2d83574"
   },
   "outputs": [],
   "source": [
    "import os\n",
    "import sys\n",
    "from IPython import display\n",
    "from tqdm import tqdm\n",
    "import glob\n",
    "import pyarrow.parquet as pq\n",
    "import pickle\n",
    "import pandas as pd\n",
    "import gc\n",
    "import numpy as np\n",
    "import itertools\n",
    "from collections import Counter\n",
    "import random\n",
    "from itertools import product\n",
    "import xgboost as xgb\n",
    "from sklearn.model_selection import GroupKFold\n",
    "\n",
    "import polars as pl\n",
    "import shutil\n",
    "from datetime import datetime as dt\n",
    "from collections import defaultdict"
   ]
  },
  {
   "cell_type": "markdown",
   "id": "ba33ff27",
   "metadata": {
    "id": "ba33ff27"
   },
   "source": [
    "# Создание признаков train_candidates"
   ]
  },
  {
   "cell_type": "code",
   "execution_count": null,
   "id": "3cb8ab84",
   "metadata": {
    "id": "3cb8ab84"
   },
   "outputs": [],
   "source": [
    "tr_candidates_sessions = pd.read_parquet(\n",
    "    f'{main_path}/s/tr_candidates_sessions.parquet')\n",
    "tr_2_first_w = pd.read_parquet(f'{main_path}/s/tr_2_first_w.parquet')\n",
    "\n",
    "# Данные для item признаков\n",
    "for_features_df_items = pd.concat([tr_candidates_sessions, tr_2_first_w])\n",
    "for_features_df_items.sort_values(by='session', inplace=True)\n",
    "for_features_df_items['ts'] = pd.to_datetime(for_features_df_items['ts'],\n",
    "                                             unit='s')\n",
    "\n",
    "# Данные для session, session-item признаков\n",
    "for_features_df_sessions = tr_candidates_sessions\n",
    "for_features_df_sessions.sort_values(by='session', inplace=True)\n",
    "for_features_df_sessions['ts'] = pd.to_datetime(for_features_df_sessions['ts'],\n",
    "                                                unit='s')\n",
    "\n",
    "del tr_candidates_sessions, tr_2_first_w"
   ]
  },
  {
   "cell_type": "markdown",
   "id": "449de3e0",
   "metadata": {
    "id": "449de3e0"
   },
   "source": [
    "## Признаки товаров"
   ]
  },
  {
   "cell_type": "markdown",
   "id": "10999e75",
   "metadata": {
    "id": "10999e75"
   },
   "source": [
    "### База 6 признаков"
   ]
  },
  {
   "cell_type": "code",
   "execution_count": null,
   "id": "411c4ac2",
   "metadata": {
    "id": "411c4ac2"
   },
   "outputs": [],
   "source": [
    "tr_item_features = for_features_df_items.groupby('aid').agg({\n",
    "    'aid': 'count',\n",
    "    'session': 'nunique',\n",
    "    'type': 'mean'\n",
    "})\n",
    "tr_item_features.columns = [\n",
    "    'item_quantity_in_df', 'sessions_w_item', 'mean_item_type'\n",
    "]"
   ]
  },
  {
   "cell_type": "code",
   "execution_count": null,
   "id": "b27ad1fd",
   "metadata": {
    "id": "b27ad1fd"
   },
   "outputs": [],
   "source": [
    "tr_item_features.item_quantity_in_df = tr_item_features.item_quantity_in_df.astype(\n",
    "    np.int32)\n",
    "tr_item_features.sessions_w_item = tr_item_features.sessions_w_item.astype(\n",
    "    np.int32)\n",
    "tr_item_features.mean_item_type = tr_item_features.mean_item_type.astype(\n",
    "    np.float32)"
   ]
  },
  {
   "cell_type": "code",
   "execution_count": null,
   "id": "3a2ad744",
   "metadata": {
    "id": "3a2ad744"
   },
   "outputs": [],
   "source": [
    "tr_item_features.reset_index(inplace=True)\n",
    "tr_item_features.aid = tr_item_features.aid.astype(np.int32)"
   ]
  },
  {
   "cell_type": "code",
   "execution_count": null,
   "id": "9e035e9b",
   "metadata": {
    "id": "9e035e9b"
   },
   "outputs": [],
   "source": [
    "tr_item_features.to_parquet(f'{main_path}/tr/ver_folder/{item_features_name}')"
   ]
  },
  {
   "cell_type": "markdown",
   "id": "0b516b2f",
   "metadata": {
    "id": "0b516b2f"
   },
   "source": [
    "### Доп признаки"
   ]
  },
  {
   "cell_type": "code",
   "execution_count": null,
   "id": "0e59fa15",
   "metadata": {
    "id": "0e59fa15"
   },
   "outputs": [],
   "source": [
    "# Использую только 1/3 часть заранее выделенных сессий\n",
    "with open(f'{main_path}/tr/tgl_1div3_data_sessions.pickle', 'rb') as file:\n",
    "    sessions_ids = pickle.load(file)\n",
    "\n",
    "for_features_df_items = for_features_df_items[\n",
    "    for_features_df_items['session'].isin(sessions_ids)]"
   ]
  },
  {
   "cell_type": "code",
   "execution_count": null,
   "id": "e162f826",
   "metadata": {
    "id": "e162f826"
   },
   "outputs": [],
   "source": [
    "# Преобразую в polars DataFrame\n",
    "for_features_df = pl.DataFrame({\n",
    "    'session':\n",
    "    pl.Series(for_features_df_items['session']),\n",
    "    'aid':\n",
    "    pl.Series(for_features_df_items['aid']),\n",
    "    'type':\n",
    "    pl.Series(for_features_df_items['type']),\n",
    "    'ts':\n",
    "    pl.Series(for_features_df_items['ts'])\n",
    "})"
   ]
  },
  {
   "cell_type": "code",
   "execution_count": null,
   "id": "9608be8a",
   "metadata": {
    "id": "9608be8a",
    "scrolled": false
   },
   "outputs": [],
   "source": [
    "# Данные для теста\n",
    "x_testing = for_features_df.filter((pl.col(\"aid\") == 789245)\n",
    "                                   | (pl.col(\"aid\") == 461689))"
   ]
  },
  {
   "cell_type": "code",
   "execution_count": null,
   "id": "25e9e187",
   "metadata": {
    "id": "25e9e187"
   },
   "outputs": [],
   "source": [
    "def get_time_diff(group) -> dict:\n",
    "    '''\n",
    "    Вычисляет временные разницы между различными типами событий в группе.\n",
    "\n",
    "    Parameters:\n",
    "    - group (DataFrame): Группа данных.\n",
    "\n",
    "    Returns:\n",
    "    - dict: Словарь с временными разницами.\n",
    "    '''\n",
    "    # Получаем минимальные временные метки для каждого типа события\n",
    "    click_ts_min = group.filter(pl.col('type') == 0).select('ts').min().item()\n",
    "    cart_ts_min = group.filter(pl.col('type') == 1).select('ts').min().item()\n",
    "    ord_ts_min = group.filter(pl.col('type') == 2).select('ts').min().item()\n",
    "\n",
    "    # Вычисляем временные разницы и преобразуем их в секунды\n",
    "    if click_ts_min is not None and cart_ts_min is not None and \\\n",
    "            click_ts_min <= cart_ts_min:\n",
    "        click_to_cart_t = int((cart_ts_min - click_ts_min).total_seconds())\n",
    "    else:\n",
    "        click_to_cart_t = -1\n",
    "\n",
    "    if click_ts_min is not None and ord_ts_min is not None and \\\n",
    "            click_ts_min <= ord_ts_min:\n",
    "        click_to_ord_t = int((ord_ts_min - click_ts_min).total_seconds())\n",
    "    else:\n",
    "        click_to_ord_t = -1\n",
    "\n",
    "    # Возвращаем результат в виде словаря\n",
    "    return {\n",
    "        'aid': group['aid'][0],\n",
    "        'cl_to_crt_med_time': click_to_cart_t,\n",
    "        'cl_to_ord_med_time': click_to_ord_t\n",
    "    }"
   ]
  },
  {
   "cell_type": "code",
   "execution_count": null,
   "id": "89cdd5f0",
   "metadata": {
    "id": "89cdd5f0"
   },
   "outputs": [],
   "source": [
    "def most_active_time_(group) -> pl.DataFrame:\n",
    "    \"\"\"\n",
    "        Определяет активное время на основе столбца 'ts' в группе данных.\n",
    "\n",
    "        :params group: DataFrame с данными.\n",
    "        :return (pl.DataFrame): Значение времени.\n",
    "        \"\"\"\n",
    "    group = group.with_columns(pl.col('ts').dt.hour())\n",
    "\n",
    "    def get_daytime(ts_value):\n",
    "        if (ts_value >= 23) & (ts_value < 4):\n",
    "            return 0  #ночь\n",
    "        elif (ts_value >= 4) & (ts_value < 11):\n",
    "            return 1  #утро\n",
    "        elif (ts_value >= 11) & (ts_value < 15):\n",
    "            return 2  #день\n",
    "        else:\n",
    "            return 3  #вечер\n",
    "\n",
    "    most_active_t = group.with_columns(\n",
    "        pl.col('ts').apply(get_daytime).alias('daytime'))\n",
    "    most_active_t = most_active_t.with_columns(\n",
    "        pl.median('daytime').alias('most_active_time').cast(pl.Int8))\n",
    "\n",
    "    return most_active_t"
   ]
  },
  {
   "cell_type": "code",
   "execution_count": null,
   "id": "662f000b",
   "metadata": {
    "id": "662f000b"
   },
   "outputs": [],
   "source": [
    "def create_features(group: pl.DataFrame) -> pl.DataFrame:\n",
    "    \"\"\"\n",
    "    Создает признаки на основе различий во времени и активности пользователя\n",
    "    для заданной группы данных.\n",
    "\n",
    "    Параметры:\n",
    "    - group: pandas.DataFrame\n",
    "        Входной DataFrame, содержащий сессии пользователей и их взаимодействия.\n",
    "\n",
    "    Возвращает:\n",
    "    - pl.DataFrame\n",
    "        DataFrame с уникальными значениями aid, включая медианные времена перехода\n",
    "        от \"click\" к \"cart\" и от \"click\" к \"order\", а также самое активное время суток.\n",
    "    \"\"\"\n",
    "\n",
    "    # Вычисление медианных времен для перехода от \"click\" к \"cart\" для каждой сессии.\n",
    "    click_to_cart_times = (group.groupby('session').agg(\n",
    "        **get_time_diff(group)).median().select(\n",
    "            [pl.col('aid').cast(pl.Int32),\n",
    "             pl.col('cl_to_crt_med_time')]))\n",
    "\n",
    "    # Вычисление медианных времен для перехода от \"click\" к \"order\" для каждой сессии.\n",
    "    click_to_ord_times = (group.groupby('session').agg(\n",
    "        **get_time_diff(group)).median().select(\n",
    "            [pl.col('aid').cast(pl.Int32),\n",
    "             pl.col('cl_to_ord_med_time')]))\n",
    "\n",
    "    # Вычисление времени суток наибольшей активности для каждого aid.\n",
    "    most_active_time = most_active_time_(group) \\\n",
    "                        .select([pl.col('aid').cast(pl.Int32),\n",
    "                                 pl.col('most_active_time')])\n",
    "\n",
    "    # Создание DataFrame с уникальными aid, включающий медианные времена\n",
    "    # и время суток наибольшей активности.\n",
    "    return (\n",
    "        group.select('aid').unique().join(\n",
    "            click_to_cart_times, on='aid')  # Медианное время в секундах,\n",
    "        # спустя которое пользователи переходят от \"click\" к \"cart\"  для данного aid.\n",
    "        .join(click_to_ord_times, on='aid')  # Медианное время в секундах,\n",
    "        # спустя которое пользователи переходят от \"click\" к \"order\" для данного aid.\n",
    "        .join(most_active_time, on='aid')  # Время суток, в которые наиболее\n",
    "        # активно взаимодействуют с этим aid.\n",
    "        .unique())"
   ]
  },
  {
   "cell_type": "code",
   "execution_count": null,
   "id": "19a0528a",
   "metadata": {
    "id": "19a0528a",
    "outputId": "9877ab2d-9581-4c16-ffcd-5f31abad27ab",
    "scrolled": true
   },
   "outputs": [
    {
     "name": "stderr",
     "output_type": "stream",
     "text": [
      "100%|███████████████████████████████| 1636040/1636040 [25:42<00:00, 1060.98it/s]\n"
     ]
    }
   ],
   "source": [
    "# Получение датасета признаков dop_item_features\n",
    "num_groups = len(for_features_df[\"aid\"].unique().to_list())\n",
    "\n",
    "with tqdm(total=num_groups) as pbar:\n",
    "    dop_item_features = (for_features_df.groupby('aid').apply(\n",
    "        w_pbar(pbar, create_features)))"
   ]
  },
  {
   "cell_type": "code",
   "execution_count": null,
   "id": "c8a8ac1c",
   "metadata": {
    "id": "c8a8ac1c"
   },
   "outputs": [],
   "source": [
    "# Вычисление дополнительных признаков\n",
    "first_aids = for_features_df.groupby('session').apply(lambda x: x.filter(\n",
    "    pl.col('ts') == x.select('ts').min()).select(['session', 'aid']))\n",
    "print(1)\n",
    "\n",
    "last_aids = for_features_df.groupby('session').apply(lambda x: x.filter(\n",
    "    pl.col('ts') == x.select('ts').max()).select(['session', 'aid']))\n",
    "print(2)\n",
    "\n",
    "aid_posit_percents = (for_features_df.join(first_aids, on='session').rename({\n",
    "    'aid_right':\n",
    "    'first_aid'\n",
    "}).join(last_aids, on='session').rename({'aid_right': 'last_aid'}))\n",
    "print(3)\n",
    "aid_posit_percents = aid_posit_percents.drop(['ts', 'type']).unique()"
   ]
  },
  {
   "cell_type": "code",
   "execution_count": null,
   "id": "71927b1f",
   "metadata": {
    "id": "71927b1f"
   },
   "outputs": [],
   "source": [
    "def aid_percents(group: pl.DataFrame) -> pl.DataFrame:\n",
    "    \"\"\"\n",
    "    Рассчитывает процент сессий, в которых 'aid' является первым и последним aid.\n",
    "\n",
    "    Параметры:\n",
    "    - group (pl.DataFrame): Группа данных.\n",
    "\n",
    "    Возвращает:\n",
    "    - pl.DataFrame: DataFrame, содержащий 'aid', процент первого aid и процент последнего aid.\n",
    "    \"\"\"\n",
    "    # Рассчитываем процент сессий, в которых 'aid' является первым aid\n",
    "    first_aid_p = (\n",
    "        group.filter(pl.col('aid') == pl.col('first_aid')).select(pl.count()) /\n",
    "        group.select(pl.col('session').unique().count())).item()\n",
    "\n",
    "    # Рассчитываем процент сессий, в которых 'aid' является последним aid\n",
    "    last_aid_p = (\n",
    "        group.filter(pl.col('aid') == pl.col('last_aid')).select(pl.count()) /\n",
    "        group.select(pl.col('session').unique().count())).item()\n",
    "\n",
    "    # Создаем DataFrame с 'aid', процентом первого aid и процентом последнего aid\n",
    "    result_df = pl.DataFrame({\n",
    "        'aid': group['aid'][0],\n",
    "        'first_aid_percent': first_aid_p,\n",
    "        'last_aid_percent': last_aid_p\n",
    "    })\n",
    "\n",
    "    return result_df"
   ]
  },
  {
   "cell_type": "code",
   "execution_count": null,
   "id": "56d30339",
   "metadata": {
    "id": "56d30339",
    "outputId": "fdb91edb-eaf5-447a-affb-e576fb5585ab",
    "scrolled": true
   },
   "outputs": [
    {
     "name": "stdout",
     "output_type": "stream",
     "text": [
      "3\n"
     ]
    },
    {
     "name": "stderr",
     "output_type": "stream",
     "text": [
      "100%|███████████████████████████████| 1636040/1636040 [04:41<00:00, 5816.15it/s]\n"
     ]
    }
   ],
   "source": [
    "# Вычисление доп признаков 'first_aid_percent', 'last_aid_percent'\n",
    "num_groups = aid_posit_percents.get_column(\"aid\").unique().len()\n",
    "\n",
    "with tqdm(total=num_groups) as pbar:\n",
    "    aid_posit_percents = aid_posit_percents \\\n",
    "                        .groupby('aid') \\\n",
    "                        .apply(w_pbar(pbar,aid_percents))\n",
    "\n",
    "aid_posit_percents = aid_posit_percents.with_columns(\n",
    "    pl.col('aid').cast(pl.Int32))"
   ]
  },
  {
   "cell_type": "code",
   "execution_count": null,
   "id": "4ccf470c",
   "metadata": {
    "id": "4ccf470c",
    "scrolled": true
   },
   "outputs": [],
   "source": [
    "dop_item_features = dop_item_features.join(aid_posit_percents, on='aid')"
   ]
  },
  {
   "cell_type": "code",
   "execution_count": null,
   "id": "e829a258",
   "metadata": {
    "id": "e829a258"
   },
   "outputs": [],
   "source": [
    "dop_item_features.write_parquet(\n",
    "    file=f'{main_path}/tr/dop_item_features.parquet')"
   ]
  },
  {
   "cell_type": "code",
   "execution_count": null,
   "id": "b1840196",
   "metadata": {
    "id": "b1840196"
   },
   "outputs": [],
   "source": [
    "dop_item_features = pd.read_parquet(\n",
    "    f'{main_path}/tr/ver_6/dop_item_features.parquet')"
   ]
  },
  {
   "cell_type": "markdown",
   "id": "61b7684e",
   "metadata": {
    "id": "61b7684e"
   },
   "source": [
    "## Session features"
   ]
  },
  {
   "cell_type": "markdown",
   "id": "e07d5d07",
   "metadata": {
    "id": "e07d5d07"
   },
   "source": [
    "**База 6 признаков**"
   ]
  },
  {
   "cell_type": "code",
   "execution_count": null,
   "id": "9c32644d",
   "metadata": {
    "id": "9c32644d"
   },
   "outputs": [],
   "source": [
    "tr_user_features = for_features_df_sessions.groupby('session').agg({\n",
    "    'session':\n",
    "    'count',\n",
    "    'aid':\n",
    "    'nunique',\n",
    "    'type':\n",
    "    'mean'\n",
    "})\n",
    "tr_user_features.columns = [\n",
    "    'session_quantity_in_df', 'items_in_session', 'mean_session_type'\n",
    "]"
   ]
  },
  {
   "cell_type": "code",
   "execution_count": null,
   "id": "23bdc4b5",
   "metadata": {
    "id": "23bdc4b5"
   },
   "outputs": [],
   "source": [
    "tr_user_features.session_quantity_in_df = tr_user_features.session_quantity_in_df.astype(\n",
    "    np.int32)\n",
    "tr_user_features.items_in_session = tr_user_features.items_in_session.astype(\n",
    "    np.int32)\n",
    "tr_user_features.mean_session_type = tr_user_features.mean_session_type.astype(\n",
    "    np.float32)"
   ]
  },
  {
   "cell_type": "code",
   "execution_count": null,
   "id": "05ba6316",
   "metadata": {
    "id": "05ba6316"
   },
   "outputs": [],
   "source": [
    "tr_user_features.reset_index(inplace=True)"
   ]
  },
  {
   "cell_type": "code",
   "execution_count": null,
   "id": "d75e3044",
   "metadata": {
    "id": "d75e3044"
   },
   "outputs": [],
   "source": [
    "tr_user_features.session = tr_user_features.session.astype(np.int32)"
   ]
  },
  {
   "cell_type": "code",
   "execution_count": null,
   "id": "823acebe",
   "metadata": {
    "id": "823acebe"
   },
   "outputs": [],
   "source": [
    "tr_user_features.to_parquet(f'Data/tr/ver_folder/{user_features_name}')"
   ]
  },
  {
   "cell_type": "markdown",
   "id": "8f1d4127",
   "metadata": {
    "id": "8f1d4127"
   },
   "source": [
    "**Доп признаки**"
   ]
  },
  {
   "cell_type": "code",
   "execution_count": null,
   "id": "1b8a0772",
   "metadata": {
    "id": "1b8a0772"
   },
   "outputs": [],
   "source": [
    "with open(f'{main_path}/tr/tgl_1div3_data_sessions.pickle', 'rb') as file:\n",
    "    sessions_ids = pickle.load(file)"
   ]
  },
  {
   "cell_type": "code",
   "execution_count": null,
   "id": "7b300192",
   "metadata": {
    "id": "7b300192"
   },
   "outputs": [],
   "source": [
    "for_features_df_sessions = for_features_df_sessions[\n",
    "    for_features_df_sessions['session'].isin(sessions_ids)]"
   ]
  },
  {
   "cell_type": "code",
   "execution_count": null,
   "id": "0ac3095f",
   "metadata": {
    "id": "0ac3095f"
   },
   "outputs": [],
   "source": [
    "for_features_df = pl.DataFrame({\n",
    "    'session':\n",
    "    pl.Series(for_features_df_sessions['session']),\n",
    "    'aid':\n",
    "    pl.Series(for_features_df_sessions['aid']),\n",
    "    'type':\n",
    "    pl.Series(for_features_df_sessions['type']),\n",
    "    'ts':\n",
    "    pl.Series(for_features_df_sessions['ts'])\n",
    "})"
   ]
  },
  {
   "cell_type": "code",
   "execution_count": null,
   "id": "2f168ab9",
   "metadata": {
    "id": "2f168ab9"
   },
   "outputs": [],
   "source": [
    "x_testing = for_features_df.filter((pl.col(\"session\") == 0))"
   ]
  },
  {
   "cell_type": "code",
   "execution_count": null,
   "id": "24d84523",
   "metadata": {
    "id": "24d84523",
    "scrolled": true
   },
   "outputs": [],
   "source": [
    "def create_features(group: pl.DataFrame) -> pl.DataFrame:\n",
    "    \"\"\"\n",
    "    Создает признаки для группы данных.\n",
    "\n",
    "    Параметры:\n",
    "    - group (pl.DataFrame): Группа данных.\n",
    "\n",
    "    Возвращает:\n",
    "    - pl.DataFrame: DataFrame с новыми признаками.\n",
    "    \"\"\"\n",
    "    # Рассчитываем длительность сессии в минутах\n",
    "    session_len = round(\n",
    "        int((group['ts'].max() - group['ts'].min()).total_seconds() / 60), 3)\n",
    "    session = group['session'][0]\n",
    "\n",
    "    # Рассчитываем последний 'aid' для каждого типа события\n",
    "    last_aid_type_0 = get_last_aid(group, 0)\n",
    "    last_aid_type_1 = get_last_aid(group, 1)\n",
    "    last_aid_type_2 = get_last_aid(group, 2)\n",
    "\n",
    "    # Рассчитываем среднее время между событиями\n",
    "    mean_time_bw_aids = calculate_mean_time_bw_aids(group)\n",
    "\n",
    "    # Рассчитываем количество событий каждого типа в сессии\n",
    "    freq_per_cl, freq_per_crt, freq_per_ord = calculate_frequencies(group)\n",
    "\n",
    "    # Рассчитываем количество событий каждого типа в сессии\n",
    "    type_counts_cl, type_counts_crt, type_counts_ord = calculate_type_counts(\n",
    "        group)\n",
    "\n",
    "    # Рассчитываем отношение количества событий каждого типа к общему количеству событий в сессии\n",
    "    cl_ratio_ses, crt_ratio_ses, ord_ratio_ses = calculate_type_ratios(group)\n",
    "\n",
    "    # Рассчитываем долю уникальных 'aid' в сессии\n",
    "    duplic_rate = calculate_duplic_rate(group)\n",
    "\n",
    "    return pl.DataFrame({\n",
    "        'session': [session],\n",
    "        'session_len': [session_len],\n",
    "        'last_aid_type_0': [last_aid_type_0],\n",
    "        'last_aid_type_1': [last_aid_type_1],\n",
    "        'last_aid_type_2': [last_aid_type_2],\n",
    "        'mean_time_bw_aids': [mean_time_bw_aids],\n",
    "        'freq_per_clicks': [freq_per_cl],\n",
    "        'freq_per_carts': [freq_per_crt],\n",
    "        'freq_per_orders': [freq_per_ord],\n",
    "        'type_counts_clicks': [type_counts_cl],\n",
    "        'type_counts_carts': [type_counts_crt],\n",
    "        'type_counts_orders': [type_counts_ord],\n",
    "        'ratio_ses_clicks': [cl_ratio_ses],\n",
    "        'ratio_ses_carts': [crt_ratio_ses],\n",
    "        'ratio_ses_orders': [ord_ratio_ses],\n",
    "        'ses_aid_duplic_rate': [duplic_rate]\n",
    "    })"
   ]
  },
  {
   "cell_type": "code",
   "execution_count": null,
   "id": "c575d5bb",
   "metadata": {
    "id": "c575d5bb",
    "outputId": "0bedd6b7-ee18-4897-9630-eff3c82fa139"
   },
   "outputs": [
    {
     "name": "stderr",
     "output_type": "stream",
     "text": [
      "100%|███████████████████████████████| 1547581/1547581 [11:07<00:00, 2318.06it/s]\n"
     ]
    }
   ],
   "source": [
    "num_groups = for_features_df.get_column(\"session\").unique().len()\n",
    "\n",
    "with tqdm(total=num_groups) as pbar:\n",
    "    dop_user_features = (for_features_df.sort(\n",
    "        \"session\",\n",
    "        \"ts\").groupby(\"session\").apply(w_pbar(pbar, create_features)))"
   ]
  },
  {
   "cell_type": "code",
   "execution_count": null,
   "id": "4f37e18f",
   "metadata": {
    "id": "4f37e18f"
   },
   "outputs": [],
   "source": [
    "dop_user_features = dop_user_features.with_columns([\n",
    "    pl.col('session').cast(pl.Int32),\n",
    "    pl.col('session_len').cast(pl.Int32),\n",
    "    pl.col('last_aid_type_0').cast(pl.Int32),\n",
    "    pl.col('last_aid_type_1').cast(pl.Int32),\n",
    "    pl.col('last_aid_type_2').cast(pl.Int32),\n",
    "    pl.col('mean_time_bw_aids').cast(pl.Int32),\n",
    "    pl.col('freq_per_clicks').cast(pl.Float32),\n",
    "    pl.col('freq_per_carts').cast(pl.Float32),\n",
    "    pl.col('freq_per_orders').cast(pl.Float32),\n",
    "    pl.col('type_counts_clicks').cast(pl.Int16),\n",
    "    pl.col('type_counts_carts').cast(pl.Int16),\n",
    "    pl.col('type_counts_orders').cast(pl.Int16),\n",
    "    pl.col('ratio_ses_clicks').cast(pl.Float32),\n",
    "    pl.col('ratio_ses_carts').cast(pl.Float32),\n",
    "    pl.col('ratio_ses_orders').cast(pl.Float32)\n",
    "])"
   ]
  },
  {
   "cell_type": "code",
   "execution_count": null,
   "id": "2af77adc",
   "metadata": {
    "id": "2af77adc"
   },
   "outputs": [],
   "source": [
    "dop_user_features.write_parquet(\n",
    "    file=f'{main_path}/tr/ver_6/dop_user_features.parquet')"
   ]
  },
  {
   "cell_type": "markdown",
   "id": "050b35e4",
   "metadata": {
    "id": "050b35e4"
   },
   "source": [
    "## User-item features"
   ]
  },
  {
   "cell_type": "markdown",
   "id": "186d43c4",
   "metadata": {
    "id": "186d43c4"
   },
   "source": [
    "**Косинусное расстояние_1/3 часть**"
   ]
  },
  {
   "cell_type": "code",
   "execution_count": null,
   "id": "2ce320c0",
   "metadata": {
    "id": "2ce320c0"
   },
   "outputs": [],
   "source": [
    "from gensim.models import Word2Vec\n",
    "from sklearn.metrics.pairwise import cosine_similarity"
   ]
  },
  {
   "cell_type": "code",
   "execution_count": null,
   "id": "e57bd756",
   "metadata": {
    "id": "e57bd756"
   },
   "outputs": [],
   "source": [
    "with open(f'{main_path}/tr/tgl_1div3_data_sessions.pickle', 'rb') as file:\n",
    "    sessions_ids = pickle.load(file)"
   ]
  },
  {
   "cell_type": "code",
   "execution_count": null,
   "id": "74a73a63",
   "metadata": {
    "id": "74a73a63"
   },
   "outputs": [],
   "source": [
    "for_features_df_sessions = for_features_df_sessions[\n",
    "    for_features_df_sessions['session'].isin(sessions_ids)]"
   ]
  },
  {
   "cell_type": "code",
   "execution_count": null,
   "id": "c6e8cfbf",
   "metadata": {
    "id": "c6e8cfbf"
   },
   "outputs": [],
   "source": [
    "data_pl = pl.DataFrame({\n",
    "    'session':\n",
    "    pl.Series(for_features_df_sessions['session']),\n",
    "    'aid':\n",
    "    pl.Series(for_features_df_sessions['aid'])\n",
    "})"
   ]
  },
  {
   "cell_type": "code",
   "execution_count": null,
   "id": "0d0484d0",
   "metadata": {
    "id": "0d0484d0"
   },
   "outputs": [],
   "source": [
    "sentences_df = data_pl.groupby('session').agg(pl.col('aid').alias('sentence'))"
   ]
  },
  {
   "cell_type": "code",
   "execution_count": null,
   "id": "ffb69466",
   "metadata": {
    "id": "ffb69466",
    "outputId": "4736f461-280b-4c31-8f6c-c1f94e90aca6"
   },
   "outputs": [
    {
     "name": "stdout",
     "output_type": "stream",
     "text": [
      "CPU times: user 1.97 s, sys: 174 ms, total: 2.14 s\n",
      "Wall time: 2.13 s\n"
     ]
    }
   ],
   "source": [
    "%%time\n",
    "# Создание \"предложений\" для каждого пользователя\n",
    "sentences = sentences_df['sentence'].to_list()"
   ]
  },
  {
   "cell_type": "code",
   "execution_count": null,
   "id": "3856ebca",
   "metadata": {
    "id": "3856ebca",
    "outputId": "60d2cd4a-2c90-4d9e-ac21-c55fc661602c"
   },
   "outputs": [
    {
     "name": "stdout",
     "output_type": "stream",
     "text": [
      "CPU times: user 6min 33s, sys: 1.83 s, total: 6min 34s\n",
      "Wall time: 1min 50s\n"
     ]
    }
   ],
   "source": [
    "%%time\n",
    "# Обучение модели Word2Vec\n",
    "model = Word2Vec(sentences=sentences, vector_size=32, min_count=1, workers=4)"
   ]
  },
  {
   "cell_type": "code",
   "execution_count": null,
   "id": "2351bcec",
   "metadata": {
    "id": "2351bcec"
   },
   "outputs": [],
   "source": [
    "with open(f'{main_path}/tr/w2v_model_1div3_tgl_data.pickle', 'wb') as file:\n",
    "    pickle.dump(model, file)"
   ]
  },
  {
   "cell_type": "code",
   "execution_count": null,
   "id": "28c96695",
   "metadata": {
    "id": "28c96695"
   },
   "outputs": [],
   "source": [
    "with open(f'{main_path}/tr/w2v_model_1div3_tgl_data.pickle', 'rb') as file:\n",
    "    model = pickle.load(file)"
   ]
  },
  {
   "cell_type": "code",
   "execution_count": null,
   "id": "1f1ad0c8",
   "metadata": {
    "id": "1f1ad0c8",
    "outputId": "7c86a346-0df0-4d5d-f049-68a2d5a3919b"
   },
   "outputs": [
    {
     "name": "stderr",
     "output_type": "stream",
     "text": [
      "1547581it [00:58, 26638.96it/s]\n"
     ]
    }
   ],
   "source": [
    "# Вычисление векторных представлений для пользователей\n",
    "user_vectors = {}\n",
    "for row in tqdm(sentences_df.iter_rows()):\n",
    "\n",
    "    session = row[0]\n",
    "    history = row[1]\n",
    "    user_vector = np.mean(\n",
    "        [model.wv[item] for item in history if item in model.wv], axis=0)\n",
    "    user_vectors[session] = user_vector"
   ]
  },
  {
   "cell_type": "code",
   "execution_count": null,
   "id": "b1a9c42c",
   "metadata": {
    "id": "b1a9c42c",
    "outputId": "f2320ba1-da8c-431f-efb3-119ba59aa593"
   },
   "outputs": [
    {
     "name": "stderr",
     "output_type": "stream",
     "text": [
      "100%|██████████████████████████| 56422213/56422213 [1:00:25<00:00, 15563.15it/s]\n"
     ]
    }
   ],
   "source": [
    "def compute_cosine_similarity(session: str, aid: str) -> float:\n",
    "    \"\"\"\n",
    "    Вычисляет косинусное сходство между вектором пользователя и вектором товара.\n",
    "\n",
    "    :param session: Уникальный идентификатор сеанса пользователя.\n",
    "\n",
    "    :param aid: Уникальный идентификатор товара (item).\n",
    "\n",
    "    :return: Косинусное сходство между векторами пользователя и товара.\n",
    "    \"\"\"\n",
    "    # Получаем вектор пользователя из предварительно вычисленных векторов.\n",
    "    user_vector: np.ndarray = user_vectors[session]\n",
    "\n",
    "    # Получаем вектор товара из модели Word2Vec или используем нулевой вектор, если товар отсутствует в модели.\n",
    "    item_vector: np.ndarray = model.wv[aid] if aid in model.wv else np.zeros(model.vector_size)\n",
    "\n",
    "    # Вычисляем косинусное сходство между векторами пользователя и товара.\n",
    "    cosine_sim = cosine_similarity([user_vector], [item_vector])[0][0]\n",
    "\n",
    "    return cosine_sim\n",
    "\n",
    "\n",
    "num_groups = data_pl.get_column(\"session\").len()\n",
    "data_pl = data_pl.unique(subset=['session', 'aid'])\n",
    "\n",
    "with tqdm(total=num_groups) as pbar:\n",
    "\n",
    "    data_pl_f = data_pl.with_columns(\n",
    "        pl.struct(['session','aid']) \\\n",
    "          .apply(w_pbar(pbar, lambda x: compute_cosine_similarity(x['session'],\n",
    "                                                                  x['aid'])))\n",
    "          .alias('cosine_similarity')\n",
    "    )"
   ]
  },
  {
   "cell_type": "code",
   "execution_count": null,
   "id": "958008ec",
   "metadata": {
    "id": "958008ec"
   },
   "outputs": [],
   "source": [
    "data_pl_f.write_parquet(\n",
    "    file=f'{main_path}/tr/ver_6/user_item_features.parquet')"
   ]
  },
  {
   "cell_type": "markdown",
   "id": "jbNQVXb8hFmv",
   "metadata": {
    "id": "jbNQVXb8hFmv"
   },
   "source": [
    "# Создание признаков test_candidates"
   ]
  },
  {
   "cell_type": "code",
   "execution_count": null,
   "id": "RX83dImOAQEk",
   "metadata": {
    "id": "RX83dImOAQEk"
   },
   "outputs": [],
   "source": [
    "test_candidates_sessions = pd.read_parquet(\n",
    "    f'{main_path}/s/test_candidates_sessions.parquet')\n",
    "tr_3_first_w = pd.read_parquet(f'{main_path}/s/tr_3_first_w.parquet')\n",
    "\n",
    "# Данные для item признаков\n",
    "for_features_df_items = pd.concat([test_candidates_sessions, tr_3_first_w])\n",
    "for_features_df_items.sort_values(by='session', inplace=True)\n",
    "for_features_df_items['ts'] = pd.to_datetime(for_features_df_items['ts'],\n",
    "                                             unit='s')\n",
    "\n",
    "# Данные для session, session-item признаков\n",
    "for_features_df_sessions = test_candidates_sessions\n",
    "for_features_df_sessions.sort_values(by='session', inplace=True)\n",
    "for_features_df_sessions['ts'] = pd.to_datetime(for_features_df_sessions['ts'],\n",
    "                                                unit='s')\n",
    "\n",
    "del test_candidates_sessions, tr_3_first_w"
   ]
  },
  {
   "cell_type": "markdown",
   "id": "byWGAeb7-1st",
   "metadata": {
    "id": "byWGAeb7-1st"
   },
   "source": [
    "## Признаки товаров"
   ]
  },
  {
   "cell_type": "markdown",
   "id": "K1K1ouJ0_hO7",
   "metadata": {
    "id": "K1K1ouJ0_hO7"
   },
   "source": [
    "**База 6 признаков**"
   ]
  },
  {
   "cell_type": "code",
   "execution_count": null,
   "id": "oGTasqNr_Oxf",
   "metadata": {
    "id": "oGTasqNr_Oxf"
   },
   "outputs": [],
   "source": [
    "lv_item_features = for_features_df_items.groupby('aid').agg({\n",
    "    'aid': 'count',\n",
    "    'session': 'nunique',\n",
    "    'type': 'mean'\n",
    "})\n",
    "lv_item_features.columns = [\n",
    "    'item_quantity_in_df', 'sessions_w_item', 'mean_item_type'\n",
    "]"
   ]
  },
  {
   "cell_type": "code",
   "execution_count": null,
   "id": "E7OSNquB-4qr",
   "metadata": {
    "id": "E7OSNquB-4qr"
   },
   "outputs": [],
   "source": [
    "lv_item_features.item_quantity_in_df = lv_item_features.item_quantity_in_df.astype(\n",
    "    np.int32)\n",
    "lv_item_features.sessions_w_item = lv_item_features.sessions_w_item.astype(\n",
    "    np.int32)\n",
    "lv_item_features.mean_item_type = lv_item_features.mean_item_type.astype(\n",
    "    np.float32)"
   ]
  },
  {
   "cell_type": "code",
   "execution_count": null,
   "id": "vCfZXDvF_QZt",
   "metadata": {
    "id": "vCfZXDvF_QZt"
   },
   "outputs": [],
   "source": [
    "lv_item_features.reset_index(inplace=True)\n",
    "lv_item_features.aid = lv_item_features.aid.astype(np.int32)"
   ]
  },
  {
   "cell_type": "code",
   "execution_count": null,
   "id": "M8a0dp7h_Sw-",
   "metadata": {
    "id": "M8a0dp7h_Sw-"
   },
   "outputs": [],
   "source": [
    "lv_item_features.to_parquet(f'{main_path}/lv/{item_features_name}')lv_item_features"
   ]
  },
  {
   "cell_type": "markdown",
   "id": "rLjlg4F-mSLm",
   "metadata": {
    "id": "rLjlg4F-mSLm"
   },
   "source": [
    "**Доп признаки**"
   ]
  },
  {
   "cell_type": "code",
   "execution_count": null,
   "id": "lcR0GuthGA9P",
   "metadata": {
    "id": "lcR0GuthGA9P"
   },
   "outputs": [],
   "source": [
    "with open(f'{main_path}/lv/test_1div3_data_sessions.pickle', 'rb') as file:\n",
    "    sessions_ids = pickle.load(file)"
   ]
  },
  {
   "cell_type": "code",
   "execution_count": null,
   "id": "g_hgKiBhGA9S",
   "metadata": {
    "id": "g_hgKiBhGA9S"
   },
   "outputs": [],
   "source": [
    "for_features_df_items = for_features_df_items[\n",
    "    for_features_df_items['session'].isin(sessions_ids)]"
   ]
  },
  {
   "cell_type": "code",
   "execution_count": null,
   "id": "jNYkCCyO8ao0",
   "metadata": {
    "id": "jNYkCCyO8ao0"
   },
   "outputs": [],
   "source": [
    "for_features_df = pl.DataFrame({\n",
    "    'session': pl.Series(for_features_df_items['session']),\n",
    "    'aid': pl.Series(for_features_df_items['aid']),\n",
    "    'type': pl.Series(for_features_df_items['type']),\n",
    "    'ts': pl.Series(for_features_df_items['ts'])\n",
    "})"
   ]
  },
  {
   "cell_type": "code",
   "execution_count": null,
   "id": "JOYVZQRx8ao1",
   "metadata": {
    "id": "JOYVZQRx8ao1",
    "scrolled": false
   },
   "outputs": [],
   "source": [
    "x_testing = for_features_df.filter((pl.col(\"aid\") == 789245)\n",
    "                                   | (pl.col(\"aid\") == 461689))"
   ]
  },
  {
   "cell_type": "code",
   "execution_count": null,
   "id": "EgOyH7vm8ao1",
   "metadata": {
    "colab": {
     "base_uri": "https://localhost:8080/"
    },
    "executionInfo": {
     "elapsed": 2009204,
     "status": "ok",
     "timestamp": 1694603816008,
     "user": {
      "displayName": "Stas Krupnov",
      "userId": "12188064098878037970"
     },
     "user_tz": -420
    },
    "id": "EgOyH7vm8ao1",
    "outputId": "cb15f6a3-6e16-4dc3-e9f3-6a227a2134ec",
    "scrolled": true
   },
   "outputs": [
    {
     "name": "stderr",
     "output_type": "stream",
     "text": [
      "100%|██████████| 497611/497611 [33:28<00:00, 247.69it/s]\n"
     ]
    }
   ],
   "source": [
    "def create_features(group):\n",
    "    def get_time_diff(group):\n",
    "        click_ts_min = group.filter(\n",
    "            pl.col('type') == 0).select('ts').min().item()\n",
    "        cart_ts_min = group.filter(\n",
    "            pl.col('type') == 1).select('ts').min().item()\n",
    "        ord_ts_min = group.filter(\n",
    "            pl.col('type') == 2).select('ts').min().item()\n",
    "\n",
    "        if click_ts_min is not None and cart_ts_min is not None and \\\n",
    "        click_ts_min <= cart_ts_min:\n",
    "            click_to_cart_t = int((cart_ts_min - click_ts_min).total_seconds())\n",
    "        else:\n",
    "            click_to_cart_t = -1\n",
    "\n",
    "        if click_ts_min is not None and ord_ts_min is not None and \\\n",
    "        click_ts_min <= ord_ts_min:\n",
    "            click_to_ord_t = int((ord_ts_min - click_ts_min).total_seconds())\n",
    "        else:\n",
    "            click_to_ord_t = -1\n",
    "\n",
    "        return {\n",
    "            'aid': group['aid'][0],\n",
    "            'cl_to_crt_med_time': click_to_cart_t,\n",
    "            'cl_to_ord_med_time': click_to_ord_t\n",
    "        }\n",
    "\n",
    "    def most_active_time_(group):\n",
    "        \"\"\"\n",
    "        Определяет активное время на основе столбца 'ts' в группе данных.\n",
    "\n",
    "        :param group: DataFrame с данными.\n",
    "        :return: Значение времени.\n",
    "        \"\"\"\n",
    "        group = group.with_columns(pl.col('ts').dt.hour())\n",
    "\n",
    "        def get_daytime(ts_value):\n",
    "            if (ts_value >= 23) & (ts_value < 4):\n",
    "                return 0  #ночь\n",
    "            elif (ts_value >= 4) & (ts_value < 11):\n",
    "                return 1  #утро\n",
    "            elif (ts_value >= 11) & (ts_value < 15):\n",
    "                return 2  #день\n",
    "            else:\n",
    "                return 3  #вечер\n",
    "\n",
    "        most_active_t = group.with_columns(\n",
    "            pl.col('ts').apply(get_daytime).alias('daytime'))\n",
    "        most_active_t = most_active_t.with_columns(\n",
    "            pl.median('daytime').alias('most_active_time').cast(pl.Int8))\n",
    "\n",
    "        return most_active_t\n",
    "\n",
    "    click_to_cart_times = (group.groupby('session').agg(\n",
    "        **get_time_diff(group)).median().select(\n",
    "            [pl.col('aid').cast(pl.Int32),\n",
    "             pl.col('cl_to_crt_med_time')]))\n",
    "\n",
    "    click_to_ord_times = (group.groupby('session').agg(\n",
    "        **get_time_diff(group)).median().select(\n",
    "            [pl.col('aid').cast(pl.Int32),\n",
    "             pl.col('cl_to_ord_med_time')]))\n",
    "\n",
    "    most_active_time = most_active_time_(group) \\\n",
    "                        .select([pl.col('aid').cast(pl.Int32),\n",
    "                                 pl.col('most_active_time')])\n",
    "\n",
    "    return (\n",
    "        group.select('aid').unique().join(\n",
    "            click_to_cart_times, on='aid')  #Медианное время в секундах,\n",
    "        #спустя которое пользователи переходят от \"click\" к \"cart\"  для данного aid.\n",
    "        .join(click_to_ord_times, on='aid')  #Медианное время в секундах,\n",
    "        #спустя которое пользователи переходят от \"click\" к \"order\" для данного aid.\n",
    "        .join(most_active_time, on='aid')  #время суток, в которые наиболее\n",
    "        #активно взаимодействуют с этим aid.\n",
    "        .unique())\n",
    "\n",
    "\n",
    "num_groups = len(for_features_df[\"aid\"].unique().to_list())\n",
    "\n",
    "with tqdm(total=num_groups) as pbar:\n",
    "    dop_item_features = (for_features_df.groupby('aid').apply(\n",
    "        w_pbar(pbar, create_features)))"
   ]
  },
  {
   "cell_type": "code",
   "execution_count": null,
   "id": "BUv2rY_78ao2",
   "metadata": {
    "colab": {
     "base_uri": "https://localhost:8080/"
    },
    "executionInfo": {
     "elapsed": 1195377,
     "status": "ok",
     "timestamp": 1694605012321,
     "user": {
      "displayName": "Stas Krupnov",
      "userId": "12188064098878037970"
     },
     "user_tz": -420
    },
    "id": "BUv2rY_78ao2",
    "outputId": "10a5079e-917f-4eb0-e57d-36443000d139",
    "scrolled": true
   },
   "outputs": [
    {
     "name": "stdout",
     "output_type": "stream",
     "text": [
      "1\n",
      "2\n",
      "3\n"
     ]
    },
    {
     "name": "stderr",
     "output_type": "stream",
     "text": [
      "100%|██████████| 497611/497611 [09:49<00:00, 843.88it/s]\n"
     ]
    }
   ],
   "source": [
    "first_aids = for_features_df.groupby('session').apply(lambda x: x.filter(\n",
    "    pl.col('ts') == x.select('ts').min()).select(['session', 'aid']))\n",
    "print(1)\n",
    "\n",
    "last_aids = for_features_df.groupby('session').apply(lambda x: x.filter(\n",
    "    pl.col('ts') == x.select('ts').max()).select(['session', 'aid']))\n",
    "print(2)\n",
    "\n",
    "aid_posit_percents = (for_features_df.join(first_aids, on='session').rename({\n",
    "    'aid_right':\n",
    "    'first_aid'\n",
    "}).join(last_aids, on='session').rename({'aid_right': 'last_aid'}))\n",
    "print(3)\n",
    "aid_posit_percents = aid_posit_percents.drop(['ts', 'type']).unique()\n",
    "\n",
    "\n",
    "def aid_percents(group):\n",
    "    first_aid_p = ((\n",
    "        group.filter(pl.col('aid') == pl.col('first_aid')).select(pl.count()) /\n",
    "        group.select(pl.col('session').unique().count()))).item()\n",
    "\n",
    "    last_aid_p = (\n",
    "        (group.filter(pl.col('aid') == pl.col('last_aid')).select(pl.count()) /\n",
    "         group.select(pl.col('session').unique().count()))).item()\n",
    "\n",
    "    return pl.DataFrame({\n",
    "        'aid': group['aid'][0],\n",
    "        'first_aid_percent': first_aid_p,\n",
    "        'last_aid_percent': last_aid_p\n",
    "    })\n",
    "\n",
    "\n",
    "num_groups = aid_posit_percents.get_column(\"aid\").unique().len()\n",
    "\n",
    "with tqdm(total=num_groups) as pbar:\n",
    "    aid_posit_percents = aid_posit_percents \\\n",
    "                        .groupby('aid') \\\n",
    "                        .apply(w_pbar(pbar,aid_percents))\n",
    "\n",
    "aid_posit_percents = aid_posit_percents.with_columns(\n",
    "    pl.col('aid').cast(pl.Int32))"
   ]
  },
  {
   "cell_type": "code",
   "execution_count": null,
   "id": "9yvr2cxR8ao2",
   "metadata": {
    "id": "9yvr2cxR8ao2",
    "scrolled": true
   },
   "outputs": [],
   "source": [
    "dop_item_features = dop_item_features.join(aid_posit_percents, on = 'aid')"
   ]
  },
  {
   "cell_type": "code",
   "execution_count": null,
   "id": "_R5jit948ao2",
   "metadata": {
    "id": "_R5jit948ao2"
   },
   "outputs": [],
   "source": [
    "dop_item_features.write_parquet(\n",
    "    file=f'{main_path}/lv/ver_6/dop_item_features.parquet')"
   ]
  },
  {
   "cell_type": "markdown",
   "id": "NWg0qCiG-nuZ",
   "metadata": {
    "id": "NWg0qCiG-nuZ"
   },
   "source": [
    "## Признаки сессий"
   ]
  },
  {
   "cell_type": "markdown",
   "id": "rrpLjsP-_kqk",
   "metadata": {
    "id": "rrpLjsP-_kqk"
   },
   "source": [
    "**База 6 признаков**"
   ]
  },
  {
   "cell_type": "code",
   "execution_count": null,
   "id": "HzF2KG1D-lTO",
   "metadata": {
    "id": "HzF2KG1D-lTO"
   },
   "outputs": [],
   "source": [
    "lv_user_features = for_features_df_sessions.groupby('session').agg({\n",
    "    'session':\n",
    "    'count',\n",
    "    'aid':\n",
    "    'nunique',\n",
    "    'type':\n",
    "    'mean'\n",
    "})\n",
    "lv_user_features.columns = [\n",
    "    'session_quantity_in_df', 'items_in_session', 'mean_session_type'\n",
    "]"
   ]
  },
  {
   "cell_type": "code",
   "execution_count": null,
   "id": "9Fz2bKrl_VzS",
   "metadata": {
    "id": "9Fz2bKrl_VzS"
   },
   "outputs": [],
   "source": [
    "lv_user_features.session_quantity_in_df = lv_user_features.session_quantity_in_df.astype(\n",
    "    np.int32)\n",
    "lv_user_features.items_in_session = lv_user_features.items_in_session.astype(\n",
    "    np.int32)\n",
    "lv_user_features.mean_session_type = lv_user_features.mean_session_type.astype(\n",
    "    np.float32)"
   ]
  },
  {
   "cell_type": "code",
   "execution_count": null,
   "id": "BoXp9VSk_Xvt",
   "metadata": {
    "id": "BoXp9VSk_Xvt"
   },
   "outputs": [],
   "source": [
    "lv_user_features.reset_index(inplace = True)"
   ]
  },
  {
   "cell_type": "code",
   "execution_count": null,
   "id": "j8tBX3CE_ZcE",
   "metadata": {
    "id": "j8tBX3CE_ZcE"
   },
   "outputs": [],
   "source": [
    "lv_user_features.session = lv_user_features.session.astype(np.int32)"
   ]
  },
  {
   "cell_type": "code",
   "execution_count": null,
   "id": "SD3MJ3gw_bA7",
   "metadata": {
    "id": "SD3MJ3gw_bA7"
   },
   "outputs": [],
   "source": [
    "lv_user_features.to_parquet(f'{main_path}/lv/{user_features_name}')"
   ]
  },
  {
   "cell_type": "markdown",
   "id": "gaEJmJEMmBRz",
   "metadata": {
    "id": "gaEJmJEMmBRz"
   },
   "source": [
    "**Доп признаки**"
   ]
  },
  {
   "cell_type": "code",
   "execution_count": null,
   "id": "QM7E1A6mmDuo",
   "metadata": {
    "id": "QM7E1A6mmDuo"
   },
   "outputs": [],
   "source": [
    "with open(f'{main_path}/lv/test_1div3_data_sessions.pickle', 'rb') as file:\n",
    "    sessions_ids = pickle.load(file)"
   ]
  },
  {
   "cell_type": "code",
   "execution_count": null,
   "id": "8V0VQbKHmEiV",
   "metadata": {
    "id": "8V0VQbKHmEiV"
   },
   "outputs": [],
   "source": [
    "for_features_df_sessions = for_features_df_sessions[\n",
    "    for_features_df_sessions['session'].isin(sessions_ids)]"
   ]
  },
  {
   "cell_type": "code",
   "execution_count": null,
   "id": "JA-Z-l_5mGgc",
   "metadata": {
    "id": "JA-Z-l_5mGgc"
   },
   "outputs": [],
   "source": [
    "for_features_df = pl.DataFrame({\n",
    "    'session': pl.Series(for_features_df_sessions['session']),\n",
    "    'aid': pl.Series(for_features_df_sessions['aid']),\n",
    "    'type': pl.Series(for_features_df_sessions['type']),\n",
    "    'ts': pl.Series(for_features_df_sessions['ts'])\n",
    "})"
   ]
  },
  {
   "cell_type": "code",
   "execution_count": null,
   "id": "ufSukPnE8ao4",
   "metadata": {
    "id": "ufSukPnE8ao4"
   },
   "outputs": [],
   "source": [
    "x_testing = for_features_df.filter((pl.col(\"session\") == 11098528))"
   ]
  },
  {
   "cell_type": "code",
   "execution_count": null,
   "id": "W1eGy7Pn8ao4",
   "metadata": {
    "id": "W1eGy7Pn8ao4",
    "scrolled": true
   },
   "outputs": [],
   "source": [
    "def create_features(group):\n",
    "    session_len = round(\n",
    "        int((group['ts'].max() - group['ts'].min()).total_seconds() / 60), 3)\n",
    "    session = group['session'][0]\n",
    "\n",
    "    type_0_rows = group.filter(group['type'] == 0)\n",
    "    last_aid_type_0 = -1\n",
    "    if len(type_0_rows) > 0:\n",
    "        last_aid_type_0 = int(type_0_rows['aid'][-1])\n",
    "\n",
    "    type_1_rows = group.filter(group['type'] == 1)\n",
    "    last_aid_type_1 = -1\n",
    "    if len(type_1_rows) > 0:\n",
    "        last_aid_type_1 = int(type_1_rows['aid'][-1])\n",
    "\n",
    "    type_2_rows = group.filter(group['type'] == 2)\n",
    "    last_aid_type_2 = -1\n",
    "    if len(type_2_rows) > 0:\n",
    "        last_aid_type_2 = int(type_2_rows['aid'][-1])\n",
    "\n",
    "    mean_time_bw_aids = group.with_columns([\n",
    "                              (pl.col('ts') -\n",
    "                               pl.col('ts').shift(periods = 1))\n",
    "                               .dt.seconds()\n",
    "                               .alias('bw_time')\n",
    "                              ]).select('bw_time') \\\n",
    "                                .mean().item()\n",
    "    if mean_time_bw_aids == None:\n",
    "        mean_time_bw_aids = -1\n",
    "\n",
    "    mean_time_bw_aids = np.int32(mean_time_bw_aids)\n",
    "\n",
    "    session_len_sec = int(\n",
    "        (group['ts'].max() - group['ts'].min()).total_seconds())\n",
    "\n",
    "    if session_len_sec != 0:\n",
    "        freq_per_cl = group.filter(\n",
    "            group['type'] == 0)['aid'].len() / session_len_sec\n",
    "        freq_per_crt = group.filter(\n",
    "            group['type'] == 1)['aid'].len() / session_len_sec\n",
    "        freq_per_ord = group.filter(\n",
    "            group['type'] == 2)['aid'].len() / session_len_sec\n",
    "    else:\n",
    "        freq_per_cl = -1.0\n",
    "        freq_per_crt = -1.0\n",
    "        freq_per_ord = -1.0\n",
    "\n",
    "    type_counts_cl = group.filter(group['type'] == 0)['aid'].len()\n",
    "    type_counts_crt = group.filter(group['type'] == 1)['aid'].len()\n",
    "    type_counts_ord = group.filter(group['type'] == 2)['aid'].len()\n",
    "\n",
    "    cl_ratio_ses = round(\n",
    "        group.filter(group['type'] == 0)['aid'].len() / group['aid'].len(), 5)\n",
    "    crt_ratio_ses = round(\n",
    "        group.filter(group['type'] == 1)['aid'].len() / group['aid'].len(), 5)\n",
    "    ord_ratio_ses = round(\n",
    "        group.filter(group['type'] == 2)['aid'].len() / group['aid'].len(), 4)\n",
    "\n",
    "    duplic_rate = group.select(pl.col('aid').n_unique()).item() / group.select(\n",
    "        pl.count()).item()\n",
    "\n",
    "    schema = {\n",
    "        'session': pl.Int32,\n",
    "        'session_len': pl.Int32,\n",
    "        'last_aid_type_0': pl.Int32,\n",
    "        'last_aid_type_1': pl.Int32,\n",
    "        'last_aid_type_2': pl.Int32,\n",
    "        'mean_time_bw_aids': pl.Int32,\n",
    "        'freq_per_clicks': pl.Float32,\n",
    "        'freq_per_carts': pl.Float32,\n",
    "        'freq_per_orders': pl.Float32,\n",
    "        'type_counts_clicks': pl.Int16,\n",
    "        'type_counts_carts': pl.Int16,\n",
    "        'type_counts_orders': pl.Int16,\n",
    "        'ratio_ses_clicks': pl.Float32,\n",
    "        'ratio_ses_carts': pl.Float32,\n",
    "        'ratio_ses_orders': pl.Float32,\n",
    "        'ses_aid_duplic_rate': pl.Float32\n",
    "    }\n",
    "\n",
    "    return pl.DataFrame(\n",
    "        {\n",
    "            'session': [session],\n",
    "            'session_len': [session_len],\n",
    "            'last_aid_type_0': [last_aid_type_0],\n",
    "            'last_aid_type_1': [last_aid_type_1],\n",
    "            'last_aid_type_2': [last_aid_type_2],\n",
    "            'mean_time_bw_aids': [mean_time_bw_aids],\n",
    "            'freq_per_clicks': [freq_per_cl],\n",
    "            'freq_per_carts': [freq_per_crt],\n",
    "            'freq_per_orders': [freq_per_ord],\n",
    "            'type_counts_clicks': [type_counts_cl],\n",
    "            'type_counts_carts': [type_counts_crt],\n",
    "            'type_counts_orders': [type_counts_ord],\n",
    "            'ratio_ses_clicks': [cl_ratio_ses],\n",
    "            'ratio_ses_carts': [crt_ratio_ses],\n",
    "            'ratio_ses_orders': [ord_ratio_ses],\n",
    "            'ses_aid_duplic_rate': [duplic_rate]\n",
    "        },\n",
    "        schema=schema)"
   ]
  },
  {
   "cell_type": "code",
   "execution_count": null,
   "id": "iG4v9DEU8ao5",
   "metadata": {
    "colab": {
     "base_uri": "https://localhost:8080/"
    },
    "executionInfo": {
     "elapsed": 2055845,
     "status": "ok",
     "timestamp": 1694668086039,
     "user": {
      "displayName": "Stas Krupnov",
      "userId": "12188064098878037970"
     },
     "user_tz": -420
    },
    "id": "iG4v9DEU8ao5",
    "outputId": "5ab5315c-05ce-420c-ea2e-ea5960468408"
   },
   "outputs": [
    {
     "name": "stderr",
     "output_type": "stream",
     "text": [
      "100%|██████████| 600417/600417 [34:15<00:00, 292.11it/s]\n"
     ]
    }
   ],
   "source": [
    "num_groups = for_features_df.get_column(\"session\").unique().len()\n",
    "\n",
    "with tqdm(total=num_groups) as pbar:\n",
    "    dop_user_features = (\n",
    "        for_features_df\n",
    "        .sort(\"session\", \"ts\")\n",
    "        .groupby(\"session\")\n",
    "        .apply(w_pbar(pbar, create_features))\n",
    "    )"
   ]
  },
  {
   "cell_type": "code",
   "execution_count": null,
   "id": "wtQvUtAUeD4L",
   "metadata": {
    "colab": {
     "base_uri": "https://localhost:8080/",
     "height": 268
    },
    "executionInfo": {
     "elapsed": 17,
     "status": "ok",
     "timestamp": 1694668086764,
     "user": {
      "displayName": "Stas Krupnov",
      "userId": "12188064098878037970"
     },
     "user_tz": -420
    },
    "id": "wtQvUtAUeD4L",
    "outputId": "3678d7d9-ec3d-4ecf-94f8-287348921c43"
   },
   "outputs": [
    {
     "data": {
      "text/html": [
       "<div><style>\n",
       ".dataframe > thead > tr > th,\n",
       ".dataframe > tbody > tr > td {\n",
       "  text-align: right;\n",
       "}\n",
       "</style>\n",
       "<small>shape: (5, 16)</small><table border=\"1\" class=\"dataframe\"><thead><tr><th>session</th><th>session_len</th><th>last_aid_type_0</th><th>last_aid_type_1</th><th>last_aid_type_2</th><th>mean_time_bw_aids</th><th>freq_per_clicks</th><th>freq_per_carts</th><th>freq_per_orders</th><th>type_counts_clicks</th><th>type_counts_carts</th><th>type_counts_orders</th><th>ratio_ses_clicks</th><th>ratio_ses_carts</th><th>ratio_ses_orders</th><th>ses_aid_duplic_rate</th></tr><tr><td>i32</td><td>i32</td><td>i32</td><td>i32</td><td>i32</td><td>i32</td><td>f32</td><td>f32</td><td>f32</td><td>i16</td><td>i16</td><td>i16</td><td>f32</td><td>f32</td><td>f32</td><td>f32</td></tr></thead><tbody><tr><td>11098528</td><td>15</td><td>1199737</td><td>1199737</td><td>-1</td><td>75</td><td>0.013274</td><td>0.001106</td><td>0.0</td><td>12</td><td>1</td><td>0</td><td>0.92308</td><td>0.07692</td><td>0.0</td><td>0.615385</td></tr><tr><td>11098529</td><td>0</td><td>1105029</td><td>-1</td><td>-1</td><td>-1</td><td>-1.0</td><td>-1.0</td><td>-1.0</td><td>1</td><td>0</td><td>0</td><td>1.0</td><td>0.0</td><td>0.0</td><td>1.0</td></tr><tr><td>11098530</td><td>2</td><td>409236</td><td>-1</td><td>-1</td><td>84</td><td>0.017751</td><td>0.0</td><td>0.0</td><td>3</td><td>0</td><td>0</td><td>1.0</td><td>0.0</td><td>0.0</td><td>0.666667</td></tr><tr><td>11098531</td><td>2</td><td>1271998</td><td>-1</td><td>-1</td><td>15</td><td>0.070175</td><td>0.0</td><td>0.0</td><td>12</td><td>0</td><td>0</td><td>1.0</td><td>0.0</td><td>0.0</td><td>0.75</td></tr><tr><td>11098532</td><td>30</td><td>108125</td><td>-1</td><td>-1</td><td>265</td><td>0.004313</td><td>0.0</td><td>0.0</td><td>8</td><td>0</td><td>0</td><td>1.0</td><td>0.0</td><td>0.0</td><td>0.875</td></tr></tbody></table></div>"
      ],
      "text/plain": [
       "shape: (5, 16)\n",
       "┌──────────┬───────────┬────────────┬────────────┬───┬────────────┬────────────┬────────────┬────────────┐\n",
       "│ session  ┆ session_l ┆ last_aid_t ┆ last_aid_t ┆ … ┆ ratio_ses_ ┆ ratio_ses_ ┆ ratio_ses_ ┆ ses_aid_du │\n",
       "│ ---      ┆ en        ┆ ype_0      ┆ ype_1      ┆   ┆ clicks     ┆ carts      ┆ orders     ┆ plic_rate  │\n",
       "│ i32      ┆ ---       ┆ ---        ┆ ---        ┆   ┆ ---        ┆ ---        ┆ ---        ┆ ---        │\n",
       "│          ┆ i32       ┆ i32        ┆ i32        ┆   ┆ f32        ┆ f32        ┆ f32        ┆ f32        │\n",
       "╞══════════╪═══════════╪════════════╪════════════╪═══╪════════════╪════════════╪════════════╪════════════╡\n",
       "│ 11098528 ┆ 15        ┆ 1199737    ┆ 1199737    ┆ … ┆ 0.92308    ┆ 0.07692    ┆ 0.0        ┆ 0.615385   │\n",
       "│ 11098529 ┆ 0         ┆ 1105029    ┆ -1         ┆ … ┆ 1.0        ┆ 0.0        ┆ 0.0        ┆ 1.0        │\n",
       "│ 11098530 ┆ 2         ┆ 409236     ┆ -1         ┆ … ┆ 1.0        ┆ 0.0        ┆ 0.0        ┆ 0.666667   │\n",
       "│ 11098531 ┆ 2         ┆ 1271998    ┆ -1         ┆ … ┆ 1.0        ┆ 0.0        ┆ 0.0        ┆ 0.75       │\n",
       "│ 11098532 ┆ 30        ┆ 108125     ┆ -1         ┆ … ┆ 1.0        ┆ 0.0        ┆ 0.0        ┆ 0.875      │\n",
       "└──────────┴───────────┴────────────┴────────────┴───┴────────────┴────────────┴────────────┴────────────┘"
      ]
     },
     "execution_count": 56,
     "metadata": {},
     "output_type": "execute_result"
    }
   ],
   "source": [
    "dop_user_features.head()"
   ]
  },
  {
   "cell_type": "code",
   "execution_count": null,
   "id": "vYLOttuYmLnr",
   "metadata": {
    "id": "vYLOttuYmLnr"
   },
   "outputs": [],
   "source": [
    "dop_user_features.write_parquet(\n",
    "    file=f'{main_path}/lv/ver_6/dop_user_features.parquet')"
   ]
  },
  {
   "cell_type": "markdown",
   "id": "tvTnSgbv-xqB",
   "metadata": {
    "id": "tvTnSgbv-xqB"
   },
   "source": [
    "## признаки Сессии - товары"
   ]
  },
  {
   "cell_type": "markdown",
   "id": "a1b593b2",
   "metadata": {
    "id": "a1b593b2"
   },
   "source": [
    "Вычисляю признак - косинусное сходство сессии-товара"
   ]
  },
  {
   "cell_type": "code",
   "execution_count": null,
   "id": "i0epvHnGiclf",
   "metadata": {
    "id": "i0epvHnGiclf"
   },
   "outputs": [],
   "source": [
    "with open(f'{main_path}/lv/test_1div3_data_sessions.pickle', 'rb') as file:\n",
    "    sessions_ids = pickle.load(file)"
   ]
  },
  {
   "cell_type": "code",
   "execution_count": null,
   "id": "hnvcCddzifr8",
   "metadata": {
    "id": "hnvcCddzifr8"
   },
   "outputs": [],
   "source": [
    "for_features_df_sessions = for_features_df_sessions[\n",
    "    for_features_df_sessions['session'].isin(sessions_ids)]"
   ]
  },
  {
   "cell_type": "code",
   "execution_count": null,
   "id": "wIYl7_9VhHvV",
   "metadata": {
    "id": "wIYl7_9VhHvV"
   },
   "outputs": [],
   "source": [
    "from gensim.models import Word2Vec\n",
    "from sklearn.metrics.pairwise import cosine_similarity\n",
    "import polars as pl"
   ]
  },
  {
   "cell_type": "code",
   "execution_count": null,
   "id": "efm7yoAsiiVE",
   "metadata": {
    "id": "efm7yoAsiiVE"
   },
   "outputs": [],
   "source": [
    "data_pl = pl.DataFrame({\n",
    "    'session': pl.Series(for_features_df_sessions['session']),\n",
    "    'aid': pl.Series(for_features_df_sessions['aid'])\n",
    "})"
   ]
  },
  {
   "cell_type": "code",
   "execution_count": null,
   "id": "8rE482r9il8N",
   "metadata": {
    "id": "8rE482r9il8N"
   },
   "outputs": [],
   "source": [
    "sentences_df = data_pl.groupby('session').agg(pl.col('aid').alias('sentence'))"
   ]
  },
  {
   "cell_type": "code",
   "execution_count": null,
   "id": "ntpUGS54ioAZ",
   "metadata": {
    "colab": {
     "base_uri": "https://localhost:8080/"
    },
    "executionInfo": {
     "elapsed": 985,
     "status": "ok",
     "timestamp": 1692864279732,
     "user": {
      "displayName": "Stas Krupnov",
      "userId": "12188064098878037970"
     },
     "user_tz": -420
    },
    "id": "ntpUGS54ioAZ",
    "outputId": "188a5014-5691-4ab3-e15b-f3d72ec236a4"
   },
   "outputs": [
    {
     "name": "stdout",
     "output_type": "stream",
     "text": [
      "CPU times: user 554 ms, sys: 48 ms, total: 602 ms\n",
      "Wall time: 601 ms\n"
     ]
    }
   ],
   "source": [
    "%%time\n",
    "# Создание \"предложений\" для каждого пользователя\n",
    "sentences = sentences_df['sentence'].to_list()"
   ]
  },
  {
   "cell_type": "code",
   "execution_count": null,
   "id": "eO-Numo7ipqO",
   "metadata": {
    "colab": {
     "base_uri": "https://localhost:8080/"
    },
    "executionInfo": {
     "elapsed": 20717,
     "status": "ok",
     "timestamp": 1692864338028,
     "user": {
      "displayName": "Stas Krupnov",
      "userId": "12188064098878037970"
     },
     "user_tz": -420
    },
    "id": "eO-Numo7ipqO",
    "outputId": "580d6596-ffd6-45fe-aea3-51f5701a654b"
   },
   "outputs": [
    {
     "name": "stdout",
     "output_type": "stream",
     "text": [
      "CPU times: user 47.7 s, sys: 314 ms, total: 48 s\n",
      "Wall time: 20.3 s\n"
     ]
    }
   ],
   "source": [
    "%%time\n",
    "# Обучение модели Word2Vec\n",
    "model = Word2Vec(sentences=sentences, vector_size=32, min_count=1, workers=4)"
   ]
  },
  {
   "cell_type": "code",
   "execution_count": null,
   "id": "SY0MG29virbH",
   "metadata": {
    "id": "SY0MG29virbH"
   },
   "outputs": [],
   "source": [
    "with open(f'{main_path}/lv/w2v_model_1div3_test_data.pickle', 'wb') as file:\n",
    "    pickle.dump(model, file)"
   ]
  },
  {
   "cell_type": "code",
   "execution_count": null,
   "id": "fTsfzVmritM8",
   "metadata": {
    "id": "fTsfzVmritM8"
   },
   "outputs": [],
   "source": [
    "with open(f'{main_path}/lv/w2v_model_1div3_test_data.pickle', 'rb') as file:\n",
    "    model = pickle.load(file)"
   ]
  },
  {
   "cell_type": "code",
   "execution_count": null,
   "id": "RC24rWIOivvN",
   "metadata": {
    "colab": {
     "base_uri": "https://localhost:8080/"
    },
    "executionInfo": {
     "elapsed": 16195,
     "status": "ok",
     "timestamp": 1692864437441,
     "user": {
      "displayName": "Stas Krupnov",
      "userId": "12188064098878037970"
     },
     "user_tz": -420
    },
    "id": "RC24rWIOivvN",
    "outputId": "672e3b22-53f9-4f21-aca6-a3ec4954bcfb"
   },
   "outputs": [
    {
     "name": "stderr",
     "output_type": "stream",
     "text": [
      "600417it [00:16, 37517.45it/s]\n"
     ]
    }
   ],
   "source": [
    "# Вычисление векторных представлений для пользователей\n",
    "user_vectors = {}\n",
    "for row in tqdm(sentences_df.iter_rows()):\n",
    "\n",
    "    session = row[0]\n",
    "    history = row[1]\n",
    "    user_vector = np.mean(\n",
    "        [model.wv[item] for item in history if item in model.wv], axis=0)\n",
    "    user_vectors[session] = user_vector"
   ]
  },
  {
   "cell_type": "code",
   "execution_count": null,
   "id": "8c025c0d",
   "metadata": {
    "id": "8c025c0d"
   },
   "outputs": [],
   "source": [
    "def compute_cosine_similarity(session: str, aid: str) -> float:\n",
    "    \"\"\"\n",
    "    Рассчитывает косинусную схожесть между вектором пользователя и вектором товара.\n",
    "\n",
    "    Параметры:\n",
    "    - session (str): Идентификатор сессии пользователя.\n",
    "    - aid (str): Идентификатор товара.\n",
    "\n",
    "    Возвращает:\n",
    "    - float: Значение косинусной схожести.\n",
    "    \"\"\"\n",
    "    # Получаем вектор пользователя из предварительно вычисленных векторов\n",
    "    user_vector = user_vectors[session]\n",
    "\n",
    "    # Получаем вектор товара из модели Word2Vec (если товар отсутствует, используем нулевой вектор)\n",
    "    item_vector = model.wv[aid] if aid in model.wv else np.zeros(\n",
    "        model.vector_size)\n",
    "\n",
    "    # Рассчитываем косинусную схожесть между векторами пользователя и товара\n",
    "    cosine_sim = cosine_similarity([user_vector], [item_vector])[0][0]\n",
    "\n",
    "    return cosine_sim"
   ]
  },
  {
   "cell_type": "code",
   "execution_count": null,
   "id": "UwDfvRTHi3OF",
   "metadata": {
    "colab": {
     "base_uri": "https://localhost:8080/"
    },
    "executionInfo": {
     "elapsed": 718105,
     "status": "ok",
     "timestamp": 1692865292005,
     "user": {
      "displayName": "Stas Krupnov",
      "userId": "12188064098878037970"
     },
     "user_tz": -420
    },
    "id": "UwDfvRTHi3OF",
    "outputId": "d413963b-9441-431c-d80d-464e638c0b36"
   },
   "outputs": [
    {
     "name": "stderr",
     "output_type": "stream",
     "text": [
      "100%|██████████| 2607687/2607687 [11:58<00:00, 3631.51it/s]\n"
     ]
    }
   ],
   "source": [
    "num_groups = data_pl.get_column(\"session\").len()\n",
    "data_pl = data_pl.unique(subset=['session', 'aid'])\n",
    "\n",
    "with tqdm(total=num_groups) as pbar:\n",
    "\n",
    "    data_pl_f = data_pl.with_columns(\n",
    "        pl.struct(['session','aid']) \\\n",
    "          .apply(w_pbar(pbar, lambda x:\n",
    "                        compute_cosine_similarity(\n",
    "                            x['session'], x['aid']))).alias('cosine_similarity')\n",
    "    )"
   ]
  },
  {
   "cell_type": "code",
   "execution_count": null,
   "id": "LiQrr7oeqI4v",
   "metadata": {
    "id": "LiQrr7oeqI4v"
   },
   "outputs": [],
   "source": [
    "data_pl_f.to_parquet(f'{main_path}/lv/ver_6/user_item_features.parquet')"
   ]
  },
  {
   "cell_type": "markdown",
   "id": "b2d2134a",
   "metadata": {
    "id": "b2d2134a"
   },
   "source": [
    "# Ver_6"
   ]
  },
  {
   "cell_type": "code",
   "execution_count": null,
   "id": "ac48f1df",
   "metadata": {
    "id": "ac48f1df"
   },
   "outputs": [],
   "source": [
    "ver = '6'\n",
    "ver_folder = f'ver_{ver}'\n",
    "cand_n = 50"
   ]
  },
  {
   "cell_type": "code",
   "execution_count": null,
   "id": "8dc15148",
   "metadata": {
    "id": "8dc15148"
   },
   "outputs": [],
   "source": [
    "folder_path = f'{main_path}/tr/{ver_folder}'\n",
    "os.makedirs(folder_path, exist_ok=True)"
   ]
  },
  {
   "cell_type": "markdown",
   "id": "mh1v0dV5zC73",
   "metadata": {
    "id": "mh1v0dV5zC73"
   },
   "source": [
    "## train_candidates"
   ]
  },
  {
   "cell_type": "markdown",
   "id": "e6fa4f06",
   "metadata": {
    "id": "e6fa4f06"
   },
   "source": [
    "### создание общего списка tr_candidates"
   ]
  },
  {
   "cell_type": "code",
   "execution_count": null,
   "id": "54a788d8",
   "metadata": {
    "id": "54a788d8"
   },
   "outputs": [],
   "source": [
    "tr_candidates_sessions = pd.read_parquet(\n",
    "    f'{main_path}/s/tr_candidates_sessions.parquet')\n",
    "tr_2_first_w = pd.read_parquet(f'{main_path}/s/tr_2_first_w.parquet')"
   ]
  },
  {
   "cell_type": "code",
   "execution_count": null,
   "id": "629c367e",
   "metadata": {
    "id": "629c367e",
    "outputId": "2a566550-420f-46a8-c696-3c98378f3fde"
   },
   "outputs": [
    {
     "name": "stderr",
     "output_type": "stream",
     "text": [
      "100%|███████████████████████████████████████████| 20/20 [00:15<00:00,  1.29it/s]\n"
     ]
    }
   ],
   "source": [
    "# Обьединение матрицы ко-посещений из файлов\n",
    "covis_matrix = read_covis_to_dict(cov_ver='base', cov_type='b_tr', n=20)"
   ]
  },
  {
   "cell_type": "code",
   "execution_count": null,
   "id": "4fbbb102",
   "metadata": {
    "id": "4fbbb102"
   },
   "outputs": [],
   "source": [
    "# Датасет для добавления рекомендаций в трен.датасет\n",
    "top_pop_aids = pd.concat([tr_candidates_sessions, tr_2_first_w])\n",
    "top_pop_aids = set(top_pop_aids['aid'].value_counts().index[:cand_n].tolist())"
   ]
  },
  {
   "cell_type": "code",
   "execution_count": null,
   "id": "58c1044f",
   "metadata": {
    "id": "58c1044f",
    "outputId": "7cbe1e50-de8a-4eb0-b666-8c4b667b55a8"
   },
   "outputs": [
    {
     "name": "stdout",
     "output_type": "stream",
     "text": [
      "CPU times: user 30.5 s, sys: 1.98 s, total: 32.5 s\n",
      "Wall time: 32.7 s\n"
     ]
    }
   ],
   "source": [
    "%%time\n",
    "# Преобразование датафрейма в словарь\n",
    "tgl_dict = tr_candidates_sessions.sort_values(\n",
    "    [\"session\", \"ts\"]).groupby('session')['aid'].apply(list).to_dict()"
   ]
  },
  {
   "cell_type": "code",
   "execution_count": null,
   "id": "c8c92cc6",
   "metadata": {
    "id": "c8c92cc6"
   },
   "outputs": [],
   "source": [
    "del tr_candidates_sessions, tr_2_first_w"
   ]
  },
  {
   "cell_type": "code",
   "execution_count": null,
   "id": "2155eeb5",
   "metadata": {
    "id": "2155eeb5",
    "outputId": "22507738-05bb-48bb-cba4-09ee7301a13c",
    "scrolled": false
   },
   "outputs": [
    {
     "data": {
      "text/plain": [
       "1547581"
      ]
     },
     "execution_count": 13,
     "metadata": {},
     "output_type": "execute_result"
    }
   ],
   "source": [
    "len(tgl_dict)//3"
   ]
  },
  {
   "cell_type": "code",
   "execution_count": null,
   "id": "9fb4a46e",
   "metadata": {
    "id": "9fb4a46e"
   },
   "outputs": [],
   "source": [
    "# Если нужен слайс\n",
    "slicee_ = list(tgl_dict.items())[:1547581] # 1547581 - одна третья данных\n",
    "slicee = dict(slicee_)\n",
    "tgl_dict = slicee"
   ]
  },
  {
   "cell_type": "code",
   "execution_count": null,
   "id": "794a3060",
   "metadata": {
    "id": "794a3060",
    "outputId": "7cd7fcd8-8a48-4c3c-c944-a515d0246ebc",
    "scrolled": true
   },
   "outputs": [
    {
     "name": "stderr",
     "output_type": "stream",
     "text": [
      "100%|██████████████████████████████| 1547581/1547581 [02:30<00:00, 10316.93it/s]\n"
     ]
    },
    {
     "name": "stdout",
     "output_type": "stream",
     "text": [
      "Словарь с признаком-рангом по ковиз-матрице сохранен в : /Users/stanislavkrupnov/Jupyter_notebook/Pet_project/tr/ver_4.1/featuress.pickle\n"
     ]
    }
   ],
   "source": [
    "# Создание списка самих кандидатов для будушего трен.датасета\n",
    "# и будущего признака 'rank' -  словаря с рангом \n",
    "# (по ко-виз матрице) каждого кандидата внутри сессии\n",
    "labels = create_labels(n = cand_n,\n",
    "                      inp_dict = tgl_dict,\n",
    "                      covis = covis_matrix,\n",
    "                      top_pop_aids = top_pop_aids,\n",
    "                      cov_f = True)"
   ]
  },
  {
   "cell_type": "markdown",
   "id": "80c236b1",
   "metadata": {},
   "source": [
    "Создание словаря с признаком - рангом (по ко-виз матрице) каждого кандидата внутри сессии"
   ]
  },
  {
   "cell_type": "code",
   "execution_count": null,
   "id": "576b99b9",
   "metadata": {
    "id": "576b99b9",
    "outputId": "d478616a-0256-4cda-e062-659e74e0ac33",
    "scrolled": true
   },
   "outputs": [
    {
     "name": "stderr",
     "output_type": "stream",
     "text": [
      "100%|████████████████████████████| 1547581/1547581 [00:00<00:00, 7469448.20it/s]\n"
     ]
    }
   ],
   "source": [
    "sessions = []\n",
    "aid_lists = []\n",
    "\n",
    "for session, aids in tqdm(labels.items()):\n",
    "    sessions.append(session)\n",
    "    aid_lists.append(aids)"
   ]
  },
  {
   "cell_type": "code",
   "execution_count": null,
   "id": "b8d953a7",
   "metadata": {
    "id": "b8d953a7"
   },
   "outputs": [],
   "source": [
    "tr_candidates_ = pd.DataFrame({'session': sessions, 'labels': aid_lists})"
   ]
  },
  {
   "cell_type": "code",
   "execution_count": null,
   "id": "8b07cd58",
   "metadata": {
    "id": "8b07cd58"
   },
   "outputs": [],
   "source": [
    "tr_candidates_['session'] = tr_candidates_['session'].astype(np.int32)"
   ]
  },
  {
   "cell_type": "code",
   "execution_count": null,
   "id": "69e1932c",
   "metadata": {
    "id": "69e1932c",
    "outputId": "2b37d305-da3f-4980-f421-24f664682016",
    "scrolled": false
   },
   "outputs": [
    {
     "name": "stderr",
     "output_type": "stream",
     "text": [
      "\r",
      "part:   0%|                                               | 0/5 [00:00<?, ?it/s]"
     ]
    },
    {
     "name": "stdout",
     "output_type": "stream",
     "text": [
      "0 309516\n",
      "50\n"
     ]
    },
    {
     "name": "stderr",
     "output_type": "stream",
     "text": [
      "\r",
      "part:  20%|███████▊                               | 1/5 [00:01<00:07,  1.80s/it]"
     ]
    },
    {
     "name": "stdout",
     "output_type": "stream",
     "text": [
      "309516 619032\n",
      "0\n"
     ]
    },
    {
     "name": "stderr",
     "output_type": "stream",
     "text": [
      "\r",
      "part:  40%|███████████████▌                       | 2/5 [00:03<00:05,  1.71s/it]"
     ]
    },
    {
     "name": "stdout",
     "output_type": "stream",
     "text": [
      "619032 928548\n",
      "0\n"
     ]
    },
    {
     "name": "stderr",
     "output_type": "stream",
     "text": [
      "\r",
      "part:  60%|███████████████████████▍               | 3/5 [00:05<00:03,  1.68s/it]"
     ]
    },
    {
     "name": "stdout",
     "output_type": "stream",
     "text": [
      "928548 1238064\n",
      "0\n"
     ]
    },
    {
     "name": "stderr",
     "output_type": "stream",
     "text": [
      "\r",
      "part:  80%|███████████████████████████████▏       | 4/5 [00:06<00:01,  1.66s/it]"
     ]
    },
    {
     "name": "stdout",
     "output_type": "stream",
     "text": [
      "1238064 1547580\n",
      "0\n"
     ]
    },
    {
     "name": "stderr",
     "output_type": "stream",
     "text": [
      "part: 100%|███████████████████████████████████████| 5/5 [00:08<00:00,  1.68s/it]\n"
     ]
    }
   ],
   "source": [
    "# Сохранение списка самих кандидатов для будущего создания трен.датасета\n",
    "folder_path = f'{main_path}/tr/{ver_folder}/tr_candidates'\n",
    "os.makedirs(folder_path, exist_ok=True)\n",
    "\n",
    "partt = len(tr_candidates_)//5\n",
    "\n",
    "for batch in tqdm(range(5), desc = 'part'):\n",
    "\n",
    "    start = partt * batch\n",
    "    end = partt + start\n",
    "    print(start, end)\n",
    "\n",
    "    if batch == 4:\n",
    "        batch_ = tr_candidates_.loc[start:end]\n",
    "    else:\n",
    "        batch_ = tr_candidates_.loc[start:end-1]\n",
    "\n",
    "    batch_ = batch_.explode('labels')\n",
    "\n",
    "    batch_['labels'] = batch_['labels'].astype(np.int32)\n",
    "\n",
    "    print(batch_[batch_['session'] == 21404]['labels'].count())\n",
    "\n",
    "    batch_.to_parquet(f'{folder_path}/tr_candidates_{batch}.parquet')\n"
   ]
  },
  {
   "cell_type": "markdown",
   "id": "77d854e8",
   "metadata": {
    "id": "77d854e8"
   },
   "source": [
    "### Преобразование covis_features"
   ]
  },
  {
   "cell_type": "markdown",
   "id": "8c8afc13",
   "metadata": {
    "id": "8c8afc13"
   },
   "source": [
    "Преобразование pickle признака-ранга по матрице ко-посещений в parquet"
   ]
  },
  {
   "cell_type": "code",
   "execution_count": null,
   "id": "6703e9b0",
   "metadata": {
    "id": "6703e9b0",
    "scrolled": false
   },
   "outputs": [],
   "source": [
    "with open(f'{main_path}/tr/{ver_folder}/featuress.pickle', 'rb') as file:\n",
    "\n",
    "    featuress = pickle.load(file)\n",
    "\n",
    "features_df = (pd.DataFrame.from_dict([\n",
    "    (session_id, aid, rank) for session_id, items in featuress.items()\n",
    "    for aid, rank in items.items()\n",
    "]))\n",
    "\n",
    "features_df.columns = ['session', 'aid', 'rank']\n",
    "features_df['session'] = features_df['session'].astype(np.int32)\n",
    "features_df['aid'] = features_df['aid'].astype(np.int32)\n",
    "features_df['rank'] = features_df['rank'].astype(np.uint8)"
   ]
  },
  {
   "cell_type": "code",
   "execution_count": null,
   "id": "42ba1c1f",
   "metadata": {
    "id": "42ba1c1f",
    "outputId": "7cb2a65f-8710-4242-d23e-648d067497d6"
   },
   "outputs": [
    {
     "name": "stderr",
     "output_type": "stream",
     "text": [
      "part: 100%|███████████████████████████████████████| 5/5 [00:01<00:00,  2.70it/s]\n"
     ]
    }
   ],
   "source": [
    "folder_path = f'{main_path}/tr/{ver_folder}/covis_features'\n",
    "os.makedirs(folder_path, exist_ok=True)\n",
    "\n",
    "features_df.reset_index(drop=True, inplace=True)\n",
    "\n",
    "partt = len(features_df) // 5\n",
    "\n",
    "for batch in tqdm(range(5), desc='part'):\n",
    "\n",
    "    start = partt * batch\n",
    "    end = partt * (batch + 1)\n",
    "    batch_ = features_df.loc[start:end]\n",
    "\n",
    "    batch_.to_parquet(\n",
    "        f'{main_path}/tr/{ver_folder}/covis_features/covis_features_{batch}.parquet'\n",
    "    )"
   ]
  },
  {
   "cell_type": "markdown",
   "id": "5748591c",
   "metadata": {
    "id": "5748591c"
   },
   "source": [
    "### Создание признаков  популярности товара по типам"
   ]
  },
  {
   "cell_type": "code",
   "execution_count": null,
   "id": "a560b29a",
   "metadata": {
    "id": "a560b29a"
   },
   "outputs": [],
   "source": [
    "tr_candidates_sessions = pd.read_parquet(\n",
    "    f'{main_path}/s/tr_candidates_sessions.parquet')\n",
    "tr_2_first_w = pd.read_parquet(f'{main_path}/s/tr_2_first_w.parquet')\n",
    "feature_name = 'pop_features'"
   ]
  },
  {
   "cell_type": "code",
   "execution_count": null,
   "id": "b05fa7bb",
   "metadata": {
    "id": "b05fa7bb"
   },
   "outputs": [],
   "source": [
    "for_features_df = pd.concat([tr_candidates_sessions, tr_2_first_w])\n",
    "for_features_df = for_features_df.drop(columns = ['ts'])"
   ]
  },
  {
   "cell_type": "code",
   "execution_count": null,
   "id": "eb16cd6e",
   "metadata": {
    "id": "eb16cd6e",
    "outputId": "4f4873e7-1563-4aeb-d6ea-433e0a0c4600"
   },
   "outputs": [
    {
     "name": "stderr",
     "output_type": "stream",
     "text": [
      "100%|█████████████████████████████████████████████| 3/3 [00:05<00:00,  1.96s/it]\n"
     ]
    }
   ],
   "source": [
    "# Сгруппируем исходный DataFrame по столбцу 'type'\n",
    "grouped = for_features_df.groupby('type')\n",
    "\n",
    "id_2_type = {0: 'clicks', 1: 'carts', 2: 'orders'}\n",
    "\n",
    "# Пройдемся по каждой группе и выполним ранжирование aid по встречаемости\n",
    "for name, group in tqdm(grouped):\n",
    "    # Считаем количество вхождений каждого aid в текущей группе и создадим временный DataFrame\n",
    "    aid_counts = group['aid'].value_counts().reset_index()\n",
    "    aid_counts.columns = ['aid', 'count']\n",
    "\n",
    "    # Добавим столбец с рангом, используя функцию rank()\n",
    "    aid_counts['rank_pops'] = aid_counts['count'].rank(ascending=False,\n",
    "                                                       method='dense')\n",
    "    aid_counts.drop(columns=['count'], inplace=True)\n",
    "\n",
    "    # Присоединим результат к исходной группе и добавим в общий результатный DataFrame\n",
    "    group = group.drop(columns=['session', 'type']).drop_duplicates(\n",
    "        subset=['aid'])\n",
    "    merged_group = pd.merge(group, aid_counts, on='aid', how='left')\n",
    "    merged_group.fillna(-1, inplace=True)\n",
    "    merged_group['rank_pops'] = merged_group['rank_pops'].astype(np.int32)\n",
    "    merged_group.reset_index(inplace=True, drop=True)\n",
    "\n",
    "    merged_group.to_parquet(\n",
    "        f'{main_path}/tr/{ver_folder}/pop_features_{id_2_type[name]}.parquet')"
   ]
  },
  {
   "cell_type": "markdown",
   "id": "01da0bb9",
   "metadata": {
    "id": "01da0bb9"
   },
   "source": [
    "### Добавление признаков, таргетов к tr_candidates"
   ]
  },
  {
   "cell_type": "code",
   "execution_count": null,
   "id": "49269aad",
   "metadata": {
    "id": "49269aad"
   },
   "outputs": [],
   "source": [
    "# Загрузка необходимых признаков для формирования трен.датасета\n",
    "tr_item_features = pd.read_parquet(\n",
    "    f'{main_path}/tr/{ver_folder}/tr_item_features.parquet')\n",
    "tr_user_features = pd.read_parquet(\n",
    "    f'{main_path}/tr/{ver_folder}/tr_user_features.parquet')\n",
    "dop_user_features = pd.read_parquet(\n",
    "    f'{main_path}/tr/{ver_folder}/dop_user_features.parquet')\n",
    "dop_item_featues = pd.read_parquet(\n",
    "    f'{main_path}/tr/{ver_folder}/dop_item_features.parquet')\n",
    "user_item_features = pd.read_parquet(\n",
    "    f'{main_path}/tr/{ver_folder}/user_item_features.parquet')"
   ]
  },
  {
   "cell_type": "code",
   "execution_count": null,
   "id": "d1ece506",
   "metadata": {
    "id": "d1ece506"
   },
   "outputs": [],
   "source": [
    "targets = pd.read_parquet(f'{main_path}/s/targets.parquet')"
   ]
  },
  {
   "cell_type": "markdown",
   "id": "105823af",
   "metadata": {
    "id": "105823af"
   },
   "source": [
    "**Добавление признаков + таргетов**"
   ]
  },
  {
   "cell_type": "code",
   "execution_count": null,
   "id": "8e5c9dd3",
   "metadata": {
    "id": "8e5c9dd3"
   },
   "outputs": [],
   "source": [
    "# Список файлов Parquet\n",
    "file_list = glob.glob(f'{main_path}/tr/ver_4.1/tr_candidates/*')\n",
    "file_list_covis_f = glob.glob(f'{main_path}/tr/ver_4.1/covis_features/*')\n",
    "file_list_pops = glob.glob(f'{main_path}/tr/ver_4.1/pop_features_*.parquet')\n",
    "\n",
    "file_list.sort()\n",
    "file_list_covis_f.sort()\n",
    "file_list_pops.sort()"
   ]
  },
  {
   "cell_type": "code",
   "execution_count": null,
   "id": "9cedbe3b",
   "metadata": {
    "id": "9cedbe3b",
    "outputId": "6ac28a95-6a28-4bb5-9039-658993455690",
    "scrolled": true
   },
   "outputs": [
    {
     "name": "stderr",
     "output_type": "stream",
     "text": [
      "\r",
      "parts: 0it [00:00, ?it/s]"
     ]
    },
    {
     "name": "stdout",
     "output_type": "stream",
     "text": [
      "Done 1/3\n"
     ]
    },
    {
     "name": "stderr",
     "output_type": "stream",
     "text": [
      "\n",
      "0_types: 0it [00:00, ?it/s]\u001b[A"
     ]
    },
    {
     "name": "stdout",
     "output_type": "stream",
     "text": [
      "Done 2/5\n",
      "Done 3/5\n",
      "Done 4/5\n",
      "Done 5/5\n"
     ]
    },
    {
     "name": "stderr",
     "output_type": "stream",
     "text": [
      "\n",
      "0_types: 1it [00:15, 15.86s/it]\u001b[A"
     ]
    },
    {
     "name": "stdout",
     "output_type": "stream",
     "text": [
      "Done 2/5\n",
      "Done 3/5\n",
      "Done 4/5\n",
      "Done 5/5\n"
     ]
    },
    {
     "name": "stderr",
     "output_type": "stream",
     "text": [
      "\n",
      "0_types: 2it [00:40, 21.13s/it]\u001b[A"
     ]
    },
    {
     "name": "stdout",
     "output_type": "stream",
     "text": [
      "Done 2/5\n",
      "Done 3/5\n",
      "Done 4/5\n",
      "Done 5/5\n"
     ]
    },
    {
     "name": "stderr",
     "output_type": "stream",
     "text": [
      "\n",
      "0_types: 3it [01:01, 20.63s/it]\u001b[A\n",
      "parts: 1it [01:16, 76.86s/it]"
     ]
    },
    {
     "name": "stdout",
     "output_type": "stream",
     "text": [
      "Done 1/3\n"
     ]
    },
    {
     "name": "stderr",
     "output_type": "stream",
     "text": [
      "\n",
      "1_types: 0it [00:00, ?it/s]\u001b[A"
     ]
    },
    {
     "name": "stdout",
     "output_type": "stream",
     "text": [
      "Done 2/5\n",
      "Done 3/5\n",
      "Done 4/5\n",
      "Done 5/5\n"
     ]
    },
    {
     "name": "stderr",
     "output_type": "stream",
     "text": [
      "\n",
      "1_types: 1it [00:20, 20.35s/it]\u001b[A"
     ]
    },
    {
     "name": "stdout",
     "output_type": "stream",
     "text": [
      "Done 2/5\n",
      "Done 3/5\n",
      "Done 4/5\n",
      "Done 5/5\n"
     ]
    },
    {
     "name": "stderr",
     "output_type": "stream",
     "text": [
      "\n",
      "1_types: 2it [00:47, 24.08s/it]\u001b[A"
     ]
    },
    {
     "name": "stdout",
     "output_type": "stream",
     "text": [
      "Done 2/5\n",
      "Done 3/5\n",
      "Done 4/5\n",
      "Done 5/5\n"
     ]
    },
    {
     "name": "stderr",
     "output_type": "stream",
     "text": [
      "\n",
      "1_types: 3it [01:08, 22.79s/it]\u001b[A\n",
      "parts: 2it [02:45, 83.60s/it]"
     ]
    },
    {
     "name": "stdout",
     "output_type": "stream",
     "text": [
      "Done 1/3\n"
     ]
    },
    {
     "name": "stderr",
     "output_type": "stream",
     "text": [
      "\n",
      "2_types: 0it [00:00, ?it/s]\u001b[A"
     ]
    },
    {
     "name": "stdout",
     "output_type": "stream",
     "text": [
      "Done 2/5\n",
      "Done 3/5\n",
      "Done 4/5\n",
      "Done 5/5\n"
     ]
    },
    {
     "name": "stderr",
     "output_type": "stream",
     "text": [
      "\n",
      "2_types: 1it [00:21, 21.28s/it]\u001b[A"
     ]
    },
    {
     "name": "stdout",
     "output_type": "stream",
     "text": [
      "Done 2/5\n",
      "Done 3/5\n",
      "Done 4/5\n",
      "Done 5/5\n"
     ]
    },
    {
     "name": "stderr",
     "output_type": "stream",
     "text": [
      "\n",
      "2_types: 2it [00:50, 26.08s/it]\u001b[A"
     ]
    },
    {
     "name": "stdout",
     "output_type": "stream",
     "text": [
      "Done 2/5\n",
      "Done 3/5\n",
      "Done 4/5\n",
      "Done 5/5\n"
     ]
    },
    {
     "name": "stderr",
     "output_type": "stream",
     "text": [
      "\n",
      "2_types: 3it [01:11, 23.89s/it]\u001b[A\n",
      "parts: 3it [04:16, 86.95s/it]"
     ]
    },
    {
     "name": "stdout",
     "output_type": "stream",
     "text": [
      "Done 1/3\n"
     ]
    },
    {
     "name": "stderr",
     "output_type": "stream",
     "text": [
      "\n",
      "3_types: 0it [00:00, ?it/s]\u001b[A"
     ]
    },
    {
     "name": "stdout",
     "output_type": "stream",
     "text": [
      "Done 2/5\n",
      "Done 3/5\n",
      "Done 4/5\n",
      "Done 5/5\n"
     ]
    },
    {
     "name": "stderr",
     "output_type": "stream",
     "text": [
      "\n",
      "3_types: 1it [00:21, 21.87s/it]\u001b[A"
     ]
    },
    {
     "name": "stdout",
     "output_type": "stream",
     "text": [
      "Done 2/5\n",
      "Done 3/5\n",
      "Done 4/5\n",
      "Done 5/5\n"
     ]
    },
    {
     "name": "stderr",
     "output_type": "stream",
     "text": [
      "\n",
      "3_types: 2it [00:50, 25.62s/it]\u001b[A"
     ]
    },
    {
     "name": "stdout",
     "output_type": "stream",
     "text": [
      "Done 2/5\n",
      "Done 3/5\n",
      "Done 4/5\n",
      "Done 5/5\n"
     ]
    },
    {
     "name": "stderr",
     "output_type": "stream",
     "text": [
      "\n",
      "3_types: 3it [01:11, 23.85s/it]\u001b[A\n",
      "parts: 4it [05:47, 88.61s/it]"
     ]
    },
    {
     "name": "stdout",
     "output_type": "stream",
     "text": [
      "Done 1/3\n"
     ]
    },
    {
     "name": "stderr",
     "output_type": "stream",
     "text": [
      "\n",
      "4_types: 0it [00:00, ?it/s]\u001b[A"
     ]
    },
    {
     "name": "stdout",
     "output_type": "stream",
     "text": [
      "Done 2/5\n",
      "Done 3/5\n",
      "Done 4/5\n",
      "Done 5/5\n"
     ]
    },
    {
     "name": "stderr",
     "output_type": "stream",
     "text": [
      "\n",
      "4_types: 1it [00:22, 22.41s/it]\u001b[A"
     ]
    },
    {
     "name": "stdout",
     "output_type": "stream",
     "text": [
      "Done 2/5\n",
      "Done 3/5\n",
      "Done 4/5\n",
      "Done 5/5\n"
     ]
    },
    {
     "name": "stderr",
     "output_type": "stream",
     "text": [
      "\n",
      "4_types: 2it [00:51, 26.31s/it]\u001b[A"
     ]
    },
    {
     "name": "stdout",
     "output_type": "stream",
     "text": [
      "Done 2/5\n",
      "Done 3/5\n",
      "Done 4/5\n",
      "Done 5/5\n"
     ]
    },
    {
     "name": "stderr",
     "output_type": "stream",
     "text": [
      "\n",
      "4_types: 3it [01:14, 24.74s/it]\u001b[A\n",
      "parts: 5it [07:21, 88.27s/it]\n"
     ]
    }
   ],
   "source": [
    "# Цикл для чтения и объединения файлов\n",
    "for iter_numb, (file,\n",
    "                file_2) in tqdm(enumerate(zip(file_list, file_list_covis_f)),\n",
    "                                desc=f'parts'):\n",
    "\n",
    "    # Чтение файла Parquet во временный DataFrame\n",
    "    df_ = pd.read_parquet(file)\n",
    "\n",
    "    covis_f = pd.read_parquet(file_2)\n",
    "\n",
    "    df_ = df_.rename(columns={'labels': 'aid'})\n",
    "    # Базовые user, item features\n",
    "    df_ = df_.merge(tr_item_features, on=['aid'], how='left').fillna(-1)\n",
    "    df_ = df_.merge(tr_user_features, on=['session'], how='left').fillna(-1)\n",
    "    # User-item features\n",
    "    df_ = df_.merge(user_item_features, on=['session', 'aid'],\n",
    "                    how='left').fillna(-1)\n",
    "    # Доп. user features\n",
    "    df_ = df_.merge(dop_user_features[[\n",
    "        'session', 'session_len', 'mean_time_bw_aids', 'ses_aid_duplic_rate'\n",
    "    ]],\n",
    "                    on=['session'],\n",
    "                    how='left').fillna(-1)\n",
    "    df_ = df_.merge(covis_f, on=['session', 'aid'], how='left').fillna(-1)\n",
    "    #Доп. item features\n",
    "    df_ = df_.merge(dop_item_featues, on=['aid'], how='left').fillna(-1)\n",
    "    print('Done 1/3')\n",
    "\n",
    "    for (type_, file_path_, index) in tqdm(\n",
    "        (zip(['carts', 'clicks', 'orders'], file_list_pops, [1, 0, 2])),\n",
    "            desc=f'{iter_numb}_types'):\n",
    "\n",
    "        folder_path = f'{main_path}/tr/{ver_folder}/tr_candidates_{type_}'\n",
    "        os.makedirs(folder_path, exist_ok=True)\n",
    "\n",
    "        # Доп. item features - по type\n",
    "        columns_ = ['aid', 'rank_pops']\n",
    "        pop_features = pd.read_parquet(file_path_)\n",
    "        df_m = df_.merge(pop_features[columns_], on=['aid'],\n",
    "                         how='left').fillna(-1)\n",
    "        print('Done 2/5')\n",
    "        #Доп. user features - по type\n",
    "        df_m = df_m.merge(\n",
    "            dop_user_features[['session', f'last_aid_type_{index}']],\n",
    "            on=['session'],\n",
    "            how='left').fillna(-1)\n",
    "        print('Done 3/5')\n",
    "        columns_user_item = [\n",
    "            'session', f'freq_per_{type_}', f'ratio_ses_{type_}',\n",
    "            f'type_counts_{type_}'\n",
    "        ]\n",
    "        df_m = df_m.merge(dop_user_features[columns_user_item],\n",
    "                          on=['session'],\n",
    "                          how='left').fillna(-1)\n",
    "        print('Done 4/5')\n",
    "        #Добавление таргетов\n",
    "        df_m = add_targets(dataframe_=df_m, targets=targets, targ_type=index)\n",
    "\n",
    "        df_m['rank_pops'] = df_m['rank_pops'].astype(np.int32)\n",
    "        df_m['rank'] = df_m['rank'].astype(np.int32)\n",
    "        print('Done 5/5')\n",
    "\n",
    "        df_m.to_parquet(\n",
    "            f\"{main_path}/tr/{ver_folder}/tr_candidates_{type_}/tr_candidates_{type_}_{iter_numb}.parquet\"\n",
    "        )"
   ]
  },
  {
   "cell_type": "code",
   "execution_count": null,
   "id": "8526a2d4",
   "metadata": {
    "id": "8526a2d4",
    "outputId": "44232bae-df58-4449-ba25-fc4f7a7c6de5"
   },
   "outputs": [
    {
     "name": "stderr",
     "output_type": "stream",
     "text": [
      "100%|███████████████████████████████████████████| 5/5 [00:19<00:00,  3.91s/it]\n"
     ]
    }
   ],
   "source": [
    "# Список файлов Parquet\n",
    "file_list = glob.glob(f'{main_path}/tr/{ver_folder}/tr_candidates_clicks/*')\n",
    "\n",
    "# Создание пустого DataFrame для сбора данных\n",
    "df = pd.DataFrame()\n",
    "\n",
    "# Цикл для чтения и объединения файлов\n",
    "for file in tqdm(file_list):\n",
    "    # Чтение файла Parquet во временный DataFrame\n",
    "    df_ = pd.read_parquet(file)\n",
    "\n",
    "    # Объединение временного DataFrame с основным датасетом\n",
    "    df = pd.concat([df, df_], ignore_index=True)"
   ]
  },
  {
   "cell_type": "code",
   "execution_count": null,
   "id": "b1bcf351",
   "metadata": {
    "id": "b1bcf351",
    "outputId": "ea902381-fa60-4a17-f3d0-275724471606"
   },
   "outputs": [
    {
     "data": {
      "text/plain": [
       "True"
      ]
     },
     "execution_count": 14,
     "metadata": {},
     "output_type": "execute_result"
    }
   ],
   "source": [
    "# Проверка на группы\n",
    "len(df) / 50 == df.session.nunique()"
   ]
  },
  {
   "cell_type": "markdown",
   "id": "KY-UIXy7zbqI",
   "metadata": {
    "id": "KY-UIXy7zbqI"
   },
   "source": [
    "## test_candidates"
   ]
  },
  {
   "cell_type": "markdown",
   "id": "Ehr-32HUBWHk",
   "metadata": {
    "id": "Ehr-32HUBWHk"
   },
   "source": [
    "### Создание списка test_candidates CPU ONLY"
   ]
  },
  {
   "cell_type": "code",
   "execution_count": null,
   "id": "7jquDEcrBWHm",
   "metadata": {
    "id": "7jquDEcrBWHm"
   },
   "outputs": [],
   "source": [
    "ver = 5\n",
    "ver_folder = f'ver_{ver}'\n",
    "cand_n = 50"
   ]
  },
  {
   "cell_type": "code",
   "execution_count": null,
   "id": "93CyBXv2BWHo",
   "metadata": {
    "id": "93CyBXv2BWHo"
   },
   "outputs": [],
   "source": [
    "test_candidates_sessions = pd.read_parquet(\n",
    "    f'{main_path}/s/test_candidates_sessions.parquet')\n",
    "tr_3_first_w = pd.read_parquet(f'{main_path}/s/tr_3_first_w.parquet')"
   ]
  },
  {
   "cell_type": "code",
   "execution_count": null,
   "id": "vyQCZ3ihBWHo",
   "metadata": {
    "id": "vyQCZ3ihBWHo"
   },
   "outputs": [],
   "source": [
    "covis_matrix = read_covis_to_dict(cov_ver = 'base',\n",
    "                                  cov_type = 'lv',\n",
    "                                  n = 80)"
   ]
  },
  {
   "cell_type": "code",
   "execution_count": null,
   "id": "GOxykiuVBWHo",
   "metadata": {
    "id": "GOxykiuVBWHo"
   },
   "outputs": [],
   "source": [
    "top_pop_aids = pd.concat([tr_3_first_w, test_candidates_sessions])\n",
    "top_pop_aids = set(top_pop_aids['aid'].value_counts().index[:cand_n].tolist())"
   ]
  },
  {
   "cell_type": "code",
   "execution_count": null,
   "id": "CFrLPX1tBWHo",
   "metadata": {
    "id": "CFrLPX1tBWHo"
   },
   "outputs": [],
   "source": [
    "# Преобразование датафрейма в словарь\n",
    "test_dict = test_candidates_sessions.sort_values(\n",
    "    [\"session\", \"ts\"]).groupby('session')['aid'].apply(list).to_dict()"
   ]
  },
  {
   "cell_type": "code",
   "execution_count": null,
   "id": "1CswmOmoBWHp",
   "metadata": {
    "id": "1CswmOmoBWHp"
   },
   "outputs": [],
   "source": [
    "sizee = len(test_dict) // 3"
   ]
  },
  {
   "cell_type": "code",
   "execution_count": null,
   "id": "-EMAhtVOBWHp",
   "metadata": {
    "id": "-EMAhtVOBWHp"
   },
   "outputs": [],
   "source": [
    "# Если нужен слайс\n",
    "slicee_ = list(test_dict.items())[:sizee] # sizee - одна третья данных\n",
    "slicee = dict(slicee_)\n",
    "test_dict = slicee"
   ]
  },
  {
   "cell_type": "code",
   "execution_count": null,
   "id": "0JhGwsxdBWHp",
   "metadata": {
    "colab": {
     "base_uri": "https://localhost:8080/"
    },
    "executionInfo": {
     "elapsed": 114428,
     "status": "ok",
     "timestamp": 1692693526490,
     "user": {
      "displayName": "Stas Krupnov",
      "userId": "12188064098878037970"
     },
     "user_tz": -420
    },
    "id": "0JhGwsxdBWHp",
    "outputId": "5e966e3e-1cd8-464b-d84a-6546abb0cda7"
   },
   "outputs": [
    {
     "name": "stderr",
     "output_type": "stream",
     "text": [
      "100%|██████████| 600417/600417 [01:49<00:00, 5475.62it/s]\n"
     ]
    },
    {
     "name": "stdout",
     "output_type": "stream",
     "text": [
      "Словарь с признаком-рангом по ковиз-матрице сохранен в : /content/drive/Othercomputers/Mac/Pet_project/lv/ver_4.1/featuress.pickle\n"
     ]
    }
   ],
   "source": [
    "# Создание списка самих кандидатов для будушего тест.датасета\n",
    "# и будущего признака 'rank' -  словаря с рангом \n",
    "# (по ко-виз матрице) каждого кандидата внутри сессии\n",
    "labels = create_labels(n = cand_n,\n",
    "                      inp_dict = test_dict,\n",
    "                      covis = covis_matrix,\n",
    "                      top_pop_aids = top_pop_aids,\n",
    "                      cov_f = True)"
   ]
  },
  {
   "cell_type": "code",
   "execution_count": null,
   "id": "_yMm14oSBWHq",
   "metadata": {
    "colab": {
     "base_uri": "https://localhost:8080/"
    },
    "executionInfo": {
     "elapsed": 24,
     "status": "ok",
     "timestamp": 1692693526491,
     "user": {
      "displayName": "Stas Krupnov",
      "userId": "12188064098878037970"
     },
     "user_tz": -420
    },
    "id": "_yMm14oSBWHq",
    "outputId": "5ddbaf70-32af-4b16-9840-b3c021fb8ed3"
   },
   "outputs": [
    {
     "name": "stderr",
     "output_type": "stream",
     "text": [
      "100%|██████████| 600417/600417 [00:00<00:00, 2148625.95it/s]\n"
     ]
    }
   ],
   "source": [
    "sessions = []\n",
    "aid_lists = []\n",
    "\n",
    "for session, aids in tqdm(labels.items()):\n",
    "    sessions.append(session)\n",
    "    aid_lists.append(aids)"
   ]
  },
  {
   "cell_type": "code",
   "execution_count": null,
   "id": "TTjvOzK4BWHr",
   "metadata": {
    "id": "TTjvOzK4BWHr"
   },
   "outputs": [],
   "source": [
    "test_candidates_ = pd.DataFrame({'session': sessions, 'labels': aid_lists})\n",
    "test_candidates_['session'] = test_candidates_['session'].astype(np.int32)"
   ]
  },
  {
   "cell_type": "code",
   "execution_count": null,
   "id": "KyR5tzoUBWHr",
   "metadata": {
    "colab": {
     "base_uri": "https://localhost:8080/"
    },
    "executionInfo": {
     "elapsed": 8035,
     "status": "ok",
     "timestamp": 1692693534511,
     "user": {
      "displayName": "Stas Krupnov",
      "userId": "12188064098878037970"
     },
     "user_tz": -420
    },
    "id": "KyR5tzoUBWHr",
    "outputId": "f4943d44-b7f4-45cc-f857-0b6f02d77135"
   },
   "outputs": [
    {
     "name": "stderr",
     "output_type": "stream",
     "text": [
      "\r",
      "part:   0%|          | 0/5 [00:00<?, ?it/s]"
     ]
    },
    {
     "name": "stdout",
     "output_type": "stream",
     "text": [
      "0 120083\n"
     ]
    },
    {
     "name": "stderr",
     "output_type": "stream",
     "text": [
      "\r",
      "part:  20%|██        | 1/5 [00:01<00:06,  1.64s/it]"
     ]
    },
    {
     "name": "stdout",
     "output_type": "stream",
     "text": [
      "120083 240166\n"
     ]
    },
    {
     "name": "stderr",
     "output_type": "stream",
     "text": [
      "\r",
      "part:  40%|████      | 2/5 [00:03<00:04,  1.64s/it]"
     ]
    },
    {
     "name": "stdout",
     "output_type": "stream",
     "text": [
      "240166 360249\n"
     ]
    },
    {
     "name": "stderr",
     "output_type": "stream",
     "text": [
      "\r",
      "part:  60%|██████    | 3/5 [00:04<00:03,  1.62s/it]"
     ]
    },
    {
     "name": "stdout",
     "output_type": "stream",
     "text": [
      "360249 480332\n"
     ]
    },
    {
     "name": "stderr",
     "output_type": "stream",
     "text": [
      "\r",
      "part:  80%|████████  | 4/5 [00:06<00:01,  1.63s/it]"
     ]
    },
    {
     "name": "stdout",
     "output_type": "stream",
     "text": [
      "480332 600415\n"
     ]
    },
    {
     "name": "stderr",
     "output_type": "stream",
     "text": [
      "part: 100%|██████████| 5/5 [00:08<00:00,  1.66s/it]\n"
     ]
    }
   ],
   "source": [
    "# Сохранение списка самих кандидатов для будущего создания тест.датасета\n",
    "folder_path = f'{main_path}/lv/{ver_folder}/test_candidates'\n",
    "os.makedirs(folder_path, exist_ok=True)\n",
    "\n",
    "partt = len(test_candidates_)//5\n",
    "\n",
    "for batch in tqdm(range(5), desc = 'part'):\n",
    "\n",
    "    start = partt * batch\n",
    "    end = partt + start\n",
    "    print(start, end)\n",
    "\n",
    "    if batch == 4:\n",
    "        batch_ = test_candidates_.loc[start:end]\n",
    "    else:\n",
    "        batch_ = test_candidates_.loc[start:end-1]\n",
    "\n",
    "    batch_ = batch_.explode('labels')\n",
    "\n",
    "    batch_['labels'] = batch_['labels'].astype(np.int32)\n",
    "\n",
    "    batch_.to_parquet(f'{folder_path}/test_candidates_{batch}.parquet')\n"
   ]
  },
  {
   "cell_type": "code",
   "execution_count": null,
   "id": "VkiRyFd_BWHs",
   "metadata": {
    "id": "VkiRyFd_BWHs"
   },
   "outputs": [],
   "source": [
    "del test_candidates_"
   ]
  },
  {
   "cell_type": "markdown",
   "id": "GW3KG3DABWHs",
   "metadata": {
    "id": "GW3KG3DABWHs"
   },
   "source": [
    "### Преобразование covis - features"
   ]
  },
  {
   "cell_type": "markdown",
   "id": "d1d09041",
   "metadata": {},
   "source": [
    "Преобразую словарь с признаков 'rank' по матрице со-посещений в parquet"
   ]
  },
  {
   "cell_type": "code",
   "execution_count": null,
   "id": "50ZV3gUGBWHs",
   "metadata": {
    "id": "50ZV3gUGBWHs"
   },
   "outputs": [],
   "source": [
    "with open(f'{main_path}/lv/{ver_folder}/featuress.pickle', 'rb') as file:\n",
    "\n",
    "    featuress = pickle.load(file)\n",
    "\n",
    "features_df = (pd.DataFrame.from_dict([(session_id, aid, rank)\n",
    "                                for session_id, items in featuress.items()\n",
    "                                for aid, rank in items.items()]))"
   ]
  },
  {
   "cell_type": "code",
   "execution_count": null,
   "id": "cvIGDIXdBWHs",
   "metadata": {
    "id": "cvIGDIXdBWHs"
   },
   "outputs": [],
   "source": [
    "features_df.columns = ['session','aid','rank']\n",
    "features_df['session'] = features_df['session'].astype(np.int32)\n",
    "features_df['aid'] = features_df['aid'].astype(np.int32)\n",
    "features_df['rank'] = features_df['rank'].astype(np.uint8)"
   ]
  },
  {
   "cell_type": "code",
   "execution_count": null,
   "id": "YJgkuv3cBWHs",
   "metadata": {
    "colab": {
     "base_uri": "https://localhost:8080/"
    },
    "executionInfo": {
     "elapsed": 2333,
     "status": "ok",
     "timestamp": 1692693727750,
     "user": {
      "displayName": "Stas Krupnov",
      "userId": "12188064098878037970"
     },
     "user_tz": -420
    },
    "id": "YJgkuv3cBWHs",
    "outputId": "9e318d7e-d53d-42c8-be2c-f6f309c0bd37"
   },
   "outputs": [
    {
     "name": "stderr",
     "output_type": "stream",
     "text": [
      "part: 100%|██████████| 5/5 [00:01<00:00,  2.63it/s]\n"
     ]
    }
   ],
   "source": [
    "folder_path = f'{main_path}/lv/{ver_folder}/covis_features'\n",
    "os.makedirs(folder_path, exist_ok=True)\n",
    "\n",
    "features_df.reset_index(drop=True, inplace=True)\n",
    "\n",
    "partt = len(features_df) // 5\n",
    "\n",
    "for batch in tqdm(range(5), desc='part'):\n",
    "\n",
    "    start = partt * batch\n",
    "    end = partt * (batch + 1)\n",
    "    batch_ = features_df.loc[start:end]\n",
    "\n",
    "    batch_.to_parquet(\n",
    "        f'{main_path}/lv/{ver_folder}/covis_features/covis_features_{batch}.parquet'\n",
    "    )"
   ]
  },
  {
   "cell_type": "markdown",
   "id": "0eC6OoBMBWHt",
   "metadata": {
    "id": "0eC6OoBMBWHt"
   },
   "source": [
    "### Создание признаков  популярности товара по типам"
   ]
  },
  {
   "cell_type": "code",
   "execution_count": null,
   "id": "R1Uqj6blBWHt",
   "metadata": {
    "id": "R1Uqj6blBWHt"
   },
   "outputs": [],
   "source": [
    "test_candidates_sessions = pd.read_parquet(\n",
    "    f'{main_path}/s/test_candidates_sessions.parquet')\n",
    "tr_3_first_w = pd.read_parquet(f'{main_path}/s/tr_3_first_w.parquet')\n",
    "feature_name = 'pop_features'"
   ]
  },
  {
   "cell_type": "code",
   "execution_count": null,
   "id": "70C3xOUZBWHt",
   "metadata": {
    "id": "70C3xOUZBWHt"
   },
   "outputs": [],
   "source": [
    "for_features_df = pd.concat([test_candidates_sessions, tr_3_first_w])\n",
    "for_features_df = for_features_df.drop(columns = ['ts'])"
   ]
  },
  {
   "cell_type": "code",
   "execution_count": null,
   "id": "ITrlBG-aBWHt",
   "metadata": {
    "colab": {
     "base_uri": "https://localhost:8080/"
    },
    "executionInfo": {
     "elapsed": 36649,
     "status": "ok",
     "timestamp": 1692693822559,
     "user": {
      "displayName": "Stas Krupnov",
      "userId": "12188064098878037970"
     },
     "user_tz": -420
    },
    "id": "ITrlBG-aBWHt",
    "outputId": "7d2d0198-af56-4a33-c8ac-8a5c7b7625bf"
   },
   "outputs": [
    {
     "name": "stderr",
     "output_type": "stream",
     "text": [
      "100%|██████████| 3/3 [00:28<00:00,  9.34s/it]\n"
     ]
    }
   ],
   "source": [
    "# Сгруппируем исходный DataFrame по столбцу 'type'\n",
    "grouped = for_features_df.groupby('type')\n",
    "\n",
    "id_2_type = {0: 'clicks', 1: 'carts', 2: 'orders'}\n",
    "\n",
    "# Пройдемся по каждой группе и выполним ранжирование aid по встречаемости\n",
    "for name, group in tqdm(grouped):\n",
    "    # Считаем количество вхождений каждого aid в текущей группе и создадим временный DataFrame\n",
    "    aid_counts = group['aid'].value_counts().reset_index()\n",
    "    aid_counts.columns = ['aid', 'count']\n",
    "\n",
    "    # Добавим столбец с рангом, используя функцию rank()\n",
    "    aid_counts['rank_pops'] = aid_counts['count'].rank(ascending=False,\n",
    "                                                       method='dense')\n",
    "    aid_counts.drop(columns=['count'], inplace=True)\n",
    "\n",
    "    # Присоединим результат к исходной группе и добавим в общий результатный DataFrame\n",
    "    group = group.drop(columns=['session', 'type']).drop_duplicates(\n",
    "        subset=['aid'])\n",
    "    merged_group = pd.merge(group, aid_counts, on='aid', how='left')\n",
    "    merged_group.fillna(-1, inplace=True)\n",
    "    merged_group['rank_pops'] = merged_group['rank_pops'].astype(np.int32)\n",
    "    merged_group.reset_index(inplace=True, drop=True)\n",
    "\n",
    "    merged_group.to_parquet(\n",
    "        f'{main_path}/lv/{ver_folder}/pop_features_{id_2_type[name]}.parquet')"
   ]
  },
  {
   "cell_type": "markdown",
   "id": "Guf6b-SCBWHt",
   "metadata": {
    "id": "Guf6b-SCBWHt"
   },
   "source": [
    "### Добавление признаков к test_candidates"
   ]
  },
  {
   "cell_type": "markdown",
   "id": "i9JPdqL3BWHt",
   "metadata": {
    "id": "i9JPdqL3BWHt"
   },
   "source": [
    "Кандидаты и признаки кроме новых - из версии 4.1"
   ]
  },
  {
   "cell_type": "code",
   "execution_count": null,
   "id": "AT9Z418nBWHu",
   "metadata": {
    "id": "AT9Z418nBWHu"
   },
   "outputs": [],
   "source": [
    "tr_item_features = pd.read_parquet(\n",
    "    f'{main_path}/lv/{ver_folder}/lv_item_features.parquet')\n",
    "tr_user_features = pd.read_parquet(\n",
    "    f'{main_path}/lv/{ver_folder}/lv_user_features.parquet')\n",
    "dop_user_features = pd.read_parquet(\n",
    "    f'{main_path}/lv/{ver_folder}/dop_user_features.parquet')\n",
    "dop_item_featues = pd.read_parquet(\n",
    "    f'{main_path}/lv/{ver_folder}/dop_item_features.parquet')\n",
    "user_item_features = pd.read_parquet(\n",
    "    f'{main_path}/lv/{ver_folder}/user_item_features.parquet')"
   ]
  },
  {
   "cell_type": "code",
   "execution_count": null,
   "id": "fsQt9Og9J3cV",
   "metadata": {
    "id": "fsQt9Og9J3cV"
   },
   "outputs": [],
   "source": [
    "# Список файлов Parquet\n",
    "file_list = glob.glob(f'{main_path}/lv/ver_4.1/test_candidates/*')\n",
    "file_list_covis_f = glob.glob(f'{main_path}/lv/ver_4.1/covis_features/*')\n",
    "file_list_pops = glob.glob(f'{main_path}/lv/ver_4.1/pop_features_*.parquet')\n",
    "\n",
    "file_list.sort()\n",
    "file_list_covis_f.sort()\n",
    "file_list_pops.sort()"
   ]
  },
  {
   "cell_type": "code",
   "execution_count": null,
   "id": "qIXdgMSIJ6qk",
   "metadata": {
    "colab": {
     "base_uri": "https://localhost:8080/"
    },
    "executionInfo": {
     "elapsed": 324912,
     "status": "ok",
     "timestamp": 1694686233115,
     "user": {
      "displayName": "Stas Krupnov",
      "userId": "12188064098878037970"
     },
     "user_tz": -420
    },
    "id": "qIXdgMSIJ6qk",
    "outputId": "455a7c1f-e500-4c74-e5a1-3392909b2808"
   },
   "outputs": [
    {
     "name": "stderr",
     "output_type": "stream",
     "text": [
      "\r",
      "parts: 0it [00:00, ?it/s]"
     ]
    },
    {
     "name": "stdout",
     "output_type": "stream",
     "text": [
      "Done 1/3\n"
     ]
    },
    {
     "name": "stderr",
     "output_type": "stream",
     "text": [
      "\n",
      "0_types: 0it [00:00, ?it/s]\u001b[A"
     ]
    },
    {
     "name": "stdout",
     "output_type": "stream",
     "text": [
      "Done 2/5\n",
      "Done 3/5\n",
      "Done 4/5\n"
     ]
    },
    {
     "name": "stderr",
     "output_type": "stream",
     "text": [
      "\n",
      "0_types: 1it [00:13, 13.32s/it]\u001b[A"
     ]
    },
    {
     "name": "stdout",
     "output_type": "stream",
     "text": [
      "Done 2/5\n",
      "Done 3/5\n",
      "Done 4/5\n"
     ]
    },
    {
     "name": "stderr",
     "output_type": "stream",
     "text": [
      "\n",
      "0_types: 2it [00:28, 14.34s/it]\u001b[A"
     ]
    },
    {
     "name": "stdout",
     "output_type": "stream",
     "text": [
      "Done 2/5\n",
      "Done 3/5\n",
      "Done 4/5\n"
     ]
    },
    {
     "name": "stderr",
     "output_type": "stream",
     "text": [
      "\n",
      "0_types: 3it [00:42, 14.20s/it]\n",
      "parts: 1it [01:05, 65.35s/it]"
     ]
    },
    {
     "name": "stdout",
     "output_type": "stream",
     "text": [
      "Done 1/3\n"
     ]
    },
    {
     "name": "stderr",
     "output_type": "stream",
     "text": [
      "\n",
      "1_types: 0it [00:00, ?it/s]\u001b[A"
     ]
    },
    {
     "name": "stdout",
     "output_type": "stream",
     "text": [
      "Done 2/5\n",
      "Done 3/5\n",
      "Done 4/5\n"
     ]
    },
    {
     "name": "stderr",
     "output_type": "stream",
     "text": [
      "\n",
      "1_types: 1it [00:12, 12.63s/it]\u001b[A"
     ]
    },
    {
     "name": "stdout",
     "output_type": "stream",
     "text": [
      "Done 2/5\n",
      "Done 3/5\n",
      "Done 4/5\n"
     ]
    },
    {
     "name": "stderr",
     "output_type": "stream",
     "text": [
      "\n",
      "1_types: 2it [00:25, 12.99s/it]\u001b[A"
     ]
    },
    {
     "name": "stdout",
     "output_type": "stream",
     "text": [
      "Done 2/5\n",
      "Done 3/5\n",
      "Done 4/5\n"
     ]
    },
    {
     "name": "stderr",
     "output_type": "stream",
     "text": [
      "\n",
      "1_types: 3it [00:38, 12.91s/it]\n",
      "parts: 2it [02:10, 65.07s/it]"
     ]
    },
    {
     "name": "stdout",
     "output_type": "stream",
     "text": [
      "Done 1/3\n"
     ]
    },
    {
     "name": "stderr",
     "output_type": "stream",
     "text": [
      "\n",
      "2_types: 0it [00:00, ?it/s]\u001b[A"
     ]
    },
    {
     "name": "stdout",
     "output_type": "stream",
     "text": [
      "Done 2/5\n",
      "Done 3/5\n",
      "Done 4/5\n"
     ]
    },
    {
     "name": "stderr",
     "output_type": "stream",
     "text": [
      "\n",
      "2_types: 1it [00:12, 12.78s/it]\u001b[A"
     ]
    },
    {
     "name": "stdout",
     "output_type": "stream",
     "text": [
      "Done 2/5\n",
      "Done 3/5\n",
      "Done 4/5\n"
     ]
    },
    {
     "name": "stderr",
     "output_type": "stream",
     "text": [
      "\n",
      "2_types: 2it [00:26, 13.08s/it]\u001b[A"
     ]
    },
    {
     "name": "stdout",
     "output_type": "stream",
     "text": [
      "Done 2/5\n",
      "Done 3/5\n",
      "Done 4/5\n"
     ]
    },
    {
     "name": "stderr",
     "output_type": "stream",
     "text": [
      "\n",
      "2_types: 3it [00:38, 12.99s/it]\n",
      "parts: 3it [03:16, 65.58s/it]"
     ]
    },
    {
     "name": "stdout",
     "output_type": "stream",
     "text": [
      "Done 1/3\n"
     ]
    },
    {
     "name": "stderr",
     "output_type": "stream",
     "text": [
      "\n",
      "3_types: 0it [00:00, ?it/s]\u001b[A"
     ]
    },
    {
     "name": "stdout",
     "output_type": "stream",
     "text": [
      "Done 2/5\n",
      "Done 3/5\n",
      "Done 4/5\n"
     ]
    },
    {
     "name": "stderr",
     "output_type": "stream",
     "text": [
      "\n",
      "3_types: 1it [00:12, 12.94s/it]\u001b[A"
     ]
    },
    {
     "name": "stdout",
     "output_type": "stream",
     "text": [
      "Done 2/5\n",
      "Done 3/5\n",
      "Done 4/5\n"
     ]
    },
    {
     "name": "stderr",
     "output_type": "stream",
     "text": [
      "\n",
      "3_types: 2it [00:26, 13.15s/it]\u001b[A"
     ]
    },
    {
     "name": "stdout",
     "output_type": "stream",
     "text": [
      "Done 2/5\n",
      "Done 3/5\n",
      "Done 4/5\n"
     ]
    },
    {
     "name": "stderr",
     "output_type": "stream",
     "text": [
      "\n",
      "3_types: 3it [00:38, 12.91s/it]\n",
      "parts: 4it [04:22, 65.64s/it]"
     ]
    },
    {
     "name": "stdout",
     "output_type": "stream",
     "text": [
      "Done 1/3\n"
     ]
    },
    {
     "name": "stderr",
     "output_type": "stream",
     "text": [
      "\n",
      "4_types: 0it [00:00, ?it/s]\u001b[A"
     ]
    },
    {
     "name": "stdout",
     "output_type": "stream",
     "text": [
      "Done 2/5\n",
      "Done 3/5\n",
      "Done 4/5\n"
     ]
    },
    {
     "name": "stderr",
     "output_type": "stream",
     "text": [
      "\n",
      "4_types: 1it [00:12, 12.33s/it]\u001b[A"
     ]
    },
    {
     "name": "stdout",
     "output_type": "stream",
     "text": [
      "Done 2/5\n",
      "Done 3/5\n",
      "Done 4/5\n"
     ]
    },
    {
     "name": "stderr",
     "output_type": "stream",
     "text": [
      "\n",
      "4_types: 2it [00:24, 12.42s/it]\u001b[A"
     ]
    },
    {
     "name": "stdout",
     "output_type": "stream",
     "text": [
      "Done 2/5\n",
      "Done 3/5\n",
      "Done 4/5\n"
     ]
    },
    {
     "name": "stderr",
     "output_type": "stream",
     "text": [
      "\n",
      "4_types: 3it [00:36, 12.19s/it]\n",
      "parts: 5it [05:24, 64.90s/it]\n"
     ]
    }
   ],
   "source": [
    "# Цикл для чтения и объединения файлов\n",
    "for iter_numb, (file,\n",
    "                file_2) in tqdm(enumerate(zip(file_list, file_list_covis_f)),\n",
    "                                desc=f'parts'):\n",
    "\n",
    "    # Чтение файла Parquet во временный DataFrame\n",
    "    df_ = pd.read_parquet(file)\n",
    "    covis_f = pd.read_parquet(file_2)\n",
    "\n",
    "    df_ = df_.rename(columns={'labels': 'aid'})\n",
    "    # Базовые user, item features\n",
    "    df_ = df_.merge(tr_item_features, on=['aid'], how='left').fillna(-1)\n",
    "    df_ = df_.merge(tr_user_features, on=['session'], how='left').fillna(-1)\n",
    "    # User-item features\n",
    "    df_ = df_.merge(user_item_features, on=['session', 'aid'],\n",
    "                    how='left').fillna(-1)\n",
    "    # Доп. user features\n",
    "    df_ = df_.merge(dop_user_features[[\n",
    "        'session', 'session_len', 'mean_time_bw_aids', 'ses_aid_duplic_rate'\n",
    "    ]],\n",
    "                    on=['session'],\n",
    "                    how='left').fillna(-1)\n",
    "    df_ = df_.merge(covis_f, on=['session', 'aid'], how='left').fillna(-1)\n",
    "    #Доп. item features\n",
    "    df_ = df_.merge(dop_item_featues, on=['aid'], how='left').fillna(-1)\n",
    "    print('Done 1/3')\n",
    "\n",
    "    for (type_, file_path_, index) in tqdm(\n",
    "        (zip(['carts', 'clicks', 'orders'], file_list_pops, [1, 0, 2])),\n",
    "            desc=f'{iter_numb}_types'):\n",
    "\n",
    "        folder_path = f'{main_path}/lv/{ver_folder}/test_candidates_{type_}'\n",
    "        os.makedirs(folder_path, exist_ok=True)\n",
    "\n",
    "        # Доп. item features - по type\n",
    "        columns_ = ['aid', 'rank_pops']\n",
    "        pop_features = pd.read_parquet(file_path_)\n",
    "        df_m = df_.merge(pop_features[columns_], on=['aid'],\n",
    "                         how='left').fillna(-1)\n",
    "        print('Done 2/5')\n",
    "        #Доп. user features - по type\n",
    "        df_m = df_m.merge(\n",
    "            dop_user_features[['session', f'last_aid_type_{index}']],\n",
    "            on=['session'],\n",
    "            how='left').fillna(-1)\n",
    "        print('Done 3/5')\n",
    "        columns_user_item = [\n",
    "            'session', f'freq_per_{type_}', f'ratio_ses_{type_}',\n",
    "            f'type_counts_{type_}'\n",
    "        ]\n",
    "        df_m = df_m.merge(dop_user_features[columns_user_item],\n",
    "                          on=['session'],\n",
    "                          how='left').fillna(-1)\n",
    "        print('Done 4/5')\n",
    "\n",
    "        df_m.to_parquet(\n",
    "            f\"{main_path}/lv/{ver_folder}/test_candidates_{type_}/test_candidates_{type_}_{iter_numb}.parquet\"\n",
    "        )"
   ]
  },
  {
   "cell_type": "markdown",
   "id": "DOovdtw2MAOm",
   "metadata": {
    "id": "DOovdtw2MAOm"
   },
   "source": [
    "## Обучение"
   ]
  },
  {
   "cell_type": "markdown",
   "id": "e2bedb32",
   "metadata": {
    "id": "e2bedb32"
   },
   "source": [
    "Обучаю каждую модель поочередно, меняя тип датасета typee"
   ]
  },
  {
   "cell_type": "code",
   "execution_count": null,
   "id": "YBGBL5b3OlGn",
   "metadata": {
    "id": "YBGBL5b3OlGn"
   },
   "outputs": [],
   "source": [
    "ver = 6\n",
    "ver_folder = f'ver_{ver}'\n",
    "# ver_prev = 'ver_1'\n",
    "typee = 'clicks'\n",
    "# typee = 'carts'\n",
    "# typee = 'orders'\n",
    "\n",
    "random_state = 42\n",
    "\n",
    "slice_value = 1"
   ]
  },
  {
   "cell_type": "code",
   "execution_count": null,
   "id": "xNbzsyF_OlGo",
   "metadata": {
    "colab": {
     "base_uri": "https://localhost:8080/"
    },
    "executionInfo": {
     "elapsed": 79003,
     "status": "ok",
     "timestamp": 1698146488163,
     "user": {
      "displayName": "Stas Krupnov",
      "userId": "12188064098878037970"
     },
     "user_tz": -420
    },
    "id": "xNbzsyF_OlGo",
    "outputId": "7e45303f-c694-4f2c-b797-911d30a4e81c"
   },
   "outputs": [
    {
     "name": "stderr",
     "output_type": "stream",
     "text": [
      "100%|██████████| 5/5 [01:19<00:00, 15.86s/it]\n"
     ]
    }
   ],
   "source": [
    "# Список файлов Parquet\n",
    "file_list = glob.glob(f'{main_path}/tr/{ver_folder}/tr_candidates_{typee}/*')\n",
    "\n",
    "# Создание пустого DataFrame для сбора данных\n",
    "tr_candidates = pd.DataFrame()\n",
    "\n",
    "# Цикл для чтения и объединения файлов\n",
    "for file in tqdm(file_list):\n",
    "    # Чтение файла Parquet во временный DataFrame\n",
    "    df_ = pd.read_parquet(file)\n",
    "\n",
    "    # Объединение временного DataFrame с основным датасетом\n",
    "    tr_candidates = pd.concat([tr_candidates, df_], ignore_index=True)"
   ]
  },
  {
   "cell_type": "code",
   "execution_count": null,
   "id": "xCYZuHMMOlGo",
   "metadata": {
    "id": "xCYZuHMMOlGo"
   },
   "outputs": [],
   "source": [
    "del df_"
   ]
  },
  {
   "cell_type": "code",
   "execution_count": null,
   "id": "_Lz0hdGiOlGo",
   "metadata": {
    "id": "_Lz0hdGiOlGo"
   },
   "outputs": [],
   "source": [
    "tr_candidates.session = tr_candidates.session.astype(np.int32)\n",
    "tr_candidates.aid = tr_candidates.aid.astype(np.int32)"
   ]
  },
  {
   "cell_type": "code",
   "execution_count": null,
   "id": "zq97e-eUOlGp",
   "metadata": {
    "colab": {
     "base_uri": "https://localhost:8080/"
    },
    "executionInfo": {
     "elapsed": 491,
     "status": "ok",
     "timestamp": 1694688788096,
     "user": {
      "displayName": "Stas Krupnov",
      "userId": "12188064098878037970"
     },
     "user_tz": -420
    },
    "id": "zq97e-eUOlGp",
    "outputId": "499d1c3c-8fde-44a7-a369-c0032e8abc4e"
   },
   "outputs": [
    {
     "data": {
      "text/plain": [
       "True"
      ]
     },
     "execution_count": 29,
     "metadata": {},
     "output_type": "execute_result"
    }
   ],
   "source": [
    "# Проверка на группы\n",
    "len(tr_candidates) / 50 == tr_candidates.session.nunique()"
   ]
  },
  {
   "cell_type": "markdown",
   "id": "CRgrMJwsOlGp",
   "metadata": {
    "id": "CRgrMJwsOlGp"
   },
   "source": [
    "**Соотношение классов**"
   ]
  },
  {
   "cell_type": "code",
   "execution_count": null,
   "id": "lssotuF7OlGp",
   "metadata": {
    "colab": {
     "base_uri": "https://localhost:8080/"
    },
    "executionInfo": {
     "elapsed": 481,
     "status": "ok",
     "timestamp": 1698146489061,
     "user": {
      "displayName": "Stas Krupnov",
      "userId": "12188064098878037970"
     },
     "user_tz": -420
    },
    "id": "lssotuF7OlGp",
    "outputId": "3cc9357c-7023-45ef-9d7d-e2b9cdde7d69"
   },
   "outputs": [
    {
     "data": {
      "text/plain": [
       "0.027390053209978095"
      ]
     },
     "execution_count": 22,
     "metadata": {},
     "output_type": "execute_result"
    }
   ],
   "source": [
    "#Клики\n",
    "tr_candidates['target'].value_counts()[1] / tr_candidates['target'].value_counts()[0]"
   ]
  },
  {
   "cell_type": "code",
   "execution_count": null,
   "id": "qqQ2k238OlGq",
   "metadata": {
    "colab": {
     "base_uri": "https://localhost:8080/"
    },
    "executionInfo": {
     "elapsed": 480,
     "status": "ok",
     "timestamp": 1694688115833,
     "user": {
      "displayName": "Stas Krupnov",
      "userId": "12188064098878037970"
     },
     "user_tz": -420
    },
    "id": "qqQ2k238OlGq",
    "outputId": "db5eb369-6053-47c1-a4bd-64c31fa15a8e"
   },
   "outputs": [
    {
     "data": {
      "text/plain": [
       "0.0039270402570084776"
      ]
     },
     "execution_count": 19,
     "metadata": {},
     "output_type": "execute_result"
    }
   ],
   "source": [
    "#Картс\n",
    "tr_candidates['target'].value_counts()[1] / tr_candidates['target'].value_counts()[0]"
   ]
  },
  {
   "cell_type": "code",
   "execution_count": null,
   "id": "katdAFntOlGq",
   "metadata": {
    "colab": {
     "base_uri": "https://localhost:8080/"
    },
    "executionInfo": {
     "elapsed": 363,
     "status": "ok",
     "timestamp": 1694688801126,
     "user": {
      "displayName": "Stas Krupnov",
      "userId": "12188064098878037970"
     },
     "user_tz": -420
    },
    "id": "katdAFntOlGq",
    "outputId": "d016fde7-b77d-4aa5-a590-e4a1cd669429"
   },
   "outputs": [
    {
     "data": {
      "text/plain": [
       "0.0030344822937546597"
      ]
     },
     "execution_count": 31,
     "metadata": {},
     "output_type": "execute_result"
    }
   ],
   "source": [
    "#Ордерс\n",
    "tr_candidates['target'].value_counts()[1] / tr_candidates['target'].value_counts()[0]"
   ]
  },
  {
   "cell_type": "code",
   "execution_count": null,
   "id": "lvnPhl3QOlGq",
   "metadata": {
    "id": "lvnPhl3QOlGq"
   },
   "outputs": [],
   "source": [
    "from imblearn.under_sampling import RandomUnderSampler\n",
    "\n",
    "# clicks\n",
    "# under_sampler = RandomUnderSampler(sampling_strategy=0.43)  # Указываем желаемое соотношение классов\n",
    "\n",
    "# carts\n",
    "# under_sampler = RandomUnderSampler(sampling_strategy= 0.0624)  # Указываем желаемое соотношение классов\n",
    "\n",
    "# orders\n",
    "under_sampler = RandomUnderSampler(sampling_strategy= 0.0624)  # Указываем желаемое соотношение классов\n"
   ]
  },
  {
   "cell_type": "code",
   "execution_count": null,
   "id": "cRY9br5TOlGq",
   "metadata": {
    "id": "cRY9br5TOlGq"
   },
   "outputs": [],
   "source": [
    "# Undersampling трен.датасета\n",
    "FEATURES = tr_candidates.columns[: -1]\n",
    "X = tr_candidates.loc[:, FEATURES]\n",
    "y = tr_candidates.loc[:, 'target']\n",
    "X_train, y_train = under_sampler.fit_resample(X, y)\n",
    "tr_candidates = pd.merge(X_train, y_train, left_index=True, right_index=True)"
   ]
  },
  {
   "cell_type": "code",
   "execution_count": null,
   "id": "2-Ph0jnVOlGr",
   "metadata": {
    "id": "2-Ph0jnVOlGr"
   },
   "outputs": [],
   "source": [
    "del X, y"
   ]
  },
  {
   "cell_type": "code",
   "execution_count": null,
   "id": "AIH9n75XOlGr",
   "metadata": {
    "colab": {
     "base_uri": "https://localhost:8080/"
    },
    "executionInfo": {
     "elapsed": 112112,
     "status": "ok",
     "timestamp": 1694688983010,
     "user": {
      "displayName": "Stas Krupnov",
      "userId": "12188064098878037970"
     },
     "user_tz": -420
    },
    "id": "AIH9n75XOlGr",
    "outputId": "6745adfa-9d25-4e66-ba1c-b30f1d945161"
   },
   "outputs": [
    {
     "name": "stderr",
     "output_type": "stream",
     "text": [
      "\r",
      "0it [00:00, ?it/s]"
     ]
    },
    {
     "name": "stdout",
     "output_type": "stream",
     "text": [
      "[0]\ttrain-map:0.99205\tvalid-map:0.99193\n",
      "[100]\ttrain-map:0.99419\tvalid-map:0.99339\n",
      "[200]\ttrain-map:0.99499\tvalid-map:0.99339\n",
      "[300]\ttrain-map:0.99569\tvalid-map:0.99335\n",
      "[400]\ttrain-map:0.99621\tvalid-map:0.99325\n",
      "[500]\ttrain-map:0.99671\tvalid-map:0.99321\n",
      "[600]\ttrain-map:0.99714\tvalid-map:0.99321\n",
      "[700]\ttrain-map:0.99751\tvalid-map:0.99318\n",
      "[800]\ttrain-map:0.99785\tvalid-map:0.99314\n",
      "[900]\ttrain-map:0.99814\tvalid-map:0.99308\n",
      "[999]\ttrain-map:0.99839\tvalid-map:0.99304\n"
     ]
    },
    {
     "name": "stderr",
     "output_type": "stream",
     "text": [
      "\r",
      "1it [00:25, 25.34s/it]"
     ]
    },
    {
     "name": "stdout",
     "output_type": "stream",
     "text": [
      "[0]\ttrain-map:0.99205\tvalid-map:0.99205\n",
      "[100]\ttrain-map:0.99421\tvalid-map:0.99333\n",
      "[200]\ttrain-map:0.99496\tvalid-map:0.99331\n",
      "[300]\ttrain-map:0.99568\tvalid-map:0.99328\n",
      "[400]\ttrain-map:0.99623\tvalid-map:0.99330\n",
      "[500]\ttrain-map:0.99671\tvalid-map:0.99327\n",
      "[600]\ttrain-map:0.99711\tvalid-map:0.99326\n",
      "[700]\ttrain-map:0.99749\tvalid-map:0.99321\n",
      "[800]\ttrain-map:0.99782\tvalid-map:0.99320\n",
      "[900]\ttrain-map:0.99810\tvalid-map:0.99312\n",
      "[999]\ttrain-map:0.99836\tvalid-map:0.99310\n"
     ]
    },
    {
     "name": "stderr",
     "output_type": "stream",
     "text": [
      "\r",
      "2it [00:46, 22.83s/it]"
     ]
    },
    {
     "name": "stdout",
     "output_type": "stream",
     "text": [
      "[0]\ttrain-map:0.99208\tvalid-map:0.99186\n",
      "[100]\ttrain-map:0.99425\tvalid-map:0.99328\n",
      "[200]\ttrain-map:0.99504\tvalid-map:0.99326\n",
      "[300]\ttrain-map:0.99571\tvalid-map:0.99330\n",
      "[400]\ttrain-map:0.99626\tvalid-map:0.99327\n",
      "[500]\ttrain-map:0.99675\tvalid-map:0.99324\n",
      "[600]\ttrain-map:0.99718\tvalid-map:0.99321\n",
      "[700]\ttrain-map:0.99757\tvalid-map:0.99314\n",
      "[800]\ttrain-map:0.99788\tvalid-map:0.99309\n",
      "[900]\ttrain-map:0.99815\tvalid-map:0.99308\n",
      "[999]\ttrain-map:0.99840\tvalid-map:0.99307\n"
     ]
    },
    {
     "name": "stderr",
     "output_type": "stream",
     "text": [
      "\r",
      "3it [01:07, 22.04s/it]"
     ]
    },
    {
     "name": "stdout",
     "output_type": "stream",
     "text": [
      "[0]\ttrain-map:0.99210\tvalid-map:0.99202\n",
      "[100]\ttrain-map:0.99423\tvalid-map:0.99327\n",
      "[200]\ttrain-map:0.99500\tvalid-map:0.99330\n",
      "[300]\ttrain-map:0.99568\tvalid-map:0.99328\n",
      "[400]\ttrain-map:0.99624\tvalid-map:0.99328\n",
      "[500]\ttrain-map:0.99673\tvalid-map:0.99329\n",
      "[600]\ttrain-map:0.99717\tvalid-map:0.99324\n",
      "[700]\ttrain-map:0.99752\tvalid-map:0.99322\n",
      "[800]\ttrain-map:0.99786\tvalid-map:0.99319\n",
      "[900]\ttrain-map:0.99813\tvalid-map:0.99314\n",
      "[999]\ttrain-map:0.99839\tvalid-map:0.99308\n"
     ]
    },
    {
     "name": "stderr",
     "output_type": "stream",
     "text": [
      "\r",
      "4it [01:28, 21.76s/it]"
     ]
    },
    {
     "name": "stdout",
     "output_type": "stream",
     "text": [
      "[0]\ttrain-map:0.99203\tvalid-map:0.99190\n",
      "[100]\ttrain-map:0.99421\tvalid-map:0.99343\n",
      "[200]\ttrain-map:0.99503\tvalid-map:0.99340\n",
      "[300]\ttrain-map:0.99571\tvalid-map:0.99336\n",
      "[400]\ttrain-map:0.99623\tvalid-map:0.99335\n",
      "[500]\ttrain-map:0.99674\tvalid-map:0.99333\n",
      "[600]\ttrain-map:0.99716\tvalid-map:0.99328\n",
      "[700]\ttrain-map:0.99753\tvalid-map:0.99326\n",
      "[800]\ttrain-map:0.99787\tvalid-map:0.99323\n",
      "[900]\ttrain-map:0.99817\tvalid-map:0.99318\n",
      "[999]\ttrain-map:0.99843\tvalid-map:0.99314\n"
     ]
    },
    {
     "name": "stderr",
     "output_type": "stream",
     "text": [
      "5it [01:50, 22.00s/it]\n"
     ]
    }
   ],
   "source": [
    "# Создание директории для сохранения моделей, если её нет\n",
    "folder_path = 'model'\n",
    "os.makedirs(folder_path, exist_ok=True)\n",
    "\n",
    "# Сортировка и переиндексация данных\n",
    "tr_candidates = tr_candidates.sort_values('session')\n",
    "tr_candidates = tr_candidates.reset_index(drop=True)\n",
    "\n",
    "# Инициализация объекта GroupKFold для кросс-валидации\n",
    "skf = GroupKFold(n_splits=5)\n",
    "FEATURES = tr_candidates.columns[:-1]\n",
    "\n",
    "# Цикл по фолдам кросс-валидации\n",
    "for fold, (train_idx, valid_idx) in tqdm(\n",
    "        enumerate(\n",
    "            skf.split(tr_candidates,\n",
    "                      tr_candidates['target'],\n",
    "                      groups=tr_candidates['session']))):\n",
    "    # Разделение данных на обучающий и валидационный наборы\n",
    "    X_train = tr_candidates.loc[train_idx, FEATURES]\n",
    "    y_train = tr_candidates.loc[train_idx, 'target']\n",
    "    X_valid = tr_candidates.loc[valid_idx, FEATURES]\n",
    "    y_valid = tr_candidates.loc[valid_idx, 'target']\n",
    "\n",
    "    # Подсчет размеров групп в обучающем и валидационном наборах\n",
    "    group_sizes_tr = X_train.groupby('session')[['aid']].count()\n",
    "    group_sizes_v = X_valid.groupby('session')[['aid']].count()\n",
    "\n",
    "    # Выбор нужных столбцов для обучающего и валидационного набора данных\n",
    "    X_train = X_train.iloc[:, 2:]\n",
    "    X_valid = X_valid.iloc[:, 2:]\n",
    "\n",
    "    # Преобразование данных в формат, совместимый с XGBoost\n",
    "    dtrain = xgb.DMatrix(X_train, y_train, group=group_sizes_tr.aid.tolist())\n",
    "    dvalid = xgb.DMatrix(X_valid, y_valid, group=group_sizes_v.aid.tolist())\n",
    "\n",
    "    # Параметры модели XGBoost\n",
    "    xgb_params = {'objective': 'rank:pairwise', 'tree_method': 'gpu_hist'}\n",
    "\n",
    "    # Обучение модели XGBoost и сохранение её в файл\n",
    "    model = xgb.train(params=xgb_params,\n",
    "                      dtrain=dtrain,\n",
    "                      evals=[(dtrain, 'train'), (dvalid, 'valid')],\n",
    "                      num_boost_round=1000,\n",
    "                      verbose_eval=100)\n",
    "    model.save_model(f'model/XGB_fold{fold}_{typee}.xgb')"
   ]
  },
  {
   "cell_type": "code",
   "execution_count": null,
   "id": "rgwSwr8qOlGr",
   "metadata": {
    "colab": {
     "base_uri": "https://localhost:8080/"
    },
    "executionInfo": {
     "elapsed": 17,
     "status": "ok",
     "timestamp": 1694688983011,
     "user": {
      "displayName": "Stas Krupnov",
      "userId": "12188064098878037970"
     },
     "user_tz": -420
    },
    "id": "rgwSwr8qOlGr",
    "outputId": "87028e05-4791-4c7e-c3e2-07c05575823a"
   },
   "outputs": [
    {
     "data": {
      "text/plain": [
       "['/content/drive/Othercomputers/Mac/Jup.Notebook/models/ver_6/XGB_fold3_orders.xgb',\n",
       " '/content/drive/Othercomputers/Mac/Jup.Notebook/models/ver_6/XGB_fold0_orders.xgb',\n",
       " '/content/drive/Othercomputers/Mac/Jup.Notebook/models/ver_6/XGB_fold4_orders.xgb',\n",
       " '/content/drive/Othercomputers/Mac/Jup.Notebook/models/ver_6/XGB_fold2_orders.xgb',\n",
       " '/content/drive/Othercomputers/Mac/Jup.Notebook/models/ver_6/XGB_fold1_orders.xgb']"
      ]
     },
     "execution_count": 36,
     "metadata": {},
     "output_type": "execute_result"
    }
   ],
   "source": [
    "folder_path = f'{main_path}/models/{ver_folder}/'\n",
    "os.makedirs(folder_path, exist_ok=True)\n",
    "\n",
    "file_list = glob.glob(f'/content/model/*{typee}.xgb')\n",
    "[shutil.copy(file, f'{main_path}/models/{ver_folder}/') for file in file_list]"
   ]
  },
  {
   "cell_type": "markdown",
   "id": "t46HjRCXMAOm",
   "metadata": {
    "id": "t46HjRCXMAOm"
   },
   "source": [
    "## Предсказание"
   ]
  },
  {
   "cell_type": "code",
   "execution_count": null,
   "id": "ho9Kt-4JBWHu",
   "metadata": {
    "id": "ho9Kt-4JBWHu"
   },
   "outputs": [],
   "source": [
    "model_version = 6\n",
    "ver_folder = f'ver_{model_version}'\n",
    "\n",
    "# typee = 'clicks'\n",
    "# typee = 'carts'\n",
    "typee = 'orders'"
   ]
  },
  {
   "cell_type": "code",
   "execution_count": null,
   "id": "YgVvXtuTBWHu",
   "metadata": {
    "id": "YgVvXtuTBWHu"
   },
   "outputs": [],
   "source": [
    "# импорт модели\n",
    "shutil.copytree(f'{main_path}/models/{ver_folder}/', f'/content/{ver_folder}/')"
   ]
  },
  {
   "cell_type": "code",
   "execution_count": null,
   "id": "PTHuAjWRBWHv",
   "metadata": {
    "colab": {
     "base_uri": "https://localhost:8080/",
     "height": 34
    },
    "executionInfo": {
     "elapsed": 7759,
     "status": "ok",
     "timestamp": 1694689743493,
     "user": {
      "displayName": "Stas Krupnov",
      "userId": "12188064098878037970"
     },
     "user_tz": -420
    },
    "id": "PTHuAjWRBWHv",
    "outputId": "044fad5b-99dc-4140-b439-b6cf49296fd7"
   },
   "outputs": [
    {
     "data": {
      "application/vnd.google.colaboratory.intrinsic+json": {
       "type": "string"
      },
      "text/plain": [
       "'/content/lv_candidates_orders/'"
      ]
     },
     "execution_count": 43,
     "metadata": {},
     "output_type": "execute_result"
    }
   ],
   "source": [
    "# импорт кандидатов выбранного типа\n",
    "shutil.copytree(f'{main_path}/lv/{ver_folder}/test_candidates_{typee}/', f'/content/test_candidates_{typee}/' )"
   ]
  },
  {
   "cell_type": "code",
   "execution_count": null,
   "id": "rsuoU5mLBWHv",
   "metadata": {
    "colab": {
     "base_uri": "https://localhost:8080/"
    },
    "executionInfo": {
     "elapsed": 14509,
     "status": "ok",
     "timestamp": 1694689758000,
     "user": {
      "displayName": "Stas Krupnov",
      "userId": "12188064098878037970"
     },
     "user_tz": -420
    },
    "id": "rsuoU5mLBWHv",
    "outputId": "09f480f9-cebc-41e8-84ff-5aa0801b6022"
   },
   "outputs": [
    {
     "name": "stderr",
     "output_type": "stream",
     "text": [
      "100%|██████████| 5/5 [00:07<00:00,  1.41s/it]\n"
     ]
    }
   ],
   "source": [
    "# Список файлов Parquet\n",
    "file_list = glob.glob(f'test_candidates_{typee}/*')\n",
    "\n",
    "# Создание пустого DataFrame для сбора данных\n",
    "test_candidates = pd.DataFrame()\n",
    "\n",
    "# Цикл для чтения и объединения файлов\n",
    "for file in tqdm(file_list):\n",
    "    # Чтение файла Parquet во временный DataFrame\n",
    "    df_ = pd.read_parquet(file)\n",
    "\n",
    "    # Объединение временного DataFrame с основным датасетом\n",
    "    test_candidates = pd.concat([test_candidates, df_], ignore_index=True)\n",
    "\n",
    "test_candidates = test_candidates.sort_values('session')\n",
    "test_candidates = test_candidates.reset_index(drop = True)"
   ]
  },
  {
   "cell_type": "code",
   "execution_count": null,
   "id": "lbLI0JIwBWHv",
   "metadata": {
    "id": "lbLI0JIwBWHv"
   },
   "outputs": [],
   "source": [
    "FEATURES = test_candidates.columns[2:]"
   ]
  },
  {
   "cell_type": "code",
   "execution_count": null,
   "id": "GKXIDqhmBWHv",
   "metadata": {
    "colab": {
     "base_uri": "https://localhost:8080/"
    },
    "executionInfo": {
     "elapsed": 13,
     "status": "ok",
     "timestamp": 1694689758001,
     "user": {
      "displayName": "Stas Krupnov",
      "userId": "12188064098878037970"
     },
     "user_tz": -420
    },
    "id": "GKXIDqhmBWHv",
    "outputId": "2be09c9e-78b3-4e8e-c7c0-2310bb26ec9b"
   },
   "outputs": [
    {
     "data": {
      "text/plain": [
       "(30020800, 23)"
      ]
     },
     "execution_count": 46,
     "metadata": {},
     "output_type": "execute_result"
    }
   ],
   "source": [
    "test_candidates.shape"
   ]
  },
  {
   "cell_type": "code",
   "execution_count": null,
   "id": "nNdot4y7BWHw",
   "metadata": {
    "colab": {
     "base_uri": "https://localhost:8080/"
    },
    "executionInfo": {
     "elapsed": 65757,
     "status": "ok",
     "timestamp": 1694689823749,
     "user": {
      "displayName": "Stas Krupnov",
      "userId": "12188064098878037970"
     },
     "user_tz": -420
    },
    "id": "nNdot4y7BWHw",
    "outputId": "5ba3a701-4c8f-4b7e-88e6-e6ef453497bb"
   },
   "outputs": [
    {
     "name": "stderr",
     "output_type": "stream",
     "text": [
      "100%|██████████| 5/5 [01:05<00:00, 13.14s/it]\n"
     ]
    }
   ],
   "source": [
    "# Получение предсказаний\n",
    "preds = np.zeros(len(test_candidates))\n",
    "for fold in tqdm(range(5)):\n",
    "    model = xgb.Booster()\n",
    "    model.load_model(f'{ver_folder}/XGB_fold{fold}_{typee}.xgb')\n",
    "    model.set_param({'predictor': 'gpu_predictor'})\n",
    "    dtest = xgb.DMatrix(data=test_candidates[FEATURES])\n",
    "    preds += model.predict(dtest)/5"
   ]
  },
  {
   "cell_type": "code",
   "execution_count": null,
   "id": "mIMT2l53BWHw",
   "metadata": {
    "id": "mIMT2l53BWHw"
   },
   "outputs": [],
   "source": [
    "lv_predictions = test_candidates[['session','aid']].copy()\n",
    "lv_predictions['pred'] = preds"
   ]
  },
  {
   "cell_type": "code",
   "execution_count": null,
   "id": "4OnaztsDBWHw",
   "metadata": {
    "id": "4OnaztsDBWHw"
   },
   "outputs": [],
   "source": [
    "# Получение топ-20 рекомендаций для каждой сессии\n",
    "lv_predictions = lv_predictions.sort_values(['session','pred'], ascending=[True,False]).reset_index(drop=True)\n",
    "lv_predictions['n'] = lv_predictions.groupby('session').aid.cumcount().astype('int8')\n",
    "lv_predictions = lv_predictions.loc[lv_predictions.n<20]"
   ]
  },
  {
   "cell_type": "code",
   "execution_count": null,
   "id": "VefiynU7BWHw",
   "metadata": {
    "id": "VefiynU7BWHw"
   },
   "outputs": [],
   "source": [
    "lv_predictions = lv_predictions.groupby('session').aid.apply(list)\n",
    "lv_predictions = lv_predictions.to_frame().reset_index()"
   ]
  },
  {
   "cell_type": "code",
   "execution_count": null,
   "id": "tYo_bl12BWHw",
   "metadata": {
    "id": "tYo_bl12BWHw"
   },
   "outputs": [],
   "source": [
    "lv_predictions.rename(columns = {'aid' : 'labels'}, inplace = True)"
   ]
  },
  {
   "cell_type": "code",
   "execution_count": null,
   "id": "4TguAXH8BWHw",
   "metadata": {
    "id": "4TguAXH8BWHw"
   },
   "outputs": [],
   "source": [
    "lv_predictions.to_parquet(f'lv_predictions_{typee}.parquet')"
   ]
  },
  {
   "cell_type": "code",
   "execution_count": null,
   "id": "Tbxt-uXqBWHw",
   "metadata": {
    "colab": {
     "base_uri": "https://localhost:8080/",
     "height": 34
    },
    "executionInfo": {
     "elapsed": 14,
     "status": "ok",
     "timestamp": 1694689862292,
     "user": {
      "displayName": "Stas Krupnov",
      "userId": "12188064098878037970"
     },
     "user_tz": -420
    },
    "id": "Tbxt-uXqBWHw",
    "outputId": "dac18ece-e610-4c7e-c9d3-b5f1da1dd735"
   },
   "outputs": [
    {
     "data": {
      "application/vnd.google.colaboratory.intrinsic+json": {
       "type": "string"
      },
      "text/plain": [
       "'/content/drive/Othercomputers/Mac/Jup.Notebook/lv/ver_6/lv_predictions_orders.parquet'"
      ]
     },
     "execution_count": 53,
     "metadata": {},
     "output_type": "execute_result"
    }
   ],
   "source": [
    "shutil.copy2(f'lv_predictions_{typee}.parquet', f'{main_path}/lv/{ver_folder}/lv_predictions_{typee}.parquet' )"
   ]
  },
  {
   "cell_type": "markdown",
   "id": "xWaiATuKMAOn",
   "metadata": {
    "id": "xWaiATuKMAOn"
   },
   "source": [
    "## Оценка метрики"
   ]
  },
  {
   "cell_type": "code",
   "execution_count": null,
   "id": "1ffa7872",
   "metadata": {
    "id": "1ffa7872"
   },
   "outputs": [],
   "source": [
    "id2type_name = 'id2type.pkl'\n",
    "version = 'ver_6'"
   ]
  },
  {
   "cell_type": "code",
   "execution_count": null,
   "id": "7742d86f",
   "metadata": {
    "id": "7742d86f"
   },
   "outputs": [],
   "source": [
    "# Тестовые метки\n",
    "valid = pd.read_parquet(f'{main_path}/s/test_labels_loc.parquet')"
   ]
  },
  {
   "cell_type": "code",
   "execution_count": null,
   "id": "d15538e9",
   "metadata": {
    "id": "d15538e9"
   },
   "outputs": [],
   "source": [
    "with open(f'{main_path}/pkl/{id2type_name}', 'rb') as file:\n",
    "     id2type= pickle.load(file)"
   ]
  },
  {
   "cell_type": "markdown",
   "id": "2d59288d",
   "metadata": {
    "id": "2d59288d"
   },
   "source": [
    "Перед оценкой соединяю 3 датасета разных предсказаний по типам aid в один"
   ]
  },
  {
   "cell_type": "code",
   "execution_count": null,
   "id": "3020d3d2",
   "metadata": {
    "id": "3020d3d2",
    "outputId": "c74ddfff-7de4-433f-b2be-7ccf817db4cc",
    "scrolled": true
   },
   "outputs": [
    {
     "name": "stderr",
     "output_type": "stream",
     "text": [
      "100%|███████████████████████████████████████████| 3/3 [00:01<00:00,  2.77it/s]\n"
     ]
    }
   ],
   "source": [
    "# Список файлов Parquet\n",
    "file_list = glob.glob(f'{main_path}/lv/{version}/lv_predictions*.parquet')\n",
    "\n",
    "# Создание пустого DataFrame для сбора данных\n",
    "lv_predictions= pd.DataFrame()\n",
    "\n",
    "# Цикл для чтения и объединения файлов\n",
    "for file in tqdm(file_list):\n",
    "    # Чтение файла Parquet во временный DataFrame\n",
    "    df = pd.read_parquet(file)\n",
    "\n",
    "    if 'carts' in file:\n",
    "      df['type'] = 'carts'\n",
    "    elif 'clicks' in file:\n",
    "      df['type'] = 'clicks'\n",
    "    else:\n",
    "      df['type'] = 'orders'\n",
    "\n",
    "    # Объединение временного DataFrame с основным датасетом\n",
    "    lv_predictions = pd.concat([lv_predictions, df], ignore_index=True)\n",
    "\n",
    "# lv_predictions.type = lv_predictions.type.map(lambda idx: id2type[idx])"
   ]
  },
  {
   "cell_type": "code",
   "execution_count": null,
   "id": "7fcdfa6d",
   "metadata": {
    "id": "7fcdfa6d",
    "outputId": "e0eed69f-7356-496b-f161-1b4deb3b8821",
    "scrolled": true
   },
   "outputs": [
    {
     "name": "stdout",
     "output_type": "stream",
     "text": [
      "Model score : (0.5202739792397106, type\n",
      "carts     0.356744\n",
      "clicks    0.371863\n",
      "orders    0.626774\n",
      "dtype: float64)\n"
     ]
    }
   ],
   "source": [
    "print('Model score :', metric_eval(lv_predictions, valid, id2type))"
   ]
  },
  {
   "cell_type": "markdown",
   "id": "CNAySlu20OGg",
   "metadata": {
    "id": "CNAySlu20OGg"
   },
   "source": [
    "👁️**Model score : 0.520273**👁️"
   ]
  },
  {
   "cell_type": "markdown",
   "id": "cabb505e",
   "metadata": {
    "id": "cabb505e"
   },
   "source": [
    "# Вывод"
   ]
  },
  {
   "cell_type": "markdown",
   "id": "edd42244",
   "metadata": {
    "id": "edd42244"
   },
   "source": [
    "**Лучшую метрику** среди всех попыток ранжирования показала **версия 6**  \n",
    "Model score : 0.520273  \n",
    "Судя по истории метрик версий(ниже), значительный скачок произошел на версии 5,  \n",
    "из-за добавления важных новых признаков:  \n",
    "- 'session_len' Длина сессии (в минутах)\n",
    "- 'last_aid_type' Последнее действие каждого типа в session\n",
    "- 'cos_sim' Косинусная схожесть session-aid WORD2WEC"
   ]
  },
  {
   "cell_type": "code",
   "execution_count": null,
   "id": "a74e7148",
   "metadata": {
    "id": "a74e7148",
    "outputId": "219d0bf1-7e6a-461d-b7cc-005a2e81743b",
    "scrolled": true
   },
   "outputs": [
    {
     "data": {
      "image/png": "[encoded data removed]",
      "text/plain": [
       "<IPython.core.display.Image object>"
      ]
     },
     "execution_count": 5,
     "metadata": {},
     "output_type": "execute_result"
    }
   ],
   "source": [
    "display.Image(f\"{main_path}/images/versions.png\")"
   ]
  },
  {
   "cell_type": "markdown",
   "id": "ed8a8b33",
   "metadata": {
    "id": "ed8a8b33"
   },
   "source": [
    "Далее я смог дать еще хороший скачок, добавив еще несколько признаков в версии 6:\n",
    "- 'cl_to_crt_med_time' Медианное время в секундах, спустя которое пользователи переходят от \"click\" к \"cart\" для данного aid.\n",
    "- 'cl_to_ord_med_time' Медианное время в секундах, спустя которое пользователи переходят от \"click\" к \"order\" для данного aid.\n",
    "- 'first_aid_percent' Процент сессий, в которых данный aid был первым действием.\n",
    "- 'last_aid_percent' Процент сессий, в которых данный aid был последним действием.\n",
    "- 'most_active_time' время суток, в которые наиболее активно взаимодействуют с этим aid.\n",
    "- 'mn_time_b/w_aids' Среднее время между действиями в данной сессии.\n",
    "- 'freq_per_type' Частота кликов/ картов/ ордеров(кол-во/длина сессии в мин) в session. 'type_counts_ses' Кол-во действий кажд.типа в session.\n",
    "- 'type_ratio_ses' aid clicks/orders/carts ratio в сессии.\n",
    "- 'ses_aid_duplic_rate' Были ли в данной сессии повторяющиеся aid, и если да, то сколько раз."
   ]
  },
  {
   "cell_type": "markdown",
   "id": "ba0fcb64",
   "metadata": {
    "id": "ba0fcb64"
   },
   "source": [
    "**На этом прекращаю создание признаков и перехожу далее**"
   ]
  }
 ],
 "metadata": {
  "colab": {
   "collapsed_sections": [
    "50b77aff",
    "10999e75",
    "byWGAeb7-1st",
    "NWg0qCiG-nuZ"
   ],
   "machine_shape": "hm",
   "provenance": [],
   "toc_visible": true
  },
  "kernelspec": {
   "display_name": "Python 3 (ipykernel)",
   "language": "python",
   "name": "python3"
  },
  "language_info": {
   "codemirror_mode": {
    "name": "ipython",
    "version": 3
   },
   "file_extension": ".py",
   "mimetype": "text/x-python",
   "name": "python",
   "nbconvert_exporter": "python",
   "pygments_lexer": "ipython3",
   "version": "3.11.4"
  },
  "notify_time": "5",
  "toc": {
   "base_numbering": 1,
   "nav_menu": {},
   "number_sections": true,
   "sideBar": true,
   "skip_h1_title": false,
   "title_cell": "Table of Contents",
   "title_sidebar": "Contents",
   "toc_cell": false,
   "toc_position": {
    "height": "calc(100% - 180px)",
    "left": "10px",
    "top": "150px",
    "width": "361.231598px"
   },
   "toc_section_display": true,
   "toc_window_display": true
  }
 },
 "nbformat": 4,
 "nbformat_minor": 5
}
