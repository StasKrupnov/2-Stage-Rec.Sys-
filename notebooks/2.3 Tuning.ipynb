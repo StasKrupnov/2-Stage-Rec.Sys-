{
 "cells": [
  {
   "cell_type": "code",
   "execution_count": null,
   "id": "dd1d4d0f",
   "metadata": {
    "id": "dd1d4d0f"
   },
   "outputs": [],
   "source": [
    "#🔵\n",
    "main_path = '/Users/stanislavkrupnov/Jup.Notebook'"
   ]
  },
  {
   "cell_type": "code",
   "execution_count": null,
   "id": "f623a3d9",
   "metadata": {
    "id": "f623a3d9"
   },
   "outputs": [],
   "source": [
    "#🟠\n",
    "main_path = '/content/drive/Othercomputers/Mac/Jup.Notebook'\n",
    "import gdown\n",
    "from google.colab import drive\n",
    "drive.mount('/content/drive')"
   ]
  },
  {
   "cell_type": "markdown",
   "id": "4d2cfe4f",
   "metadata": {
    "id": "4d2cfe4f"
   },
   "source": [
    "# Описание ноутбука"
   ]
  },
  {
   "cell_type": "markdown",
   "id": "567dc79c",
   "metadata": {
    "id": "567dc79c"
   },
   "source": [
    "Я провожу тюнинг гиперпараметров модели **CatBoost Ranker** в две попытки:\n",
    "1. Используя функцию потерь **Pairlogit**\n",
    "2. Используя функцию потерь **YetiRank** и метрику **PFound**"
   ]
  },
  {
   "cell_type": "markdown",
   "id": "8761cd0b",
   "metadata": {
    "id": "8761cd0b"
   },
   "source": [
    "Подбор выполняю с помощью Optuna"
   ]
  },
  {
   "cell_type": "markdown",
   "id": "NPUW8In-eaAV",
   "metadata": {
    "id": "NPUW8In-eaAV"
   },
   "source": [
    "# Функции"
   ]
  },
  {
   "cell_type": "code",
   "execution_count": null,
   "id": "ViceQyUvMKgQ",
   "metadata": {
    "id": "ViceQyUvMKgQ"
   },
   "outputs": [],
   "source": [
    "def metric_eval(predictions: pd.DataFrame, valid: pd.DataFrame,\n",
    "                id2type: dict) -> tuple:\n",
    "    \"\"\"\n",
    "    Вычисляет метрики для оценки качества модели.\n",
    "\n",
    "    Parameters:\n",
    "    - predictions (pd.DataFrame): DataFrame с предсказаниями модели.\n",
    "    - valid (pd.DataFrame): DataFrame с данными для валидации.\n",
    "    - id2type (dict): Словарь для преобразования индексов типов в соответствующие строки.\n",
    "\n",
    "    Returns:\n",
    "    - tuple: Кортеж, содержащий локальную метрику и реколл для каждого типа.\n",
    "    \"\"\"\n",
    "    # Преобразование индексов типов в соответствующие строки\n",
    "    valid.type = valid.type.map(lambda idx: id2type[idx])\n",
    "\n",
    "    # Создание списка с метками для каждой сессии и типа\n",
    "    ground_truth = valid.groupby(['session', 'type'])['aid'].apply(list)\n",
    "    ground_truth = ground_truth.reset_index().rename(columns={'aid': 'labels'})\n",
    "\n",
    "    # Обрезка меток для типа 'clicks' до одной метки\n",
    "    ground_truth.loc[ground_truth.type == 'clicks',\n",
    "                     'labels'] = ground_truth.loc[ground_truth.type ==\n",
    "                                                  'clicks', 'labels'].str[:1]\n",
    "\n",
    "    # Объединение предсказаний с истинными метками\n",
    "    submission_with_gt = predictions.merge(\n",
    "        ground_truth[['session', 'type', 'labels']],\n",
    "        how='left',\n",
    "        on=['session', 'type'])\n",
    "\n",
    "    # Отбрасывание сессий без истинных меток\n",
    "    submission_with_gt = submission_with_gt[~submission_with_gt.labels_y.isna(\n",
    "    )]\n",
    "\n",
    "    # Вычисление количества совпадений между предсказанными и истинными метками\n",
    "    submission_with_gt['hits'] = submission_with_gt.apply(\n",
    "        lambda df: len(set(df.labels_x).intersection(set(df.labels_y))),\n",
    "        axis=1)\n",
    "\n",
    "    # Вычисление количества истинных меток для каждого типа\n",
    "    submission_with_gt['gt_count'] = submission_with_gt.labels_y.str.len(\n",
    "    ).clip(0, 20)\n",
    "\n",
    "    # Вычисление реколла для каждого типа\n",
    "    recall_per_type = submission_with_gt.groupby([\n",
    "        'type'\n",
    "    ])['hits'].sum() / submission_with_gt.groupby(['type'])['gt_count'].sum()\n",
    "\n",
    "    # Вычисление локальной метрики на основе реколла для каждого типа\n",
    "    local_validation_score = (recall_per_type * pd.Series({\n",
    "        'clicks': 0.10,\n",
    "        'carts': 0.30,\n",
    "        'orders': 0.60\n",
    "    })).sum()\n",
    "\n",
    "    return local_validation_score, recall_per_type"
   ]
  },
  {
   "cell_type": "code",
   "execution_count": null,
   "id": "QZ8g-Uft8teu",
   "metadata": {
    "id": "QZ8g-Uft8teu"
   },
   "outputs": [],
   "source": [
    "def read_parquets(path):\n",
    "    \"\"\"\n",
    "    Чтение данных из файлов Parquet и их объединение в единый DataFrame.\n",
    "\n",
    "    Parameters:\n",
    "    - path (str): Путь к файлам Parquet.\n",
    "\n",
    "    Returns:\n",
    "    - tr_candidates (pd.DataFrame): Объединенный DataFrame.\n",
    "    \"\"\"\n",
    "    # Список файлов Parquet\n",
    "    file_list = glob.glob(path)\n",
    "\n",
    "    # Создание пустого DataFrame для сбора данных\n",
    "    tr_candidates = pd.DataFrame()\n",
    "\n",
    "    # Цикл для чтения и объединения файлов\n",
    "    for file in tqdm(file_list):\n",
    "        # Чтение файла Parquet во временный DataFrame\n",
    "        df_ = pd.read_parquet(file)\n",
    "\n",
    "        # Объединение временного DataFrame с основным датасетом\n",
    "        tr_candidates = pd.concat([tr_candidates, df_], ignore_index=True)\n",
    "\n",
    "    return tr_candidates"
   ]
  },
  {
   "cell_type": "markdown",
   "id": "635bd866",
   "metadata": {
    "id": "635bd866"
   },
   "source": [
    "# Import"
   ]
  },
  {
   "cell_type": "code",
   "execution_count": null,
   "id": "Hi8RqzLUkChP",
   "metadata": {
    "colab": {
     "base_uri": "https://localhost:8080/"
    },
    "executionInfo": {
     "elapsed": 4221,
     "status": "ok",
     "timestamp": 1696302520732,
     "user": {
      "displayName": "Stas Krupnov",
      "userId": "12188064098878037970"
     },
     "user_tz": -420
    },
    "id": "Hi8RqzLUkChP",
    "outputId": "139900bd-f883-452a-f5c2-c69bb5620a23",
    "scrolled": false
   },
   "outputs": [
    {
     "name": "stdout",
     "output_type": "stream",
     "text": [
      "Requirement already satisfied: optuna in /usr/local/lib/python3.10/dist-packages (3.3.0)\n",
      "Requirement already satisfied: alembic>=1.5.0 in /usr/local/lib/python3.10/dist-packages (from optuna) (1.12.0)\n",
      "Requirement already satisfied: cmaes>=0.10.0 in /usr/local/lib/python3.10/dist-packages (from optuna) (0.10.0)\n",
      "Requirement already satisfied: colorlog in /usr/local/lib/python3.10/dist-packages (from optuna) (6.7.0)\n",
      "Requirement already satisfied: numpy in /usr/local/lib/python3.10/dist-packages (from optuna) (1.23.5)\n",
      "Requirement already satisfied: packaging>=20.0 in /usr/local/lib/python3.10/dist-packages (from optuna) (23.1)\n",
      "Requirement already satisfied: sqlalchemy>=1.3.0 in /usr/local/lib/python3.10/dist-packages (from optuna) (2.0.20)\n",
      "Requirement already satisfied: tqdm in /usr/local/lib/python3.10/dist-packages (from optuna) (4.66.1)\n",
      "Requirement already satisfied: PyYAML in /usr/local/lib/python3.10/dist-packages (from optuna) (6.0.1)\n",
      "Requirement already satisfied: Mako in /usr/local/lib/python3.10/dist-packages (from alembic>=1.5.0->optuna) (1.2.4)\n",
      "Requirement already satisfied: typing-extensions>=4 in /usr/local/lib/python3.10/dist-packages (from alembic>=1.5.0->optuna) (4.5.0)\n",
      "Requirement already satisfied: greenlet!=0.4.17 in /usr/local/lib/python3.10/dist-packages (from sqlalchemy>=1.3.0->optuna) (2.0.2)\n",
      "Requirement already satisfied: MarkupSafe>=0.9.2 in /usr/local/lib/python3.10/dist-packages (from Mako->alembic>=1.5.0->optuna) (2.1.3)\n"
     ]
    }
   ],
   "source": [
    "!pip install optuna"
   ]
  },
  {
   "cell_type": "code",
   "execution_count": null,
   "id": "834715af",
   "metadata": {
    "id": "834715af",
    "scrolled": true
   },
   "outputs": [],
   "source": [
    "import os\n",
    "import sys\n",
    "from tqdm import tqdm\n",
    "import glob\n",
    "import pyarrow.parquet as pq\n",
    "import pickle\n",
    "import pandas as pd\n",
    "import gc\n",
    "import numpy as np\n",
    "import itertools\n",
    "from datetime import datetime as dt\n",
    "import polars as pl\n",
    "# import optuna\n",
    "import shutil\n",
    "import xgboost as xgb\n",
    "from sklearn.model_selection import GroupKFold\n",
    "from imblearn.under_sampling import RandomUnderSampler"
   ]
  },
  {
   "cell_type": "markdown",
   "id": "xFcvD7CLGRUt",
   "metadata": {
    "id": "xFcvD7CLGRUt"
   },
   "source": [
    "# Ver_8 CatB Tune Pairlogit"
   ]
  },
  {
   "cell_type": "markdown",
   "id": "oIUrfFmZMOoc",
   "metadata": {
    "id": "oIUrfFmZMOoc"
   },
   "source": [
    "## Подбор гиперпараметров с Optuna"
   ]
  },
  {
   "cell_type": "code",
   "execution_count": null,
   "id": "YAMTEJOXGRUv",
   "metadata": {
    "id": "YAMTEJOXGRUv"
   },
   "outputs": [],
   "source": [
    "ver_tun = 'catb_tun'\n",
    "ver = 6\n",
    "ver_folder = f'ver_{ver}'\n",
    "typee = 'clicks'\n",
    "# typee = 'carts'\n",
    "# typee = 'orders'\n",
    "\n",
    "id2type_name = 'id2type.pkl'\n",
    "\n",
    "random_state = 42"
   ]
  },
  {
   "cell_type": "code",
   "execution_count": null,
   "id": "nEqLmLupGRUw",
   "metadata": {
    "colab": {
     "base_uri": "https://localhost:8080/"
    },
    "executionInfo": {
     "elapsed": 23447,
     "status": "ok",
     "timestamp": 1695960987640,
     "user": {
      "displayName": "Stas Krupnov",
      "userId": "12188064098878037970"
     },
     "user_tz": -420
    },
    "id": "nEqLmLupGRUw",
    "outputId": "ac03c0da-3701-4c66-90a4-be4f874111c3"
   },
   "outputs": [
    {
     "name": "stderr",
     "output_type": "stream",
     "text": [
      "100%|██████████| 5/5 [00:22<00:00,  4.49s/it]\n"
     ]
    }
   ],
   "source": [
    "# Список файлов Parquet\n",
    "file_list = glob.glob(f'{main_path}/tr/{ver_folder}/tr_candidates_{typee}/*')\n",
    "\n",
    "# Создание пустого DataFrame для сбора данных\n",
    "tr_candidates = pd.DataFrame()\n",
    "\n",
    "# Цикл для чтения и объединения файлов\n",
    "for file in tqdm(file_list):\n",
    "    # Чтение файла Parquet во временный DataFrame\n",
    "    df_ = pd.read_parquet(file)\n",
    "\n",
    "    # Объединение временного DataFrame с основным датасетом\n",
    "    tr_candidates = pd.concat([tr_candidates, df_], ignore_index=True)"
   ]
  },
  {
   "cell_type": "markdown",
   "id": "V4TZKhl-GRUx",
   "metadata": {
    "id": "V4TZKhl-GRUx"
   },
   "source": [
    "**Downsampling**"
   ]
  },
  {
   "cell_type": "code",
   "execution_count": null,
   "id": "L6DxAEqSGRUy",
   "metadata": {
    "id": "L6DxAEqSGRUy"
   },
   "outputs": [],
   "source": [
    "from imblearn.under_sampling import RandomUnderSampler\n",
    "\n",
    "# clicks\n",
    "under_sampler = RandomUnderSampler(\n",
    "    sampling_strategy=0.43)  # Указываем желаемое соотношение классов\n",
    "\n",
    "# carts\n",
    "# under_sampler = RandomUnderSampler(sampling_strategy= 0.0624)  # Указываем желаемое соотношение классов\n",
    "\n",
    "# orders\n",
    "# under_sampler = RandomUnderSampler(sampling_strategy= 0.0624)  # Указываем желаемое соотношение классов"
   ]
  },
  {
   "cell_type": "code",
   "execution_count": null,
   "id": "L72MEtXnGRUy",
   "metadata": {
    "id": "L72MEtXnGRUy"
   },
   "outputs": [],
   "source": [
    "FEATURES = tr_candidates.columns[:-1]\n",
    "X = tr_candidates.loc[:, FEATURES]\n",
    "y = tr_candidates.loc[:, 'target']\n",
    "X_train, y_train = under_sampler.fit_resample(X, y)\n",
    "tr_candidates = pd.merge(X_train, y_train, left_index=True, right_index=True)"
   ]
  },
  {
   "cell_type": "code",
   "execution_count": null,
   "id": "kLZozUkzGRUz",
   "metadata": {
    "id": "kLZozUkzGRUz"
   },
   "outputs": [],
   "source": [
    "tr_candidates = tr_candidates.sort_values('session')\n",
    "tr_candidates = tr_candidates.reset_index(drop = True)"
   ]
  },
  {
   "cell_type": "code",
   "execution_count": null,
   "id": "wc5K61MDGRUz",
   "metadata": {
    "id": "wc5K61MDGRUz"
   },
   "outputs": [],
   "source": [
    "del X, y, X_train, y_train"
   ]
  },
  {
   "cell_type": "code",
   "execution_count": null,
   "id": "_PRutQInJFYX",
   "metadata": {
    "id": "_PRutQInJFYX"
   },
   "outputs": [],
   "source": [
    "tr_candidates.to_parquet('tr_candidates.parquet')"
   ]
  },
  {
   "cell_type": "code",
   "execution_count": null,
   "id": "10RBeA9MJUPQ",
   "metadata": {
    "id": "10RBeA9MJUPQ"
   },
   "outputs": [],
   "source": [
    "tr_candidates = pd.read_parquet('tr_candidates.parquet')"
   ]
  },
  {
   "cell_type": "markdown",
   "id": "VxC3P9eBGRUz",
   "metadata": {
    "id": "VxC3P9eBGRUz"
   },
   "source": [
    "**Optuna**"
   ]
  },
  {
   "cell_type": "markdown",
   "id": "IRE0lbymGRU0",
   "metadata": {
    "id": "IRE0lbymGRU0"
   },
   "source": [
    "**Я не могу замерять recall@20 внутри optuna, так как для recall@20 нужно изначально делить сессии на две части, а тут их придется делить внутри фолдов, используя valid части. Посколько это уже не сессии юзеров, а их рекомендации, там только уник. aid, и я не строю внутри фолдов рекомендации опять, а лишь могу  ранжировать, то и конечно пересечений между рекомендациями в одной части и \"ист.метками\" в другой не будет**. \\\n",
    "Опять же, recall@20 оценивает в целом мою возмонжость рекомендовать, а внутри оптюна моя цель лишь ранжировать хорошо"
   ]
  },
  {
   "cell_type": "code",
   "execution_count": null,
   "id": "TVrg1jhDxokc",
   "metadata": {
    "colab": {
     "base_uri": "https://localhost:8080/"
    },
    "executionInfo": {
     "elapsed": 8607,
     "status": "ok",
     "timestamp": 1696216237208,
     "user": {
      "displayName": "Stas Krupnov",
      "userId": "12188064098878037970"
     },
     "user_tz": -420
    },
    "id": "TVrg1jhDxokc",
    "outputId": "ca823d5b-f284-42a6-e4d5-319037b416bb"
   },
   "outputs": [
    {
     "name": "stdout",
     "output_type": "stream",
     "text": [
      "Collecting catboost\n",
      "  Downloading catboost-1.2.2-cp310-cp310-manylinux2014_x86_64.whl (98.7 MB)\n",
      "\u001b[2K     \u001b[90m━━━━━━━━━━━━━━━━━━━━━━━━━━━━━━━━━━━━━━━━\u001b[0m \u001b[32m98.7/98.7 MB\u001b[0m \u001b[31m18.3 MB/s\u001b[0m eta \u001b[36m0:00:00\u001b[0m\n",
      "\u001b[?25hRequirement already satisfied: graphviz in /usr/local/lib/python3.10/dist-packages (from catboost) (0.20.1)\n",
      "Requirement already satisfied: matplotlib in /usr/local/lib/python3.10/dist-packages (from catboost) (3.7.1)\n",
      "Requirement already satisfied: numpy>=1.16.0 in /usr/local/lib/python3.10/dist-packages (from catboost) (1.23.5)\n",
      "Requirement already satisfied: pandas>=0.24 in /usr/local/lib/python3.10/dist-packages (from catboost) (1.5.3)\n",
      "Requirement already satisfied: scipy in /usr/local/lib/python3.10/dist-packages (from catboost) (1.11.2)\n",
      "Requirement already satisfied: plotly in /usr/local/lib/python3.10/dist-packages (from catboost) (5.15.0)\n",
      "Requirement already satisfied: six in /usr/local/lib/python3.10/dist-packages (from catboost) (1.16.0)\n",
      "Requirement already satisfied: python-dateutil>=2.8.1 in /usr/local/lib/python3.10/dist-packages (from pandas>=0.24->catboost) (2.8.2)\n",
      "Requirement already satisfied: pytz>=2020.1 in /usr/local/lib/python3.10/dist-packages (from pandas>=0.24->catboost) (2023.3.post1)\n",
      "Requirement already satisfied: contourpy>=1.0.1 in /usr/local/lib/python3.10/dist-packages (from matplotlib->catboost) (1.1.0)\n",
      "Requirement already satisfied: cycler>=0.10 in /usr/local/lib/python3.10/dist-packages (from matplotlib->catboost) (0.11.0)\n",
      "Requirement already satisfied: fonttools>=4.22.0 in /usr/local/lib/python3.10/dist-packages (from matplotlib->catboost) (4.42.1)\n",
      "Requirement already satisfied: kiwisolver>=1.0.1 in /usr/local/lib/python3.10/dist-packages (from matplotlib->catboost) (1.4.5)\n",
      "Requirement already satisfied: packaging>=20.0 in /usr/local/lib/python3.10/dist-packages (from matplotlib->catboost) (23.1)\n",
      "Requirement already satisfied: pillow>=6.2.0 in /usr/local/lib/python3.10/dist-packages (from matplotlib->catboost) (9.4.0)\n",
      "Requirement already satisfied: pyparsing>=2.3.1 in /usr/local/lib/python3.10/dist-packages (from matplotlib->catboost) (3.1.1)\n",
      "Requirement already satisfied: tenacity>=6.2.0 in /usr/local/lib/python3.10/dist-packages (from plotly->catboost) (8.2.3)\n",
      "Installing collected packages: catboost\n",
      "Successfully installed catboost-1.2.2\n"
     ]
    }
   ],
   "source": [
    "!pip install catboost"
   ]
  },
  {
   "cell_type": "code",
   "execution_count": null,
   "id": "Ji7h1EuCyjN8",
   "metadata": {
    "id": "Ji7h1EuCyjN8"
   },
   "outputs": [],
   "source": [
    "import catboost\n",
    "from catboost import CatBoostRanker, Pool"
   ]
  },
  {
   "cell_type": "code",
   "execution_count": null,
   "id": "MrWrmwNGEKVU",
   "metadata": {
    "id": "MrWrmwNGEKVU"
   },
   "outputs": [],
   "source": [
    "import os\n",
    "os.environ['CATBOOST_GPU'] = '1'"
   ]
  },
  {
   "cell_type": "code",
   "execution_count": null,
   "id": "Ypw7E00_4aS5",
   "metadata": {
    "id": "Ypw7E00_4aS5"
   },
   "outputs": [],
   "source": [
    "folder_path = 'model'\n",
    "os.makedirs(folder_path, exist_ok=True)"
   ]
  },
  {
   "cell_type": "code",
   "execution_count": null,
   "id": "cKLocY7YxlA7",
   "metadata": {
    "id": "cKLocY7YxlA7"
   },
   "outputs": [],
   "source": [
    "def objective(trial: optuna.trial.Trial, data: pd.DataFrame,\n",
    "              random_state: int) -> float:\n",
    "    \"\"\"\n",
    "    Объектная функция для оптимизации гиперпараметров CatBoost.\n",
    "\n",
    "    Параметры:\n",
    "    - trial\n",
    "        Одна итерация оптимизации, содержащая гиперпараметры.\n",
    "    - data\n",
    "        Обучающий набор данных.\n",
    "    - random_state\n",
    "        Случайное зерно для воспроизводимости.\n",
    "\n",
    "    Возвращает:\n",
    "    - Среднее значение метрики pairlogit по всем фолдам для заданных гиперпараметров.\n",
    "    \"\"\"\n",
    "\n",
    "    # Гиперпараметры для оптимизации\n",
    "    catboost_params = {\n",
    "        'loss_function':\n",
    "        'PairLogit',  # Функция потерь PairLogit\n",
    "        'task_type':\n",
    "        'GPU',  # Использовать GPU для обучения\n",
    "        'random_seed':\n",
    "        trial.suggest_categorical('random_seed',\n",
    "                                  [random_state]),  # Случайное зерно\n",
    "        'iterations':\n",
    "        trial.suggest_categorical(\"iterations\", [1515]),\n",
    "        'learning_rate':\n",
    "        trial.suggest_categorical(\"learning_rate\", [0.013688644928808849]),\n",
    "        'l2_leaf_reg':\n",
    "        trial.suggest_float('l2_leaf_reg', 1e-5, 1e2,\n",
    "                            log=True),  # L2 регуляризация\n",
    "        'border_count':\n",
    "        trial.suggest_int('border_count', 32,\n",
    "                          255),  # Количество бинов для числовых признаков\n",
    "        'random_strength':\n",
    "        trial.suggest_float('random_strength', 0.0, 1.0),  # Сила случайности\n",
    "        'bootstrap_type':\n",
    "        trial.suggest_categorical('bootstrap_type',\n",
    "                                  ['Bernoulli', 'MVS', 'Poisson']),\n",
    "        \"depth\":\n",
    "        trial.suggest_int(\"depth\", 1, 10),\n",
    "        \"subsample\":\n",
    "        trial.suggest_float(\"subsample\", 0.05, 1.0),\n",
    "        \"min_data_in_leaf\":\n",
    "        trial.suggest_int(\"min_data_in_leaf\", 1, 100)\n",
    "    }\n",
    "\n",
    "    # K-fold кросс-валидация\n",
    "    skf = GroupKFold(n_splits=5)\n",
    "    FEATURES = data.columns[:-1]\n",
    "\n",
    "    # Контейнер для хранения значений метрики pairlogit для каждого фолда\n",
    "    scores = []\n",
    "\n",
    "    # Итерация по фолдам\n",
    "    for fold, (train_idx, valid_idx) in enumerate(\n",
    "            skf.split(data, data['target'], groups=data['session'])):\n",
    "\n",
    "        X_train = data.loc[train_idx, FEATURES]\n",
    "        y_train = data.loc[train_idx, 'target']\n",
    "        X_valid = data.loc[valid_idx, FEATURES]\n",
    "        y_valid = data.loc[valid_idx, 'target']\n",
    "\n",
    "        group_id_tr = X_train.iloc[:, 0]\n",
    "        group_id_v = X_valid.iloc[:, 0]\n",
    "\n",
    "        X_train = X_train.iloc[:, 2:]\n",
    "        X_valid = X_valid.iloc[:, 2:]\n",
    "\n",
    "        catboost_train = Pool(data=X_train,\n",
    "                              label=y_train,\n",
    "                              group_id=group_id_tr)\n",
    "        catboost_valid = Pool(data=X_valid, label=y_valid, group_id=group_id_v)\n",
    "\n",
    "        # Инициализация CatBoostRanker с гиперпараметрами\n",
    "        ranker = CatBoostRanker(**catboost_params)\n",
    "\n",
    "        # Обучение модели и оценка на валидационном наборе\n",
    "        ranker.fit(catboost_train, eval_set=catboost_valid, verbose_eval=100)\n",
    "\n",
    "        # Получение метрики pairlogit из лучших результатов валидации\n",
    "        pairlogit = ranker.best_score_['validation']['PairLogit']\n",
    "\n",
    "        # Сохранение значения метрики pairlogit для этого фолда\n",
    "        scores.append(pairlogit)\n",
    "\n",
    "    # Рассчет среднего значения метрики pairlogit по всем фолдам\n",
    "    pairlogit_mean = np.mean(scores)\n",
    "\n",
    "    return pairlogit_mean"
   ]
  },
  {
   "cell_type": "code",
   "execution_count": null,
   "id": "wouHBRxsCVII",
   "metadata": {
    "colab": {
     "base_uri": "https://localhost:8080/"
    },
    "executionInfo": {
     "elapsed": 498,
     "status": "ok",
     "timestamp": 1695960746834,
     "user": {
      "displayName": "Stas Krupnov",
      "userId": "12188064098878037970"
     },
     "user_tz": -420
    },
    "id": "wouHBRxsCVII",
    "outputId": "49c7f67f-9485-4c44-fbeb-e65fd3c8031c"
   },
   "outputs": [
    {
     "name": "stderr",
     "output_type": "stream",
     "text": [
      "[I 2023-09-29 04:12:26,159] A new study created in memory with name: CatBoost_Ranker_Optimization\n"
     ]
    }
   ],
   "source": [
    "# Создать Optuna study для оптимизации\n",
    "study = optuna.create_study(direction=\"minimize\",\n",
    "                            study_name=\"CatBoost_Ranker_Optimization\")\n",
    "func = lambda trial: objective(trial, tr_candidates, random_state=random_state)"
   ]
  },
  {
   "cell_type": "code",
   "execution_count": null,
   "id": "pwgDZY2ICTqe",
   "metadata": {
    "id": "pwgDZY2ICTqe"
   },
   "outputs": [],
   "source": [
    "study.optimize(func, n_trials=1, show_progress_bar=True, n_jobs=6)"
   ]
  },
  {
   "cell_type": "markdown",
   "id": "uvkFecwFn81O",
   "metadata": {
    "id": "uvkFecwFn81O"
   },
   "source": [
    "**Записываю варианты получившихся параметров и выбираю лучшие**"
   ]
  },
  {
   "cell_type": "markdown",
   "id": "fdQI7LGlGRU2",
   "metadata": {
    "id": "fdQI7LGlGRU2"
   },
   "source": [
    "**Clicks** \\\n",
    "0.3941695 \\\n",
    "{'random_seed': 42, 'iterations': 1758, 'learning_rate': 0.053701000860254436} \\   \n",
    "**0.3936051** \\\n",
    "{'random_seed': 42,\n",
    " 'iterations': 1758,\n",
    " 'learning_rate': 0.053701000860254436,\n",
    " 'l2_leaf_reg': 0.8881227642380258,\n",
    " 'border_count': 92,\n",
    " 'random_strength': 0.8903326222703105,\n",
    " 'bootstrap_type': 'Poisson',\n",
    " 'depth': 6,\n",
    " 'subsample': 0.9931914618968313,\n",
    " 'min_data_in_leaf': 7} \\.\n",
    " **Carts** \\\n",
    "  0.3076646 \\   \n",
    "  {'random_seed': 42, 'iterations': 724, 'learning_rate': 0.04034712260216462} \\\n",
    "  **0.307172** \\  \n",
    "  {'random_seed': 42,\n",
    " 'iterations': 724,\n",
    " 'learning_rate': 0.04034712260216462,\n",
    " 'l2_leaf_reg': 7.449337336120884,\n",
    " 'border_count': 198,\n",
    " 'random_strength': 0.3325166004315703,\n",
    " 'depth': 8,\n",
    " 'min_data_in_leaf': 12} \\  \n",
    "\n",
    " **Orders** \\\n",
    "0.1920218 \\  \n",
    "{'random_seed': 42, 'iterations': 1515, 'learning_rate': 0.013688644928808849} \\  \n",
    "0.1920230 \\  \n",
    "{'random_seed': 42,\n",
    " 'iterations': 1515,\n",
    " 'learning_rate': 0.013688644928808849,\n",
    " 'l2_leaf_reg': 15.665624071536678,\n",
    " 'border_count': 246,\n",
    " 'random_strength': 0.5474358984091794,\n",
    " 'depth': 6,\n",
    " 'min_data_in_leaf': 48} \\.  \n",
    " **0.1910265** \\  \n",
    "{'random_seed': 42,\n",
    " 'iterations': 1515,\n",
    " 'learning_rate': 0.013688644928808849,\n",
    " 'l2_leaf_reg': 0.03669716203608452,\n",
    " 'border_count': 235,\n",
    " 'random_strength': 0.526822845804525,\n",
    " 'bootstrap_type': 'Poisson',\n",
    " 'depth': 7,\n",
    " 'subsample': 0.938154110187783,\n",
    " 'min_data_in_leaf': 28} \\"
   ]
  },
  {
   "cell_type": "code",
   "execution_count": null,
   "id": "ydcuGTrJGRU3",
   "metadata": {
    "colab": {
     "base_uri": "https://localhost:8080/"
    },
    "executionInfo": {
     "elapsed": 10,
     "status": "ok",
     "timestamp": 1695897873727,
     "user": {
      "displayName": "Stas Krupnov",
      "userId": "12188064098878037970"
     },
     "user_tz": -420
    },
    "id": "ydcuGTrJGRU3",
    "outputId": "3e95c9d3-9c47-41f6-fc4b-c6ce1c947ef4"
   },
   "outputs": [
    {
     "data": {
      "text/plain": [
       "{'random_seed': 42,\n",
       " 'iterations': 1515,\n",
       " 'learning_rate': 0.013688644928808849,\n",
       " 'l2_leaf_reg': 0.03669716203608452,\n",
       " 'border_count': 235,\n",
       " 'random_strength': 0.526822845804525,\n",
       " 'bootstrap_type': 'Poisson',\n",
       " 'depth': 7,\n",
       " 'subsample': 0.938154110187783,\n",
       " 'min_data_in_leaf': 28}"
      ]
     },
     "execution_count": 50,
     "metadata": {},
     "output_type": "execute_result"
    }
   ],
   "source": [
    "study.best_params"
   ]
  },
  {
   "cell_type": "markdown",
   "id": "h3EgZSO7oLM_",
   "metadata": {
    "id": "h3EgZSO7oLM_"
   },
   "source": [
    "**Формирую словари лучших гиперпараметров**"
   ]
  },
  {
   "cell_type": "code",
   "execution_count": null,
   "id": "-W3H3qzsGRU3",
   "metadata": {
    "id": "-W3H3qzsGRU3"
   },
   "outputs": [],
   "source": [
    "best_p_cl = {\n",
    "    'loss_function': 'PairLogit',\n",
    "    'task_type': 'GPU',\n",
    "    'random_seed': 42,\n",
    "    'iterations': 1758,\n",
    "    'learning_rate': 0.053701000860254436,\n",
    "    'l2_leaf_reg': 0.8881227642380258,\n",
    "    'border_count': 92,\n",
    "    'random_strength': 0.8903326222703105,\n",
    "    'bootstrap_type': 'Poisson',\n",
    "    'depth': 6,\n",
    "    'subsample': 0.9931914618968313,\n",
    "    'min_data_in_leaf': 7\n",
    "}"
   ]
  },
  {
   "cell_type": "code",
   "execution_count": null,
   "id": "BMFx4Sj7GRU3",
   "metadata": {
    "id": "BMFx4Sj7GRU3"
   },
   "outputs": [],
   "source": [
    "best_p_carts = {\n",
    "    'loss_function': 'PairLogit',\n",
    "    'task_type': 'GPU',\n",
    "    'random_seed': 42,\n",
    "    'iterations': 724,\n",
    "    'learning_rate': 0.04034712260216462,\n",
    "    'l2_leaf_reg': 7.449337336120884,\n",
    "    'border_count': 198,\n",
    "    'random_strength': 0.3325166004315703,\n",
    "    'depth': 8,\n",
    "    'min_data_in_leaf': 12\n",
    "}"
   ]
  },
  {
   "cell_type": "code",
   "execution_count": null,
   "id": "cgsJ-iiNGRU4",
   "metadata": {
    "id": "cgsJ-iiNGRU4"
   },
   "outputs": [],
   "source": [
    "best_p_orders = {\n",
    "    'loss_function': 'PairLogit',\n",
    "    'task_type': 'GPU',\n",
    "    'random_seed': 42,\n",
    "    'iterations': 1515,\n",
    "    'learning_rate': 0.013688644928808849,\n",
    "    'l2_leaf_reg': 0.03669716203608452,\n",
    "    'border_count': 235,\n",
    "    'random_strength': 0.526822845804525,\n",
    "    'bootstrap_type': 'Poisson',\n",
    "    'depth': 7,\n",
    "    'subsample': 0.938154110187783,\n",
    "    'min_data_in_leaf': 28\n",
    "}"
   ]
  },
  {
   "cell_type": "markdown",
   "id": "AT_eqssJZ9LV",
   "metadata": {
    "id": "AT_eqssJZ9LV"
   },
   "source": [
    "## Обучение на best_params"
   ]
  },
  {
   "cell_type": "code",
   "execution_count": null,
   "id": "mngBvtVNaPG0",
   "metadata": {
    "colab": {
     "base_uri": "https://localhost:8080/"
    },
    "executionInfo": {
     "elapsed": 1106930,
     "status": "ok",
     "timestamp": 1695962600093,
     "user": {
      "displayName": "Stas Krupnov",
      "userId": "12188064098878037970"
     },
     "user_tz": -420
    },
    "id": "mngBvtVNaPG0",
    "outputId": "053caec0-e144-48e3-862b-a8383df1fc1c"
   },
   "outputs": [
    {
     "name": "stderr",
     "output_type": "stream",
     "text": [
      "type: 0it [00:00, ?it/s]\n",
      "  0%|          | 0/5 [00:00<?, ?it/s]\u001b[A\n",
      " 20%|██        | 1/5 [00:02<00:09,  2.46s/it]\u001b[A\n",
      " 40%|████      | 2/5 [00:06<00:09,  3.12s/it]\u001b[A\n",
      " 60%|██████    | 3/5 [00:10<00:07,  3.77s/it]\u001b[A\n",
      " 80%|████████  | 4/5 [00:15<00:04,  4.34s/it]\u001b[A\n",
      "100%|██████████| 5/5 [00:21<00:00,  4.27s/it]\n"
     ]
    },
    {
     "name": "stdout",
     "output_type": "stream",
     "text": [
      "reading_done\n",
      "sampling_done\n",
      "0:\tlearn: 0.6566164\ttest: 0.6566426\tbest: 0.6566426 (0)\ttotal: 45.6ms\tremaining: 1m 20s\n",
      "100:\tlearn: 0.4008695\ttest: 0.4023338\tbest: 0.4023338 (100)\ttotal: 4.31s\tremaining: 1m 10s\n",
      "200:\tlearn: 0.3970201\ttest: 0.3989531\tbest: 0.3989531 (200)\ttotal: 8.66s\tremaining: 1m 7s\n",
      "300:\tlearn: 0.3952726\ttest: 0.3976329\tbest: 0.3976329 (300)\ttotal: 13s\tremaining: 1m 2s\n",
      "400:\tlearn: 0.3941640\ttest: 0.3969386\tbest: 0.3969386 (400)\ttotal: 17.2s\tremaining: 58.2s\n",
      "500:\tlearn: 0.3932715\ttest: 0.3964530\tbest: 0.3964530 (500)\ttotal: 21.4s\tremaining: 53.8s\n",
      "600:\tlearn: 0.3925190\ttest: 0.3960877\tbest: 0.3960877 (600)\ttotal: 25.6s\tremaining: 49.3s\n",
      "700:\tlearn: 0.3918837\ttest: 0.3958487\tbest: 0.3958487 (700)\ttotal: 29.8s\tremaining: 44.9s\n",
      "800:\tlearn: 0.3912713\ttest: 0.3956112\tbest: 0.3956112 (800)\ttotal: 34s\tremaining: 40.6s\n",
      "900:\tlearn: 0.3906794\ttest: 0.3954109\tbest: 0.3954090 (899)\ttotal: 38.1s\tremaining: 36.3s\n",
      "1000:\tlearn: 0.3901777\ttest: 0.3952919\tbest: 0.3952915 (999)\ttotal: 42.3s\tremaining: 32s\n",
      "1100:\tlearn: 0.3896553\ttest: 0.3951298\tbest: 0.3951298 (1100)\ttotal: 46.5s\tremaining: 27.7s\n",
      "1200:\tlearn: 0.3891764\ttest: 0.3950199\tbest: 0.3950196 (1199)\ttotal: 50.6s\tremaining: 23.5s\n",
      "1300:\tlearn: 0.3887214\ttest: 0.3949452\tbest: 0.3949452 (1300)\ttotal: 54.8s\tremaining: 19.2s\n",
      "1400:\tlearn: 0.3882646\ttest: 0.3948593\tbest: 0.3948593 (1400)\ttotal: 58.9s\tremaining: 15s\n",
      "1500:\tlearn: 0.3878425\ttest: 0.3947986\tbest: 0.3947986 (1500)\ttotal: 1m 3s\tremaining: 10.8s\n",
      "1600:\tlearn: 0.3874272\ttest: 0.3947153\tbest: 0.3947153 (1600)\ttotal: 1m 7s\tremaining: 6.59s\n",
      "1700:\tlearn: 0.3870138\ttest: 0.3946685\tbest: 0.3946649 (1680)\ttotal: 1m 11s\tremaining: 2.39s\n",
      "1757:\tlearn: 0.3867815\ttest: 0.3946143\tbest: 0.3946143 (1757)\ttotal: 1m 13s\tremaining: 0us\n",
      "bestTest = 0.394614265\n",
      "bestIteration = 1757\n",
      "0:\tlearn: 0.6566271\ttest: 0.6565449\tbest: 0.6565449 (0)\ttotal: 45ms\tremaining: 1m 19s\n",
      "100:\tlearn: 0.4012859\ttest: 0.4009049\tbest: 0.4009049 (100)\ttotal: 4.28s\tremaining: 1m 10s\n",
      "200:\tlearn: 0.3974340\ttest: 0.3973688\tbest: 0.3973688 (200)\ttotal: 8.6s\tremaining: 1m 6s\n",
      "300:\tlearn: 0.3957436\ttest: 0.3959735\tbest: 0.3959735 (300)\ttotal: 12.9s\tremaining: 1m 2s\n",
      "400:\tlearn: 0.3946147\ttest: 0.3951539\tbest: 0.3951539 (400)\ttotal: 17.1s\tremaining: 58s\n",
      "500:\tlearn: 0.3937118\ttest: 0.3946273\tbest: 0.3946262 (499)\ttotal: 21.4s\tremaining: 53.6s\n",
      "600:\tlearn: 0.3929851\ttest: 0.3942489\tbest: 0.3942489 (600)\ttotal: 25.6s\tremaining: 49.2s\n",
      "700:\tlearn: 0.3923405\ttest: 0.3939769\tbest: 0.3939769 (700)\ttotal: 29.7s\tremaining: 44.8s\n",
      "800:\tlearn: 0.3917306\ttest: 0.3937476\tbest: 0.3937476 (800)\ttotal: 33.9s\tremaining: 40.6s\n",
      "900:\tlearn: 0.3911861\ttest: 0.3935342\tbest: 0.3935342 (900)\ttotal: 38.1s\tremaining: 36.3s\n",
      "1000:\tlearn: 0.3906802\ttest: 0.3933958\tbest: 0.3933958 (1000)\ttotal: 42.3s\tremaining: 32s\n",
      "1100:\tlearn: 0.3901979\ttest: 0.3932702\tbest: 0.3932702 (1100)\ttotal: 46.5s\tremaining: 27.7s\n",
      "1200:\tlearn: 0.3897138\ttest: 0.3931469\tbest: 0.3931465 (1199)\ttotal: 50.7s\tremaining: 23.5s\n",
      "1300:\tlearn: 0.3892708\ttest: 0.3930625\tbest: 0.3930599 (1296)\ttotal: 54.8s\tremaining: 19.3s\n",
      "1400:\tlearn: 0.3888412\ttest: 0.3929434\tbest: 0.3929420 (1399)\ttotal: 59s\tremaining: 15s\n",
      "1500:\tlearn: 0.3884021\ttest: 0.3928612\tbest: 0.3928611 (1499)\ttotal: 1m 3s\tremaining: 10.8s\n",
      "1600:\tlearn: 0.3879702\ttest: 0.3927935\tbest: 0.3927924 (1595)\ttotal: 1m 7s\tremaining: 6.6s\n",
      "1700:\tlearn: 0.3875704\ttest: 0.3927390\tbest: 0.3927377 (1696)\ttotal: 1m 11s\tremaining: 2.4s\n",
      "1757:\tlearn: 0.3873319\ttest: 0.3927209\tbest: 0.3927178 (1752)\ttotal: 1m 13s\tremaining: 0us\n",
      "bestTest = 0.3927178265\n",
      "bestIteration = 1752\n",
      "Shrink model to first 1753 iterations.\n",
      "0:\tlearn: 0.6565493\ttest: 0.6568446\tbest: 0.6568446 (0)\ttotal: 45.6ms\tremaining: 1m 20s\n",
      "100:\tlearn: 0.4006968\ttest: 0.4032737\tbest: 0.4032737 (100)\ttotal: 4.28s\tremaining: 1m 10s\n",
      "200:\tlearn: 0.3969521\ttest: 0.3997726\tbest: 0.3997726 (200)\ttotal: 8.61s\tremaining: 1m 6s\n",
      "300:\tlearn: 0.3951958\ttest: 0.3983275\tbest: 0.3983275 (300)\ttotal: 12.9s\tremaining: 1m 2s\n",
      "400:\tlearn: 0.3940742\ttest: 0.3975647\tbest: 0.3975647 (400)\ttotal: 17.2s\tremaining: 58s\n",
      "500:\tlearn: 0.3931338\ttest: 0.3970073\tbest: 0.3970073 (500)\ttotal: 21.3s\tremaining: 53.5s\n",
      "600:\tlearn: 0.3924159\ttest: 0.3966778\tbest: 0.3966778 (600)\ttotal: 25.5s\tremaining: 49.1s\n",
      "700:\tlearn: 0.3917123\ttest: 0.3963452\tbest: 0.3963452 (700)\ttotal: 29.7s\tremaining: 44.7s\n",
      "800:\tlearn: 0.3911026\ttest: 0.3961136\tbest: 0.3961136 (800)\ttotal: 33.9s\tremaining: 40.4s\n",
      "900:\tlearn: 0.3905644\ttest: 0.3959813\tbest: 0.3959813 (900)\ttotal: 38s\tremaining: 36.2s\n",
      "1000:\tlearn: 0.3900623\ttest: 0.3958702\tbest: 0.3958702 (1000)\ttotal: 42.2s\tremaining: 31.9s\n",
      "1100:\tlearn: 0.3895373\ttest: 0.3957130\tbest: 0.3957130 (1100)\ttotal: 46.4s\tremaining: 27.7s\n",
      "1200:\tlearn: 0.3890562\ttest: 0.3956110\tbest: 0.3956110 (1200)\ttotal: 50.6s\tremaining: 23.5s\n",
      "1300:\tlearn: 0.3885872\ttest: 0.3955042\tbest: 0.3955041 (1298)\ttotal: 54.8s\tremaining: 19.2s\n",
      "1400:\tlearn: 0.3881596\ttest: 0.3954751\tbest: 0.3954731 (1398)\ttotal: 58.9s\tremaining: 15s\n",
      "1500:\tlearn: 0.3877498\ttest: 0.3954061\tbest: 0.3954061 (1500)\ttotal: 1m 3s\tremaining: 10.8s\n",
      "1600:\tlearn: 0.3873465\ttest: 0.3953233\tbest: 0.3953230 (1599)\ttotal: 1m 7s\tremaining: 6.59s\n",
      "1700:\tlearn: 0.3869229\ttest: 0.3952661\tbest: 0.3952644 (1699)\ttotal: 1m 11s\tremaining: 2.39s\n",
      "1757:\tlearn: 0.3866964\ttest: 0.3952382\tbest: 0.3952382 (1757)\ttotal: 1m 13s\tremaining: 0us\n",
      "bestTest = 0.3952381614\n",
      "bestIteration = 1757\n",
      "0:\tlearn: 0.6567044\ttest: 0.6565971\tbest: 0.6565971 (0)\ttotal: 45.2ms\tremaining: 1m 19s\n",
      "100:\tlearn: 0.4014100\ttest: 0.4003506\tbest: 0.4003506 (100)\ttotal: 4.31s\tremaining: 1m 10s\n",
      "200:\tlearn: 0.3975237\ttest: 0.3967407\tbest: 0.3967407 (200)\ttotal: 8.58s\tremaining: 1m 6s\n",
      "300:\tlearn: 0.3957919\ttest: 0.3953325\tbest: 0.3953325 (300)\ttotal: 12.8s\tremaining: 1m 2s\n",
      "400:\tlearn: 0.3946397\ttest: 0.3945565\tbest: 0.3945565 (400)\ttotal: 17.1s\tremaining: 57.7s\n",
      "500:\tlearn: 0.3937223\ttest: 0.3940070\tbest: 0.3940070 (500)\ttotal: 21.3s\tremaining: 53.4s\n",
      "600:\tlearn: 0.3929644\ttest: 0.3936333\tbest: 0.3936333 (600)\ttotal: 25.5s\tremaining: 49.1s\n",
      "700:\tlearn: 0.3923206\ttest: 0.3933462\tbest: 0.3933462 (700)\ttotal: 29.6s\tremaining: 44.7s\n",
      "800:\tlearn: 0.3917339\ttest: 0.3931690\tbest: 0.3931690 (800)\ttotal: 33.8s\tremaining: 40.4s\n",
      "900:\tlearn: 0.3912035\ttest: 0.3929930\tbest: 0.3929930 (900)\ttotal: 38s\tremaining: 36.2s\n",
      "1000:\tlearn: 0.3906844\ttest: 0.3928404\tbest: 0.3928395 (999)\ttotal: 42.2s\tremaining: 31.9s\n",
      "1100:\tlearn: 0.3901528\ttest: 0.3926840\tbest: 0.3926840 (1100)\ttotal: 46.4s\tremaining: 27.7s\n",
      "1200:\tlearn: 0.3897042\ttest: 0.3925930\tbest: 0.3925930 (1200)\ttotal: 50.6s\tremaining: 23.5s\n",
      "1300:\tlearn: 0.3892699\ttest: 0.3924994\tbest: 0.3924994 (1300)\ttotal: 54.8s\tremaining: 19.2s\n",
      "1400:\tlearn: 0.3888392\ttest: 0.3924180\tbest: 0.3924160 (1397)\ttotal: 59s\tremaining: 15s\n",
      "1500:\tlearn: 0.3884167\ttest: 0.3923651\tbest: 0.3923643 (1489)\ttotal: 1m 3s\tremaining: 10.8s\n",
      "1600:\tlearn: 0.3879779\ttest: 0.3922909\tbest: 0.3922895 (1598)\ttotal: 1m 7s\tremaining: 6.6s\n",
      "1700:\tlearn: 0.3875779\ttest: 0.3922665\tbest: 0.3922616 (1692)\ttotal: 1m 11s\tremaining: 2.39s\n",
      "1757:\tlearn: 0.3873548\ttest: 0.3922451\tbest: 0.3922440 (1753)\ttotal: 1m 13s\tremaining: 0us\n",
      "bestTest = 0.3922439888\n",
      "bestIteration = 1753\n",
      "Shrink model to first 1754 iterations.\n",
      "0:\tlearn: 0.6566917\ttest: 0.6565816\tbest: 0.6565816 (0)\ttotal: 45.7ms\tremaining: 1m 20s\n",
      "100:\tlearn: 0.4014559\ttest: 0.4005551\tbest: 0.4005551 (100)\ttotal: 4.29s\tremaining: 1m 10s\n",
      "200:\tlearn: 0.3975917\ttest: 0.3969127\tbest: 0.3969127 (200)\ttotal: 8.61s\tremaining: 1m 6s\n",
      "300:\tlearn: 0.3958533\ttest: 0.3954872\tbest: 0.3954872 (300)\ttotal: 12.9s\tremaining: 1m 2s\n",
      "400:\tlearn: 0.3946964\ttest: 0.3946684\tbest: 0.3946684 (400)\ttotal: 17.2s\tremaining: 58.2s\n",
      "500:\tlearn: 0.3938664\ttest: 0.3941969\tbest: 0.3941969 (500)\ttotal: 21.4s\tremaining: 53.8s\n",
      "600:\tlearn: 0.3931150\ttest: 0.3938069\tbest: 0.3938069 (600)\ttotal: 25.7s\tremaining: 49.4s\n",
      "700:\tlearn: 0.3924238\ttest: 0.3934627\tbest: 0.3934627 (700)\ttotal: 29.9s\tremaining: 45.1s\n",
      "800:\tlearn: 0.3918172\ttest: 0.3932255\tbest: 0.3932255 (800)\ttotal: 34.1s\tremaining: 40.8s\n",
      "900:\tlearn: 0.3912943\ttest: 0.3930413\tbest: 0.3930411 (898)\ttotal: 38.3s\tremaining: 36.5s\n",
      "1000:\tlearn: 0.3907807\ttest: 0.3928892\tbest: 0.3928892 (1000)\ttotal: 42.5s\tremaining: 32.2s\n",
      "1100:\tlearn: 0.3902746\ttest: 0.3927363\tbest: 0.3927363 (1100)\ttotal: 46.7s\tremaining: 27.9s\n",
      "1200:\tlearn: 0.3897963\ttest: 0.3926107\tbest: 0.3926107 (1200)\ttotal: 50.8s\tremaining: 23.6s\n",
      "1300:\tlearn: 0.3893645\ttest: 0.3925213\tbest: 0.3925213 (1300)\ttotal: 55s\tremaining: 19.3s\n",
      "1400:\tlearn: 0.3889169\ttest: 0.3923992\tbest: 0.3923992 (1400)\ttotal: 59.2s\tremaining: 15.1s\n",
      "1500:\tlearn: 0.3884731\ttest: 0.3922943\tbest: 0.3922943 (1500)\ttotal: 1m 3s\tremaining: 10.8s\n",
      "1600:\tlearn: 0.3880515\ttest: 0.3922282\tbest: 0.3922282 (1600)\ttotal: 1m 7s\tremaining: 6.62s\n",
      "1700:\tlearn: 0.3876631\ttest: 0.3921722\tbest: 0.3921722 (1700)\ttotal: 1m 11s\tremaining: 2.4s\n",
      "1757:\tlearn: 0.3874378\ttest: 0.3921462\tbest: 0.3921462 (1757)\ttotal: 1m 14s\tremaining: 0us\n",
      "bestTest = 0.392146208\n",
      "bestIteration = 1757\n"
     ]
    },
    {
     "name": "stderr",
     "output_type": "stream",
     "text": [
      "\r",
      "type: 1it [08:05, 485.44s/it]"
     ]
    },
    {
     "name": "stdout",
     "output_type": "stream",
     "text": [
      "pairlogit_mean: 0.3933920899477553\n",
      "training_done\n"
     ]
    },
    {
     "name": "stderr",
     "output_type": "stream",
     "text": [
      "\n",
      "  0%|          | 0/5 [00:00<?, ?it/s]\u001b[A\n",
      " 20%|██        | 1/5 [00:05<00:20,  5.16s/it]\u001b[A\n",
      " 40%|████      | 2/5 [00:11<00:18,  6.10s/it]\u001b[A\n",
      " 60%|██████    | 3/5 [00:18<00:12,  6.21s/it]\u001b[A\n",
      " 80%|████████  | 4/5 [00:25<00:06,  6.72s/it]\u001b[A\n",
      "100%|██████████| 5/5 [00:33<00:00,  6.73s/it]\n"
     ]
    },
    {
     "name": "stdout",
     "output_type": "stream",
     "text": [
      "reading_done\n",
      "sampling_done\n",
      "0:\tlearn: 0.6480888\ttest: 0.6481078\tbest: 0.6481078 (0)\ttotal: 38.2ms\tremaining: 27.6s\n",
      "100:\tlearn: 0.3104180\ttest: 0.3138651\tbest: 0.3138651 (100)\ttotal: 3.88s\tremaining: 24s\n",
      "200:\tlearn: 0.3039429\ttest: 0.3104232\tbest: 0.3104232 (200)\ttotal: 7.78s\tremaining: 20.2s\n",
      "300:\tlearn: 0.3002566\ttest: 0.3094734\tbest: 0.3094734 (300)\ttotal: 11.7s\tremaining: 16.4s\n",
      "400:\tlearn: 0.2970513\ttest: 0.3089306\tbest: 0.3089176 (399)\ttotal: 15.6s\tremaining: 12.5s\n",
      "500:\tlearn: 0.2941111\ttest: 0.3086100\tbest: 0.3086059 (489)\ttotal: 19.4s\tremaining: 8.66s\n",
      "600:\tlearn: 0.2913561\ttest: 0.3084390\tbest: 0.3084342 (596)\ttotal: 23.3s\tremaining: 4.76s\n",
      "700:\tlearn: 0.2887533\ttest: 0.3083742\tbest: 0.3083742 (700)\ttotal: 27.1s\tremaining: 891ms\n",
      "723:\tlearn: 0.2881246\ttest: 0.3083306\tbest: 0.3083244 (709)\ttotal: 28s\tremaining: 0us\n",
      "bestTest = 0.3083244319\n",
      "bestIteration = 709\n",
      "Shrink model to first 710 iterations.\n",
      "0:\tlearn: 0.6477988\ttest: 0.6479433\tbest: 0.6479433 (0)\ttotal: 38.3ms\tremaining: 27.7s\n",
      "100:\tlearn: 0.3099364\ttest: 0.3158232\tbest: 0.3158232 (100)\ttotal: 3.88s\tremaining: 23.9s\n",
      "200:\tlearn: 0.3035089\ttest: 0.3124583\tbest: 0.3124583 (200)\ttotal: 7.77s\tremaining: 20.2s\n",
      "300:\tlearn: 0.2998802\ttest: 0.3115532\tbest: 0.3115532 (300)\ttotal: 11.7s\tremaining: 16.4s\n",
      "400:\tlearn: 0.2967952\ttest: 0.3110639\tbest: 0.3110639 (400)\ttotal: 15.6s\tremaining: 12.6s\n",
      "500:\tlearn: 0.2938980\ttest: 0.3107927\tbest: 0.3107927 (500)\ttotal: 19.5s\tremaining: 8.68s\n",
      "600:\tlearn: 0.2911676\ttest: 0.3105640\tbest: 0.3105559 (598)\ttotal: 23.4s\tremaining: 4.79s\n",
      "700:\tlearn: 0.2886128\ttest: 0.3105029\tbest: 0.3104883 (666)\ttotal: 27.3s\tremaining: 896ms\n",
      "723:\tlearn: 0.2880277\ttest: 0.3104791\tbest: 0.3104779 (721)\ttotal: 28.2s\tremaining: 0us\n",
      "bestTest = 0.3104778712\n",
      "bestIteration = 721\n",
      "Shrink model to first 722 iterations.\n",
      "0:\tlearn: 0.6481653\ttest: 0.6482279\tbest: 0.6482279 (0)\ttotal: 35.5ms\tremaining: 25.7s\n",
      "100:\tlearn: 0.3104713\ttest: 0.3130105\tbest: 0.3130105 (100)\ttotal: 3.86s\tremaining: 23.8s\n",
      "200:\tlearn: 0.3043031\ttest: 0.3096988\tbest: 0.3096988 (200)\ttotal: 7.75s\tremaining: 20.2s\n",
      "300:\tlearn: 0.3004175\ttest: 0.3086353\tbest: 0.3086353 (300)\ttotal: 11.6s\tremaining: 16.3s\n",
      "400:\tlearn: 0.2972027\ttest: 0.3082415\tbest: 0.3082415 (400)\ttotal: 15.5s\tremaining: 12.5s\n",
      "500:\tlearn: 0.2943536\ttest: 0.3079760\tbest: 0.3079760 (500)\ttotal: 19.4s\tremaining: 8.65s\n",
      "600:\tlearn: 0.2915756\ttest: 0.3077448\tbest: 0.3077219 (583)\ttotal: 23.3s\tremaining: 4.77s\n",
      "700:\tlearn: 0.2890383\ttest: 0.3076316\tbest: 0.3076316 (700)\ttotal: 27.2s\tremaining: 891ms\n",
      "723:\tlearn: 0.2884322\ttest: 0.3076376\tbest: 0.3076308 (704)\ttotal: 28.1s\tremaining: 0us\n",
      "bestTest = 0.3076308138\n",
      "bestIteration = 704\n",
      "Shrink model to first 705 iterations.\n",
      "0:\tlearn: 0.6480730\ttest: 0.6480187\tbest: 0.6480187 (0)\ttotal: 38.7ms\tremaining: 28s\n",
      "100:\tlearn: 0.3108166\ttest: 0.3118976\tbest: 0.3118976 (100)\ttotal: 3.86s\tremaining: 23.8s\n",
      "200:\tlearn: 0.3044562\ttest: 0.3084067\tbest: 0.3084067 (200)\ttotal: 7.75s\tremaining: 20.2s\n",
      "300:\tlearn: 0.3006012\ttest: 0.3073137\tbest: 0.3073137 (300)\ttotal: 11.7s\tremaining: 16.4s\n",
      "400:\tlearn: 0.2973897\ttest: 0.3067499\tbest: 0.3067499 (400)\ttotal: 15.6s\tremaining: 12.6s\n",
      "500:\tlearn: 0.2945397\ttest: 0.3065458\tbest: 0.3065458 (500)\ttotal: 19.5s\tremaining: 8.66s\n",
      "600:\tlearn: 0.2917562\ttest: 0.3063851\tbest: 0.3063753 (596)\ttotal: 23.4s\tremaining: 4.78s\n",
      "700:\tlearn: 0.2891956\ttest: 0.3063000\tbest: 0.3063000 (700)\ttotal: 27.3s\tremaining: 895ms\n",
      "723:\tlearn: 0.2885826\ttest: 0.3062570\tbest: 0.3062451 (715)\ttotal: 28.2s\tremaining: 0us\n",
      "bestTest = 0.306245144\n",
      "bestIteration = 715\n",
      "Shrink model to first 716 iterations.\n",
      "0:\tlearn: 0.6482944\ttest: 0.6482278\tbest: 0.6482278 (0)\ttotal: 36.6ms\tremaining: 26.5s\n",
      "100:\tlearn: 0.3106898\ttest: 0.3129580\tbest: 0.3129580 (100)\ttotal: 3.82s\tremaining: 23.6s\n",
      "200:\tlearn: 0.3042542\ttest: 0.3091689\tbest: 0.3091689 (200)\ttotal: 7.71s\tremaining: 20.1s\n",
      "300:\tlearn: 0.3005180\ttest: 0.3080804\tbest: 0.3080777 (295)\ttotal: 11.6s\tremaining: 16.4s\n",
      "400:\tlearn: 0.2973340\ttest: 0.3075144\tbest: 0.3075144 (400)\ttotal: 15.6s\tremaining: 12.5s\n",
      "500:\tlearn: 0.2944198\ttest: 0.3072225\tbest: 0.3072211 (499)\ttotal: 19.5s\tremaining: 8.66s\n",
      "600:\tlearn: 0.2918437\ttest: 0.3070187\tbest: 0.3070165 (598)\ttotal: 23.4s\tremaining: 4.78s\n",
      "700:\tlearn: 0.2893326\ttest: 0.3069404\tbest: 0.3069331 (687)\ttotal: 27.3s\tremaining: 895ms\n"
     ]
    },
    {
     "name": "stderr",
     "output_type": "stream",
     "text": [
      "\r",
      "type: 2it [12:20, 349.95s/it]"
     ]
    },
    {
     "name": "stdout",
     "output_type": "stream",
     "text": [
      "723:\tlearn: 0.2887600\ttest: 0.3069296\tbest: 0.3069264 (721)\ttotal: 28.2s\tremaining: 0us\n",
      "bestTest = 0.3069264141\n",
      "bestIteration = 721\n",
      "Shrink model to first 722 iterations.\n",
      "pairlogit_mean: 0.30792093498124806\n",
      "training_done\n"
     ]
    },
    {
     "name": "stderr",
     "output_type": "stream",
     "text": [
      "\n",
      "  0%|          | 0/5 [00:00<?, ?it/s]\u001b[A\n",
      " 20%|██        | 1/5 [00:04<00:17,  4.46s/it]\u001b[A\n",
      " 40%|████      | 2/5 [00:11<00:18,  6.14s/it]\u001b[A\n",
      " 60%|██████    | 3/5 [00:18<00:12,  6.47s/it]\u001b[A\n",
      " 80%|████████  | 4/5 [00:25<00:06,  6.80s/it]\u001b[A\n",
      "100%|██████████| 5/5 [00:33<00:00,  6.76s/it]\n"
     ]
    },
    {
     "name": "stdout",
     "output_type": "stream",
     "text": [
      "reading_done\n",
      "sampling_done\n",
      "0:\tlearn: 0.6696325\ttest: 0.6697260\tbest: 0.6697260 (0)\ttotal: 35.7ms\tremaining: 54.1s\n",
      "100:\tlearn: 0.2141224\ttest: 0.2150934\tbest: 0.2150934 (100)\ttotal: 3.21s\tremaining: 45s\n",
      "200:\tlearn: 0.1973599\ttest: 0.1987737\tbest: 0.1987737 (200)\ttotal: 6.51s\tremaining: 42.6s\n",
      "300:\tlearn: 0.1928804\ttest: 0.1952302\tbest: 0.1952302 (300)\ttotal: 9.83s\tremaining: 39.7s\n",
      "400:\tlearn: 0.1901888\ttest: 0.1934892\tbest: 0.1934892 (400)\ttotal: 13.2s\tremaining: 36.6s\n",
      "500:\tlearn: 0.1881997\ttest: 0.1924409\tbest: 0.1924409 (500)\ttotal: 16.5s\tremaining: 33.3s\n",
      "600:\tlearn: 0.1865662\ttest: 0.1917943\tbest: 0.1917943 (600)\ttotal: 19.8s\tremaining: 30.1s\n",
      "700:\tlearn: 0.1851920\ttest: 0.1913805\tbest: 0.1913804 (699)\ttotal: 23.1s\tremaining: 26.9s\n",
      "800:\tlearn: 0.1839145\ttest: 0.1910064\tbest: 0.1910062 (799)\ttotal: 26.4s\tremaining: 23.6s\n",
      "900:\tlearn: 0.1827501\ttest: 0.1907382\tbest: 0.1907382 (900)\ttotal: 29.7s\tremaining: 20.3s\n",
      "1000:\tlearn: 0.1816374\ttest: 0.1904976\tbest: 0.1904941 (996)\ttotal: 33s\tremaining: 17s\n",
      "1100:\tlearn: 0.1805964\ttest: 0.1902741\tbest: 0.1902741 (1100)\ttotal: 36.3s\tremaining: 13.7s\n",
      "1200:\tlearn: 0.1795822\ttest: 0.1900756\tbest: 0.1900756 (1200)\ttotal: 39.6s\tremaining: 10.4s\n",
      "1300:\tlearn: 0.1786221\ttest: 0.1899040\tbest: 0.1899040 (1300)\ttotal: 42.9s\tremaining: 7.06s\n",
      "1400:\tlearn: 0.1776783\ttest: 0.1897919\tbest: 0.1897919 (1400)\ttotal: 46.2s\tremaining: 3.76s\n",
      "1500:\tlearn: 0.1767802\ttest: 0.1896813\tbest: 0.1896799 (1499)\ttotal: 49.5s\tremaining: 462ms\n",
      "1514:\tlearn: 0.1766531\ttest: 0.1896800\tbest: 0.1896787 (1503)\ttotal: 49.9s\tremaining: 0us\n",
      "bestTest = 0.1896787413\n",
      "bestIteration = 1503\n",
      "Shrink model to first 1504 iterations.\n",
      "0:\tlearn: 0.6699012\ttest: 0.6699457\tbest: 0.6699457 (0)\ttotal: 34.4ms\tremaining: 52.1s\n",
      "100:\tlearn: 0.2136720\ttest: 0.2151268\tbest: 0.2151268 (100)\ttotal: 3.22s\tremaining: 45.1s\n",
      "200:\tlearn: 0.1972088\ttest: 0.1996297\tbest: 0.1996297 (200)\ttotal: 6.51s\tremaining: 42.6s\n",
      "300:\tlearn: 0.1926852\ttest: 0.1958808\tbest: 0.1958808 (300)\ttotal: 9.83s\tremaining: 39.6s\n",
      "400:\tlearn: 0.1900435\ttest: 0.1940613\tbest: 0.1940613 (400)\ttotal: 13.1s\tremaining: 36.5s\n",
      "500:\tlearn: 0.1880599\ttest: 0.1929735\tbest: 0.1929735 (500)\ttotal: 16.4s\tremaining: 33.3s\n",
      "600:\tlearn: 0.1864566\ttest: 0.1922206\tbest: 0.1922206 (600)\ttotal: 19.7s\tremaining: 30s\n",
      "700:\tlearn: 0.1850950\ttest: 0.1917499\tbest: 0.1917499 (700)\ttotal: 23s\tremaining: 26.7s\n",
      "800:\tlearn: 0.1838274\ttest: 0.1913472\tbest: 0.1913472 (800)\ttotal: 26.3s\tremaining: 23.4s\n",
      "900:\tlearn: 0.1826700\ttest: 0.1910198\tbest: 0.1910198 (900)\ttotal: 29.6s\tremaining: 20.1s\n",
      "1000:\tlearn: 0.1815830\ttest: 0.1908310\tbest: 0.1908310 (1000)\ttotal: 32.8s\tremaining: 16.8s\n",
      "1100:\tlearn: 0.1805564\ttest: 0.1906131\tbest: 0.1906131 (1100)\ttotal: 36.1s\tremaining: 13.6s\n",
      "1200:\tlearn: 0.1795511\ttest: 0.1904069\tbest: 0.1904069 (1200)\ttotal: 39.4s\tremaining: 10.3s\n",
      "1300:\tlearn: 0.1785820\ttest: 0.1902426\tbest: 0.1902388 (1299)\ttotal: 42.7s\tremaining: 7.02s\n",
      "1400:\tlearn: 0.1776975\ttest: 0.1901533\tbest: 0.1901533 (1400)\ttotal: 46s\tremaining: 3.75s\n",
      "1500:\tlearn: 0.1767697\ttest: 0.1900204\tbest: 0.1900192 (1499)\ttotal: 49.3s\tremaining: 460ms\n",
      "1514:\tlearn: 0.1766463\ttest: 0.1900091\tbest: 0.1900091 (1514)\ttotal: 49.8s\tremaining: 0us\n",
      "bestTest = 0.1900091241\n",
      "bestIteration = 1514\n",
      "0:\tlearn: 0.6698113\ttest: 0.6696185\tbest: 0.6696185 (0)\ttotal: 35ms\tremaining: 52.9s\n",
      "100:\tlearn: 0.2143549\ttest: 0.2119577\tbest: 0.2119577 (100)\ttotal: 3.21s\tremaining: 44.9s\n",
      "200:\tlearn: 0.1980782\ttest: 0.1962811\tbest: 0.1962811 (200)\ttotal: 6.49s\tremaining: 42.4s\n",
      "300:\tlearn: 0.1935823\ttest: 0.1924770\tbest: 0.1924770 (300)\ttotal: 9.78s\tremaining: 39.5s\n",
      "400:\tlearn: 0.1909433\ttest: 0.1906681\tbest: 0.1906681 (400)\ttotal: 13.1s\tremaining: 36.4s\n",
      "500:\tlearn: 0.1889057\ttest: 0.1894326\tbest: 0.1894326 (500)\ttotal: 16.4s\tremaining: 33.1s\n",
      "600:\tlearn: 0.1873799\ttest: 0.1887773\tbest: 0.1887773 (600)\ttotal: 19.7s\tremaining: 29.9s\n",
      "700:\tlearn: 0.1859857\ttest: 0.1882419\tbest: 0.1882419 (700)\ttotal: 23s\tremaining: 26.7s\n",
      "800:\tlearn: 0.1847259\ttest: 0.1878551\tbest: 0.1878551 (800)\ttotal: 26.3s\tremaining: 23.4s\n",
      "900:\tlearn: 0.1835439\ttest: 0.1875245\tbest: 0.1875245 (900)\ttotal: 29.5s\tremaining: 20.1s\n",
      "1000:\tlearn: 0.1824572\ttest: 0.1872372\tbest: 0.1872361 (997)\ttotal: 32.8s\tremaining: 16.9s\n",
      "1100:\tlearn: 0.1814010\ttest: 0.1869766\tbest: 0.1869766 (1100)\ttotal: 36.1s\tremaining: 13.6s\n",
      "1200:\tlearn: 0.1804070\ttest: 0.1868004\tbest: 0.1868003 (1199)\ttotal: 39.4s\tremaining: 10.3s\n",
      "1300:\tlearn: 0.1794905\ttest: 0.1866795\tbest: 0.1866737 (1294)\ttotal: 42.7s\tremaining: 7.03s\n",
      "1400:\tlearn: 0.1785707\ttest: 0.1865775\tbest: 0.1865775 (1400)\ttotal: 46s\tremaining: 3.75s\n",
      "1500:\tlearn: 0.1776288\ttest: 0.1864018\tbest: 0.1864018 (1500)\ttotal: 49.4s\tremaining: 460ms\n",
      "1514:\tlearn: 0.1775084\ttest: 0.1864029\tbest: 0.1863955 (1508)\ttotal: 49.8s\tremaining: 0us\n",
      "bestTest = 0.1863955477\n",
      "bestIteration = 1508\n",
      "Shrink model to first 1509 iterations.\n",
      "0:\tlearn: 0.6697599\ttest: 0.6700491\tbest: 0.6700491 (0)\ttotal: 34.5ms\tremaining: 52.3s\n",
      "100:\tlearn: 0.2120562\ttest: 0.2195368\tbest: 0.2195368 (100)\ttotal: 3.21s\tremaining: 44.9s\n",
      "200:\tlearn: 0.1955847\ttest: 0.2049186\tbest: 0.2049186 (200)\ttotal: 6.49s\tremaining: 42.4s\n",
      "300:\tlearn: 0.1910058\ttest: 0.2015023\tbest: 0.2015023 (300)\ttotal: 9.84s\tremaining: 39.7s\n",
      "400:\tlearn: 0.1883734\ttest: 0.1998791\tbest: 0.1998791 (400)\ttotal: 13.1s\tremaining: 36.5s\n",
      "500:\tlearn: 0.1863877\ttest: 0.1988664\tbest: 0.1988664 (500)\ttotal: 16.5s\tremaining: 33.3s\n",
      "600:\tlearn: 0.1848436\ttest: 0.1982500\tbest: 0.1982500 (600)\ttotal: 19.8s\tremaining: 30.1s\n",
      "700:\tlearn: 0.1834712\ttest: 0.1978146\tbest: 0.1978146 (700)\ttotal: 23.1s\tremaining: 26.9s\n",
      "800:\tlearn: 0.1822040\ttest: 0.1974104\tbest: 0.1974104 (800)\ttotal: 26.5s\tremaining: 23.6s\n",
      "900:\tlearn: 0.1810573\ttest: 0.1971168\tbest: 0.1971168 (900)\ttotal: 29.7s\tremaining: 20.3s\n",
      "1000:\tlearn: 0.1799576\ttest: 0.1968906\tbest: 0.1968906 (1000)\ttotal: 33.1s\tremaining: 17s\n",
      "1100:\tlearn: 0.1789242\ttest: 0.1967225\tbest: 0.1967196 (1097)\ttotal: 36.4s\tremaining: 13.7s\n",
      "1200:\tlearn: 0.1779070\ttest: 0.1965759\tbest: 0.1965759 (1200)\ttotal: 39.7s\tremaining: 10.4s\n",
      "1300:\tlearn: 0.1769480\ttest: 0.1964760\tbest: 0.1964664 (1291)\ttotal: 43.1s\tremaining: 7.08s\n",
      "1400:\tlearn: 0.1760247\ttest: 0.1963740\tbest: 0.1963740 (1400)\ttotal: 46.4s\tremaining: 3.77s\n",
      "1500:\tlearn: 0.1751446\ttest: 0.1962696\tbest: 0.1962696 (1500)\ttotal: 49.7s\tremaining: 464ms\n",
      "1514:\tlearn: 0.1750193\ttest: 0.1962518\tbest: 0.1962507 (1512)\ttotal: 50.2s\tremaining: 0us\n",
      "bestTest = 0.1962507268\n",
      "bestIteration = 1512\n",
      "Shrink model to first 1513 iterations.\n",
      "0:\tlearn: 0.6699033\ttest: 0.6697564\tbest: 0.6697564 (0)\ttotal: 34.8ms\tremaining: 52.7s\n",
      "100:\tlearn: 0.2149633\ttest: 0.2117810\tbest: 0.2117810 (100)\ttotal: 3.23s\tremaining: 45.3s\n",
      "200:\tlearn: 0.1987098\ttest: 0.1958196\tbest: 0.1958196 (200)\ttotal: 6.54s\tremaining: 42.8s\n",
      "300:\tlearn: 0.1937459\ttest: 0.1915647\tbest: 0.1915647 (300)\ttotal: 9.84s\tremaining: 39.7s\n",
      "400:\tlearn: 0.1911842\ttest: 0.1899174\tbest: 0.1899174 (400)\ttotal: 13.2s\tremaining: 36.6s\n",
      "500:\tlearn: 0.1891835\ttest: 0.1888658\tbest: 0.1888658 (500)\ttotal: 16.5s\tremaining: 33.3s\n",
      "600:\tlearn: 0.1875588\ttest: 0.1881117\tbest: 0.1881117 (600)\ttotal: 19.8s\tremaining: 30.1s\n",
      "700:\tlearn: 0.1861407\ttest: 0.1876886\tbest: 0.1876886 (700)\ttotal: 23.1s\tremaining: 26.8s\n",
      "800:\tlearn: 0.1848892\ttest: 0.1873662\tbest: 0.1873662 (800)\ttotal: 26.4s\tremaining: 23.5s\n",
      "900:\tlearn: 0.1837244\ttest: 0.1871027\tbest: 0.1870964 (897)\ttotal: 29.7s\tremaining: 20.2s\n",
      "1000:\tlearn: 0.1826089\ttest: 0.1868666\tbest: 0.1868666 (1000)\ttotal: 33s\tremaining: 16.9s\n",
      "1100:\tlearn: 0.1815285\ttest: 0.1866964\tbest: 0.1866921 (1099)\ttotal: 36.3s\tremaining: 13.6s\n",
      "1200:\tlearn: 0.1805323\ttest: 0.1865204\tbest: 0.1865204 (1200)\ttotal: 39.6s\tremaining: 10.3s\n",
      "1300:\tlearn: 0.1795447\ttest: 0.1863777\tbest: 0.1863777 (1300)\ttotal: 42.9s\tremaining: 7.05s\n",
      "1400:\tlearn: 0.1786013\ttest: 0.1862250\tbest: 0.1862230 (1395)\ttotal: 46.2s\tremaining: 3.76s\n",
      "1500:\tlearn: 0.1776793\ttest: 0.1861113\tbest: 0.1861113 (1500)\ttotal: 49.4s\tremaining: 461ms\n"
     ]
    },
    {
     "name": "stderr",
     "output_type": "stream",
     "text": [
      "type: 3it [18:26, 368.79s/it]"
     ]
    },
    {
     "name": "stdout",
     "output_type": "stream",
     "text": [
      "1514:\tlearn: 0.1775457\ttest: 0.1860902\tbest: 0.1860873 (1513)\ttotal: 49.9s\tremaining: 0us\n",
      "bestTest = 0.1860873187\n",
      "bestIteration = 1513\n",
      "Shrink model to first 1514 iterations.\n",
      "pairlogit_mean: 0.18968429172051454\n",
      "training_done\n"
     ]
    },
    {
     "name": "stderr",
     "output_type": "stream",
     "text": [
      "\n"
     ]
    }
   ],
   "source": [
    "downsamp_k = 16\n",
    "params = [best_p_cl, best_p_carts, best_p_orders]\n",
    "\n",
    "# Итерация по типам событий ('clicks', 'carts', 'orders') с использованием оптимальных параметров\n",
    "for typee, best_params in tqdm(zip(['clicks', 'carts', 'orders'], params),\n",
    "                               desc='type'):\n",
    "\n",
    "    # Загрузка данных для текущего типа событий\n",
    "    path = f'{main_path}/tr/ver_6/tr_candidates_{typee}/*'\n",
    "    tr_candidates = read_parquets(path)\n",
    "    print('reading_done')\n",
    "\n",
    "    # Приведение типов данных\n",
    "    tr_candidates.session = tr_candidates.session.astype(np.int32)\n",
    "    tr_candidates.aid = tr_candidates.aid.astype(np.int32)\n",
    "\n",
    "    # Вычисление соотношения классов\n",
    "    class_ratio = tr_candidates['target'].value_counts()[1] / \\\n",
    "                  tr_candidates['target'].value_counts()[0]\n",
    "\n",
    "    # Указание желаемого соотношения классов с использованием downsample\n",
    "    under_sampler = RandomUnderSampler(sampling_strategy=class_ratio *\n",
    "                                       downsamp_k)\n",
    "\n",
    "    # Downsampling для лучшего баланса классов\n",
    "    FEATURES = tr_candidates.columns[:-1]\n",
    "    X = tr_candidates.loc[:, FEATURES]\n",
    "    y = tr_candidates.loc[:, 'target']\n",
    "    X_train, y_train = under_sampler.fit_resample(X, y)\n",
    "    tr_candidates = pd.merge(X_train,\n",
    "                             y_train,\n",
    "                             left_index=True,\n",
    "                             right_index=True)\n",
    "    tr_candidates = tr_candidates.sort_values('session')\n",
    "    tr_candidates = tr_candidates.reset_index(drop=True)\n",
    "    del X, y\n",
    "    print('sampling_done')\n",
    "\n",
    "    # Обучение модели с использованием k-fold кросс-валидации\n",
    "    skf = GroupKFold(n_splits=5)\n",
    "    FEATURES = tr_candidates.columns[:-1]\n",
    "    scores = []\n",
    "\n",
    "    # Итерация по фолдам\n",
    "    for fold, (train_idx, valid_idx) in enumerate(\n",
    "            skf.split(tr_candidates,\n",
    "                      tr_candidates['target'],\n",
    "                      groups=tr_candidates['session'])):\n",
    "\n",
    "        X_train = tr_candidates.loc[train_idx, FEATURES]\n",
    "        y_train = tr_candidates.loc[train_idx, 'target']\n",
    "        X_valid = tr_candidates.loc[valid_idx, FEATURES]\n",
    "        y_valid = tr_candidates.loc[valid_idx, 'target']\n",
    "\n",
    "        group_id_tr = X_train.iloc[:, 0]\n",
    "        group_id_v = X_valid.iloc[:, 0]\n",
    "\n",
    "        X_train = X_train.iloc[:, 2:]\n",
    "        X_valid = X_valid.iloc[:, 2:]\n",
    "\n",
    "        catboost_train = Pool(data=X_train,\n",
    "                              label=y_train,\n",
    "                              group_id=group_id_tr)\n",
    "        catboost_valid = Pool(data=X_valid, label=y_valid, group_id=group_id_v)\n",
    "\n",
    "        # Инициализация CatBoostRanker с оптимальными параметрами\n",
    "        ranker = CatBoostRanker(**best_params)\n",
    "\n",
    "        # Обучение модели и оценка на валидационном наборе\n",
    "        ranker.fit(catboost_train, eval_set=catboost_valid, verbose_eval=100)\n",
    "\n",
    "        # Рассчет метрики pairlogit\n",
    "        pairlogit = ranker.best_score_['validation']['PairLogit']\n",
    "        scores.append(pairlogit)\n",
    "\n",
    "        # Сохранение модели на диск для каждого фолда\n",
    "        folder_path = f'model/{ver_tun}'\n",
    "        os.makedirs(folder_path, exist_ok=True)\n",
    "        ranker.save_model(f'model/{ver_tun}/catb_tun_{fold}_{typee}')\n",
    "\n",
    "    # Усреднение метрики pairlogit по всем фолдам\n",
    "    pairlogit_mean = np.mean(scores)\n",
    "    print('pairlogit_mean:', pairlogit_mean)\n",
    "    print('training_done')"
   ]
  },
  {
   "cell_type": "markdown",
   "id": "4xr4BieCoHd3",
   "metadata": {
    "id": "4xr4BieCoHd3"
   },
   "source": [
    "## Pairlogit's каждого типа Cross-val"
   ]
  },
  {
   "cell_type": "markdown",
   "id": "RU9jluRGoDFC",
   "metadata": {
    "id": "RU9jluRGoDFC"
   },
   "source": [
    "- pairlogit_mean_clicks: **0.3933920** (Baseline : 0.395109)\n",
    "- pairlogit_mean_carts: 0.30792093 (Baseline : **0.307252**)\n",
    "- pairlogit_mean_orders: **0.1896842** (Baseline : 0.191810)"
   ]
  },
  {
   "cell_type": "code",
   "execution_count": null,
   "id": "gKjX9VuyGRU4",
   "metadata": {
    "colab": {
     "base_uri": "https://localhost:8080/"
    },
    "executionInfo": {
     "elapsed": 461,
     "status": "ok",
     "timestamp": 1695963129104,
     "user": {
      "displayName": "Stas Krupnov",
      "userId": "12188064098878037970"
     },
     "user_tz": -420
    },
    "id": "gKjX9VuyGRU4",
    "outputId": "73ce84d8-7995-4acc-c708-44ae99d13be3"
   },
   "outputs": [
    {
     "data": {
      "text/plain": [
       "['/content/drive/Othercomputers/Mac/Jup.Notebook/models/catb_tun/catb_tun_0_orders',\n",
       " '/content/drive/Othercomputers/Mac/Jup.Notebook/models/catb_tun/catb_tun_1_clicks',\n",
       " '/content/drive/Othercomputers/Mac/Jup.Notebook/models/catb_tun/catb_tun_4_orders',\n",
       " '/content/drive/Othercomputers/Mac/Jup.Notebook/models/catb_tun/catb_tun_2_carts',\n",
       " '/content/drive/Othercomputers/Mac/Jup.Notebook/models/catb_tun/catb_tun_2_clicks',\n",
       " '/content/drive/Othercomputers/Mac/Jup.Notebook/models/catb_tun/catb_tun_3_clicks',\n",
       " '/content/drive/Othercomputers/Mac/Jup.Notebook/models/catb_tun/catb_tun_4_clicks',\n",
       " '/content/drive/Othercomputers/Mac/Jup.Notebook/models/catb_tun/catb_tun_0_carts',\n",
       " '/content/drive/Othercomputers/Mac/Jup.Notebook/models/catb_tun/catb_tun_2_orders',\n",
       " '/content/drive/Othercomputers/Mac/Jup.Notebook/models/catb_tun/catb_tun_1_carts',\n",
       " '/content/drive/Othercomputers/Mac/Jup.Notebook/models/catb_tun/catb_tun_1_orders',\n",
       " '/content/drive/Othercomputers/Mac/Jup.Notebook/models/catb_tun/catb_tun_3_carts',\n",
       " '/content/drive/Othercomputers/Mac/Jup.Notebook/models/catb_tun/catb_tun_0_clicks',\n",
       " '/content/drive/Othercomputers/Mac/Jup.Notebook/models/catb_tun/catb_tun_4_carts',\n",
       " '/content/drive/Othercomputers/Mac/Jup.Notebook/models/catb_tun/catb_tun_3_orders']"
      ]
     },
     "execution_count": 21,
     "metadata": {},
     "output_type": "execute_result"
    }
   ],
   "source": [
    "folder_path = f'{main_path}/models/{ver_tun}/'\n",
    "os.makedirs(folder_path, exist_ok=True)\n",
    "file_list = glob.glob(f'/content/model/{ver_tun}/*')\n",
    "[shutil.copy(file, f'{main_path}/models/{ver_tun}/') for file in file_list]"
   ]
  },
  {
   "cell_type": "markdown",
   "id": "NMwrnh8HMTwX",
   "metadata": {
    "id": "NMwrnh8HMTwX"
   },
   "source": [
    "## Предсказание + оценка"
   ]
  },
  {
   "cell_type": "code",
   "execution_count": null,
   "id": "ATsE6oJQ4B3j",
   "metadata": {
    "colab": {
     "base_uri": "https://localhost:8080/"
    },
    "executionInfo": {
     "elapsed": 396289,
     "status": "ok",
     "timestamp": 1695963616679,
     "user": {
      "displayName": "Stas Krupnov",
      "userId": "12188064098878037970"
     },
     "user_tz": -420
    },
    "id": "ATsE6oJQ4B3j",
    "outputId": "72e1a75f-be41-4370-e7a4-fe7dfe77ce05"
   },
   "outputs": [
    {
     "name": "stderr",
     "output_type": "stream",
     "text": [
      "type:   0%|          | 0/3 [00:00<?, ?it/s]\n",
      "  0%|          | 0/5 [00:00<?, ?it/s]\u001b[A\n",
      " 20%|██        | 1/5 [00:00<00:02,  1.50it/s]\u001b[A\n",
      " 40%|████      | 2/5 [00:01<00:02,  1.02it/s]\u001b[A\n",
      " 60%|██████    | 3/5 [00:03<00:02,  1.17s/it]\u001b[A\n",
      " 80%|████████  | 4/5 [00:04<00:01,  1.36s/it]\u001b[A\n",
      "100%|██████████| 5/5 [00:06<00:00,  1.39s/it]\n",
      "\n",
      "  0%|          | 0/5 [00:00<?, ?it/s]\u001b[A\n",
      " 20%|██        | 1/5 [00:15<01:03, 15.86s/it]\u001b[A\n",
      " 40%|████      | 2/5 [00:31<00:47, 15.95s/it]\u001b[A\n",
      " 60%|██████    | 3/5 [00:47<00:31, 15.92s/it]\u001b[A\n",
      " 80%|████████  | 4/5 [01:03<00:15, 15.83s/it]\u001b[A\n",
      "100%|██████████| 5/5 [01:19<00:00, 15.83s/it]\n",
      "type:  33%|███▎      | 1/3 [02:22<04:45, 142.89s/it]\n",
      "  0%|          | 0/5 [00:00<?, ?it/s]\u001b[A\n",
      " 20%|██        | 1/5 [00:00<00:02,  1.53it/s]\u001b[A\n",
      " 40%|████      | 2/5 [00:01<00:02,  1.09it/s]\u001b[A\n",
      " 60%|██████    | 3/5 [00:03<00:02,  1.13s/it]\u001b[A\n",
      " 80%|████████  | 4/5 [00:04<00:01,  1.36s/it]\u001b[A\n",
      "100%|██████████| 5/5 [00:06<00:00,  1.37s/it]\n",
      "\n",
      "  0%|          | 0/5 [00:00<?, ?it/s]\u001b[A\n",
      " 20%|██        | 1/5 [00:10<00:43, 10.85s/it]\u001b[A\n",
      " 40%|████      | 2/5 [00:20<00:30, 10.32s/it]\u001b[A\n",
      " 60%|██████    | 3/5 [00:30<00:20, 10.15s/it]\u001b[A\n",
      " 80%|████████  | 4/5 [00:41<00:10, 10.33s/it]\u001b[A\n",
      "100%|██████████| 5/5 [00:51<00:00, 10.26s/it]\n",
      "type:  67%|██████▋   | 2/3 [04:14<02:04, 124.65s/it]\n",
      "  0%|          | 0/5 [00:00<?, ?it/s]\u001b[A\n",
      " 20%|██        | 1/5 [00:00<00:02,  1.54it/s]\u001b[A\n",
      " 40%|████      | 2/5 [00:01<00:02,  1.09it/s]\u001b[A\n",
      " 60%|██████    | 3/5 [00:03<00:02,  1.13s/it]\u001b[A\n",
      " 80%|████████  | 4/5 [00:04<00:01,  1.36s/it]\u001b[A\n",
      "100%|██████████| 5/5 [00:06<00:00,  1.37s/it]\n",
      "\n",
      "  0%|          | 0/5 [00:00<?, ?it/s]\u001b[A\n",
      " 20%|██        | 1/5 [00:16<01:05, 16.38s/it]\u001b[A\n",
      " 40%|████      | 2/5 [00:33<00:50, 16.77s/it]\u001b[A\n",
      " 60%|██████    | 3/5 [00:49<00:32, 16.43s/it]\u001b[A\n",
      " 80%|████████  | 4/5 [01:05<00:16, 16.33s/it]\u001b[A\n",
      "100%|██████████| 5/5 [01:21<00:00, 16.37s/it]\n",
      "type: 100%|██████████| 3/3 [06:35<00:00, 131.93s/it]\n"
     ]
    }
   ],
   "source": [
    "lv_predictions_full = pd.DataFrame()\n",
    "\n",
    "# Итерация по типам событий ('clicks', 'carts', 'orders')\n",
    "for typee in tqdm(['clicks', 'carts', 'orders'], desc='type'):\n",
    "\n",
    "    # Проверка наличия кандидатов выбранного типа в рабочей директории\n",
    "    if not os.path.exists(f'/content/test_candidates_{typee}'):\n",
    "        # Импорт кандидатов выбранного типа\n",
    "        shutil.copytree(f'{main_path}/lv/ver_6/test_candidates_{typee}/',\n",
    "                        f'/content/test_candidates_{typee}/')\n",
    "\n",
    "    # Загрузка данных для текущего типа событий\n",
    "    path = f'test_candidates_{typee}/*'\n",
    "    test_candidates = read_parquets(path)\n",
    "    test_candidates = test_candidates.sort_values('session')\n",
    "    test_candidates = test_candidates.reset_index(drop=True)\n",
    "\n",
    "    # Выделение признаков\n",
    "    FEATURES = test_candidates.columns[2:]\n",
    "\n",
    "    # Создание пула данных для CatBoost\n",
    "    dtest = Pool(data=test_candidates[FEATURES])\n",
    "\n",
    "    preds = np.zeros(len(test_candidates))\n",
    "\n",
    "    # Итерация по фолдам для усреднения прогнозов\n",
    "    for fold in tqdm(range(5)):\n",
    "        model = CatBoostRanker(random_state=42)\n",
    "        model.load_model(f'model/{ver_tun}/catb_tun_{fold}_{typee}')\n",
    "        fold_preds = model.predict(dtest)\n",
    "        preds += fold_preds / 5\n",
    "\n",
    "    # Создание DataFrame с прогнозами для текущего типа\n",
    "    lv_predictions = test_candidates[['session', 'aid']].copy()\n",
    "    lv_predictions['pred'] = preds\n",
    "    lv_predictions = lv_predictions.sort_values(\n",
    "        ['session', 'pred'], ascending=[True, False]).reset_index(drop=True)\n",
    "    lv_predictions['n'] = lv_predictions.groupby(\n",
    "        'session').aid.cumcount().astype('int8')\n",
    "    lv_predictions = lv_predictions.loc[lv_predictions.n < 20]\n",
    "    lv_predictions = lv_predictions.groupby('session').aid.apply(list)\n",
    "    lv_predictions = lv_predictions.to_frame().reset_index()\n",
    "    lv_predictions.rename(columns={'aid': 'labels'}, inplace=True)\n",
    "    lv_predictions['type'] = typee\n",
    "\n",
    "    # Объединение временного DataFrame с основным датасетом\n",
    "    lv_predictions_full = pd.concat([lv_predictions_full, lv_predictions],\n",
    "                                    ignore_index=True)\n",
    "    del lv_predictions, preds, test_candidates\n",
    "\n",
    "    # Сохранение результатов прогнозирования в Parquet-файл\n",
    "    # lv_predictions.to_parquet(f'lv_predictions_{typee}.parquet')\n",
    "    # shutil.copy2(f'lv_predictions_{typee}.parquet', f'{main_path}/lv/{ver_folder}/lv_predictions_{typee}.parquet')"
   ]
  },
  {
   "cell_type": "markdown",
   "id": "L6eo365wwbuL",
   "metadata": {
    "id": "L6eo365wwbuL"
   },
   "source": [
    "## Score"
   ]
  },
  {
   "cell_type": "code",
   "execution_count": null,
   "id": "SUeT13hb4B3j",
   "metadata": {
    "id": "SUeT13hb4B3j"
   },
   "outputs": [],
   "source": [
    "id2type_name = 'id2type.pkl'\n",
    "# version = 'ver_6.1'"
   ]
  },
  {
   "cell_type": "code",
   "execution_count": null,
   "id": "CBbwTInz4B3j",
   "metadata": {
    "colab": {
     "base_uri": "https://localhost:8080/"
    },
    "executionInfo": {
     "elapsed": 70551,
     "status": "ok",
     "timestamp": 1695963705840,
     "user": {
      "displayName": "Stas Krupnov",
      "userId": "12188064098878037970"
     },
     "user_tz": -420
    },
    "id": "CBbwTInz4B3j",
    "outputId": "efbed39a-44d7-4ab0-8afe-4880e7362bae"
   },
   "outputs": [
    {
     "name": "stdout",
     "output_type": "stream",
     "text": [
      "Model score : (0.5268101513955865, type\n",
      "carts     0.367607\n",
      "clicks    0.394414\n",
      "orders    0.628478\n",
      "dtype: float64)\n"
     ]
    }
   ],
   "source": [
    "valid = pd.read_parquet(f'{main_path}/s/test_labels_loc.parquet')\n",
    "\n",
    "with open(f'{main_path}/pkl/{id2type_name}', 'rb') as file:\n",
    "    id2type = pickle.load(file)\n",
    "\n",
    "print('Model score :', metric_eval(lv_predictions_full, valid, id2type))"
   ]
  },
  {
   "cell_type": "markdown",
   "id": "FQeIQgg8vs9z",
   "metadata": {
    "id": "FQeIQgg8vs9z"
   },
   "source": [
    "- pairlogit_mean_clicks: **0.3933920** (Baseline : 0.395109)\n",
    "- pairlogit_mean_carts: 0.30792093 (Baseline : **0.307252**)\n",
    "- pairlogit_mean_orders: **0.1896842** (Baseline : 0.191810)"
   ]
  },
  {
   "cell_type": "markdown",
   "id": "gyJ0ZOhPUhlI",
   "metadata": {
    "id": "gyJ0ZOhPUhlI"
   },
   "source": [
    "0.5268101 - если обучать готовую модель на кросс-валидации,  \n",
    "но бейзлайн оубчался без кросс-валидации."
   ]
  },
  {
   "cell_type": "markdown",
   "id": "wuPpuQ8-U5PO",
   "metadata": {
    "id": "wuPpuQ8-U5PO"
   },
   "source": [
    "## Обучение на best_params без кросс-валидации"
   ]
  },
  {
   "cell_type": "code",
   "execution_count": null,
   "id": "tLpIGARjXPQz",
   "metadata": {
    "id": "tLpIGARjXPQz"
   },
   "outputs": [],
   "source": [
    "best_p_cl = {\n",
    "    'loss_function': 'PairLogit',\n",
    "    'task_type': 'GPU',\n",
    "    'random_seed': 42,\n",
    "    'iterations': 1758,\n",
    "    'learning_rate': 0.053701000860254436,\n",
    "    'l2_leaf_reg': 0.8881227642380258,\n",
    "    'border_count': 92,\n",
    "    'random_strength': 0.8903326222703105,\n",
    "    'bootstrap_type': 'Poisson',\n",
    "    'depth': 6,\n",
    "    'subsample': 0.9931914618968313,\n",
    "    'min_data_in_leaf': 7\n",
    "}"
   ]
  },
  {
   "cell_type": "code",
   "execution_count": null,
   "id": "zOCoJbJtXPQ0",
   "metadata": {
    "id": "zOCoJbJtXPQ0"
   },
   "outputs": [],
   "source": [
    "best_p_carts = {\n",
    "    'loss_function': 'PairLogit',\n",
    "    'task_type': 'GPU',\n",
    "    'random_seed': 42,\n",
    "    'iterations': 724,\n",
    "    'learning_rate': 0.04034712260216462,\n",
    "    'l2_leaf_reg': 7.449337336120884,\n",
    "    'border_count': 198,\n",
    "    'random_strength': 0.3325166004315703,\n",
    "    'depth': 8,\n",
    "    'min_data_in_leaf': 12\n",
    "}"
   ]
  },
  {
   "cell_type": "code",
   "execution_count": null,
   "id": "o6CY4i-PXPQ0",
   "metadata": {
    "id": "o6CY4i-PXPQ0"
   },
   "outputs": [],
   "source": [
    "best_p_orders = {\n",
    "    'loss_function': 'PairLogit',  # Функция потерь PairLogit\n",
    "    'task_type': 'GPU',\n",
    "    'random_seed': 42,\n",
    "    'iterations': 1515,\n",
    "    'learning_rate': 0.013688644928808849,\n",
    "    'l2_leaf_reg': 0.03669716203608452,\n",
    "    'border_count': 235,\n",
    "    'random_strength': 0.526822845804525,\n",
    "    'bootstrap_type': 'Poisson',\n",
    "    'depth': 7,\n",
    "    'subsample': 0.938154110187783,\n",
    "    'min_data_in_leaf': 28\n",
    "}"
   ]
  },
  {
   "cell_type": "code",
   "execution_count": null,
   "id": "3loOPyvDUrdt",
   "metadata": {
    "colab": {
     "base_uri": "https://localhost:8080/"
    },
    "executionInfo": {
     "elapsed": 444062,
     "status": "ok",
     "timestamp": 1695965535589,
     "user": {
      "displayName": "Stas Krupnov",
      "userId": "12188064098878037970"
     },
     "user_tz": -420
    },
    "id": "3loOPyvDUrdt",
    "outputId": "da951ced-5087-4c10-e3f9-aff691940497"
   },
   "outputs": [
    {
     "name": "stderr",
     "output_type": "stream",
     "text": [
      "type: 0it [00:00, ?it/s]\n",
      "  0%|          | 0/5 [00:00<?, ?it/s]\u001b[A\n",
      " 20%|██        | 1/5 [00:03<00:13,  3.41s/it]\u001b[A\n",
      " 40%|████      | 2/5 [00:07<00:11,  3.92s/it]\u001b[A\n",
      " 60%|██████    | 3/5 [00:12<00:08,  4.13s/it]\u001b[A\n",
      " 80%|████████  | 4/5 [00:17<00:04,  4.50s/it]\u001b[A\n",
      "100%|██████████| 5/5 [00:23<00:00,  4.65s/it]\n"
     ]
    },
    {
     "name": "stdout",
     "output_type": "stream",
     "text": [
      "reading_done\n",
      "sampling_done\n"
     ]
    },
    {
     "name": "stderr",
     "output_type": "stream",
     "text": [
      "\r",
      "type: 1it [02:51, 171.05s/it]"
     ]
    },
    {
     "name": "stdout",
     "output_type": "stream",
     "text": [
      "pairlogit: 0.3883519543825259\n",
      "training_done\n"
     ]
    },
    {
     "name": "stderr",
     "output_type": "stream",
     "text": [
      "\n",
      "  0%|          | 0/5 [00:00<?, ?it/s]\u001b[A\n",
      " 20%|██        | 1/5 [00:04<00:17,  4.28s/it]\u001b[A\n",
      " 40%|████      | 2/5 [00:10<00:16,  5.36s/it]\u001b[A\n",
      " 60%|██████    | 3/5 [00:16<00:11,  5.74s/it]\u001b[A\n",
      " 80%|████████  | 4/5 [00:23<00:06,  6.27s/it]\u001b[A\n",
      "100%|██████████| 5/5 [00:31<00:00,  6.22s/it]\n"
     ]
    },
    {
     "name": "stdout",
     "output_type": "stream",
     "text": [
      "reading_done\n",
      "sampling_done\n"
     ]
    },
    {
     "name": "stderr",
     "output_type": "stream",
     "text": [
      "\r",
      "type: 2it [04:53, 142.55s/it]"
     ]
    },
    {
     "name": "stdout",
     "output_type": "stream",
     "text": [
      "pairlogit: 0.29182062795452757\n",
      "training_done\n"
     ]
    },
    {
     "name": "stderr",
     "output_type": "stream",
     "text": [
      "\n",
      "  0%|          | 0/5 [00:00<?, ?it/s]\u001b[A\n",
      " 20%|██        | 1/5 [00:04<00:17,  4.39s/it]\u001b[A\n",
      " 40%|████      | 2/5 [00:10<00:15,  5.18s/it]\u001b[A\n",
      " 60%|██████    | 3/5 [00:16<00:11,  5.63s/it]\u001b[A\n",
      " 80%|████████  | 4/5 [00:23<00:06,  6.15s/it]\u001b[A\n",
      "100%|██████████| 5/5 [00:30<00:00,  6.16s/it]\n"
     ]
    },
    {
     "name": "stdout",
     "output_type": "stream",
     "text": [
      "reading_done\n",
      "sampling_done\n"
     ]
    },
    {
     "name": "stderr",
     "output_type": "stream",
     "text": [
      "type: 3it [07:23, 147.89s/it]"
     ]
    },
    {
     "name": "stdout",
     "output_type": "stream",
     "text": [
      "pairlogit: 0.18069645427941486\n",
      "training_done\n"
     ]
    },
    {
     "name": "stderr",
     "output_type": "stream",
     "text": [
      "\n"
     ]
    }
   ],
   "source": [
    "downsamp_k = 16\n",
    "params = [best_p_cl, best_p_carts, best_p_orders]\n",
    "for typee, best_params in tqdm(zip(['clicks', 'carts', 'orders'], params),\n",
    "                               desc='type'):\n",
    "\n",
    "    path = f'{main_path}/tr/ver_6/tr_candidates_{typee}/*'\n",
    "    tr_candidates = read_parquets(path)\n",
    "    print('reading_done')\n",
    "\n",
    "    tr_candidates.session = tr_candidates.session.astype(np.int32)\n",
    "    tr_candidates.aid = tr_candidates.aid.astype(np.int32)\n",
    "\n",
    "    class_ratio = tr_candidates['target'].value_counts()[1] / \\\n",
    "                  tr_candidates['target'].value_counts()[0]\n",
    "\n",
    "    # Указываем желаемое соотношение классов\n",
    "    under_sampler = RandomUnderSampler(sampling_strategy=class_ratio *\n",
    "                                       downsamp_k)\n",
    "\n",
    "    # downsamling для лучшего баланса классов\n",
    "    FEATURES = tr_candidates.columns[:-1]\n",
    "    X = tr_candidates.loc[:, FEATURES]\n",
    "    y = tr_candidates.loc[:, 'target']\n",
    "    X_train, y_train = under_sampler.fit_resample(X, y)\n",
    "    tr_candidates = pd.merge(X_train,\n",
    "                             y_train,\n",
    "                             left_index=True,\n",
    "                             right_index=True)\n",
    "    tr_candidates = tr_candidates.sort_values('session')\n",
    "    tr_candidates = tr_candidates.reset_index(drop=True)\n",
    "    del X, y\n",
    "    print('sampling_done')\n",
    "\n",
    "    # Обучение модели\n",
    "    X_train = tr_candidates[FEATURES]\n",
    "    y_train = tr_candidates['target']\n",
    "\n",
    "    group_id_tr = X_train.iloc[:, 0]\n",
    "\n",
    "    X_train = X_train.iloc[:, 2:]\n",
    "\n",
    "    catboost_train = Pool(data=X_train, label=y_train, group_id=group_id_tr)\n",
    "\n",
    "    ranker = CatBoostRanker(**best_params)\n",
    "    ranker.fit(catboost_train, early_stopping_rounds=50, verbose=False)\n",
    "\n",
    "    # Рассчитать метрику pairlogit\n",
    "    pairlogit = ranker.best_score_['learn']['PairLogit']\n",
    "\n",
    "    folder_path = f'model/{ver_tun}_no_kfold'\n",
    "    os.makedirs(folder_path, exist_ok=True)\n",
    "    ranker.save_model(f'model/{ver_tun}_no_kfold/catb_tun_{fold}_{typee}')\n",
    "\n",
    "    print('pairlogit:', pairlogit)\n",
    "    print('training_done')"
   ]
  },
  {
   "cell_type": "code",
   "execution_count": null,
   "id": "O1t9SQZyZWOG",
   "metadata": {
    "colab": {
     "base_uri": "https://localhost:8080/"
    },
    "executionInfo": {
     "elapsed": 15,
     "status": "ok",
     "timestamp": 1695965080272,
     "user": {
      "displayName": "Stas Krupnov",
      "userId": "12188064098878037970"
     },
     "user_tz": -420
    },
    "id": "O1t9SQZyZWOG",
    "outputId": "d7648248-e596-4d3c-baf7-e090081b723b"
   },
   "outputs": [
    {
     "data": {
      "text/plain": [
       "{'learn': {'PairLogit': 0.3890073754283778}}"
      ]
     },
     "execution_count": 33,
     "metadata": {},
     "output_type": "execute_result"
    }
   ],
   "source": [
    "ranker.best_score_"
   ]
  },
  {
   "cell_type": "markdown",
   "id": "JLHtn-48VCf8",
   "metadata": {
    "id": "JLHtn-48VCf8"
   },
   "source": [
    "## Предсказание + оценка (повторное)"
   ]
  },
  {
   "cell_type": "code",
   "execution_count": null,
   "id": "T8pD9zlpVCf9",
   "metadata": {
    "colab": {
     "base_uri": "https://localhost:8080/"
    },
    "executionInfo": {
     "elapsed": 226103,
     "status": "ok",
     "timestamp": 1695965866700,
     "user": {
      "displayName": "Stas Krupnov",
      "userId": "12188064098878037970"
     },
     "user_tz": -420
    },
    "id": "T8pD9zlpVCf9",
    "outputId": "14b987ba-1193-46a5-a519-545861521b3b"
   },
   "outputs": [
    {
     "name": "stderr",
     "output_type": "stream",
     "text": [
      "type:   0%|          | 0/3 [00:00<?, ?it/s]\n",
      "  0%|          | 0/5 [00:00<?, ?it/s]\u001b[A\n",
      " 20%|██        | 1/5 [00:02<00:09,  2.40s/it]\u001b[A\n",
      " 40%|████      | 2/5 [00:04<00:07,  2.45s/it]\u001b[A\n",
      " 60%|██████    | 3/5 [00:07<00:05,  2.55s/it]\u001b[A\n",
      " 80%|████████  | 4/5 [00:10<00:02,  2.84s/it]\u001b[A\n",
      "100%|██████████| 5/5 [00:14<00:00,  2.83s/it]\n",
      "type:  33%|███▎      | 1/3 [01:26<02:53, 86.67s/it]\n",
      "  0%|          | 0/5 [00:00<?, ?it/s]\u001b[A\n",
      " 20%|██        | 1/5 [00:01<00:04,  1.18s/it]\u001b[A\n",
      " 40%|████      | 2/5 [00:02<00:04,  1.49s/it]\u001b[A\n",
      " 60%|██████    | 3/5 [00:04<00:03,  1.70s/it]\u001b[A\n",
      " 80%|████████  | 4/5 [00:07<00:01,  1.92s/it]\u001b[A\n",
      "100%|██████████| 5/5 [00:09<00:00,  1.93s/it]\n",
      "type:  67%|██████▋   | 2/3 [02:34<01:15, 75.49s/it]\n",
      "  0%|          | 0/5 [00:00<?, ?it/s]\u001b[A\n",
      " 20%|██        | 1/5 [00:01<00:04,  1.17s/it]\u001b[A\n",
      " 40%|████      | 2/5 [00:02<00:04,  1.47s/it]\u001b[A\n",
      " 60%|██████    | 3/5 [00:04<00:03,  1.68s/it]\u001b[A\n",
      " 80%|████████  | 4/5 [00:07<00:01,  1.92s/it]\u001b[A\n",
      "100%|██████████| 5/5 [00:09<00:00,  1.95s/it]\n",
      "type: 100%|██████████| 3/3 [03:45<00:00, 75.19s/it]\n"
     ]
    }
   ],
   "source": [
    "lv_predictions_full = pd.DataFrame()\n",
    "\n",
    "# Итерация по типам событий ('clicks', 'carts', 'orders')\n",
    "for typee in tqdm(['clicks', 'carts', 'orders'], desc='type'):\n",
    "\n",
    "    # Проверка наличия кандидатов выбранного типа в рабочей директории\n",
    "    if not os.path.exists(f'/content/test_candidates_{typee}'):\n",
    "        # Импорт кандидатов выбранного типа\n",
    "        shutil.copytree(f'{main_path}/lv/ver_6/test_candidates_{typee}/',\n",
    "                        f'/content/test_candidates_{typee}/')\n",
    "\n",
    "    # Загрузка данных для текущего типа событий\n",
    "    path = f'test_candidates_{typee}/*'\n",
    "    test_candidates = read_parquets(path)\n",
    "    test_candidates = test_candidates.sort_values('session')\n",
    "    test_candidates = test_candidates.reset_index(drop=True)\n",
    "\n",
    "    # Выделение признаков\n",
    "    FEATURES = test_candidates.columns[2:]\n",
    "\n",
    "    # Создание пула данных для CatBoost\n",
    "    dtest = Pool(data=test_candidates[FEATURES])\n",
    "\n",
    "    # Загрузка обученной модели для текущего типа событий (в данном случае, для 4-го фолда)\n",
    "    model = CatBoostRanker(random_state=42)\n",
    "    model.load_model(f'model/{ver_tun}/catb_tun_4_{typee}')\n",
    "\n",
    "    # Получение прогнозов\n",
    "    preds = model.predict(dtest)\n",
    "\n",
    "    # Создание DataFrame с прогнозами для текущего типа\n",
    "    lv_predictions = test_candidates[['session', 'aid']].copy()\n",
    "    lv_predictions['pred'] = preds\n",
    "    lv_predictions = lv_predictions.sort_values(\n",
    "        ['session', 'pred'], ascending=[True, False]).reset_index(drop=True)\n",
    "    lv_predictions['n'] = lv_predictions.groupby(\n",
    "        'session').aid.cumcount().astype('int8')\n",
    "    lv_predictions = lv_predictions.loc[lv_predictions.n < 20]\n",
    "    lv_predictions = lv_predictions.groupby('session').aid.apply(list)\n",
    "    lv_predictions = lv_predictions.to_frame().reset_index()\n",
    "    lv_predictions.rename(columns={'aid': 'labels'}, inplace=True)\n",
    "    lv_predictions['type'] = typee\n",
    "\n",
    "    # Объединение временного DataFrame с основным датасетом\n",
    "    lv_predictions_full = pd.concat([lv_predictions_full, lv_predictions],\n",
    "                                    ignore_index=True)\n",
    "    del lv_predictions, preds, test_candidates\n",
    "\n",
    "    # Сохранение результатов прогнозирования в Parquet-файл\n",
    "    # lv_predictions.to_parquet(f'lv_predictions_{typee}.parquet')\n",
    "    # shutil.copy2(f'lv_predictions_{typee}.parquet', f'{main_path}/lv/{ver_folder}/lv_predictions_{typee}.parquet')"
   ]
  },
  {
   "cell_type": "markdown",
   "id": "z3Kib6ovcn38",
   "metadata": {
    "id": "z3Kib6ovcn38"
   },
   "source": [
    "## Score"
   ]
  },
  {
   "cell_type": "code",
   "execution_count": null,
   "id": "pMHEW4GAcn39",
   "metadata": {
    "id": "pMHEW4GAcn39"
   },
   "outputs": [],
   "source": [
    "id2type_name = 'id2type.pkl'\n",
    "# version = 'ver_6.1'"
   ]
  },
  {
   "cell_type": "code",
   "execution_count": null,
   "id": "m8EIWWdYcn39",
   "metadata": {
    "colab": {
     "base_uri": "https://localhost:8080/"
    },
    "executionInfo": {
     "elapsed": 72429,
     "status": "ok",
     "timestamp": 1695966030021,
     "user": {
      "displayName": "Stas Krupnov",
      "userId": "12188064098878037970"
     },
     "user_tz": -420
    },
    "id": "m8EIWWdYcn39",
    "outputId": "8816d5f5-5374-4363-c27b-5d9bef1db1e4"
   },
   "outputs": [
    {
     "name": "stdout",
     "output_type": "stream",
     "text": [
      "Model score : (0.52662368294355, type\n",
      "carts     0.367851\n",
      "clicks    0.393613\n",
      "orders    0.628179\n",
      "dtype: float64)\n"
     ]
    }
   ],
   "source": [
    "valid = pd.read_parquet(f'{main_path}/s/test_labels_loc.parquet')\n",
    "\n",
    "with open(f'{main_path}/pkl/{id2type_name}', 'rb') as file:\n",
    "    id2type = pickle.load(file)\n",
    "\n",
    "print('Model score :', metric_eval(lv_predictions_full, valid, id2type))"
   ]
  },
  {
   "cell_type": "markdown",
   "id": "ql-CxPFpcn39",
   "metadata": {
    "id": "ql-CxPFpcn39"
   },
   "source": [
    "0.5268101 - если обучать готовую модель на кросс-валидации,  \n",
    "но бейзлайн оубчался без кросс-валидации."
   ]
  },
  {
   "cell_type": "markdown",
   "id": "iZtZOOAOmxDN",
   "metadata": {
    "id": "iZtZOOAOmxDN"
   },
   "source": [
    "\n",
    "# Ver_8 CatB Tune PFound"
   ]
  },
  {
   "cell_type": "markdown",
   "id": "L1hhrqh0m3n_",
   "metadata": {
    "id": "L1hhrqh0m3n_"
   },
   "source": [
    "## Подбор гиперпараметров с Optuna"
   ]
  },
  {
   "cell_type": "code",
   "execution_count": null,
   "id": "1-oRX2fxm3oB",
   "metadata": {
    "id": "1-oRX2fxm3oB"
   },
   "outputs": [],
   "source": [
    "ver_tun = 'catb_tun'\n",
    "ver = 6\n",
    "ver_folder = f'ver_{ver}'\n",
    "# typee = 'clicks'\n",
    "# typee = 'carts'\n",
    "typee = 'orders'\n",
    "\n",
    "id2type_name = 'id2type.pkl'\n",
    "\n",
    "random_state = 42"
   ]
  },
  {
   "cell_type": "code",
   "execution_count": null,
   "id": "4rEUbxPam3oC",
   "metadata": {
    "colab": {
     "base_uri": "https://localhost:8080/"
    },
    "executionInfo": {
     "elapsed": 38605,
     "status": "ok",
     "timestamp": 1696301861531,
     "user": {
      "displayName": "Stas Krupnov",
      "userId": "12188064098878037970"
     },
     "user_tz": -420
    },
    "id": "4rEUbxPam3oC",
    "outputId": "3b1466cc-307b-43b0-8691-79697e8f389f"
   },
   "outputs": [
    {
     "name": "stderr",
     "output_type": "stream",
     "text": [
      "100%|██████████| 5/5 [00:36<00:00,  7.25s/it]\n"
     ]
    }
   ],
   "source": [
    "# Список файлов Parquet\n",
    "file_list = glob.glob(f'{main_path}/tr/{ver_folder}/tr_candidates_{typee}/*')\n",
    "\n",
    "# Создание пустого DataFrame для сбора данных\n",
    "tr_candidates = pd.DataFrame()\n",
    "\n",
    "# Цикл для чтения и объединения файлов\n",
    "for file in tqdm(file_list):\n",
    "    # Чтение файла Parquet во временный DataFrame\n",
    "    df_ = pd.read_parquet(file)\n",
    "\n",
    "    # Объединение временного DataFrame с основным датасетом\n",
    "    tr_candidates = pd.concat([tr_candidates, df_], ignore_index=True)"
   ]
  },
  {
   "cell_type": "markdown",
   "id": "LOBsuEzgm3oE",
   "metadata": {
    "id": "LOBsuEzgm3oE"
   },
   "source": [
    "**Downsampling**"
   ]
  },
  {
   "cell_type": "code",
   "execution_count": null,
   "id": "gIw6IFQpm3oE",
   "metadata": {
    "id": "gIw6IFQpm3oE"
   },
   "outputs": [],
   "source": [
    "from imblearn.under_sampling import RandomUnderSampler\n",
    "\n",
    "# clicks\n",
    "# under_sampler = RandomUnderSampler(sampling_strategy=0.43)  # Указываем желаемое соотношение классов\n",
    "\n",
    "# carts\n",
    "under_sampler = RandomUnderSampler(sampling_strategy= 0.0624)  # Указываем желаемое соотношение классов\n",
    "\n",
    "# orders\n",
    "# under_sampler = RandomUnderSampler(sampling_strategy= 0.0624)  # Указываем желаемое соотношение классов"
   ]
  },
  {
   "cell_type": "code",
   "execution_count": null,
   "id": "khAKDNWKm3oE",
   "metadata": {
    "id": "khAKDNWKm3oE"
   },
   "outputs": [],
   "source": [
    "FEATURES = tr_candidates.columns[:-1]\n",
    "X = tr_candidates.loc[:, FEATURES]\n",
    "y = tr_candidates.loc[:, 'target']\n",
    "X_train, y_train = under_sampler.fit_resample(X, y)\n",
    "tr_candidates = pd.merge(X_train, y_train, left_index=True, right_index=True)"
   ]
  },
  {
   "cell_type": "code",
   "execution_count": null,
   "id": "y-ZY07pym3oE",
   "metadata": {
    "id": "y-ZY07pym3oE"
   },
   "outputs": [],
   "source": [
    "tr_candidates = tr_candidates.sort_values('session')\n",
    "tr_candidates = tr_candidates.reset_index(drop = True)"
   ]
  },
  {
   "cell_type": "code",
   "execution_count": null,
   "id": "98sDY8PYm3oF",
   "metadata": {
    "id": "98sDY8PYm3oF"
   },
   "outputs": [],
   "source": [
    "del X, y, X_train, y_train"
   ]
  },
  {
   "cell_type": "markdown",
   "id": "mIoLgXC9m3oG",
   "metadata": {
    "id": "mIoLgXC9m3oG"
   },
   "source": [
    "**Optuna**"
   ]
  },
  {
   "cell_type": "code",
   "execution_count": null,
   "id": "rb_nas-mm3oH",
   "metadata": {
    "colab": {
     "base_uri": "https://localhost:8080/"
    },
    "executionInfo": {
     "elapsed": 9125,
     "status": "ok",
     "timestamp": 1696301914801,
     "user": {
      "displayName": "Stas Krupnov",
      "userId": "12188064098878037970"
     },
     "user_tz": -420
    },
    "id": "rb_nas-mm3oH",
    "outputId": "99db270f-e10b-4256-d918-90c0a74008d8",
    "scrolled": true
   },
   "outputs": [
    {
     "name": "stdout",
     "output_type": "stream",
     "text": [
      "Collecting catboost\n",
      "  Obtaining dependency information for catboost from https://files.pythonhosted.org/packages/a2/aa/1f6a0ae3224f11bafb195035f56bb0fc99ed948cca3c052138665d73801c/catboost-1.2.2-cp311-cp311-macosx_11_0_universal2.whl.metadata\n",
      "  Downloading catboost-1.2.2-cp311-cp311-macosx_11_0_universal2.whl.metadata (1.2 kB)\n",
      "Collecting graphviz (from catboost)\n",
      "  Downloading graphviz-0.20.1-py3-none-any.whl (47 kB)\n",
      "\u001b[2K     \u001b[90m━━━━━━━━━━━━━━━━━━━━━━━━━━━━━━━━━━━━━━━\u001b[0m \u001b[32m47.0/47.0 kB\u001b[0m \u001b[31m423.8 kB/s\u001b[0m eta \u001b[36m0:00:00\u001b[0m \u001b[36m0:00:01\u001b[0m\n",
      "\u001b[?25hRequirement already satisfied: matplotlib in /Users/stanislavkrupnov/anaconda3/lib/python3.11/site-packages (from catboost) (3.7.1)\n",
      "Requirement already satisfied: numpy>=1.16.0 in /Users/stanislavkrupnov/anaconda3/lib/python3.11/site-packages (from catboost) (1.24.3)\n",
      "Requirement already satisfied: pandas>=0.24 in /Users/stanislavkrupnov/anaconda3/lib/python3.11/site-packages (from catboost) (1.5.3)\n",
      "Requirement already satisfied: scipy in /Users/stanislavkrupnov/anaconda3/lib/python3.11/site-packages (from catboost) (1.10.1)\n",
      "Requirement already satisfied: plotly in /Users/stanislavkrupnov/anaconda3/lib/python3.11/site-packages (from catboost) (5.9.0)\n",
      "Requirement already satisfied: six in /Users/stanislavkrupnov/anaconda3/lib/python3.11/site-packages (from catboost) (1.16.0)\n",
      "Requirement already satisfied: python-dateutil>=2.8.1 in /Users/stanislavkrupnov/anaconda3/lib/python3.11/site-packages (from pandas>=0.24->catboost) (2.8.2)\n",
      "Requirement already satisfied: pytz>=2020.1 in /Users/stanislavkrupnov/anaconda3/lib/python3.11/site-packages (from pandas>=0.24->catboost) (2022.7)\n",
      "Requirement already satisfied: contourpy>=1.0.1 in /Users/stanislavkrupnov/anaconda3/lib/python3.11/site-packages (from matplotlib->catboost) (1.0.5)\n",
      "Requirement already satisfied: cycler>=0.10 in /Users/stanislavkrupnov/anaconda3/lib/python3.11/site-packages (from matplotlib->catboost) (0.11.0)\n",
      "Requirement already satisfied: fonttools>=4.22.0 in /Users/stanislavkrupnov/anaconda3/lib/python3.11/site-packages (from matplotlib->catboost) (4.25.0)\n",
      "Requirement already satisfied: kiwisolver>=1.0.1 in /Users/stanislavkrupnov/anaconda3/lib/python3.11/site-packages (from matplotlib->catboost) (1.4.4)\n",
      "Requirement already satisfied: packaging>=20.0 in /Users/stanislavkrupnov/anaconda3/lib/python3.11/site-packages (from matplotlib->catboost) (23.0)\n",
      "Requirement already satisfied: pillow>=6.2.0 in /Users/stanislavkrupnov/anaconda3/lib/python3.11/site-packages (from matplotlib->catboost) (9.4.0)\n",
      "Requirement already satisfied: pyparsing>=2.3.1 in /Users/stanislavkrupnov/anaconda3/lib/python3.11/site-packages (from matplotlib->catboost) (3.0.9)\n",
      "Requirement already satisfied: tenacity>=6.2.0 in /Users/stanislavkrupnov/anaconda3/lib/python3.11/site-packages (from plotly->catboost) (8.2.2)\n",
      "Downloading catboost-1.2.2-cp311-cp311-macosx_11_0_universal2.whl (25.7 MB)\n",
      "\u001b[2K   \u001b[91m━━━━━━━━━━━━━━━━━━━━━━━━━━━━\u001b[0m\u001b[90m╺\u001b[0m\u001b[90m━━━━━━━━━━━\u001b[0m \u001b[32m18.0/25.7 MB\u001b[0m \u001b[31m10.7 MB/s\u001b[0m eta \u001b[36m0:00:01\u001b[0m"
     ]
    },
    {
     "data": {
      "text/html": [
       "<b>limit_output extension: Maximum message size of 10000 exceeded with 10129 characters</b>"
      ]
     },
     "metadata": {},
     "output_type": "display_data"
    }
   ],
   "source": [
    "!pip install catboost"
   ]
  },
  {
   "cell_type": "code",
   "execution_count": null,
   "id": "xdxUlNpYm3oH",
   "metadata": {
    "id": "xdxUlNpYm3oH"
   },
   "outputs": [],
   "source": [
    "import catboost\n",
    "from catboost import CatBoostRanker, Pool"
   ]
  },
  {
   "cell_type": "code",
   "execution_count": null,
   "id": "zi4a2nQAm3oH",
   "metadata": {
    "id": "zi4a2nQAm3oH"
   },
   "outputs": [],
   "source": [
    "import os\n",
    "os.environ['CATBOOST_GPU'] = '1'"
   ]
  },
  {
   "cell_type": "code",
   "execution_count": null,
   "id": "VlU75rLpm3oJ",
   "metadata": {
    "id": "VlU75rLpm3oJ"
   },
   "outputs": [],
   "source": [
    "folder_path = 'model'\n",
    "os.makedirs(folder_path, exist_ok=True)"
   ]
  },
  {
   "cell_type": "markdown",
   "id": "Co2iu9fj4ZT8",
   "metadata": {
    "id": "Co2iu9fj4ZT8"
   },
   "source": [
    "**Очень странно - чтобы вытащить метрику PFound для return в objective - нужно указать в catboost_params custom_metric = 'Pairlogit', но не PFound. Но потом она оказывается таки в слвоаре best_score_, и я могу ее брать и выдавать для оптимизации. Написал запрос в поддержку CatBoost**"
   ]
  },
  {
   "cell_type": "code",
   "execution_count": null,
   "id": "mY6lQbnIm3oK",
   "metadata": {
    "id": "mY6lQbnIm3oK"
   },
   "outputs": [],
   "source": [
    "def objective(trial, data, random_state):\n",
    "\n",
    "    catboost_params = {\n",
    "        'loss_function':\n",
    "        'YetiRank:hints=skip_train~false',\n",
    "        # 'loss_function': 'PairLogit',# Функция потерь PairLogit\n",
    "        # 'custom_metric': 'PFound:hints=skip_train~false',\n",
    "        'custom_metric':\n",
    "        'PairLogit',\n",
    "        'task_type':\n",
    "        'GPU',  # Использовать GPU\n",
    "        'metric_period':\n",
    "        250,\n",
    "        'random_seed':\n",
    "        trial.suggest_categorical('random_seed',\n",
    "                                  [random_state]),  # Случайное зерно\n",
    "        'iterations':\n",
    "        trial.suggest_categorical(\"iterations\", [828]),\n",
    "        'learning_rate':\n",
    "        trial.suggest_categorical(\"learning_rate\", [0.12676718423508196]),\n",
    "        # 'iterations':\n",
    "#         trial.suggest_int('iterations', 500, 2000),  # Количество итераций\n",
    "        # 'learning_rate':\n",
    "#         trial.suggest_float('learning_rate', 0.01, 0.3, log=True)\n",
    "        'l2_leaf_reg':\n",
    "        trial.suggest_float('l2_leaf_reg', 1e-5, 1e2,\n",
    "                            log=True),  # L2 регуляризация\n",
    "        'border_count':\n",
    "        trial.suggest_int('border_count', 32,\n",
    "                          255),  # Количество бинов для числовых признаков\n",
    "        'random_strength':\n",
    "        trial.suggest_float('random_strength', 0.0, 1.0),  # Сила случайности\n",
    "        # 'bootstrap_type':\n",
    "#         trial.suggest_categorical('bootstrap_type', ['Bernoulli', 'MVS', 'Poisson']),\n",
    "        \"depth\":\n",
    "        trial.suggest_int(\"depth\", 1, 10),\n",
    "        # \"subsample\":\n",
    "#         trial.suggest_float(\"subsample\", 0.05, 1.0),\n",
    "        \"min_data_in_leaf\":\n",
    "        trial.suggest_int(\"min_data_in_leaf\", 1, 100)\n",
    "    }\n",
    "\n",
    "    # data = tr_candidates\n",
    "    skf = GroupKFold(n_splits=5)\n",
    "    FEATURES = data.columns[:-1]\n",
    "\n",
    "    scores = []\n",
    "\n",
    "    for fold, (train_idx, valid_idx) in enumerate(\n",
    "            skf.split(data, data['target'], groups=data['session'])):\n",
    "\n",
    "        X_train = data.loc[train_idx, FEATURES]\n",
    "        y_train = data.loc[train_idx, 'target']\n",
    "        X_valid = data.loc[valid_idx, FEATURES]\n",
    "        y_valid = data.loc[valid_idx, 'target']\n",
    "\n",
    "        group_id_tr = X_train.iloc[:, 0]\n",
    "        group_id_v = X_valid.iloc[:, 0]\n",
    "\n",
    "        X_train = X_train.iloc[:, 2:]\n",
    "        X_valid = X_valid.iloc[:, 2:]\n",
    "\n",
    "        catboost_train = Pool(data=X_train,\n",
    "                              label=y_train,\n",
    "                              group_id=group_id_tr)\n",
    "        catboost_valid = Pool(data=X_valid, label=y_valid, group_id=group_id_v)\n",
    "\n",
    "        ranker = CatBoostRanker(**catboost_params)\n",
    "\n",
    "        ranker.fit(catboost_train, eval_set=catboost_valid, verbose_eval=250)\n",
    "\n",
    "        # Рассчитать метрику PFound\n",
    "        print(ranker.best_score_)\n",
    "        PFound = ranker.best_score_['validation']['PFound']\n",
    "        # PFound = ranker.best_score_['validation']['PairLogit']\n",
    "        scores.append(PFound)\n",
    "\n",
    "    # Усреднить PFound по всем фолдам\n",
    "    PFound_mean = np.mean(scores)\n",
    "\n",
    "    return PFound_mean"
   ]
  },
  {
   "cell_type": "code",
   "execution_count": null,
   "id": "OgAcsKAjm3oK",
   "metadata": {
    "colab": {
     "base_uri": "https://localhost:8080/"
    },
    "executionInfo": {
     "elapsed": 5,
     "status": "ok",
     "timestamp": 1696302528796,
     "user": {
      "displayName": "Stas Krupnov",
      "userId": "12188064098878037970"
     },
     "user_tz": -420
    },
    "id": "OgAcsKAjm3oK",
    "outputId": "ddf48351-5a09-424b-897f-9d9b7e04f012"
   },
   "outputs": [
    {
     "name": "stderr",
     "output_type": "stream",
     "text": [
      "[I 2023-10-03 03:08:48,011] A new study created in memory with name: CatBoost_Ranker_Optimization\n"
     ]
    }
   ],
   "source": [
    "# Создать Optuna study для оптимизации\n",
    "study = optuna.create_study(direction=\"maximize\",\n",
    "                            study_name=\"CatBoost_Ranker_Optimization\")\n",
    "func = lambda trial: objective(trial, tr_candidates, random_state=random_state)"
   ]
  },
  {
   "cell_type": "code",
   "execution_count": null,
   "id": "R3MeENvhm3oK",
   "metadata": {
    "colab": {
     "base_uri": "https://localhost:8080/",
     "height": 925,
     "referenced_widgets": [
      "5b21065de7f742489c6f71344a4f7e3c",
      "bc4d65466324460081e5ff20bbea3e53",
      "0ef5e57edefa442abb4c187dab0588d9",
      "69780375fc7944288ca9f7b1071844bb",
      "a4dbaaf565e842d8a960f835552ff3ed",
      "294fb6775b3f4d73b3583f456158d7d4",
      "a309039c24604fc294ad70fc18c3269d",
      "581d7e7f3adc41c5991abf49216aab33",
      "5e596c440c244b529b1d5d4c86f46183",
      "6fc9e7f1573043409c3c7070876b8d73",
      "af7fa5a046b640acb7ba49efad2826b4"
     ]
    },
    "executionInfo": {
     "elapsed": 177041,
     "status": "ok",
     "timestamp": 1696235723532,
     "user": {
      "displayName": "Stas Krupnov",
      "userId": "12188064098878037970"
     },
     "user_tz": -420
    },
    "id": "R3MeENvhm3oK",
    "outputId": "a89f9d65-c158-4371-c2b8-27642e2ed503"
   },
   "outputs": [
    {
     "data": {
      "application/vnd.jupyter.widget-view+json": {
       "model_id": "5b21065de7f742489c6f71344a4f7e3c",
       "version_major": 2,
       "version_minor": 0
      },
      "text/plain": [
       "  0%|          | 0/1 [00:00<?, ?it/s]"
      ]
     },
     "metadata": {},
     "output_type": "display_data"
    },
    {
     "name": "stderr",
     "output_type": "stream",
     "text": [
      "Metric PFound is not implemented on GPU. Will use CPU for metric computation, this could significantly affect learning time\n",
      "Metric PFound is not implemented on GPU. Will use CPU for metric computation, this could significantly affect learning time\n"
     ]
    },
    {
     "name": "stdout",
     "output_type": "stream",
     "text": [
      "0:\ttest: 0.0921486\tbest: 0.0921486 (0)\ttotal: 91.7ms\tremaining: 1m 15s\n",
      "250:\ttest: 0.0938066\tbest: 0.0938066 (250)\ttotal: 9.21s\tremaining: 21.2s\n",
      "500:\ttest: 0.0938388\tbest: 0.0938388 (500)\ttotal: 18.4s\tremaining: 12s\n",
      "750:\ttest: 0.0938526\tbest: 0.0938526 (750)\ttotal: 27.7s\tremaining: 2.83s\n",
      "827:\ttest: 0.0938592\tbest: 0.0938592 (827)\ttotal: 30.5s\tremaining: 0us\n",
      "bestTest = 0.09385917151\n",
      "bestIteration = 827\n",
      "{'learn': {'PairLogit': 0.19596942640881637}, 'validation': {'PFound': 0.093859171511442, 'PairLogit': 0.1967569390450675}}\n"
     ]
    },
    {
     "name": "stderr",
     "output_type": "stream",
     "text": [
      "Metric PFound is not implemented on GPU. Will use CPU for metric computation, this could significantly affect learning time\n",
      "Metric PFound is not implemented on GPU. Will use CPU for metric computation, this could significantly affect learning time\n"
     ]
    },
    {
     "name": "stdout",
     "output_type": "stream",
     "text": [
      "0:\ttest: 0.0926297\tbest: 0.0926297 (0)\ttotal: 92.6ms\tremaining: 1m 16s\n",
      "250:\ttest: 0.0941957\tbest: 0.0941957 (250)\ttotal: 9.21s\tremaining: 21.2s\n",
      "500:\ttest: 0.0942279\tbest: 0.0942279 (500)\ttotal: 18.4s\tremaining: 12s\n",
      "750:\ttest: 0.0942356\tbest: 0.0942356 (750)\ttotal: 27.6s\tremaining: 2.83s\n",
      "827:\ttest: 0.0942496\tbest: 0.0942496 (827)\ttotal: 30.4s\tremaining: 0us\n",
      "bestTest = 0.09424962198\n",
      "bestIteration = 827\n",
      "{'learn': {'PairLogit': 0.19594987703196293}, 'validation': {'PFound': 0.09424962198143552, 'PairLogit': 0.19638691812244805}}\n"
     ]
    },
    {
     "name": "stderr",
     "output_type": "stream",
     "text": [
      "Metric PFound is not implemented on GPU. Will use CPU for metric computation, this could significantly affect learning time\n",
      "Metric PFound is not implemented on GPU. Will use CPU for metric computation, this could significantly affect learning time\n"
     ]
    },
    {
     "name": "stdout",
     "output_type": "stream",
     "text": [
      "0:\ttest: 0.0921410\tbest: 0.0921410 (0)\ttotal: 87.6ms\tremaining: 1m 12s\n",
      "250:\ttest: 0.0937905\tbest: 0.0937905 (250)\ttotal: 9.17s\tremaining: 21.1s\n",
      "500:\ttest: 0.0938374\tbest: 0.0938374 (500)\ttotal: 18.3s\tremaining: 12s\n",
      "750:\ttest: 0.0938671\tbest: 0.0938671 (750)\ttotal: 27.5s\tremaining: 2.82s\n",
      "827:\ttest: 0.0938646\tbest: 0.0938671 (750)\ttotal: 30.4s\tremaining: 0us\n",
      "bestTest = 0.09386705738\n",
      "bestIteration = 750\n",
      "Shrink model to first 751 iterations.\n",
      "{'learn': {'PairLogit': 0.19430743095612654}, 'validation': {'PFound': 0.09386705738080897, 'PairLogit': 0.2034723882991134}}\n"
     ]
    },
    {
     "name": "stderr",
     "output_type": "stream",
     "text": [
      "Metric PFound is not implemented on GPU. Will use CPU for metric computation, this could significantly affect learning time\n",
      "Metric PFound is not implemented on GPU. Will use CPU for metric computation, this could significantly affect learning time\n"
     ]
    },
    {
     "name": "stdout",
     "output_type": "stream",
     "text": [
      "0:\ttest: 0.0917060\tbest: 0.0917060 (0)\ttotal: 93.5ms\tremaining: 1m 17s\n",
      "250:\ttest: 0.0933459\tbest: 0.0933459 (250)\ttotal: 9.2s\tremaining: 21.1s\n",
      "500:\ttest: 0.0933894\tbest: 0.0933894 (500)\ttotal: 18.4s\tremaining: 12s\n",
      "750:\ttest: 0.0934004\tbest: 0.0934004 (750)\ttotal: 27.6s\tremaining: 2.83s\n",
      "827:\ttest: 0.0934061\tbest: 0.0934061 (827)\ttotal: 30.4s\tremaining: 0us\n",
      "bestTest = 0.09340612441\n",
      "bestIteration = 827\n",
      "{'learn': {'PairLogit': 0.19562670159185774}, 'validation': {'PFound': 0.0934061244060777, 'PairLogit': 0.19730977283221143}}\n"
     ]
    },
    {
     "name": "stderr",
     "output_type": "stream",
     "text": [
      "Metric PFound is not implemented on GPU. Will use CPU for metric computation, this could significantly affect learning time\n",
      "Metric PFound is not implemented on GPU. Will use CPU for metric computation, this could significantly affect learning time\n"
     ]
    },
    {
     "name": "stdout",
     "output_type": "stream",
     "text": [
      "0:\ttest: 0.0922445\tbest: 0.0922445 (0)\ttotal: 87.5ms\tremaining: 1m 12s\n",
      "250:\ttest: 0.0938771\tbest: 0.0938771 (250)\ttotal: 9.16s\tremaining: 21.1s\n",
      "500:\ttest: 0.0939175\tbest: 0.0939175 (500)\ttotal: 18.3s\tremaining: 12s\n",
      "750:\ttest: 0.0939342\tbest: 0.0939342 (750)\ttotal: 27.5s\tremaining: 2.82s\n",
      "827:\ttest: 0.0939437\tbest: 0.0939437 (827)\ttotal: 30.4s\tremaining: 0us\n",
      "bestTest = 0.09394374069\n",
      "bestIteration = 827\n",
      "{'learn': {'PairLogit': 0.1958391153037997}, 'validation': {'PFound': 0.0939437406903854, 'PairLogit': 0.19701879633920297}}\n",
      "[I 2023-10-02 08:35:23,152] Trial 0 finished with value: 0.09386514319402992 and parameters: {'random_seed': 42, 'iterations': 828, 'learning_rate': 0.12676718423508196, 'l2_leaf_reg': 0.002270370592919817, 'border_count': 37, 'random_strength': 0.9389551921967575, 'depth': 6, 'min_data_in_leaf': 73}. Best is trial 0 with value: 0.09386514319402992.\n"
     ]
    }
   ],
   "source": [
    "study.optimize(func, n_trials=1, show_progress_bar=True, n_jobs=6)"
   ]
  },
  {
   "cell_type": "markdown",
   "id": "RmLvgASwoCwc",
   "metadata": {
    "id": "RmLvgASwoCwc"
   },
   "source": [
    "**Записываю варианты получившихся параметров и выбираю лучшие**"
   ]
  },
  {
   "cell_type": "markdown",
   "id": "-QbovaOkm3oL",
   "metadata": {
    "id": "-QbovaOkm3oL"
   },
   "source": [
    "**Clicks** \\\n",
    "0.6159558 \\\n",
    "{'random_seed': 42, 'iterations': 800, 'learning_rate': 0.09237673064613201} \\   \n",
    "**0.616068** \\\n",
    "{'random_seed': 42,\n",
    " 'iterations': 800,\n",
    " 'learning_rate': 0.09237673064613201,\n",
    " 'l2_leaf_reg': 0.0019442470574252018,\n",
    " 'border_count': 97,\n",
    " 'random_strength': 0.5971699972467241,\n",
    " 'depth': 7,\n",
    " 'min_data_in_leaf': 100} \\\n",
    " **Carts** \\\n",
    "  0.150190 \\   \n",
    "{'random_seed': 42, 'iterations': 551, 'learning_rate': 0.010372549720642329} \\\n",
    "  **0.1502257** \\  \n",
    "  'random_seed': 42,\n",
    " 'iterations': 551,\n",
    " 'learning_rate': 0.010372549720642329,\n",
    " 'l2_leaf_reg': 0.019335935779919735,\n",
    " 'border_count': 175,\n",
    " 'random_strength': 0.9145153914960099,\n",
    " 'bootstrap_type': 'MVS',\n",
    " 'depth': 10,\n",
    " 'subsample': 0.2884983050620958,\n",
    " 'min_data_in_leaf': 66 \\\n",
    "\n",
    " **Orders** \\\n",
    "0.093870 \\  \n",
    "{'random_seed': 42, 'iterations': 828, 'learning_rate': 0.12676718423508196}\\.  \n",
    "**0.093865**  \\   \n",
    "{'random_seed': 42,\n",
    " 'iterations': 828,\n",
    " 'learning_rate': 0.12676718423508196,\n",
    " 'l2_leaf_reg': 0.002270370592919817,\n",
    " 'border_count': 37,\n",
    " 'random_strength': 0.9389551921967575,\n",
    " 'depth': 6,\n",
    " 'min_data_in_leaf': 73} \\\n",
    "\n"
   ]
  },
  {
   "cell_type": "code",
   "execution_count": null,
   "id": "rQagTdCtm3oL",
   "metadata": {
    "colab": {
     "base_uri": "https://localhost:8080/"
    },
    "executionInfo": {
     "elapsed": 319,
     "status": "ok",
     "timestamp": 1696235882121,
     "user": {
      "displayName": "Stas Krupnov",
      "userId": "12188064098878037970"
     },
     "user_tz": -420
    },
    "id": "rQagTdCtm3oL",
    "outputId": "1a3bf374-28b3-4c69-d9d5-83a2ff821922"
   },
   "outputs": [
    {
     "data": {
      "text/plain": [
       "{'random_seed': 42,\n",
       " 'iterations': 828,\n",
       " 'learning_rate': 0.12676718423508196,\n",
       " 'l2_leaf_reg': 0.002270370592919817,\n",
       " 'border_count': 37,\n",
       " 'random_strength': 0.9389551921967575,\n",
       " 'depth': 6,\n",
       " 'min_data_in_leaf': 73}"
      ]
     },
     "execution_count": 29,
     "metadata": {},
     "output_type": "execute_result"
    }
   ],
   "source": [
    "study.best_params"
   ]
  },
  {
   "cell_type": "markdown",
   "id": "76WTnuuCoTdz",
   "metadata": {
    "id": "76WTnuuCoTdz"
   },
   "source": [
    "**Формирую словари лучших гиперпараметров**"
   ]
  },
  {
   "cell_type": "code",
   "execution_count": null,
   "id": "FO4sCPLvm3oL",
   "metadata": {
    "id": "FO4sCPLvm3oL"
   },
   "outputs": [],
   "source": [
    "best_p_cl = {\n",
    "    'loss_function': 'YetiRank:hints=skip_train~false',\n",
    "    'custom_metric': 'PairLogit',\n",
    "    'task_type': 'GPU',\n",
    "    'random_seed': 42,\n",
    "    'iterations': 800,\n",
    "    'learning_rate': 0.09237673064613201,\n",
    "    'l2_leaf_reg': 0.0019442470574252018,\n",
    "    'border_count': 97,\n",
    "    'random_strength': 0.5971699972467241,\n",
    "    'depth': 7,\n",
    "    'min_data_in_leaf': 100\n",
    "}"
   ]
  },
  {
   "cell_type": "code",
   "execution_count": null,
   "id": "zA8ShiZZm3oM",
   "metadata": {
    "id": "zA8ShiZZm3oM"
   },
   "outputs": [],
   "source": [
    "best_p_carts = {\n",
    "    'loss_function': 'YetiRank:hints=skip_train~false',\n",
    "    'custom_metric': 'PairLogit',\n",
    "    'task_type': 'GPU',\n",
    "    'random_seed': 42,\n",
    "    'iterations': 551,\n",
    "    'learning_rate': 0.010372549720642329,\n",
    "    'l2_leaf_reg': 0.019335935779919735,\n",
    "    'border_count': 175,\n",
    "    'random_strength': 0.9145153914960099,\n",
    "    'bootstrap_type': 'MVS',\n",
    "    'depth': 10,\n",
    "    'subsample': 0.2884983050620958,\n",
    "    'min_data_in_leaf': 66\n",
    "}"
   ]
  },
  {
   "cell_type": "code",
   "execution_count": null,
   "id": "6X1nWjdQm3oM",
   "metadata": {
    "id": "6X1nWjdQm3oM"
   },
   "outputs": [],
   "source": [
    "best_p_orders = {\n",
    "    'loss_function': 'YetiRank:hints=skip_train~false',\n",
    "    'custom_metric': 'PairLogit',\n",
    "    'task_type': 'GPU',\n",
    "    'random_seed': 42,\n",
    "    'random_seed': 42,\n",
    "    'iterations': 828,\n",
    "    'learning_rate': 0.12676718423508196,\n",
    "    'l2_leaf_reg': 0.002270370592919817,\n",
    "    'border_count': 37,\n",
    "    'random_strength': 0.9389551921967575,\n",
    "    'depth': 6,\n",
    "    'min_data_in_leaf': 73\n",
    "}"
   ]
  },
  {
   "cell_type": "markdown",
   "id": "p5oK9Wblm3oM",
   "metadata": {
    "id": "p5oK9Wblm3oM"
   },
   "source": [
    "## Обучение на best_params"
   ]
  },
  {
   "cell_type": "code",
   "execution_count": null,
   "id": "hN_hAqSSm3oM",
   "metadata": {
    "colab": {
     "base_uri": "https://localhost:8080/"
    },
    "executionInfo": {
     "elapsed": 27575,
     "status": "ok",
     "timestamp": 1696237081771,
     "user": {
      "displayName": "Stas Krupnov",
      "userId": "12188064098878037970"
     },
     "user_tz": -420
    },
    "id": "hN_hAqSSm3oM",
    "outputId": "0e1503fe-c013-4f5e-cb31-09a43e3ebd26"
   },
   "outputs": [
    {
     "metadata": {
      "tags": null
     },
     "name": "stderr",
     "output_type": "stream",
     "text": [
      "type: 0it [00:00, ?it/s]\n",
      "  0%|          | 0/5 [00:00<?, ?it/s]\u001b[A\n",
      " 20%|██        | 1/5 [00:04<00:19,  4.88s/it]\u001b[A\n",
      " 40%|████      | 2/5 [00:11<00:17,  5.78s/it]\u001b[A\n",
      " 60%|██████    | 3/5 [00:18<00:12,  6.32s/it]\u001b[A\n",
      " 80%|████████  | 4/5 [00:25<00:06,  6.80s/it]\u001b[A\n",
      "100%|██████████| 5/5 [00:33<00:00,  6.79s/it]\n"
     ]
    },
    {
     "metadata": {
      "tags": null
     },
     "name": "stdout",
     "output_type": "stream",
     "text": [
      "reading_done\n",
      "sampling_done\n"
     ]
    },
    {
     "metadata": {
      "tags": null
     },
     "name": "stderr",
     "output_type": "stream",
     "text": [
      "Default metric period is 5 because PFound is/are not implemented for GPU\n",
      "Metric PFound is not implemented on GPU. Will use CPU for metric computation, this could significantly affect learning time\n",
      "Metric PFound is not implemented on GPU. Will use CPU for metric computation, this could significantly affect learning time\n"
     ]
    },
    {
     "metadata": {
      "tags": null
     },
     "name": "stdout",
     "output_type": "stream",
     "text": [
      "0:\ttest: 0.5977711\tbest: 0.5977711 (0)\ttotal: 173ms\tremaining: 2m 17s\n",
      "100:\ttest: 0.6157592\tbest: 0.6157592 (100)\ttotal: 6.61s\tremaining: 45.8s\n",
      "200:\ttest: 0.6164299\tbest: 0.6164299 (200)\ttotal: 13s\tremaining: 38.7s\n",
      "300:\ttest: 0.6167142\tbest: 0.6167147 (295)\ttotal: 19.4s\tremaining: 32.1s\n",
      "400:\ttest: 0.6169380\tbest: 0.6169380 (400)\ttotal: 25.8s\tremaining: 25.7s\n",
      "500:\ttest: 0.6170515\tbest: 0.6170515 (500)\ttotal: 32.3s\tremaining: 19.3s\n",
      "600:\ttest: 0.6171167\tbest: 0.6171167 (600)\ttotal: 38.9s\tremaining: 12.9s\n",
      "700:\ttest: 0.6171755\tbest: 0.6171823 (675)\ttotal: 45.5s\tremaining: 6.42s\n",
      "799:\ttest: 0.6172082\tbest: 0.6172082 (799)\ttotal: 52s\tremaining: 0us\n",
      "bestTest = 0.6172081932\n",
      "bestIteration = 799\n",
      "{'learn': {'PairLogit': 0.4010464509089207}, 'validation': {'PFound': 0.6172081932040321, 'PairLogit': 0.40130148153235745}}\n"
     ]
    },
    {
     "metadata": {
      "tags": null
     },
     "name": "stderr",
     "output_type": "stream",
     "text": [
      "Default metric period is 5 because PFound is/are not implemented for GPU\n",
      "Metric PFound is not implemented on GPU. Will use CPU for metric computation, this could significantly affect learning time\n",
      "Metric PFound is not implemented on GPU. Will use CPU for metric computation, this could significantly affect learning time\n"
     ]
    },
    {
     "metadata": {
      "tags": null
     },
     "name": "stdout",
     "output_type": "stream",
     "text": [
      "0:\ttest: 0.5986438\tbest: 0.5986438 (0)\ttotal: 168ms\tremaining: 2m 14s\n",
      "100:\ttest: 0.6157640\tbest: 0.6157640 (100)\ttotal: 6.62s\tremaining: 45.8s\n",
      "200:\ttest: 0.6164187\tbest: 0.6164187 (200)\ttotal: 13s\tremaining: 38.7s\n",
      "300:\ttest: 0.6166983\tbest: 0.6166983 (300)\ttotal: 19.4s\tremaining: 32.1s\n",
      "400:\ttest: 0.6168643\tbest: 0.6168643 (400)\ttotal: 25.8s\tremaining: 25.7s\n",
      "500:\ttest: 0.6169644\tbest: 0.6169694 (490)\ttotal: 32.4s\tremaining: 19.3s\n",
      "600:\ttest: 0.6170731\tbest: 0.6170731 (600)\ttotal: 38.9s\tremaining: 12.9s\n",
      "700:\ttest: 0.6171608\tbest: 0.6171668 (690)\ttotal: 45.5s\tremaining: 6.42s\n",
      "799:\ttest: 0.6171916\tbest: 0.6172014 (775)\ttotal: 52s\tremaining: 0us\n",
      "bestTest = 0.6172013882\n",
      "bestIteration = 775\n",
      "Shrink model to first 776 iterations.\n",
      "{'learn': {'PairLogit': 0.400788287958621}, 'validation': {'PFound': 0.6172013882075678, 'PairLogit': 0.4024062141626345}}\n"
     ]
    },
    {
     "metadata": {
      "tags": null
     },
     "name": "stderr",
     "output_type": "stream",
     "text": [
      "Default metric period is 5 because PFound is/are not implemented for GPU\n",
      "Metric PFound is not implemented on GPU. Will use CPU for metric computation, this could significantly affect learning time\n",
      "Metric PFound is not implemented on GPU. Will use CPU for metric computation, this could significantly affect learning time\n"
     ]
    },
    {
     "metadata": {
      "tags": null
     },
     "name": "stdout",
     "output_type": "stream",
     "text": [
      "0:\ttest: 0.5979084\tbest: 0.5979084 (0)\ttotal: 164ms\tremaining: 2m 10s\n",
      "100:\ttest: 0.6159632\tbest: 0.6159632 (100)\ttotal: 6.63s\tremaining: 45.9s\n",
      "200:\ttest: 0.6166606\tbest: 0.6166606 (200)\ttotal: 13s\tremaining: 38.8s\n",
      "300:\ttest: 0.6169369\tbest: 0.6169369 (300)\ttotal: 19.4s\tremaining: 32.2s\n",
      "400:\ttest: 0.6171247\tbest: 0.6171247 (400)\ttotal: 25.9s\tremaining: 25.8s\n",
      "500:\ttest: 0.6172664\tbest: 0.6172664 (500)\ttotal: 32.4s\tremaining: 19.4s\n",
      "600:\ttest: 0.6173403\tbest: 0.6173451 (595)\ttotal: 39s\tremaining: 12.9s\n",
      "700:\ttest: 0.6173900\tbest: 0.6173900 (700)\ttotal: 45.6s\tremaining: 6.44s\n",
      "799:\ttest: 0.6174375\tbest: 0.6174375 (799)\ttotal: 52.2s\tremaining: 0us\n",
      "bestTest = 0.6174374765\n",
      "bestIteration = 799\n",
      "{'learn': {'PairLogit': 0.40087928287827235}, 'validation': {'PFound': 0.6174374764650251, 'PairLogit': 0.4020474384605616}}\n"
     ]
    },
    {
     "metadata": {
      "tags": null
     },
     "name": "stderr",
     "output_type": "stream",
     "text": [
      "Default metric period is 5 because PFound is/are not implemented for GPU\n",
      "Metric PFound is not implemented on GPU. Will use CPU for metric computation, this could significantly affect learning time\n",
      "Metric PFound is not implemented on GPU. Will use CPU for metric computation, this could significantly affect learning time\n"
     ]
    },
    {
     "metadata": {
      "tags": null
     },
     "name": "stdout",
     "output_type": "stream",
     "text": [
      "0:\ttest: 0.5982555\tbest: 0.5982555 (0)\ttotal: 178ms\tremaining: 2m 21s\n",
      "100:\ttest: 0.6151419\tbest: 0.6151419 (100)\ttotal: 6.65s\tremaining: 46s\n",
      "200:\ttest: 0.6157586\tbest: 0.6157586 (200)\ttotal: 13s\tremaining: 38.8s\n",
      "300:\ttest: 0.6160218\tbest: 0.6160218 (300)\ttotal: 19.4s\tremaining: 32.2s\n",
      "400:\ttest: 0.6162243\tbest: 0.6162243 (400)\ttotal: 25.9s\tremaining: 25.8s\n",
      "500:\ttest: 0.6163900\tbest: 0.6163923 (495)\ttotal: 32.4s\tremaining: 19.3s\n",
      "600:\ttest: 0.6164684\tbest: 0.6164684 (600)\ttotal: 38.9s\tremaining: 12.9s\n",
      "700:\ttest: 0.6165459\tbest: 0.6165492 (690)\ttotal: 45.5s\tremaining: 6.43s\n",
      "799:\ttest: 0.6165975\tbest: 0.6166001 (795)\ttotal: 52.1s\tremaining: 0us\n",
      "bestTest = 0.6166000926\n",
      "bestIteration = 795\n",
      "Shrink model to first 796 iterations.\n",
      "{'learn': {'PairLogit': 0.40110802611798246}, 'validation': {'PFound': 0.6166000926250224, 'PairLogit': 0.4011575889229596}}\n"
     ]
    },
    {
     "metadata": {
      "tags": null
     },
     "name": "stderr",
     "output_type": "stream",
     "text": [
      "Default metric period is 5 because PFound is/are not implemented for GPU\n",
      "Metric PFound is not implemented on GPU. Will use CPU for metric computation, this could significantly affect learning time\n",
      "Metric PFound is not implemented on GPU. Will use CPU for metric computation, this could significantly affect learning time\n"
     ]
    },
    {
     "metadata": {
      "tags": null
     },
     "name": "stdout",
     "output_type": "stream",
     "text": [
      "0:\ttest: 0.5972295\tbest: 0.5972295 (0)\ttotal: 176ms\tremaining: 2m 20s\n",
      "100:\ttest: 0.6151225\tbest: 0.6151225 (100)\ttotal: 6.64s\tremaining: 46s\n",
      "200:\ttest: 0.6157201\tbest: 0.6157201 (200)\ttotal: 13s\tremaining: 38.9s\n",
      "300:\ttest: 0.6160742\tbest: 0.6160742 (300)\ttotal: 19.4s\tremaining: 32.2s\n",
      "400:\ttest: 0.6162120\tbest: 0.6162120 (400)\ttotal: 25.9s\tremaining: 25.8s\n",
      "500:\ttest: 0.6162854\tbest: 0.6162854 (500)\ttotal: 32.5s\tremaining: 19.4s\n",
      "600:\ttest: 0.6163664\tbest: 0.6163728 (590)\ttotal: 39s\tremaining: 12.9s\n",
      "700:\ttest: 0.6164660\tbest: 0.6164660 (700)\ttotal: 45.7s\tremaining: 6.45s\n",
      "799:\ttest: 0.6164958\tbest: 0.6165022 (785)\ttotal: 52.2s\tremaining: 0us\n",
      "bestTest = 0.6165021532\n",
      "bestIteration = 785\n",
      "Shrink model to first 786 iterations.\n"
     ]
    },
    {
     "metadata": {
      "tags": null
     },
     "name": "stderr",
     "output_type": "stream",
     "text": [
      "\r",
      "type: 1it [06:23, 383.80s/it]"
     ]
    },
    {
     "metadata": {
      "tags": null
     },
     "name": "stdout",
     "output_type": "stream",
     "text": [
      "{'learn': {'PairLogit': 0.40122482185511466}, 'validation': {'PFound': 0.6165021531808076, 'PairLogit': 0.4007950995467958}}\n",
      "PFound_mean: 0.616989860736491\n",
      "training_done\n"
     ]
    },
    {
     "metadata": {
      "tags": null
     },
     "name": "stderr",
     "output_type": "stream",
     "text": [
      "\n",
      "  0%|          | 0/5 [00:00<?, ?it/s]\u001b[A\n",
      " 20%|██        | 1/5 [00:04<00:17,  4.29s/it]\u001b[A\n",
      " 40%|████      | 2/5 [00:10<00:15,  5.21s/it]\u001b[A\n",
      " 60%|██████    | 3/5 [00:17<00:12,  6.03s/it]\u001b[A\n",
      " 80%|████████  | 4/5 [00:24<00:06,  6.43s/it]\u001b[A\n",
      "100%|██████████| 5/5 [00:31<00:00,  6.34s/it]\n"
     ]
    },
    {
     "metadata": {
      "tags": null
     },
     "name": "stdout",
     "output_type": "stream",
     "text": [
      "reading_done\n",
      "sampling_done\n"
     ]
    },
    {
     "metadata": {
      "tags": null
     },
     "name": "stderr",
     "output_type": "stream",
     "text": [
      "Default metric period is 5 because PFound is/are not implemented for GPU\n",
      "Metric PFound is not implemented on GPU. Will use CPU for metric computation, this could significantly affect learning time\n",
      "Metric PFound is not implemented on GPU. Will use CPU for metric computation, this could significantly affect learning time\n"
     ]
    },
    {
     "metadata": {
      "tags": null
     },
     "name": "stdout",
     "output_type": "stream",
     "text": [
      "0:\ttest: 0.1475553\tbest: 0.1475553 (0)\ttotal: 130ms\tremaining: 1m 11s\n",
      "100:\ttest: 0.1495660\tbest: 0.1495660 (100)\ttotal: 6.37s\tremaining: 28.4s\n",
      "200:\ttest: 0.1496232\tbest: 0.1496235 (190)\ttotal: 12.7s\tremaining: 22.1s\n",
      "300:\ttest: 0.1496692\tbest: 0.1496692 (300)\ttotal: 19s\tremaining: 15.8s\n",
      "400:\ttest: 0.1496817\tbest: 0.1496866 (385)\ttotal: 25.4s\tremaining: 9.5s\n",
      "500:\ttest: 0.1497126\tbest: 0.1497139 (495)\ttotal: 31.7s\tremaining: 3.16s\n",
      "550:\ttest: 0.1497358\tbest: 0.1497358 (550)\ttotal: 34.9s\tremaining: 0us\n",
      "bestTest = 0.1497358244\n",
      "bestIteration = 550\n",
      "{'learn': {'PairLogit': 0.3798946634378345}, 'validation': {'PFound': 0.14973582438566518, 'PairLogit': 0.38204677175091195}}\n"
     ]
    },
    {
     "metadata": {
      "tags": null
     },
     "name": "stderr",
     "output_type": "stream",
     "text": [
      "Default metric period is 5 because PFound is/are not implemented for GPU\n",
      "Metric PFound is not implemented on GPU. Will use CPU for metric computation, this could significantly affect learning time\n",
      "Metric PFound is not implemented on GPU. Will use CPU for metric computation, this could significantly affect learning time\n"
     ]
    },
    {
     "metadata": {
      "tags": null
     },
     "name": "stdout",
     "output_type": "stream",
     "text": [
      "0:\ttest: 0.1480744\tbest: 0.1480744 (0)\ttotal: 125ms\tremaining: 1m 8s\n",
      "100:\ttest: 0.1496775\tbest: 0.1496827 (95)\ttotal: 6.32s\tremaining: 28.1s\n",
      "200:\ttest: 0.1497926\tbest: 0.1497926 (200)\ttotal: 12.5s\tremaining: 21.8s\n",
      "300:\ttest: 0.1498572\tbest: 0.1498580 (295)\ttotal: 18.8s\tremaining: 15.6s\n",
      "400:\ttest: 0.1499174\tbest: 0.1499174 (400)\ttotal: 25s\tremaining: 9.34s\n",
      "500:\ttest: 0.1499382\tbest: 0.1499382 (500)\ttotal: 31.2s\tremaining: 3.11s\n",
      "550:\ttest: 0.1499385\tbest: 0.1499406 (525)\ttotal: 34.3s\tremaining: 0us\n",
      "bestTest = 0.149940585\n",
      "bestIteration = 525\n",
      "Shrink model to first 526 iterations.\n",
      "{'learn': {'PairLogit': 0.3795309222066723}, 'validation': {'PFound': 0.14994058497180032, 'PairLogit': 0.3829858433553736}}\n"
     ]
    },
    {
     "metadata": {
      "tags": null
     },
     "name": "stderr",
     "output_type": "stream",
     "text": [
      "Default metric period is 5 because PFound is/are not implemented for GPU\n",
      "Metric PFound is not implemented on GPU. Will use CPU for metric computation, this could significantly affect learning time\n",
      "Metric PFound is not implemented on GPU. Will use CPU for metric computation, this could significantly affect learning time\n"
     ]
    },
    {
     "metadata": {
      "tags": null
     },
     "name": "stdout",
     "output_type": "stream",
     "text": [
      "0:\ttest: 0.1495706\tbest: 0.1495706 (0)\ttotal: 123ms\tremaining: 1m 7s\n",
      "100:\ttest: 0.1504424\tbest: 0.1504424 (100)\ttotal: 6.34s\tremaining: 28.3s\n",
      "200:\ttest: 0.1505059\tbest: 0.1505142 (190)\ttotal: 12.6s\tremaining: 22s\n",
      "300:\ttest: 0.1505732\tbest: 0.1505791 (285)\ttotal: 18.9s\tremaining: 15.7s\n",
      "400:\ttest: 0.1506053\tbest: 0.1506053 (400)\ttotal: 25.1s\tremaining: 9.41s\n",
      "500:\ttest: 0.1506425\tbest: 0.1506425 (500)\ttotal: 31.4s\tremaining: 3.13s\n",
      "550:\ttest: 0.1506622\tbest: 0.1506622 (550)\ttotal: 34.5s\tremaining: 0us\n",
      "bestTest = 0.1506622116\n",
      "bestIteration = 550\n",
      "{'learn': {'PairLogit': 0.3801132038275998}, 'validation': {'PFound': 0.15066221160428203, 'PairLogit': 0.3814032979554807}}\n"
     ]
    },
    {
     "metadata": {
      "tags": null
     },
     "name": "stderr",
     "output_type": "stream",
     "text": [
      "Default metric period is 5 because PFound is/are not implemented for GPU\n",
      "Metric PFound is not implemented on GPU. Will use CPU for metric computation, this could significantly affect learning time\n",
      "Metric PFound is not implemented on GPU. Will use CPU for metric computation, this could significantly affect learning time\n"
     ]
    },
    {
     "metadata": {
      "tags": null
     },
     "name": "stdout",
     "output_type": "stream",
     "text": [
      "0:\ttest: 0.1490935\tbest: 0.1490935 (0)\ttotal: 125ms\tremaining: 1m 8s\n",
      "100:\ttest: 0.1503651\tbest: 0.1503651 (100)\ttotal: 6.34s\tremaining: 28.2s\n",
      "200:\ttest: 0.1504431\tbest: 0.1504431 (200)\ttotal: 12.5s\tremaining: 21.8s\n",
      "300:\ttest: 0.1505056\tbest: 0.1505056 (300)\ttotal: 18.7s\tremaining: 15.6s\n",
      "400:\ttest: 0.1505488\tbest: 0.1505493 (395)\ttotal: 24.9s\tremaining: 9.32s\n",
      "500:\ttest: 0.1506003\tbest: 0.1506003 (500)\ttotal: 31.1s\tremaining: 3.1s\n",
      "550:\ttest: 0.1506198\tbest: 0.1506198 (550)\ttotal: 34.2s\tremaining: 0us\n",
      "bestTest = 0.1506198485\n",
      "bestIteration = 550\n",
      "{'learn': {'PairLogit': 0.380480192410921}, 'validation': {'PFound': 0.150619848470535, 'PairLogit': 0.3812295421104451}}\n"
     ]
    },
    {
     "metadata": {
      "tags": null
     },
     "name": "stderr",
     "output_type": "stream",
     "text": [
      "Default metric period is 5 because PFound is/are not implemented for GPU\n",
      "Metric PFound is not implemented on GPU. Will use CPU for metric computation, this could significantly affect learning time\n",
      "Metric PFound is not implemented on GPU. Will use CPU for metric computation, this could significantly affect learning time\n"
     ]
    },
    {
     "metadata": {
      "tags": null
     },
     "name": "stdout",
     "output_type": "stream",
     "text": [
      "0:\ttest: 0.1496186\tbest: 0.1496186 (0)\ttotal: 121ms\tremaining: 1m 6s\n",
      "100:\ttest: 0.1507157\tbest: 0.1507157 (100)\ttotal: 6.26s\tremaining: 27.9s\n",
      "200:\ttest: 0.1508003\tbest: 0.1508003 (200)\ttotal: 12.5s\tremaining: 21.8s\n",
      "300:\ttest: 0.1508455\tbest: 0.1508490 (290)\ttotal: 18.7s\tremaining: 15.6s\n",
      "400:\ttest: 0.1508979\tbest: 0.1508979 (400)\ttotal: 25s\tremaining: 9.35s\n",
      "500:\ttest: 0.1509375\tbest: 0.1509375 (500)\ttotal: 31.2s\tremaining: 3.12s\n",
      "550:\ttest: 0.1509534\tbest: 0.1509534 (550)\ttotal: 34.4s\tremaining: 0us\n",
      "bestTest = 0.1509534429\n",
      "bestIteration = 550\n",
      "{'learn': {'PairLogit': 0.38047749698186933}, 'validation': {'PFound': 0.15095344290256676, 'PairLogit': 0.38096935178211494}}\n"
     ]
    },
    {
     "metadata": {
      "tags": null
     },
     "name": "stderr",
     "output_type": "stream",
     "text": [
      "\r",
      "type: 2it [11:09, 325.99s/it]"
     ]
    },
    {
     "metadata": {
      "tags": null
     },
     "name": "stdout",
     "output_type": "stream",
     "text": [
      "PFound_mean: 0.15038238246696986\n",
      "training_done\n"
     ]
    },
    {
     "metadata": {
      "tags": null
     },
     "name": "stderr",
     "output_type": "stream",
     "text": [
      "\n",
      "  0%|          | 0/5 [00:00<?, ?it/s]\u001b[A\n",
      " 20%|██        | 1/5 [00:04<00:16,  4.06s/it]\u001b[A\n",
      " 40%|████      | 2/5 [00:09<00:14,  4.90s/it]\u001b[A\n",
      " 60%|██████    | 3/5 [00:15<00:11,  5.56s/it]\u001b[A\n",
      " 80%|████████  | 4/5 [00:22<00:06,  6.01s/it]\u001b[A\n",
      "100%|██████████| 5/5 [00:30<00:00,  6.08s/it]\n"
     ]
    },
    {
     "metadata": {
      "tags": null
     },
     "name": "stdout",
     "output_type": "stream",
     "text": [
      "reading_done\n",
      "sampling_done\n"
     ]
    },
    {
     "metadata": {
      "tags": null
     },
     "name": "stderr",
     "output_type": "stream",
     "text": [
      "Default metric period is 5 because PFound is/are not implemented for GPU\n",
      "Metric PFound is not implemented on GPU. Will use CPU for metric computation, this could significantly affect learning time\n",
      "Metric PFound is not implemented on GPU. Will use CPU for metric computation, this could significantly affect learning time\n"
     ]
    },
    {
     "metadata": {
      "tags": null
     },
     "name": "stdout",
     "output_type": "stream",
     "text": [
      "0:\ttest: 0.0873237\tbest: 0.0873237 (0)\ttotal: 115ms\tremaining: 1m 35s\n",
      "100:\ttest: 0.0891171\tbest: 0.0891171 (100)\ttotal: 4.87s\tremaining: 35.1s\n",
      "200:\ttest: 0.0891690\tbest: 0.0891690 (200)\ttotal: 9.66s\tremaining: 30.1s\n",
      "300:\ttest: 0.0891915\tbest: 0.0891915 (300)\ttotal: 14.4s\tremaining: 25.3s\n",
      "400:\ttest: 0.0892036\tbest: 0.0892036 (400)\ttotal: 19.2s\tremaining: 20.5s\n",
      "500:\ttest: 0.0892196\tbest: 0.0892201 (495)\ttotal: 24.1s\tremaining: 15.7s\n",
      "600:\ttest: 0.0892317\tbest: 0.0892350 (590)\ttotal: 28.9s\tremaining: 10.9s\n",
      "700:\ttest: 0.0892508\tbest: 0.0892509 (695)\ttotal: 33.8s\tremaining: 6.12s\n",
      "800:\ttest: 0.0892556\tbest: 0.0892566 (775)\ttotal: 38.6s\tremaining: 1.3s\n",
      "827:\ttest: 0.0892539\tbest: 0.0892566 (775)\ttotal: 39.9s\tremaining: 0us\n",
      "bestTest = 0.08925660344\n",
      "bestIteration = 775\n",
      "Shrink model to first 776 iterations.\n",
      "{'learn': {'PairLogit': 0.1951745063623902}, 'validation': {'PFound': 0.08925660344323434, 'PairLogit': 0.19509601139659383}}\n"
     ]
    },
    {
     "metadata": {
      "tags": null
     },
     "name": "stderr",
     "output_type": "stream",
     "text": [
      "Default metric period is 5 because PFound is/are not implemented for GPU\n",
      "Metric PFound is not implemented on GPU. Will use CPU for metric computation, this could significantly affect learning time\n",
      "Metric PFound is not implemented on GPU. Will use CPU for metric computation, this could significantly affect learning time\n"
     ]
    },
    {
     "metadata": {
      "tags": null
     },
     "name": "stdout",
     "output_type": "stream",
     "text": [
      "0:\ttest: 0.0872365\tbest: 0.0872365 (0)\ttotal: 114ms\tremaining: 1m 34s\n",
      "100:\ttest: 0.0890043\tbest: 0.0890043 (100)\ttotal: 4.89s\tremaining: 35.2s\n",
      "200:\ttest: 0.0890484\tbest: 0.0890495 (195)\ttotal: 9.67s\tremaining: 30.2s\n",
      "300:\ttest: 0.0890689\tbest: 0.0890689 (300)\ttotal: 14.5s\tremaining: 25.3s\n",
      "400:\ttest: 0.0890745\tbest: 0.0890817 (375)\ttotal: 19.3s\tremaining: 20.5s\n",
      "500:\ttest: 0.0890952\tbest: 0.0890952 (500)\ttotal: 24.1s\tremaining: 15.7s\n",
      "600:\ttest: 0.0891135\tbest: 0.0891135 (600)\ttotal: 29s\tremaining: 10.9s\n",
      "700:\ttest: 0.0891176\tbest: 0.0891219 (660)\ttotal: 33.8s\tremaining: 6.12s\n",
      "800:\ttest: 0.0891177\tbest: 0.0891219 (660)\ttotal: 38.6s\tremaining: 1.3s\n",
      "827:\ttest: 0.0891140\tbest: 0.0891219 (660)\ttotal: 39.9s\tremaining: 0us\n",
      "bestTest = 0.08912186241\n",
      "bestIteration = 660\n",
      "Shrink model to first 661 iterations.\n",
      "{'learn': {'PairLogit': 0.19478412923777674}, 'validation': {'PFound': 0.08912186241084247, 'PairLogit': 0.19753783014193846}}\n"
     ]
    },
    {
     "metadata": {
      "tags": null
     },
     "name": "stderr",
     "output_type": "stream",
     "text": [
      "Default metric period is 5 because PFound is/are not implemented for GPU\n",
      "Metric PFound is not implemented on GPU. Will use CPU for metric computation, this could significantly affect learning time\n",
      "Metric PFound is not implemented on GPU. Will use CPU for metric computation, this could significantly affect learning time\n"
     ]
    },
    {
     "metadata": {
      "tags": null
     },
     "name": "stdout",
     "output_type": "stream",
     "text": [
      "0:\ttest: 0.0886701\tbest: 0.0886701 (0)\ttotal: 115ms\tremaining: 1m 34s\n",
      "100:\ttest: 0.0904022\tbest: 0.0904022 (100)\ttotal: 4.87s\tremaining: 35.1s\n",
      "200:\ttest: 0.0904431\tbest: 0.0904438 (195)\ttotal: 9.65s\tremaining: 30.1s\n",
      "300:\ttest: 0.0904807\tbest: 0.0904818 (295)\ttotal: 14.5s\tremaining: 25.3s\n",
      "400:\ttest: 0.0904889\tbest: 0.0904900 (390)\ttotal: 19.3s\tremaining: 20.5s\n",
      "500:\ttest: 0.0905002\tbest: 0.0905008 (490)\ttotal: 24.1s\tremaining: 15.7s\n",
      "600:\ttest: 0.0905232\tbest: 0.0905232 (600)\ttotal: 29s\tremaining: 10.9s\n",
      "700:\ttest: 0.0905316\tbest: 0.0905326 (695)\ttotal: 33.8s\tremaining: 6.12s\n",
      "800:\ttest: 0.0905476\tbest: 0.0905483 (790)\ttotal: 38.6s\tremaining: 1.3s\n",
      "827:\ttest: 0.0905481\tbest: 0.0905485 (825)\ttotal: 39.9s\tremaining: 0us\n",
      "bestTest = 0.09054848581\n",
      "bestIteration = 825\n",
      "Shrink model to first 826 iterations.\n",
      "{'learn': {'PairLogit': 0.19394053876850326}, 'validation': {'PFound': 0.09054848580853264, 'PairLogit': 0.2001117071378343}}\n"
     ]
    },
    {
     "metadata": {
      "tags": null
     },
     "name": "stderr",
     "output_type": "stream",
     "text": [
      "Default metric period is 5 because PFound is/are not implemented for GPU\n",
      "Metric PFound is not implemented on GPU. Will use CPU for metric computation, this could significantly affect learning time\n",
      "Metric PFound is not implemented on GPU. Will use CPU for metric computation, this could significantly affect learning time\n"
     ]
    },
    {
     "metadata": {
      "tags": null
     },
     "name": "stdout",
     "output_type": "stream",
     "text": [
      "0:\ttest: 0.0885629\tbest: 0.0885629 (0)\ttotal: 111ms\tremaining: 1m 32s\n",
      "100:\ttest: 0.0897535\tbest: 0.0897535 (100)\ttotal: 4.88s\tremaining: 35.1s\n",
      "200:\ttest: 0.0898064\tbest: 0.0898083 (195)\ttotal: 9.69s\tremaining: 30.2s\n",
      "300:\ttest: 0.0898464\tbest: 0.0898484 (295)\ttotal: 14.5s\tremaining: 25.4s\n",
      "400:\ttest: 0.0898633\tbest: 0.0898652 (390)\ttotal: 19.3s\tremaining: 20.6s\n",
      "500:\ttest: 0.0898809\tbest: 0.0898809 (500)\ttotal: 24.1s\tremaining: 15.7s\n",
      "600:\ttest: 0.0898950\tbest: 0.0898968 (590)\ttotal: 28.9s\tremaining: 10.9s\n",
      "700:\ttest: 0.0899014\tbest: 0.0899021 (695)\ttotal: 33.8s\tremaining: 6.13s\n",
      "800:\ttest: 0.0899032\tbest: 0.0899064 (780)\ttotal: 38.7s\tremaining: 1.3s\n",
      "827:\ttest: 0.0899071\tbest: 0.0899078 (820)\ttotal: 40s\tremaining: 0us\n",
      "bestTest = 0.08990775654\n",
      "bestIteration = 820\n",
      "Shrink model to first 821 iterations.\n",
      "{'learn': {'PairLogit': 0.1956116568691615}, 'validation': {'PFound': 0.08990775653754342, 'PairLogit': 0.19384133155460914}}\n"
     ]
    },
    {
     "metadata": {
      "tags": null
     },
     "name": "stderr",
     "output_type": "stream",
     "text": [
      "Default metric period is 5 because PFound is/are not implemented for GPU\n",
      "Metric PFound is not implemented on GPU. Will use CPU for metric computation, this could significantly affect learning time\n",
      "Metric PFound is not implemented on GPU. Will use CPU for metric computation, this could significantly affect learning time\n"
     ]
    },
    {
     "name": "stdout",
     "output_type": "stream",
     "text": [
      "0:\ttest: 0.0870828\tbest: 0.0870828 (0)\ttotal: 118ms\tremaining: 1m 37s\n",
      "100:\ttest: 0.0888922\tbest: 0.0888922 (100)\ttotal: 4.87s\tremaining: 35.1s\n",
      "200:\ttest: 0.0889489\tbest: 0.0889489 (200)\ttotal: 9.66s\tremaining: 30.1s\n",
      "300:\ttest: 0.0889819\tbest: 0.0889819 (300)\ttotal: 14.5s\tremaining: 25.3s\n",
      "400:\ttest: 0.0890005\tbest: 0.0890005 (400)\ttotal: 19.3s\tremaining: 20.5s\n",
      "500:\ttest: 0.0890093\tbest: 0.0890103 (490)\ttotal: 24.1s\tremaining: 15.7s\n",
      "600:\ttest: 0.0890150\tbest: 0.0890181 (580)\ttotal: 28.9s\tremaining: 10.9s\n",
      "700:\ttest: 0.0890157\tbest: 0.0890199 (685)\ttotal: 33.7s\tremaining: 6.11s\n",
      "800:\ttest: 0.0890323\tbest: 0.0890323 (800)\ttotal: 38.5s\tremaining: 1.3s\n"
     ]
    },
    {
     "name": "stderr",
     "output_type": "stream",
     "text": [
      "type: 3it [16:15, 325.33s/it]"
     ]
    },
    {
     "name": "stdout",
     "output_type": "stream",
     "text": [
      "827:\ttest: 0.0890326\tbest: 0.0890341 (825)\ttotal: 39.8s\tremaining: 0us\n",
      "bestTest = 0.08903407522\n",
      "bestIteration = 825\n",
      "Shrink model to first 826 iterations.\n",
      "{'learn': {'PairLogit': 0.19447849352610785}, 'validation': {'PFound': 0.08903407522394335, 'PairLogit': 0.19846317343904588}}\n",
      "PFound_mean: 0.08957375668481923\n",
      "training_done\n"
     ]
    },
    {
     "name": "stderr",
     "output_type": "stream",
     "text": [
      "\n"
     ]
    }
   ],
   "source": [
    "downsamp_k = 16\n",
    "params = [best_p_cl, best_p_carts, best_p_orders]\n",
    "\n",
    "# Итерация по типам событий ('clicks', 'carts', 'orders') и их лучшим параметрам\n",
    "for typee, best_params in tqdm(zip(['clicks', 'carts', 'orders'], params),\n",
    "                               desc='type'):\n",
    "\n",
    "    # Загрузка данных для текущего типа событий\n",
    "    path = f'{main_path}/tr/ver_6/tr_candidates_{typee}/*'\n",
    "    tr_candidates = read_parquets(path)\n",
    "    print('reading_done')\n",
    "\n",
    "    # Приведение типов данных для сессии и aid\n",
    "    tr_candidates.session = tr_candidates.session.astype(np.int32)\n",
    "    tr_candidates.aid = tr_candidates.aid.astype(np.int32)\n",
    "\n",
    "    # Вычисление соотношения классов\n",
    "    class_ratio = tr_candidates['target'].value_counts()[1] / \\\n",
    "                  tr_candidates['target'].value_counts()[0]\n",
    "\n",
    "    # Указываем желаемое соотношение классов и проводим downsampling\n",
    "    under_sampler = RandomUnderSampler(sampling_strategy=class_ratio *\n",
    "                                       downsamp_k)\n",
    "    FEATURES = tr_candidates.columns[:-1]\n",
    "    X = tr_candidates.loc[:, FEATURES]\n",
    "    y = tr_candidates.loc[:, 'target']\n",
    "    X_train, y_train = under_sampler.fit_resample(X, y)\n",
    "    tr_candidates = pd.merge(X_train,\n",
    "                             y_train,\n",
    "                             left_index=True,\n",
    "                             right_index=True)\n",
    "    tr_candidates = tr_candidates.sort_values('session')\n",
    "    tr_candidates = tr_candidates.reset_index(drop=True)\n",
    "    del X, y\n",
    "    print('sampling_done')\n",
    "\n",
    "    # Обучение модели с использованием GroupKFold\n",
    "    skf = GroupKFold(n_splits=5)\n",
    "    FEATURES = tr_candidates.columns[:-1]\n",
    "\n",
    "    scores = []\n",
    "\n",
    "    for fold, (train_idx, valid_idx) in enumerate(\n",
    "            skf.split(tr_candidates,\n",
    "                      tr_candidates['target'],\n",
    "                      groups=tr_candidates['session'])):\n",
    "\n",
    "        X_train = tr_candidates.loc[train_idx, FEATURES]\n",
    "        y_train = tr_candidates.loc[train_idx, 'target']\n",
    "        X_valid = tr_candidates.loc[valid_idx, FEATURES]\n",
    "        y_valid = tr_candidates.loc[valid_idx, 'target']\n",
    "\n",
    "        group_id_tr = X_train.iloc[:, 0]\n",
    "        group_id_v = X_valid.iloc[:, 0]\n",
    "\n",
    "        X_train = X_train.iloc[:, 2:]\n",
    "        X_valid = X_valid.iloc[:, 2:]\n",
    "\n",
    "        catboost_train = Pool(data=X_train,\n",
    "                              label=y_train,\n",
    "                              group_id=group_id_tr)\n",
    "        catboost_valid = Pool(data=X_valid, label=y_valid, group_id=group_id_v)\n",
    "\n",
    "        # Создание и обучение CatBoostRanker с лучшими параметрами\n",
    "        ranker = CatBoostRanker(**best_params)\n",
    "        ranker.fit(catboost_train, eval_set=catboost_valid, verbose_eval=100)\n",
    "\n",
    "        # Рассчитать метрику PFound\n",
    "        PFound = ranker.best_score_['validation']['PFound']\n",
    "        scores.append(PFound)\n",
    "\n",
    "        # Сохранение модели на диск\n",
    "        folder_path = f'model/{ver_tun}'\n",
    "        os.makedirs(folder_path, exist_ok=True)\n",
    "        ranker.save_model(f'model/{ver_tun}/catb_tun_{fold}_{typee}')\n",
    "\n",
    "    # Усреднить PFound по всем фолдам\n",
    "    PFound_mean = np.mean(scores)\n",
    "    print('PFound_mean:', PFound_mean)\n",
    "    print('training_done')"
   ]
  },
  {
   "cell_type": "markdown",
   "id": "PeigBSsjm3oe",
   "metadata": {
    "id": "PeigBSsjm3oe"
   },
   "source": [
    "## Pairlogit's каждого типа Cross-val"
   ]
  },
  {
   "cell_type": "markdown",
   "id": "KOMgbeU_m3of",
   "metadata": {
    "id": "KOMgbeU_m3of"
   },
   "source": [
    "- pairlogit_mean_clicks: **0.3933920** (Baseline : 0.395109)\n",
    "- pairlogit_mean_carts: 0.30792093 (Baseline : **0.307252**)\n",
    "- pairlogit_mean_orders: **0.1896842** (Baseline : 0.191810)"
   ]
  },
  {
   "cell_type": "code",
   "execution_count": null,
   "id": "_JKhL2dGm3of",
   "metadata": {
    "colab": {
     "base_uri": "https://localhost:8080/"
    },
    "executionInfo": {
     "elapsed": 461,
     "status": "ok",
     "timestamp": 1695963129104,
     "user": {
      "displayName": "Stas Krupnov",
      "userId": "12188064098878037970"
     },
     "user_tz": -420
    },
    "id": "_JKhL2dGm3of",
    "outputId": "73ce84d8-7995-4acc-c708-44ae99d13be3"
   },
   "outputs": [
    {
     "data": {
      "text/plain": [
       "['/content/drive/Othercomputers/Mac/Jup.Notebook/models/catb_tun/catb_tun_0_orders',\n",
       " '/content/drive/Othercomputers/Mac/Jup.Notebook/models/catb_tun/catb_tun_1_clicks',\n",
       " '/content/drive/Othercomputers/Mac/Jup.Notebook/models/catb_tun/catb_tun_4_orders',\n",
       " '/content/drive/Othercomputers/Mac/Jup.Notebook/models/catb_tun/catb_tun_2_carts',\n",
       " '/content/drive/Othercomputers/Mac/Jup.Notebook/models/catb_tun/catb_tun_2_clicks',\n",
       " '/content/drive/Othercomputers/Mac/Jup.Notebook/models/catb_tun/catb_tun_3_clicks',\n",
       " '/content/drive/Othercomputers/Mac/Jup.Notebook/models/catb_tun/catb_tun_4_clicks',\n",
       " '/content/drive/Othercomputers/Mac/Jup.Notebook/models/catb_tun/catb_tun_0_carts',\n",
       " '/content/drive/Othercomputers/Mac/Jup.Notebook/models/catb_tun/catb_tun_2_orders',\n",
       " '/content/drive/Othercomputers/Mac/Jup.Notebook/models/catb_tun/catb_tun_1_carts',\n",
       " '/content/drive/Othercomputers/Mac/Jup.Notebook/models/catb_tun/catb_tun_1_orders',\n",
       " '/content/drive/Othercomputers/Mac/Jup.Notebook/models/catb_tun/catb_tun_3_carts',\n",
       " '/content/drive/Othercomputers/Mac/Jup.Notebook/models/catb_tun/catb_tun_0_clicks',\n",
       " '/content/drive/Othercomputers/Mac/Jup.Notebook/models/catb_tun/catb_tun_4_carts',\n",
       " '/content/drive/Othercomputers/Mac/Jup.Notebook/models/catb_tun/catb_tun_3_orders']"
      ]
     },
     "execution_count": 21,
     "metadata": {},
     "output_type": "execute_result"
    }
   ],
   "source": [
    "folder_path = f'{main_path}/models/{ver_tun}/'\n",
    "os.makedirs(folder_path, exist_ok=True)\n",
    "file_list = glob.glob(f'/content/model/{ver_tun}/*')\n",
    "[shutil.copy(file, f'{main_path}/models/{ver_tun}/') for file in file_list]"
   ]
  },
  {
   "cell_type": "markdown",
   "id": "-Q4lou6Nm3og",
   "metadata": {
    "id": "-Q4lou6Nm3og"
   },
   "source": [
    "## Предсказание + оценка"
   ]
  },
  {
   "cell_type": "markdown",
   "id": "b2e5798e",
   "metadata": {
    "id": "b2e5798e"
   },
   "source": [
    "**На тестовых данных**"
   ]
  },
  {
   "cell_type": "code",
   "execution_count": null,
   "id": "Br3n9rDkm3og",
   "metadata": {
    "colab": {
     "base_uri": "https://localhost:8080/"
    },
    "executionInfo": {
     "elapsed": 354566,
     "status": "ok",
     "timestamp": 1696237540676,
     "user": {
      "displayName": "Stas Krupnov",
      "userId": "12188064098878037970"
     },
     "user_tz": -420
    },
    "id": "Br3n9rDkm3og",
    "outputId": "c578397b-9c22-46d1-cc5b-5c0508133e51",
    "scrolled": true
   },
   "outputs": [
    {
     "name": "stderr",
     "output_type": "stream",
     "text": [
      "type:   0%|          | 0/3 [00:00<?, ?it/s]\n",
      "  0%|          | 0/5 [00:00<?, ?it/s]\u001b[A\n",
      " 20%|██        | 1/5 [00:00<00:02,  1.45it/s]\u001b[A\n",
      " 40%|████      | 2/5 [00:01<00:03,  1.03s/it]\u001b[A\n",
      " 60%|██████    | 3/5 [00:03<00:02,  1.22s/it]\u001b[A\n",
      " 80%|████████  | 4/5 [00:05<00:01,  1.42s/it]\u001b[A\n",
      "100%|██████████| 5/5 [00:07<00:00,  1.42s/it]\n",
      "\n",
      "  0%|          | 0/5 [00:00<?, ?it/s]\u001b[A\n",
      " 20%|██        | 1/5 [00:10<00:40, 10.15s/it]\u001b[A\n",
      " 40%|████      | 2/5 [00:18<00:28,  9.38s/it]\u001b[A\n",
      " 60%|██████    | 3/5 [00:29<00:19,  9.78s/it]\u001b[A\n",
      " 80%|████████  | 4/5 [00:38<00:09,  9.59s/it]\u001b[A\n",
      "100%|██████████| 5/5 [00:47<00:00,  9.44s/it]\n",
      "type:  33%|███▎      | 1/3 [01:47<03:34, 107.39s/it]\n",
      "  0%|          | 0/5 [00:00<?, ?it/s]\u001b[A\n",
      " 20%|██        | 1/5 [00:00<00:02,  1.52it/s]\u001b[A\n",
      " 40%|████      | 2/5 [00:01<00:02,  1.05it/s]\u001b[A\n",
      " 60%|██████    | 3/5 [00:03<00:02,  1.16s/it]\u001b[A\n",
      " 80%|████████  | 4/5 [00:04<00:01,  1.37s/it]\u001b[A\n",
      "100%|██████████| 5/5 [00:06<00:00,  1.38s/it]\n",
      "\n",
      "  0%|          | 0/5 [00:00<?, ?it/s]\u001b[A\n",
      " 20%|██        | 1/5 [00:18<01:13, 18.34s/it]\u001b[A\n",
      " 40%|████      | 2/5 [00:35<00:53, 17.93s/it]\u001b[A\n",
      " 60%|██████    | 3/5 [00:54<00:35, 17.98s/it]\u001b[A\n",
      " 80%|████████  | 4/5 [01:12<00:18, 18.17s/it]\u001b[A\n",
      "100%|██████████| 5/5 [01:30<00:00, 18.17s/it]\n",
      "type:  67%|██████▋   | 2/3 [04:15<02:11, 131.21s/it]\n",
      "  0%|          | 0/5 [00:00<?, ?it/s]\u001b[A\n",
      " 20%|██        | 1/5 [00:00<00:02,  1.53it/s]\u001b[A\n",
      " 40%|████      | 2/5 [00:01<00:02,  1.02it/s]\u001b[A\n",
      " 60%|██████    | 3/5 [00:03<00:02,  1.19s/it]\u001b[A\n",
      " 80%|████████  | 4/5 [00:05<00:01,  1.42s/it]\u001b[A\n",
      "100%|██████████| 5/5 [00:07<00:00,  1.42s/it]\n",
      "\n",
      "  0%|          | 0/5 [00:00<?, ?it/s]\u001b[A\n",
      " 20%|██        | 1/5 [00:09<00:36,  9.11s/it]\u001b[A\n",
      " 40%|████      | 2/5 [00:16<00:24,  8.19s/it]\u001b[A\n",
      " 60%|██████    | 3/5 [00:25<00:17,  8.52s/it]\u001b[A\n",
      " 80%|████████  | 4/5 [00:34<00:08,  8.60s/it]\u001b[A\n",
      "100%|██████████| 5/5 [00:42<00:00,  8.59s/it]\n",
      "type: 100%|██████████| 3/3 [05:54<00:00, 118.02s/it]\n"
     ]
    }
   ],
   "source": [
    "lv_predictions_full = pd.DataFrame()\n",
    "\n",
    "# Итерация по типам событий ('clicks', 'carts', 'orders')\n",
    "for typee in tqdm(['clicks', 'carts', 'orders'], desc='type'):\n",
    "\n",
    "    # Проверка наличия кандидатов выбранного типа в нужном месте\n",
    "    if os.path.exists(f'/content/test_candidates_{typee}') == False:\n",
    "        # Импорт кандидатов выбранного типа\n",
    "        shutil.copytree(f'{main_path}/lv/ver_6/test_candidates_{typee}/',\n",
    "                        f'/content/test_candidates_{typee}/')\n",
    "\n",
    "    # Загрузка данных для текущего типа событий\n",
    "    path = f'test_candidates_{typee}/*'\n",
    "    test_candidates = read_parquets(path)\n",
    "    test_candidates = test_candidates.sort_values('session')\n",
    "    test_candidates = test_candidates.reset_index(drop=True)\n",
    "\n",
    "    FEATURES = test_candidates.columns[2:]\n",
    "    dtest = Pool(data=test_candidates[FEATURES])\n",
    "    preds = np.zeros(len(test_candidates))\n",
    "\n",
    "    # Итерация по фолдам (в данном случае 5)\n",
    "    for fold in tqdm(range(5)):\n",
    "        model = CatBoostRanker(random_state=42)\n",
    "        model.load_model(f'models/{ver_tun}/catb_tun_{fold}_{typee}')\n",
    "        fold_preds = model.predict(dtest)\n",
    "        preds += fold_preds / 5\n",
    "\n",
    "    # Создание DataFrame для предсказаний текущего типа событий\n",
    "    lv_predictions = test_candidates[['session', 'aid']].copy()\n",
    "    lv_predictions['pred'] = preds\n",
    "    lv_predictions = lv_predictions.sort_values(\n",
    "        ['session', 'pred'], ascending=[True, False]).reset_index(drop=True)\n",
    "    lv_predictions['n'] = lv_predictions.groupby(\n",
    "        'session').aid.cumcount().astype('int8')\n",
    "    lv_predictions = lv_predictions.loc[lv_predictions.n < 20]\n",
    "    lv_predictions = lv_predictions.groupby('session').aid.apply(list)\n",
    "    lv_predictions = lv_predictions.to_frame().reset_index()\n",
    "    lv_predictions.rename(columns={'aid': 'labels'}, inplace=True)\n",
    "    lv_predictions['type'] = typee\n",
    "\n",
    "    # Объединение временного DataFrame с основным датасетом\n",
    "    lv_predictions_full = pd.concat([lv_predictions_full, lv_predictions],\n",
    "                                    ignore_index=True)\n",
    "    del lv_predictions, preds, test_candidates"
   ]
  },
  {
   "cell_type": "markdown",
   "id": "b5f6ff55",
   "metadata": {
    "id": "b5f6ff55"
   },
   "source": [
    "**На тренировочных данных**"
   ]
  },
  {
   "cell_type": "code",
   "execution_count": null,
   "id": "056679cb",
   "metadata": {
    "colab": {
     "base_uri": "https://localhost:8080/"
    },
    "executionInfo": {
     "elapsed": 180318,
     "status": "ok",
     "timestamp": 1699591428218,
     "user": {
      "displayName": "Stas Krupnov",
      "userId": "12188064098878037970"
     },
     "user_tz": -420
    },
    "id": "056679cb",
    "outputId": "d68b26ff-cf1f-4c13-849a-f0232fff3e62",
    "scrolled": false
   },
   "outputs": [
    {
     "name": "stderr",
     "output_type": "stream",
     "text": [
      "type:   0%|                                               | 0/3 [00:00<?, ?it/s]\n",
      "  0%|                                                     | 0/5 [00:00<?, ?it/s]\u001b[A\n",
      " 20%|█████████                                    | 1/5 [00:02<00:09,  2.47s/it]\u001b[A\n",
      " 40%|██████████████████                           | 2/5 [00:06<00:09,  3.16s/it]\u001b[A\n",
      " 60%|███████████████████████████                  | 3/5 [00:10<00:07,  3.84s/it]\u001b[A\n",
      " 80%|████████████████████████████████████         | 4/5 [00:15<00:04,  4.32s/it]\u001b[A\n",
      "100%|█████████████████████████████████████████████| 5/5 [00:20<00:00,  4.17s/it]\u001b[A\n",
      "\n",
      "  0%|                                                     | 0/5 [00:00<?, ?it/s]\u001b[A\n",
      " 20%|█████████                                    | 1/5 [00:35<02:23, 35.86s/it]\u001b[A\n",
      " 40%|██████████████████                           | 2/5 [01:10<01:45, 35.01s/it]\u001b[A\n",
      " 60%|███████████████████████████                  | 3/5 [01:43<01:08, 34.24s/it]\u001b[A\n",
      " 80%|████████████████████████████████████         | 4/5 [02:16<00:33, 33.63s/it]\u001b[A\n",
      "100%|█████████████████████████████████████████████| 5/5 [02:47<00:00, 33.52s/it]\u001b[A\n",
      "type:  33%|████████████▋                         | 1/3 [04:41<09:23, 281.90s/it]\n",
      "  0%|                                                     | 0/5 [00:00<?, ?it/s]\u001b[A\n",
      " 20%|█████████                                    | 1/5 [00:01<00:04,  1.08s/it]\u001b[A\n",
      " 40%|██████████████████                           | 2/5 [00:03<00:04,  1.63s/it]\u001b[A\n",
      " 60%|███████████████████████████                  | 3/5 [00:07<00:05,  2.69s/it]\u001b[A\n",
      " 80%|████████████████████████████████████         | 4/5 [00:11<00:03,  3.31s/it]\u001b[A\n",
      "100%|█████████████████████████████████████████████| 5/5 [00:16<00:00,  3.33s/it]\u001b[A\n",
      "\n",
      "  0%|                                                     | 0/5 [00:00<?, ?it/s]\u001b[A\n",
      " 20%|█████████                                    | 1/5 [00:19<01:16, 19.02s/it]\u001b[A\n",
      " 40%|██████████████████                           | 2/5 [00:38<00:58, 19.35s/it]\u001b[A\n",
      " 60%|███████████████████████████                  | 3/5 [00:57<00:38, 19.26s/it]\u001b[A\n",
      " 80%|████████████████████████████████████         | 4/5 [01:17<00:19, 19.42s/it]\u001b[A\n",
      "100%|█████████████████████████████████████████████| 5/5 [01:36<00:00, 19.36s/it]\u001b[A\n",
      "type:  67%|█████████████████████████▎            | 2/3 [08:05<03:55, 235.78s/it]\n",
      "  0%|                                                     | 0/5 [00:00<?, ?it/s]\u001b[A\n",
      " 20%|█████████                                    | 1/5 [00:01<00:04,  1.10s/it]\u001b[A\n",
      " 40%|██████████████████                           | 2/5 [00:03<00:05,  1.90s/it]\u001b[A\n",
      " 60%|███████████████████████████                  | 3/5 [00:07<00:05,  2.78s/it]\u001b[A\n",
      " 80%|████████████████████████████████████         | 4/5 [00:11<00:03,  3.37s/it]\u001b[A\n",
      "100%|█████████████████████████████████████████████| 5/5 [00:16<00:00,  3.32s/it]\u001b[A\n",
      "\n",
      "  0%|                                                     | 0/5 [00:00<?, ?it/s]\u001b[A\n",
      " 20%|█████████                                    | 1/5 [00:31<02:04, 31.03s/it]\u001b[A\n",
      " 40%|██████████████████                           | 2/5 [01:02<01:34, 31.48s/it]\u001b[A\n",
      " 60%|███████████████████████████                  | 3/5 [01:34<01:03, 31.79s/it]\u001b[A\n",
      " 80%|████████████████████████████████████         | 4/5 [02:07<00:31, 31.98s/it]\u001b[A\n",
      "100%|█████████████████████████████████████████████| 5/5 [02:38<00:00, 31.70s/it]\u001b[A\n",
      "type: 100%|██████████████████████████████████████| 3/3 [12:45<00:00, 255.30s/it]\n"
     ]
    }
   ],
   "source": [
    "train_predictions_full = pd.DataFrame()\n",
    "\n",
    "for typee in tqdm(['clicks', 'carts', 'orders'], desc='type'):\n",
    "\n",
    "    path = f\"{main_path}/tr/ver_6/tr_candidates_{typee}/*\"\n",
    "    train_candidates = read_parquets(path)\n",
    "    train_candidates = train_candidates.sort_values('session')\n",
    "    train_candidates = train_candidates.reset_index(drop=True)\n",
    "\n",
    "    FEATURES = train_candidates.columns[2:-1]\n",
    "    dtest = Pool(data=train_candidates[FEATURES])\n",
    "    preds = np.zeros(len(train_candidates))\n",
    "\n",
    "    for fold in tqdm(range(5)):\n",
    "        model = CatBoostRanker(random_state=42)\n",
    "        model.load_model(f'models/{ver_tun}/catb_tun_{fold}_{typee}')\n",
    "        fold_preds = model.predict(dtest)\n",
    "        preds += fold_preds / 5\n",
    "\n",
    "    lv_predictions = train_candidates[['session', 'aid']].copy()\n",
    "    lv_predictions['pred'] = preds\n",
    "    lv_predictions = lv_predictions.sort_values(\n",
    "        ['session', 'pred'], ascending=[True, False]).reset_index(drop=True)\n",
    "    lv_predictions['n'] = lv_predictions.groupby(\n",
    "        'session').aid.cumcount().astype('int8')\n",
    "    lv_predictions = lv_predictions.loc[lv_predictions.n < 20]\n",
    "    lv_predictions = lv_predictions.groupby('session').aid.apply(list)\n",
    "    lv_predictions = lv_predictions.to_frame().reset_index()\n",
    "    lv_predictions.rename(columns={'aid': 'labels'}, inplace=True)\n",
    "    lv_predictions['type'] = typee\n",
    "\n",
    "    # Объединение временного DataFrame с основным датасетом\n",
    "    train_predictions_full = pd.concat(\n",
    "        [train_predictions_full, lv_predictions], ignore_index=True)\n",
    "    del lv_predictions, preds, train_candidates"
   ]
  },
  {
   "cell_type": "markdown",
   "id": "mOmyucrgm3og",
   "metadata": {
    "id": "mOmyucrgm3og"
   },
   "source": [
    "## Score"
   ]
  },
  {
   "cell_type": "markdown",
   "id": "31560ed6",
   "metadata": {
    "id": "31560ed6"
   },
   "source": [
    "**Test**"
   ]
  },
  {
   "cell_type": "code",
   "execution_count": null,
   "id": "MtJxCk5Lm3oh",
   "metadata": {
    "id": "MtJxCk5Lm3oh"
   },
   "outputs": [],
   "source": [
    "id2type_name = 'id2type.pkl'"
   ]
  },
  {
   "cell_type": "code",
   "execution_count": null,
   "id": "arln5UMdm3oh",
   "metadata": {
    "colab": {
     "base_uri": "https://localhost:8080/"
    },
    "executionInfo": {
     "elapsed": 67516,
     "status": "ok",
     "timestamp": 1696237613366,
     "user": {
      "displayName": "Stas Krupnov",
      "userId": "12188064098878037970"
     },
     "user_tz": -420
    },
    "id": "arln5UMdm3oh",
    "outputId": "ad398983-4cec-4541-dbfc-58baee24e9fe"
   },
   "outputs": [
    {
     "name": "stdout",
     "output_type": "stream",
     "text": [
      "Model score : (0.5272565979917239, type\n",
      "carts     0.367094\n",
      "clicks    0.398173\n",
      "orders    0.628852\n",
      "dtype: float64)\n"
     ]
    }
   ],
   "source": [
    "valid = pd.read_parquet(f'{main_path}/s/test_labels_loc.parquet')\n",
    "\n",
    "with open(f'{main_path}/pkl/{id2type_name}', 'rb') as file:\n",
    "    id2type = pickle.load(file)\n",
    "\n",
    "print('Model score :', metric_eval(lv_predictions_full, valid, id2type))"
   ]
  },
  {
   "cell_type": "markdown",
   "id": "2e8c6af7",
   "metadata": {
    "id": "2e8c6af7"
   },
   "source": [
    "**Train**"
   ]
  },
  {
   "cell_type": "code",
   "execution_count": null,
   "id": "4b78cba1",
   "metadata": {
    "id": "4b78cba1",
    "outputId": "05b2e462-4ba0-4ca7-c21c-cb455d496bcf"
   },
   "outputs": [
    {
     "name": "stdout",
     "output_type": "stream",
     "text": [
      "Model score : (0.5272965939417337, type\n",
      "carts     0.378590\n",
      "clicks    0.394375\n",
      "orders    0.624489\n",
      "dtype: float64)\n"
     ]
    }
   ],
   "source": [
    "# В роли test_labels испольую таргеты, созданные для обучения на этом тренировочном\n",
    "# датасете (на котором я выше предсказался)\n",
    "test_labels = pd.read_parquet(f'{main_path}/s/targets.parquet')\n",
    "\n",
    "with open(f'{main_path}/pkl/{id2type_name}', 'rb') as file:\n",
    "    id2type = pickle.load(file)\n",
    "\n",
    "print('Model score :', metric_eval(train_predictions_full, test_labels,\n",
    "                                   id2type))"
   ]
  },
  {
   "cell_type": "code",
   "execution_count": null,
   "id": "d77d8dfb",
   "metadata": {
    "colab": {
     "base_uri": "https://localhost:8080/"
    },
    "executionInfo": {
     "elapsed": 303,
     "status": "ok",
     "timestamp": 1699603177517,
     "user": {
      "displayName": "Stas Krupnov",
      "userId": "12188064098878037970"
     },
     "user_tz": -420
    },
    "id": "d77d8dfb",
    "outputId": "34909510-3002-47e1-f7c7-4126b824d6db",
    "scrolled": true
   },
   "outputs": [
    {
     "name": "stdout",
     "output_type": "stream",
     "text": [
      "0.007585670840753659 %\n"
     ]
    }
   ],
   "source": [
    "print(\n",
    "    abs(0.5272965939417337 - 0.5272565979917239) / 0.5272565979917239 * 100,\n",
    "    '%')"
   ]
  },
  {
   "cell_type": "markdown",
   "id": "ab0b8381",
   "metadata": {
    "id": "ab0b8381"
   },
   "source": [
    "**Модель не переобучилась, разница в метрике между трейн и тест = 0.007%**"
   ]
  },
  {
   "cell_type": "markdown",
   "id": "5f8af006",
   "metadata": {
    "id": "5f8af006"
   },
   "source": [
    "# Вывод"
   ]
  },
  {
   "cell_type": "markdown",
   "id": "ehTqesYK48LS",
   "metadata": {
    "id": "ehTqesYK48LS"
   },
   "source": [
    "CatBoost Ranker Baseline метрика = 0.527116  \n",
    "**YetiRank(PFound)** обошел по метрике Pairlogit на тюнинге  \n",
    "Tuning (PFound в качестве прокси метрики) метрика = **0.527256**  \n",
    "Отлично, двигаюсь далее к стекингу"
   ]
  }
 ],
 "metadata": {
  "accelerator": "GPU",
  "colab": {
   "collapsed_sections": [
    "NPUW8In-eaAV",
    "635bd866"
   ],
   "gpuType": "V100",
   "machine_shape": "hm",
   "provenance": [],
   "toc_visible": true
  },
  "kernelspec": {
   "display_name": "Python 3 (ipykernel)",
   "language": "python",
   "name": "python3"
  },
  "language_info": {
   "codemirror_mode": {
    "name": "ipython",
    "version": 3
   },
   "file_extension": ".py",
   "mimetype": "text/x-python",
   "name": "python",
   "nbconvert_exporter": "python",
   "pygments_lexer": "ipython3",
   "version": "3.11.4"
  },
  "toc": {
   "base_numbering": 1,
   "nav_menu": {},
   "number_sections": true,
   "sideBar": true,
   "skip_h1_title": false,
   "title_cell": "Table of Contents",
   "title_sidebar": "Contents",
   "toc_cell": false,
   "toc_position": {
    "height": "calc(100% - 180px)",
    "left": "10px",
    "top": "150px",
    "width": "374.981598px"
   },
   "toc_section_display": true,
   "toc_window_display": true
  },
  "widgets": {
   "application/vnd.jupyter.widget-state+json": {
    "0ef5e57edefa442abb4c187dab0588d9": {
     "model_module": "@jupyter-widgets/controls",
     "model_module_version": "1.5.0",
     "model_name": "FloatProgressModel",
     "state": {
      "_dom_classes": [],
      "_model_module": "@jupyter-widgets/controls",
      "_model_module_version": "1.5.0",
      "_model_name": "FloatProgressModel",
      "_view_count": null,
      "_view_module": "@jupyter-widgets/controls",
      "_view_module_version": "1.5.0",
      "_view_name": "ProgressView",
      "bar_style": "success",
      "description": "",
      "description_tooltip": null,
      "layout": "IPY_MODEL_581d7e7f3adc41c5991abf49216aab33",
      "max": 1,
      "min": 0,
      "orientation": "horizontal",
      "style": "IPY_MODEL_5e596c440c244b529b1d5d4c86f46183",
      "value": 1
     }
    },
    "294fb6775b3f4d73b3583f456158d7d4": {
     "model_module": "@jupyter-widgets/base",
     "model_module_version": "1.2.0",
     "model_name": "LayoutModel",
     "state": {
      "_model_module": "@jupyter-widgets/base",
      "_model_module_version": "1.2.0",
      "_model_name": "LayoutModel",
      "_view_count": null,
      "_view_module": "@jupyter-widgets/base",
      "_view_module_version": "1.2.0",
      "_view_name": "LayoutView",
      "align_content": null,
      "align_items": null,
      "align_self": null,
      "border": null,
      "bottom": null,
      "display": null,
      "flex": null,
      "flex_flow": null,
      "grid_area": null,
      "grid_auto_columns": null,
      "grid_auto_flow": null,
      "grid_auto_rows": null,
      "grid_column": null,
      "grid_gap": null,
      "grid_row": null,
      "grid_template_areas": null,
      "grid_template_columns": null,
      "grid_template_rows": null,
      "height": null,
      "justify_content": null,
      "justify_items": null,
      "left": null,
      "margin": null,
      "max_height": null,
      "max_width": null,
      "min_height": null,
      "min_width": null,
      "object_fit": null,
      "object_position": null,
      "order": null,
      "overflow": null,
      "overflow_x": null,
      "overflow_y": null,
      "padding": null,
      "right": null,
      "top": null,
      "visibility": null,
      "width": null
     }
    },
    "581d7e7f3adc41c5991abf49216aab33": {
     "model_module": "@jupyter-widgets/base",
     "model_module_version": "1.2.0",
     "model_name": "LayoutModel",
     "state": {
      "_model_module": "@jupyter-widgets/base",
      "_model_module_version": "1.2.0",
      "_model_name": "LayoutModel",
      "_view_count": null,
      "_view_module": "@jupyter-widgets/base",
      "_view_module_version": "1.2.0",
      "_view_name": "LayoutView",
      "align_content": null,
      "align_items": null,
      "align_self": null,
      "border": null,
      "bottom": null,
      "display": null,
      "flex": null,
      "flex_flow": null,
      "grid_area": null,
      "grid_auto_columns": null,
      "grid_auto_flow": null,
      "grid_auto_rows": null,
      "grid_column": null,
      "grid_gap": null,
      "grid_row": null,
      "grid_template_areas": null,
      "grid_template_columns": null,
      "grid_template_rows": null,
      "height": null,
      "justify_content": null,
      "justify_items": null,
      "left": null,
      "margin": null,
      "max_height": null,
      "max_width": null,
      "min_height": null,
      "min_width": null,
      "object_fit": null,
      "object_position": null,
      "order": null,
      "overflow": null,
      "overflow_x": null,
      "overflow_y": null,
      "padding": null,
      "right": null,
      "top": null,
      "visibility": null,
      "width": null
     }
    },
    "5b21065de7f742489c6f71344a4f7e3c": {
     "model_module": "@jupyter-widgets/controls",
     "model_module_version": "1.5.0",
     "model_name": "HBoxModel",
     "state": {
      "_dom_classes": [],
      "_model_module": "@jupyter-widgets/controls",
      "_model_module_version": "1.5.0",
      "_model_name": "HBoxModel",
      "_view_count": null,
      "_view_module": "@jupyter-widgets/controls",
      "_view_module_version": "1.5.0",
      "_view_name": "HBoxView",
      "box_style": "",
      "children": [
       "IPY_MODEL_bc4d65466324460081e5ff20bbea3e53",
       "IPY_MODEL_0ef5e57edefa442abb4c187dab0588d9",
       "IPY_MODEL_69780375fc7944288ca9f7b1071844bb"
      ],
      "layout": "IPY_MODEL_a4dbaaf565e842d8a960f835552ff3ed"
     }
    },
    "5e596c440c244b529b1d5d4c86f46183": {
     "model_module": "@jupyter-widgets/controls",
     "model_module_version": "1.5.0",
     "model_name": "ProgressStyleModel",
     "state": {
      "_model_module": "@jupyter-widgets/controls",
      "_model_module_version": "1.5.0",
      "_model_name": "ProgressStyleModel",
      "_view_count": null,
      "_view_module": "@jupyter-widgets/base",
      "_view_module_version": "1.2.0",
      "_view_name": "StyleView",
      "bar_color": null,
      "description_width": ""
     }
    },
    "69780375fc7944288ca9f7b1071844bb": {
     "model_module": "@jupyter-widgets/controls",
     "model_module_version": "1.5.0",
     "model_name": "HTMLModel",
     "state": {
      "_dom_classes": [],
      "_model_module": "@jupyter-widgets/controls",
      "_model_module_version": "1.5.0",
      "_model_name": "HTMLModel",
      "_view_count": null,
      "_view_module": "@jupyter-widgets/controls",
      "_view_module_version": "1.5.0",
      "_view_name": "HTMLView",
      "description": "",
      "description_tooltip": null,
      "layout": "IPY_MODEL_6fc9e7f1573043409c3c7070876b8d73",
      "placeholder": "​",
      "style": "IPY_MODEL_af7fa5a046b640acb7ba49efad2826b4",
      "value": " 1/1 [02:56&lt;00:00, 176.94s/it]"
     }
    },
    "6fc9e7f1573043409c3c7070876b8d73": {
     "model_module": "@jupyter-widgets/base",
     "model_module_version": "1.2.0",
     "model_name": "LayoutModel",
     "state": {
      "_model_module": "@jupyter-widgets/base",
      "_model_module_version": "1.2.0",
      "_model_name": "LayoutModel",
      "_view_count": null,
      "_view_module": "@jupyter-widgets/base",
      "_view_module_version": "1.2.0",
      "_view_name": "LayoutView",
      "align_content": null,
      "align_items": null,
      "align_self": null,
      "border": null,
      "bottom": null,
      "display": null,
      "flex": null,
      "flex_flow": null,
      "grid_area": null,
      "grid_auto_columns": null,
      "grid_auto_flow": null,
      "grid_auto_rows": null,
      "grid_column": null,
      "grid_gap": null,
      "grid_row": null,
      "grid_template_areas": null,
      "grid_template_columns": null,
      "grid_template_rows": null,
      "height": null,
      "justify_content": null,
      "justify_items": null,
      "left": null,
      "margin": null,
      "max_height": null,
      "max_width": null,
      "min_height": null,
      "min_width": null,
      "object_fit": null,
      "object_position": null,
      "order": null,
      "overflow": null,
      "overflow_x": null,
      "overflow_y": null,
      "padding": null,
      "right": null,
      "top": null,
      "visibility": null,
      "width": null
     }
    },
    "a309039c24604fc294ad70fc18c3269d": {
     "model_module": "@jupyter-widgets/controls",
     "model_module_version": "1.5.0",
     "model_name": "DescriptionStyleModel",
     "state": {
      "_model_module": "@jupyter-widgets/controls",
      "_model_module_version": "1.5.0",
      "_model_name": "DescriptionStyleModel",
      "_view_count": null,
      "_view_module": "@jupyter-widgets/base",
      "_view_module_version": "1.2.0",
      "_view_name": "StyleView",
      "description_width": ""
     }
    },
    "a4dbaaf565e842d8a960f835552ff3ed": {
     "model_module": "@jupyter-widgets/base",
     "model_module_version": "1.2.0",
     "model_name": "LayoutModel",
     "state": {
      "_model_module": "@jupyter-widgets/base",
      "_model_module_version": "1.2.0",
      "_model_name": "LayoutModel",
      "_view_count": null,
      "_view_module": "@jupyter-widgets/base",
      "_view_module_version": "1.2.0",
      "_view_name": "LayoutView",
      "align_content": null,
      "align_items": null,
      "align_self": null,
      "border": null,
      "bottom": null,
      "display": null,
      "flex": null,
      "flex_flow": null,
      "grid_area": null,
      "grid_auto_columns": null,
      "grid_auto_flow": null,
      "grid_auto_rows": null,
      "grid_column": null,
      "grid_gap": null,
      "grid_row": null,
      "grid_template_areas": null,
      "grid_template_columns": null,
      "grid_template_rows": null,
      "height": null,
      "justify_content": null,
      "justify_items": null,
      "left": null,
      "margin": null,
      "max_height": null,
      "max_width": null,
      "min_height": null,
      "min_width": null,
      "object_fit": null,
      "object_position": null,
      "order": null,
      "overflow": null,
      "overflow_x": null,
      "overflow_y": null,
      "padding": null,
      "right": null,
      "top": null,
      "visibility": null,
      "width": null
     }
    },
    "af7fa5a046b640acb7ba49efad2826b4": {
     "model_module": "@jupyter-widgets/controls",
     "model_module_version": "1.5.0",
     "model_name": "DescriptionStyleModel",
     "state": {
      "_model_module": "@jupyter-widgets/controls",
      "_model_module_version": "1.5.0",
      "_model_name": "DescriptionStyleModel",
      "_view_count": null,
      "_view_module": "@jupyter-widgets/base",
      "_view_module_version": "1.2.0",
      "_view_name": "StyleView",
      "description_width": ""
     }
    },
    "bc4d65466324460081e5ff20bbea3e53": {
     "model_module": "@jupyter-widgets/controls",
     "model_module_version": "1.5.0",
     "model_name": "HTMLModel",
     "state": {
      "_dom_classes": [],
      "_model_module": "@jupyter-widgets/controls",
      "_model_module_version": "1.5.0",
      "_model_name": "HTMLModel",
      "_view_count": null,
      "_view_module": "@jupyter-widgets/controls",
      "_view_module_version": "1.5.0",
      "_view_name": "HTMLView",
      "description": "",
      "description_tooltip": null,
      "layout": "IPY_MODEL_294fb6775b3f4d73b3583f456158d7d4",
      "placeholder": "​",
      "style": "IPY_MODEL_a309039c24604fc294ad70fc18c3269d",
      "value": "Best trial: 0. Best value: 0.0938651: 100%"
     }
    }
   }
  }
 },
 "nbformat": 4,
 "nbformat_minor": 5
}
