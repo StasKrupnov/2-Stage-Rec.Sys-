{
 "cells": [
  {
   "cell_type": "markdown",
   "id": "e663eeb0",
   "metadata": {},
   "source": [
    "# Лучшее решение"
   ]
  },
  {
   "cell_type": "markdown",
   "id": "345aa9bc",
   "metadata": {},
   "source": [
    "Лучшее решение было достигнуто в ноутбуке '2.4 Стекинг' :\n",
    "- **Recall@20 = 0.52744**\n",
    "- **1 этап рек.системы** - создание кандидатов для реранжирования с помощью истории сессий, \\\n",
    "матрицы ко-посещений, топа популярных товаров. Признаки указаны в ноутбуке 2.1.0(ver_6).\n",
    "- **2 этап рек.системы** - ранжирование кандидатов с помощью модели CatBoost Ranker + Tuning. \\\n",
    "**Конфигурация стекинга**, принесшего лучшую метрику :\n",
    "1. Meta-features: ['catb_tun', catb_baseline, 'lgbm_tun']\n",
    "2. Meta-model : sklearn LogisticRegression (Baseline)\n"
   ]
  },
  {
   "cell_type": "markdown",
   "id": "29a12823",
   "metadata": {},
   "source": [
    "Первое место этого соревнования заняло решение с Recall@20 = 0.60503  \n",
    "Чтобы улучшать мою метрику дальше, возможно добавление большего числа сложных признаков,  \n",
    "их отбор, а также изменение кол-ва кандидатов на первом этапе"
   ]
  }
 ],
 "metadata": {
  "kernelspec": {
   "display_name": "Python 3 (ipykernel)",
   "language": "python",
   "name": "python3"
  },
  "language_info": {
   "codemirror_mode": {
    "name": "ipython",
    "version": 3
   },
   "file_extension": ".py",
   "mimetype": "text/x-python",
   "name": "python",
   "nbconvert_exporter": "python",
   "pygments_lexer": "ipython3",
   "version": "3.11.4"
  },
  "toc": {
   "base_numbering": 1,
   "nav_menu": {},
   "number_sections": true,
   "sideBar": true,
   "skip_h1_title": false,
   "title_cell": "Table of Contents",
   "title_sidebar": "Contents",
   "toc_cell": false,
   "toc_position": {},
   "toc_section_display": true,
   "toc_window_display": false
  }
 },
 "nbformat": 4,
 "nbformat_minor": 5
}
